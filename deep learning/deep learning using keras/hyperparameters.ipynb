{
 "cells": [
  {
   "cell_type": "code",
   "execution_count": 1,
   "metadata": {},
   "outputs": [],
   "source": [
    "# in this notebook we will explore all about different hyperparameters to get optimal results for a neural network.\n",
    "# we will use simple ANN model."
   ]
  },
  {
   "cell_type": "code",
   "execution_count": 1,
   "metadata": {},
   "outputs": [
    {
     "name": "stdout",
     "output_type": "stream",
     "text": [
      "WARNING:tensorflow:From c:\\Users\\RAJESH\\AppData\\Local\\Programs\\Python\\Python311\\Lib\\site-packages\\keras\\src\\losses.py:2976: The name tf.losses.sparse_softmax_cross_entropy is deprecated. Please use tf.compat.v1.losses.sparse_softmax_cross_entropy instead.\n",
      "\n"
     ]
    }
   ],
   "source": [
    "import pandas as pd\n",
    "import numpy as np\n",
    "import matplotlib.pyplot as plt  \n",
    "import seaborn as sns\n",
    "import keras\n",
    "\n",
    "from sklearn.preprocessing import StandardScaler\n",
    "from sklearn.model_selection import train_test_split, cross_val_score, GridSearchCV, StratifiedKFold, RandomizedSearchCV\n",
    "from sklearn.metrics import accuracy_score\n",
    "\n",
    "from keras.models import Sequential, load_model\n",
    "from keras.layers import Dense, Dropout\n",
    "from keras.layers import BatchNormalization, Activation, LayerNormalization, GroupNormalization\n",
    "from keras.optimizers import SGD\n",
    "from keras.constraints import max_norm\n",
    "from keras.callbacks import LearningRateScheduler, EarlyStopping, ModelCheckpoint\n",
    "from keras.initializers import constant\n",
    "from keras import regularizers\n",
    "\n",
    "from scikeras.wrappers import KerasClassifier\n",
    "\n",
    "# [pip install scikit-optimize]\n",
    "from skopt import BayesSearchCV\n",
    "# BayesSearchCV is another hyperparameter tuning algorithm that uses bayesian statistics of the model and the relationship between hyperparameters and performance and selects the next hyperparameter based on the performance , thus tuning hyperparameters optimally.\n",
    "\n",
    "# BayesSearchCV and RandomizedSearchCV is faster than GridSearchCV\n",
    "\n",
    "import tensorflow as tf\n",
    "\n",
    "import pickle\n",
    "\n",
    "import math"
   ]
  },
  {
   "cell_type": "code",
   "execution_count": 2,
   "metadata": {},
   "outputs": [],
   "source": [
    "tf.get_logger().setLevel('ERROR') #hides tendorflow info and warnings"
   ]
  },
  {
   "cell_type": "markdown",
   "metadata": {},
   "source": [
    "###### we are going to use diabetes datasets from the standard UCI machine learning repository.\n",
    "###### the dataset contains the information : \n",
    "        Input Variables (X):\n",
    "\n",
    "            Number of times pregnant\n",
    "            Plasma glucose concentration at 2 hours in an oral glucose tolerance test\n",
    "            Diastolic blood pressure (mm Hg)\n",
    "            Triceps skin fold thickness (mm)\n",
    "            2-hour serum insulin (mu U/ml)\n",
    "            Body mass index (weight in kg/(height in m)^2)\n",
    "            Diabetes pedigree function\n",
    "            Age (years)\n",
    "\n",
    "        Output Variables (y):\n",
    "\n",
    "            Class variable (0 or 1)"
   ]
  },
  {
   "cell_type": "code",
   "execution_count": 3,
   "metadata": {},
   "outputs": [],
   "source": [
    "# NOTE : one of the crucial steps to get good predictions in your model is to get the data analysis right. scaling, normalization, handling missing values, resampling, etc are few things to be considered. but since this is out of scope for this notebook, we wont discuss it here.    "
   ]
  },
  {
   "cell_type": "code",
   "execution_count": 3,
   "metadata": {},
   "outputs": [
    {
     "data": {
      "text/plain": [
       "(768, 9)"
      ]
     },
     "execution_count": 3,
     "metadata": {},
     "output_type": "execute_result"
    }
   ],
   "source": [
    "# loading the dataset\n",
    "data = np.loadtxt(\"./datasets/diabetes.csv\", delimiter=',')\n",
    "data.shape"
   ]
  },
  {
   "cell_type": "code",
   "execution_count": 4,
   "metadata": {},
   "outputs": [
    {
     "data": {
      "text/plain": [
       "((768, 8), (768,))"
      ]
     },
     "execution_count": 4,
     "metadata": {},
     "output_type": "execute_result"
    }
   ],
   "source": [
    "x = data[:, :-1]\n",
    "y = data[:, -1]\n",
    "x.shape, y.shape"
   ]
  },
  {
   "cell_type": "code",
   "execution_count": 5,
   "metadata": {},
   "outputs": [
    {
     "data": {
      "text/plain": [
       "0"
      ]
     },
     "execution_count": 5,
     "metadata": {},
     "output_type": "execute_result"
    }
   ],
   "source": [
    "# we will only perform basic data analysis as it's not the scope of this notebook\n",
    "np.isnan(x).sum()"
   ]
  },
  {
   "cell_type": "code",
   "execution_count": 5,
   "metadata": {},
   "outputs": [],
   "source": [
    "# splitting the data\n",
    "xtrain, xtest, ytrain, ytest = train_test_split(x, y, test_size=0.2, random_state=1)"
   ]
  },
  {
   "cell_type": "code",
   "execution_count": 6,
   "metadata": {},
   "outputs": [],
   "source": [
    "# standard scaler\n",
    "scaler =  StandardScaler()\n",
    "xtrain = scaler.fit_transform(xtrain)\n",
    "xtest = scaler.transform(xtest)"
   ]
  },
  {
   "cell_type": "code",
   "execution_count": 9,
   "metadata": {},
   "outputs": [
    {
     "data": {
      "text/plain": [
       "8"
      ]
     },
     "execution_count": 9,
     "metadata": {},
     "output_type": "execute_result"
    }
   ],
   "source": [
    "xtrain.shape[1]"
   ]
  },
  {
   "cell_type": "code",
   "execution_count": 7,
   "metadata": {},
   "outputs": [],
   "source": [
    "# NOTE : to save time, we will take small train data\n",
    "xtrain_subset, _, ytrain_subset, _ = train_test_split(xtrain, ytrain, train_size=0.1, shuffle = True, stratify=ytrain, random_state=1)\n",
    "# you can replace it with xtrain and ytrain to train on the full dataset"
   ]
  },
  {
   "cell_type": "code",
   "execution_count": 7,
   "metadata": {},
   "outputs": [],
   "source": [
    "tf.random.set_seed(1) #setting seed"
   ]
  },
  {
   "cell_type": "markdown",
   "metadata": {},
   "source": [
    "## hyperparameter tuning"
   ]
  },
  {
   "cell_type": "code",
   "execution_count": 10,
   "metadata": {},
   "outputs": [],
   "source": [
    "# tuning epochs and batch size\n",
    "\n",
    "def create_model() : \n",
    "    model = Sequential()\n",
    "    model.add(Dense(8, input_shape = (8,), activation = 'relu'))\n",
    "    model.add(Dense(16, activation = 'relu'))\n",
    "    model.add(Dense(1, activation = 'sigmoid'))\n",
    "    model.compile(optimizer = 'adam', loss = 'binary_crossentropy', metrics = ['accuracy'])\n",
    "    return model\n",
    "\n",
    "model = KerasClassifier(model=create_model, verbose=0)\n",
    "params = {\n",
    "    'epochs' : [50, 60, 70],\n",
    "    'batch_size' : [50, 80, 100]\n",
    "}\n",
    "gs = GridSearchCV(model, param_grid = params, scoring = 'accuracy')\n",
    "result = gs.fit(xtrain_subset, ytrain_subset)\n"
   ]
  },
  {
   "cell_type": "code",
   "execution_count": 14,
   "metadata": {},
   "outputs": [
    {
     "data": {
      "text/plain": [
       "({'batch_size': 100, 'epochs': 60}, 0.7051282051282052)"
      ]
     },
     "execution_count": 14,
     "metadata": {},
     "output_type": "execute_result"
    }
   ],
   "source": [
    "result.best_params_, result.best_score_"
   ]
  },
  {
   "cell_type": "code",
   "execution_count": 15,
   "metadata": {},
   "outputs": [],
   "source": [
    "# tuning optimizer\n",
    "\n",
    "def create_model(optimizer = 'adam') : \n",
    "    model = Sequential()\n",
    "    model.add(Dense(8, input_shape = (8,), activation = 'relu'))\n",
    "    model.add(Dense(16, activation = 'relu'))\n",
    "    model.add(Dense(1, activation = 'sigmoid'))\n",
    "    return model\n",
    "\n",
    "model = KerasClassifier(create_model, loss='binary_crossentropy', metrics = ['accuracy'], batch_size=100, epochs = 60, verbose = 0)\n",
    "params = {\n",
    "    'model__optimizer' : ['adam', 'SGD']\n",
    "}\n",
    "gs = GridSearchCV(model, params, scoring='accuracy')\n",
    "result = gs.fit(xtrain_subset, ytrain_subset)\n"
   ]
  },
  {
   "cell_type": "code",
   "execution_count": 16,
   "metadata": {},
   "outputs": [
    {
     "data": {
      "text/plain": [
       "({'model__optimizer': 'SGD'}, 0.7217948717948718)"
      ]
     },
     "execution_count": 16,
     "metadata": {},
     "output_type": "execute_result"
    }
   ],
   "source": [
    "result.best_params_, result.best_score_"
   ]
  },
  {
   "cell_type": "code",
   "execution_count": 17,
   "metadata": {},
   "outputs": [],
   "source": [
    "# tuning epoch, batch_size and optimizer\n",
    "\n",
    "def create_model(optimizer = 'adam') : \n",
    "    model = Sequential()\n",
    "    model.add(Dense(8, input_shape = (8,), activation = 'relu'))\n",
    "    model.add(Dense(16, activation = 'relu'))\n",
    "    model.add(Dense(1, activation = 'sigmoid'))\n",
    "    model.compile(optimizer = optimizer, loss = 'binary_crossentropy', metrics = ['accuracy'])\n",
    "    return model\n",
    "\n",
    "model = KerasClassifier(create_model, verbose = 0)\n",
    "params = {\n",
    "    'epochs' : [60, 65],\n",
    "    'batch_size' : [100],\n",
    "    'model__optimizer' : [ 'SGD']\n",
    "}\n",
    "gs = GridSearchCV(model, params, scoring='accuracy')\n",
    "result = gs.fit(xtrain_subset, ytrain_subset)"
   ]
  },
  {
   "cell_type": "code",
   "execution_count": 18,
   "metadata": {},
   "outputs": [
    {
     "data": {
      "text/plain": [
       "({'batch_size': 100, 'epochs': 60, 'model__optimizer': 'SGD'},\n",
       " 0.7038461538461538)"
      ]
     },
     "execution_count": 18,
     "metadata": {},
     "output_type": "execute_result"
    }
   ],
   "source": [
    "result.best_params_, result.best_score_"
   ]
  },
  {
   "cell_type": "code",
   "execution_count": 19,
   "metadata": {},
   "outputs": [],
   "source": [
    "# tuning the hyperparameters of optimizer\n",
    "\n",
    "def create_model() : \n",
    "    model = Sequential()\n",
    "    model.add(Dense(8, input_shape = (8,), activation = 'relu'))\n",
    "    model.add(Dense(16, activation = 'relu'))\n",
    "    model.add(Dense(1, activation = 'sigmoid'))\n",
    "    return model\n",
    "\n",
    "model = KerasClassifier(create_model, optimizer = 'SGD', loss = 'binary_crossentropy', metrics = ['accuracy'], epochs = 60, batch_size = 100, verbose = 0)\n",
    "params = {\n",
    "    'optimizer__learning_rate' : [0.1, 0.01],\n",
    "    'optimizer__momentum' : [0.8]\n",
    "}\n",
    "gs = GridSearchCV(model, params, scoring = 'accuracy')\n",
    "result = gs.fit(xtrain_subset, ytrain_subset)"
   ]
  },
  {
   "cell_type": "code",
   "execution_count": 21,
   "metadata": {},
   "outputs": [
    {
     "data": {
      "text/plain": [
       "({'optimizer__learning_rate': 0.1, 'optimizer__momentum': 0.8},\n",
       " 0.6858974358974359)"
      ]
     },
     "execution_count": 21,
     "metadata": {},
     "output_type": "execute_result"
    }
   ],
   "source": [
    "result.best_params_, result.best_score_"
   ]
  },
  {
   "cell_type": "code",
   "execution_count": 9,
   "metadata": {},
   "outputs": [
    {
     "name": "stdout",
     "output_type": "stream",
     "text": [
      "WARNING:tensorflow:From c:\\Users\\RAJESH\\AppData\\Local\\Programs\\Python\\Python311\\Lib\\site-packages\\keras\\src\\backend.py:873: The name tf.get_default_graph is deprecated. Please use tf.compat.v1.get_default_graph instead.\n",
      "\n",
      "WARNING:tensorflow:From c:\\Users\\RAJESH\\AppData\\Local\\Programs\\Python\\Python311\\Lib\\site-packages\\keras\\src\\optimizers\\__init__.py:309: The name tf.train.Optimizer is deprecated. Please use tf.compat.v1.train.Optimizer instead.\n",
      "\n",
      "WARNING:tensorflow:From c:\\Users\\RAJESH\\AppData\\Local\\Programs\\Python\\Python311\\Lib\\site-packages\\keras\\src\\utils\\tf_utils.py:492: The name tf.ragged.RaggedTensorValue is deprecated. Please use tf.compat.v1.ragged.RaggedTensorValue instead.\n",
      "\n",
      "WARNING:tensorflow:From c:\\Users\\RAJESH\\AppData\\Local\\Programs\\Python\\Python311\\Lib\\site-packages\\keras\\src\\engine\\base_layer_utils.py:384: The name tf.executing_eagerly_outside_functions is deprecated. Please use tf.compat.v1.executing_eagerly_outside_functions instead.\n",
      "\n",
      "WARNING:tensorflow:5 out of the last 5 calls to <function Model.make_predict_function.<locals>.predict_function at 0x0000026C5D623100> triggered tf.function retracing. Tracing is expensive and the excessive number of tracings could be due to (1) creating @tf.function repeatedly in a loop, (2) passing tensors with different shapes, (3) passing Python objects instead of tensors. For (1), please define your @tf.function outside of the loop. For (2), @tf.function has reduce_retracing=True option that can avoid unnecessary retracing. For (3), please refer to https://www.tensorflow.org/guide/function#controlling_retracing and https://www.tensorflow.org/api_docs/python/tf/function for  more details.\n",
      "WARNING:tensorflow:6 out of the last 6 calls to <function Model.make_predict_function.<locals>.predict_function at 0x0000026C613AD8A0> triggered tf.function retracing. Tracing is expensive and the excessive number of tracings could be due to (1) creating @tf.function repeatedly in a loop, (2) passing tensors with different shapes, (3) passing Python objects instead of tensors. For (1), please define your @tf.function outside of the loop. For (2), @tf.function has reduce_retracing=True option that can avoid unnecessary retracing. For (3), please refer to https://www.tensorflow.org/guide/function#controlling_retracing and https://www.tensorflow.org/api_docs/python/tf/function for  more details.\n"
     ]
    }
   ],
   "source": [
    "# tuning hyperparameters of optimizer, epochs, batch_size all at once\n",
    "def create_model(optimizer):\n",
    "    model = Sequential()\n",
    "    model.add(Dense(8, input_shape = (8,), activation = 'relu'))\n",
    "    model.add(Dense(16, activation = 'relu'))\n",
    "    model.add(Dense(1, activation = 'sigmoid'))\n",
    "    model.compile(optimizer = optimizer, loss = 'binary_crossentropy', metrics = ['accuracy'])\n",
    "    return model\n",
    "\n",
    "model = KerasClassifier(create_model, verbose = 0)\n",
    "params = {\n",
    "    'model__optimizer' : ['adam', 'SGD'],\n",
    "    'optimizer__learning_rate' : [0.1, 0.01],\n",
    "    'optimizer__momentum' : [0.8],\n",
    "    'epochs' : [70],\n",
    "    'batch_size' : [112] \n",
    "}\n",
    "gs = GridSearchCV(model, params, scoring = 'accuracy')\n",
    "result = gs.fit(xtrain_subset, ytrain_subset)"
   ]
  },
  {
   "cell_type": "code",
   "execution_count": 11,
   "metadata": {},
   "outputs": [
    {
     "data": {
      "text/plain": [
       "({'batch_size': 112,\n",
       "  'epochs': 70,\n",
       "  'model__optimizer': 'adam',\n",
       "  'optimizer__learning_rate': 0.1,\n",
       "  'optimizer__momentum': 0.8},\n",
       " 0.7051282051282051)"
      ]
     },
     "execution_count": 11,
     "metadata": {},
     "output_type": "execute_result"
    }
   ],
   "source": [
    "result.best_params_, result.best_score_"
   ]
  },
  {
   "cell_type": "code",
   "execution_count": 12,
   "metadata": {},
   "outputs": [],
   "source": [
    "# tuning netwrok weights\n",
    "def create_model(init_mode = 'RandomUniform'):\n",
    "    model = Sequential()\n",
    "    model.add(Dense(8, input_shape = (8,), activation = 'relu', kernel_initializer=init_mode))\n",
    "    model.add(Dense(16, activation = 'relu', kernel_initializer=init_mode))\n",
    "    model.add(Dense(1, activation = 'sigmoid' ,kernel_initializer='glorot_uniform'))\n",
    "    model.compile(optimizer = 'SGD', loss = 'binary_crossentropy', metrics = ['accuracy'])\n",
    "    return model\n",
    "\n",
    "model = KerasClassifier(create_model, epochs = 100, batch_size = 100, verbose = 0)\n",
    "params = {\n",
    "    'model__init_mode' : ['he_uniform','ones']\n",
    "}\n",
    "\n",
    "gs = GridSearchCV(model, params, scoring = 'accuracy')\n",
    "result = gs.fit(xtrain_subset, ytrain_subset)"
   ]
  },
  {
   "cell_type": "code",
   "execution_count": 13,
   "metadata": {},
   "outputs": [
    {
     "data": {
      "text/plain": [
       "({'model__init_mode': 'he_uniform'}, 0.6551282051282052)"
      ]
     },
     "execution_count": 13,
     "metadata": {},
     "output_type": "execute_result"
    }
   ],
   "source": [
    "result.best_params_, result.best_score_"
   ]
  },
  {
   "cell_type": "code",
   "execution_count": 21,
   "metadata": {},
   "outputs": [],
   "source": [
    "# tuning activation functions\n",
    "# NOTE : while tuning, the activation function in the output layer should be based on the dataset so we should not tune it.\n",
    "# ['softmax', 'softplus', 'softsign', 'relu', 'tanh', 'sigmoid', 'hard_sigmoid', 'linear']\n",
    "def create_model(activation = 'relu'):\n",
    "    model = Sequential()\n",
    "    model.add(Dense(8, input_shape = (8,), activation = activation, ))\n",
    "    model.add(Dense(16, activation = activation))\n",
    "    model.add(Dense(1, activation = 'sigmoid'))\n",
    "    model.compile(optimizer = 'SGD', loss = 'binary_crossentropy', metrics = ['accuracy'])\n",
    "    return model\n",
    "\n",
    "model = KerasClassifier(create_model, epochs = 100, batch_size = 100, verbose = 0)\n",
    "params = {\n",
    "    'model__activation' : ['relu','softmax', 'swish']\n",
    "}\n",
    "\n",
    "gs = GridSearchCV(model, params, scoring = 'accuracy')\n",
    "result = gs.fit(xtrain_subset, ytrain_subset)"
   ]
  },
  {
   "cell_type": "code",
   "execution_count": 22,
   "metadata": {},
   "outputs": [
    {
     "data": {
      "text/plain": [
       "({'model__activation': 'softmax'}, 0.6564102564102563)"
      ]
     },
     "execution_count": 22,
     "metadata": {},
     "output_type": "execute_result"
    }
   ],
   "source": [
    "result.best_params_, result.best_score_"
   ]
  },
  {
   "cell_type": "code",
   "execution_count": 34,
   "metadata": {},
   "outputs": [],
   "source": [
    "# tuning dropout and weight constraint\n",
    "\n",
    "def create_model(dropout_rate=0.2, weight_constraint = 3):\n",
    "    model = Sequential()\n",
    "    model.add(Dropout(dropout_rate, input_shape = (8,)))\n",
    "    model.add(Dense(32, activation = 'relu', kernel_constraint=max_norm(weight_constraint)))\n",
    "    model.add(Dropout(dropout_rate))\n",
    "    model.add(Dense(128, activation = 'relu', kernel_constraint=max_norm(weight_constraint)))\n",
    "    model.add(Dropout(dropout_rate))\n",
    "    model.add(Dense(64, activation = 'relu', kernel_constraint=max_norm(weight_constraint)))\n",
    "    model.add(Dropout(dropout_rate))\n",
    "    model.add(Dense(1, activation = 'sigmoid'))\n",
    "    model.compile(optimizer = 'SGD', loss = 'binary_crossentropy', metrics = ['accuracy'])\n",
    "    return model\n",
    "\n",
    "model = KerasClassifier(create_model, epochs = 100, batch_size = 100, verbose = 0)\n",
    "params = {\n",
    "    'model__dropout_rate' : [0.2, 0.4, 0.6],\n",
    "    'model__weight_constraint' : [2 ,4, 5]\n",
    "}\n",
    "\n",
    "gs = GridSearchCV(model, params, scoring = 'accuracy')\n",
    "result = gs.fit(xtrain_subset, ytrain_subset)"
   ]
  },
  {
   "cell_type": "code",
   "execution_count": 35,
   "metadata": {},
   "outputs": [
    {
     "data": {
      "text/plain": [
       "({'model__dropout_rate': 0.6, 'model__weight_constraint': 4},\n",
       " 0.6897435897435897)"
      ]
     },
     "execution_count": 35,
     "metadata": {},
     "output_type": "execute_result"
    }
   ],
   "source": [
    "result.best_params_, result.best_score_"
   ]
  },
  {
   "cell_type": "code",
   "execution_count": 36,
   "metadata": {},
   "outputs": [],
   "source": [
    "# tuning number of neurons in each layer\n",
    "\n",
    "def create_model(neurons):\n",
    "    model = Sequential()\n",
    "    model.add(Dense(8, input_shape = (8,), activation = 'relu'))\n",
    "    model.add(Dense(neurons, activation = 'relu'))\n",
    "    model.add(Dense(1, activation = 'sigmoid'))\n",
    "    model.compile(optimizer = 'SGD', loss = 'binary_crossentropy', metrics = ['accuracy'])\n",
    "    return model\n",
    "\n",
    "model = KerasClassifier(create_model,epochs = 70, batch_size = 100, verbose = 0)\n",
    "params = {\n",
    "    'model__neurons' : [15, 25, 35, 50]\n",
    "}\n",
    "gs = GridSearchCV(model, params, scoring = 'accuracy')\n",
    "result = gs.fit(xtrain_subset, ytrain_subset)"
   ]
  },
  {
   "cell_type": "code",
   "execution_count": 37,
   "metadata": {},
   "outputs": [
    {
     "data": {
      "text/plain": [
       "({'model__neurons': 25}, 0.6705128205128206)"
      ]
     },
     "execution_count": 37,
     "metadata": {},
     "output_type": "execute_result"
    }
   ],
   "source": [
    "result.best_params_, result.best_score_"
   ]
  },
  {
   "cell_type": "markdown",
   "metadata": {},
   "source": [
    "## weight initialization : \n",
    "\n",
    "initial weights are the starting point of the model's learning journey. if the initial weights are better, then the model willl be able to converge better   \n",
    "\n",
    "NOTE : ITS BAD TO INITIALIZE WEIGHTS AS 0 AS THEIR GRADIENT IS ALSO 0\n",
    "\n",
    "weight initialization techniques : \n",
    "\n",
    "    RandomNormal\n",
    "    RandomUniform\n",
    "    TruncatedNormal\n",
    "    Orthogonal\n",
    "    Identity\n",
    "    zeros\n",
    "    ones\n",
    "    glorot_normal\n",
    "    glorot_uniform\n",
    "    he_normal\n",
    "    he_uniform\n",
    "    lecun_normal\n",
    "    lecun_uniform\n",
    "\n",
    "    for sigmoid/tanh activation functions : \n",
    "        uniform glorot /uniform xavier initialization\n",
    "        normalized glorot / normalised xavier initialization\n",
    "\n",
    "    for relu activation function:\n",
    "        uniform he initialisation\n",
    "        normalized he initialisation"
   ]
  },
  {
   "cell_type": "code",
   "execution_count": 9,
   "metadata": {},
   "outputs": [
    {
     "name": "stdout",
     "output_type": "stream",
     "text": [
      "2/2 [==============================] - 2s 0s/step - loss: 0.7986 - accuracy: 0.5902\n",
      "5/5 [==============================] - 0s 7ms/step - loss: 0.7502 - accuracy: 0.5909\n"
     ]
    },
    {
     "data": {
      "text/plain": [
       "[0.7501676678657532, 0.5909090638160706]"
      ]
     },
     "execution_count": 9,
     "metadata": {},
     "output_type": "execute_result"
    }
   ],
   "source": [
    "model = Sequential()\n",
    "model.add(Dense(8, input_shape = (8,), activation='relu', kernel_initializer='he_uniform'))\n",
    "model.add(Dense(16, activation = 'relu', kernel_initializer = 'he_uniform'))\n",
    "model.add(Dense(1, activation='sigmoid', kernel_initializer = constant(0.1))) # you can add constant weight using keras.initializer.constant()\n",
    "model.compile(optimizer = 'SGD', loss = 'binary_crossentropy', metrics = ['accuracy'])\n",
    "model.fit(xtrain_subset, ytrain_subset)\n",
    "model.evaluate(xtest, ytest) \n",
    "\n",
    "# NOTE : you can use 'bias_initializer' to initialize bias values for each layer"
   ]
  },
  {
   "cell_type": "markdown",
   "metadata": {},
   "source": [
    "## bias initialization \n",
    "    bias can be initialized as 0.\n",
    "    but for RELUs, its better to keep bias as a very small number like(0.1/0.001) due to the problem of leaky RELU"
   ]
  },
  {
   "cell_type": "code",
   "execution_count": 10,
   "metadata": {},
   "outputs": [
    {
     "name": "stdout",
     "output_type": "stream",
     "text": [
      "20/20 [==============================] - 3s 11ms/step - loss: 0.8108 - accuracy: 0.3485\n",
      "5/5 [==============================] - 0s 9ms/step - loss: 0.7901 - accuracy: 0.4416\n"
     ]
    },
    {
     "data": {
      "text/plain": [
       "[0.790073812007904, 0.44155845046043396]"
      ]
     },
     "execution_count": 10,
     "metadata": {},
     "output_type": "execute_result"
    }
   ],
   "source": [
    "model = Sequential()\n",
    "model.add(Dense(8, input_shape = (8,), activation='relu', bias_initializer='he_uniform')) # you can use the same values used in weight initialization like he_uniform, he_normal, etc\n",
    "model.add(Dense(16, activation = 'relu', bias_initializer = constant(0.1))) #use keras.initializer.constant() to initialize constant values to the bias\n",
    "model.add(Dense(1, activation='sigmoid', bias_initializer = constant(0.1)))\n",
    "model.compile(optimizer = 'SGD', loss = 'binary_crossentropy', metrics = ['accuracy'])\n",
    "model.fit(xtrain, ytrain)\n",
    "model.evaluate(xtest, ytest) "
   ]
  },
  {
   "cell_type": "markdown",
   "metadata": {},
   "source": [
    "## dropout : \n",
    "    the randomly selected neurons are ignored during the training. the neurons are dropped at random, which means that their contribution during the foreward pass is temporarily removed and the weights are no longer updated during backward pass. \n",
    "\n",
    "    dropout is only used in the training of the model but not while evaluating the skill of the model\n",
    "\n",
    "    this helps in overfitting of the model.\n",
    "\n",
    "    tips to use dropout(): \n",
    "        -> use larger network while using dropout, as it will let the model to learn without any constrain\n",
    "        -> start from 20% dropout.(20-50% is generally recommended)\n",
    "        -> use dropout in input as well as hidden layers\n",
    "        -> increase learning rate by a factor of 10 - 100 and high momentum like 0.9 or 0.99\n",
    "        -> add kernel constrains. use max norm constrain with a size of 4 to 5\n"
   ]
  },
  {
   "cell_type": "code",
   "execution_count": 26,
   "metadata": {},
   "outputs": [
    {
     "name": "stdout",
     "output_type": "stream",
     "text": [
      "5/5 [==============================] - 0s 6ms/step - loss: 0.5957 - accuracy: 0.6688\n"
     ]
    },
    {
     "data": {
      "text/plain": [
       "[0.5956513285636902, 0.6688311696052551]"
      ]
     },
     "execution_count": 26,
     "metadata": {},
     "output_type": "execute_result"
    }
   ],
   "source": [
    "# model without dropout\n",
    "\n",
    "model = Sequential()\n",
    "model.add(Dense(8, input_shape = (8,), activation = 'relu'))\n",
    "model.add(Dense(32, activation='relu'))\n",
    "model.add(Dense(128, activation = 'relu'))\n",
    "model.add(Dense(1, activation = 'sigmoid'))\n",
    "\n",
    "model.compile(optimizer = 'SGD', loss = 'binary_crossentropy', metrics = ['accuracy'])\n",
    "model.fit(xtrain, ytrain, epochs = 70, batch_size = 100, validation_data =  (xtest, ytest), verbose = 0)\n",
    "model.evaluate(xtest, ytest)"
   ]
  },
  {
   "cell_type": "code",
   "execution_count": 29,
   "metadata": {},
   "outputs": [
    {
     "name": "stdout",
     "output_type": "stream",
     "text": [
      "5/5 [==============================] - 0s 10ms/step - loss: 0.5327 - accuracy: 0.7597\n"
     ]
    },
    {
     "data": {
      "text/plain": [
       "[0.5327013731002808, 0.7597402334213257]"
      ]
     },
     "execution_count": 29,
     "metadata": {},
     "output_type": "execute_result"
    }
   ],
   "source": [
    "# model  with dropout\n",
    "\n",
    "model = Sequential()\n",
    "model.add(Dropout(0.2, input_shape = (8,)))\n",
    "model.add(Dense(32, activation='relu'))\n",
    "model.add(Dropout(0.3))\n",
    "model.add(Dense(128, activation = 'relu'))\n",
    "model.add(Dropout(0.4))\n",
    "model.add(Dense(1, activation = 'sigmoid'))\n",
    "\n",
    "model.compile(optimizer = 'SGD', loss = 'binary_crossentropy', metrics = ['accuracy'])\n",
    "model.fit(xtrain, ytrain, epochs = 70, batch_size = 100, validation_data =  (xtest, ytest), verbose = 0)\n",
    "model.evaluate(xtest, ytest)"
   ]
  },
  {
   "cell_type": "markdown",
   "metadata": {},
   "source": [
    "## learning rate scheduler\n",
    "    adapting learning rate to get more accurate results.\n",
    "\n",
    "    most commonly used technique is reducing the learning rate gradually till we reach the best results.\n",
    "    techniques : \n",
    "        -> (time-based learning rate schedule) decreasing the learning rate gradually based on epoch. for example, learning rate decreases by 0.0001 at every epoch.\n",
    "        -> (drop-based learning rate schedule) decreasing the learning rate using punctuated large drops at specific epochs. for example, learning rate drops by 20% or by 0.3 after every 10 epochs\n",
    "    \n",
    "\n",
    "    NOTE : keep the initial learning rate and momentum high so that when we decrease the learning rate during training, we will still be able to update the learning rate at resonable rate."
   ]
  },
  {
   "cell_type": "code",
   "execution_count": 14,
   "metadata": {},
   "outputs": [
    {
     "name": "stdout",
     "output_type": "stream",
     "text": [
      "5/5 [==============================] - 0s 8ms/step - loss: 0.5487 - accuracy: 0.7922\n"
     ]
    },
    {
     "data": {
      "text/plain": [
       "[0.5486501455307007, 0.7922077775001526]"
      ]
     },
     "execution_count": 14,
     "metadata": {},
     "output_type": "execute_result"
    }
   ],
   "source": [
    "# time-based learning rate scheduling : \n",
    "\n",
    "model = Sequential()\n",
    "model.add(Dense(8, input_shape = (8,), activation = 'relu'))\n",
    "model.add(Dense(64, activation = 'relu'))\n",
    "model.add(Dense(1, activation = 'sigmoid'))\n",
    "\n",
    "learning_rate = 0.1\n",
    "epochs = 70\n",
    "decay = learning_rate / epochs # decay parameter decreases the learning rate after every epoch\n",
    "\n",
    "sgd = SGD(learning_rate=0.1, momentum=0.9, nesterov=False, weight_decay=decay)\n",
    "model.compile(optimizer = sgd, loss = 'binary_crossentropy', metrics = ['accuracy'])\n",
    "model.fit(xtrain, ytrain, epochs = epochs, batch_size = 100, validation_data = (xtest, ytest), verbose = 0)\n",
    "model.evaluate(xtest, ytest)"
   ]
  },
  {
   "cell_type": "code",
   "execution_count": 22,
   "metadata": {},
   "outputs": [
    {
     "name": "stdout",
     "output_type": "stream",
     "text": [
      "5/5 [==============================] - 0s 20ms/step - loss: 0.4851 - accuracy: 0.7987\n"
     ]
    },
    {
     "data": {
      "text/plain": [
       "[0.48512595891952515, 0.798701286315918]"
      ]
     },
     "execution_count": 22,
     "metadata": {},
     "output_type": "execute_result"
    }
   ],
   "source": [
    "# drop based learning rate schedule : reducing the learning rate by 'x' after every 'n' epoch. we can implement this using LearningRateScheduler() from keras.callbacks\n",
    "\n",
    "# NOTE : try to experiment with different schedulers like exponential scheduler, cosine scheduler, polynomial decay, linear decay, etc\n",
    "\n",
    "# step decay\n",
    "model = Sequential()\n",
    "model.add(Dense(8, input_shape = (8,), activation = 'relu'))\n",
    "model.add(Dense(64, activation = 'relu'))\n",
    "model.add(Dense(1, activation = 'sigmoid'))\n",
    "model.compile(optimizer = 'SGD', loss = 'binary_crossentropy', metrics = 'accuracy')\n",
    "\n",
    "def step_decay(epoch) : \n",
    "    initial_lrate = 0.1\n",
    "    epochs_drop = 10\n",
    "    drop = 0.5\n",
    "    lrate = initial_lrate * math.pow(drop, math.floor((1+epoch)/epochs_drop))\n",
    "    return lrate\n",
    "\n",
    "lrate = LearningRateScheduler(step_decay)\n",
    "model.fit(xtrain, ytrain, epochs = 70, batch_size =100,callbacks=[lrate],  validation_data = (xtest, ytest), verbose = 0)\n",
    "model.evaluate(xtest, ytest)"
   ]
  },
  {
   "cell_type": "markdown",
   "metadata": {},
   "source": [
    "## batch normalization\n",
    "    performing normalization(re-centering and re-scaling) on the layer input. its job is to take the output of the previous layer, normalize them before passing it to the next layer\n",
    "\n",
    "    it also helps us to use higher learning rates. without it, we will need to keep the learning rate small to not miss the global minima \n",
    "\n",
    "    it helps in reducing the dependence on the initial weights as they are assigned randomly at the start of the training. since weights are assigned at random, outlier weight can cause larger adjustment, which causes the model more time to converge.\n",
    "\n",
    "    this helps in faster and more stable training of the neural network(espically on large networks).\n",
    "\n",
    "    NOTE : batch normalization may not work well with some layers, so do your research while using it with different architectures. batch normalization does not work well with RNN as \n",
    "\n",
    "    batch normalization may not work well if the batch size is small. batch normalization needs to calculate mean and variance across the batches so it might not work well if the batch size is small. \n",
    "        why we cant simple increase the batch size?\n",
    "            higher batch size causes higher gradients, which will let the model to take big jumps and may miss the global minima.\n",
    "            \n",
    "            also, simply increasing the batch size reduces the size of each batch so we need to find the sweet spot of batch size so that we can use batch normalization effectively and also it doesnt affect the model with higher gradients."
   ]
  },
  {
   "cell_type": "code",
   "execution_count": null,
   "metadata": {},
   "outputs": [],
   "source": [
    "\n",
    "    # when BatchNormalization layer is placed right after the input layer, we should mention the 'input_shape'  parameter.\n",
    "        # model = Sequential()\n",
    "        # model.add(BatchNormalization(input_shape=(2,)))\n",
    "\n",
    "    # when batchnormalization layer is placed after hidden layer, there is no ned to mention the 'input_shape' parameter.\n",
    "        # model = Sequential()\n",
    "        # ...\n",
    "        # model.add(BatchNormalization())\n",
    "\n",
    "\n",
    "\n",
    "\n",
    "# placing batch normalization layer : \n",
    "    # placing batch normalization layer before activation function : \n",
    "        # model.add(Dense())\n",
    "        # model.add(BatchNormalization())\n",
    "        # model.add(Activation(\"relu\"))\n",
    "    # placing batch normalization layer after activation function : \n",
    "        #model.add(Dense(23, activation = 'relu'))\n",
    "        #model.add(BatchNormalization())\n",
    "\n",
    "# the original research paper suggests that the batch normalization layer to be placed before activation layer to get better results but some examples suggest that placing batch normalization layer after the activation layer gives better results. so ,try both variations."
   ]
  },
  {
   "cell_type": "code",
   "execution_count": 8,
   "metadata": {},
   "outputs": [
    {
     "name": "stdout",
     "output_type": "stream",
     "text": [
      "WARNING:tensorflow:From c:\\Users\\RAJESH\\AppData\\Local\\Programs\\Python\\Python311\\Lib\\site-packages\\keras\\src\\backend.py:873: The name tf.get_default_graph is deprecated. Please use tf.compat.v1.get_default_graph instead.\n",
      "\n",
      "WARNING:tensorflow:From c:\\Users\\RAJESH\\AppData\\Local\\Programs\\Python\\Python311\\Lib\\site-packages\\keras\\src\\optimizers\\__init__.py:309: The name tf.train.Optimizer is deprecated. Please use tf.compat.v1.train.Optimizer instead.\n",
      "\n",
      "WARNING:tensorflow:From c:\\Users\\RAJESH\\AppData\\Local\\Programs\\Python\\Python311\\Lib\\site-packages\\keras\\src\\utils\\tf_utils.py:492: The name tf.ragged.RaggedTensorValue is deprecated. Please use tf.compat.v1.ragged.RaggedTensorValue instead.\n",
      "\n",
      "WARNING:tensorflow:From c:\\Users\\RAJESH\\AppData\\Local\\Programs\\Python\\Python311\\Lib\\site-packages\\keras\\src\\engine\\base_layer_utils.py:384: The name tf.executing_eagerly_outside_functions is deprecated. Please use tf.compat.v1.executing_eagerly_outside_functions instead.\n",
      "\n",
      "5/5 [==============================] - 1s 8ms/step - loss: 0.5744 - accuracy: 0.7013\n"
     ]
    },
    {
     "data": {
      "text/plain": [
       "[0.5743611454963684, 0.701298713684082]"
      ]
     },
     "execution_count": 8,
     "metadata": {},
     "output_type": "execute_result"
    }
   ],
   "source": [
    "# without batch normalization\n",
    "model = Sequential()\n",
    "model.add(Dense(8, input_shape = (8,), activation='relu'))\n",
    "model.add(Dense(64, activation = 'relu'))\n",
    "model.add(Dense(128, activation = 'relu'))\n",
    "model.add(Dense(1, activation='sigmoid'))\n",
    "model.compile(optimizer= 'SGD', loss = 'binary_crossentropy', metrics = ['accuracy'])\n",
    "model.fit(xtrain, ytrain, epochs = 70, batch_size = 100, verbose = 0)\n",
    "model.evaluate(xtest, ytest)"
   ]
  },
  {
   "cell_type": "code",
   "execution_count": 9,
   "metadata": {},
   "outputs": [
    {
     "name": "stdout",
     "output_type": "stream",
     "text": [
      "5/5 [==============================] - 1s 12ms/step - loss: 0.4619 - accuracy: 0.7792\n"
     ]
    },
    {
     "data": {
      "text/plain": [
       "[0.4619080722332001, 0.7792207598686218]"
      ]
     },
     "execution_count": 9,
     "metadata": {},
     "output_type": "execute_result"
    }
   ],
   "source": [
    "# placing batch normalization layer after the activation function\n",
    "model = Sequential()\n",
    "model.add(Dense(8, input_shape = (8,), activation='relu'))\n",
    "model.add(BatchNormalization())\n",
    "model.add(Dense(64, activation = 'relu'))\n",
    "model.add(BatchNormalization())\n",
    "model.add(Dense(128, activation = 'relu'))\n",
    "model.add(BatchNormalization())\n",
    "model.add(Dense(1, activation='sigmoid'))\n",
    "model.compile(optimizer= 'SGD', loss = 'binary_crossentropy', metrics = ['accuracy'])\n",
    "model.fit(xtrain, ytrain, epochs = 70, batch_size = 100, verbose = 0)\n",
    "model.evaluate(xtest, ytest)"
   ]
  },
  {
   "cell_type": "code",
   "execution_count": 10,
   "metadata": {},
   "outputs": [
    {
     "name": "stdout",
     "output_type": "stream",
     "text": [
      "5/5 [==============================] - 1s 7ms/step - loss: 0.4811 - accuracy: 0.7662\n"
     ]
    },
    {
     "data": {
      "text/plain": [
       "[0.48109838366508484, 0.7662337422370911]"
      ]
     },
     "execution_count": 10,
     "metadata": {},
     "output_type": "execute_result"
    }
   ],
   "source": [
    "# placing batch normalization before activation function\n",
    "model = Sequential()\n",
    "model.add(Dense(8, input_shape = (8,)))\n",
    "model.add(BatchNormalization())\n",
    "model.add(Activation('relu'))\n",
    "model.add(Dense(64))\n",
    "model.add(BatchNormalization())\n",
    "model.add(Activation('relu'))\n",
    "model.add(Dense(128))\n",
    "model.add(BatchNormalization())\n",
    "model.add(Activation('relu'))\n",
    "model.add(Dense(1, activation='sigmoid'))\n",
    "model.compile(optimizer= 'SGD', loss = 'binary_crossentropy', metrics = ['accuracy'])\n",
    "model.fit(xtrain, ytrain, epochs = 70, batch_size = 100, verbose = 0)\n",
    "model.evaluate(xtest, ytest)"
   ]
  },
  {
   "cell_type": "code",
   "execution_count": 23,
   "metadata": {},
   "outputs": [
    {
     "name": "stdout",
     "output_type": "stream",
     "text": [
      "4/4 [==============================] - 4s 19ms/step - loss: 0.5399 - accuracy: 0.6863\n",
      "2/2 [==============================] - 1s 16ms/step\n",
      "4/4 [==============================] - 4s 22ms/step - loss: 0.5036 - accuracy: 0.7864\n",
      "2/2 [==============================] - 1s 17ms/step\n",
      "4/4 [==============================] - 5s 23ms/step - loss: 0.5009 - accuracy: 0.7476\n",
      "2/2 [==============================] - 1s 16ms/step\n"
     ]
    },
    {
     "data": {
      "text/plain": [
       "0.7723730517848164"
      ]
     },
     "execution_count": 23,
     "metadata": {},
     "output_type": "execute_result"
    }
   ],
   "source": [
    "# placing the batch normalization right after the input layer \n",
    "model = Sequential()\n",
    "model.add(BatchNormalization(input_shape = (8,)))\n",
    "model.add(Dense(8, activation='relu'))\n",
    "model.add(BatchNormalization())\n",
    "model.add(Dense(64, activation = 'relu'))\n",
    "model.add(BatchNormalization())\n",
    "model.add(Dense(128, activation = 'relu'))\n",
    "model.add(BatchNormalization())\n",
    "model.add(Dense(1, activation='sigmoid'))\n",
    "model.compile(optimizer= 'SGD', loss = 'binary_crossentropy', metrics = ['accuracy'])\n",
    "model.fit(xtrain, ytrain, epochs = 70, batch_size = 100, verbose = 0)\n",
    "# model.evaluate(xtest, ytest)\n",
    "eval = KerasClassifier(model)\n",
    "kfolds = StratifiedKFold(n_splits = 3, shuffle = True, random_state=1)\n",
    "cross_val_score(eval, xtest, ytest, cv = kfolds, scoring = 'accuracy').mean()"
   ]
  },
  {
   "cell_type": "code",
   "execution_count": 24,
   "metadata": {},
   "outputs": [
    {
     "name": "stdout",
     "output_type": "stream",
     "text": [
      "4/4 [==============================] - 4s 15ms/step - loss: 0.5010 - accuracy: 0.7059\n",
      "2/2 [==============================] - 1s 16ms/step\n",
      "4/4 [==============================] - 4s 26ms/step - loss: 0.4936 - accuracy: 0.7767\n",
      "2/2 [==============================] - 1s 16ms/step\n",
      "4/4 [==============================] - 4s 18ms/step - loss: 0.4626 - accuracy: 0.7476\n",
      "2/2 [==============================] - 1s 35ms/step\n"
     ]
    },
    {
     "data": {
      "text/plain": [
       "0.785570638511815"
      ]
     },
     "execution_count": 24,
     "metadata": {},
     "output_type": "execute_result"
    }
   ],
   "source": [
    "# setting axis = 1 as a parameter in batchnormalization()\n",
    "\n",
    "model = Sequential()\n",
    "model.add(BatchNormalization(input_shape = (8,)))\n",
    "model.add(Dense(8, activation='relu'))\n",
    "model.add(BatchNormalization(axis = 1))\n",
    "model.add(Dense(64, activation = 'relu'))\n",
    "model.add(BatchNormalization(axis = 1))\n",
    "model.add(Dense(128, activation = 'relu'))\n",
    "model.add(BatchNormalization(axis = 1))\n",
    "model.add(Dense(1, activation='sigmoid'))\n",
    "model.compile(optimizer= 'SGD', loss = 'binary_crossentropy', metrics = ['accuracy'])\n",
    "model.fit(xtrain, ytrain, epochs = 70, batch_size = 100, verbose = 0)\n",
    "# model.evaluate(xtest, ytest)\n",
    "eval = KerasClassifier(model)\n",
    "kfolds = StratifiedKFold(n_splits = 3, shuffle = True, random_state=1)\n",
    "cross_val_score(eval, xtest, ytest, cv = kfolds, scoring = 'accuracy').mean()"
   ]
  },
  {
   "cell_type": "markdown",
   "metadata": {},
   "source": [
    "you can notice a significant boost in the accuracy after adding the batch normalization layer\n",
    "\n",
    "**IMPORTANT : we can able to notice a accuracy boost when we pass 'axis = 1' as a parameter in BatchNormalization(). the same trend is also noticed in the other normalization layers that are discussed below.**"
   ]
  },
  {
   "cell_type": "code",
   "execution_count": null,
   "metadata": {},
   "outputs": [],
   "source": [
    "# other Normalization layers : \n",
    "    # -> layer normalization - this technique performs than batch normalization when the batch_size and number of batchs are small.\n",
    "    # -> group normalization - normalization technique where the data is divided into groups. here, the batch_size and the number of batches doesn't matter. \n",
    "            # when number of groups = 1, then GroupNormalization behaves identical to LayerNormalization.\n",
    "            # when number of groups = N(where N = number of channels), then GroupNormalization behaves identical to InstanceNormalization.\n",
    "            # so, when using GroupNormalization, we use number of groups = X(where 1<X<N). [X should be a divisible of N]\n",
    "    # -> instance normalization - mostly used when working with images. but experiment with different normalizations during implementation. in keras, there is no specific function to implement InstanceNormalization. so we simply use GroupNormalization(groups = N)[where N = number of input channels]"
   ]
  },
  {
   "attachments": {
    "GN_BN_LN_IN normalizations.png": {
     "image/png": "[encoded data removed]"
    }
   },
   "cell_type": "markdown",
   "metadata": {},
   "source": [
    "![GN_BN_LN_IN normalizations.png](<attachment:GN_BN_LN_IN normalizations.png>)"
   ]
  },
  {
   "cell_type": "code",
   "execution_count": 45,
   "metadata": {},
   "outputs": [
    {
     "name": "stdout",
     "output_type": "stream",
     "text": [
      "5/5 [==============================] - 2s 20ms/step - loss: 0.4965 - accuracy: 0.8052\n"
     ]
    },
    {
     "data": {
      "text/plain": [
       "[0.49648919701576233, 0.8051947951316833]"
      ]
     },
     "execution_count": 45,
     "metadata": {},
     "output_type": "execute_result"
    }
   ],
   "source": [
    "# layer normalization\n",
    "\n",
    "model = Sequential()\n",
    "model.add(Dense(8, input_shape = (8,), activation='relu'))\n",
    "model.add(LayerNormalization())\n",
    "model.add(Dense(64, activation = 'relu'))\n",
    "model.add(LayerNormalization())\n",
    "model.add(Dense(128, activation = 'relu'))\n",
    "model.add(LayerNormalization())\n",
    "model.add(Dense(1, activation='sigmoid'))\n",
    "model.compile(optimizer= 'SGD', loss = 'binary_crossentropy', metrics = ['accuracy'])\n",
    "model.fit(xtrain, ytrain, epochs = 70, batch_size = 100, verbose = 0)\n",
    "model.evaluate(xtest, ytest)"
   ]
  },
  {
   "cell_type": "code",
   "execution_count": 44,
   "metadata": {},
   "outputs": [
    {
     "name": "stdout",
     "output_type": "stream",
     "text": [
      "5/5 [==============================] - 1s 18ms/step - loss: 0.4930 - accuracy: 0.7857\n"
     ]
    },
    {
     "data": {
      "text/plain": [
       "[0.4929538667201996, 0.7857142686843872]"
      ]
     },
     "execution_count": 44,
     "metadata": {},
     "output_type": "execute_result"
    }
   ],
   "source": [
    "# LayerNormalization(axis = 1)\n",
    "model = Sequential()\n",
    "model.add(Dense(8, input_shape = (8,), activation='relu'))\n",
    "model.add(LayerNormalization(axis = 1))\n",
    "model.add(Dense(64, activation = 'relu'))\n",
    "model.add(LayerNormalization(axis = 1))\n",
    "model.add(Dense(128, activation = 'relu'))\n",
    "model.add(LayerNormalization(axis = 1))\n",
    "model.add(Dense(1, activation='sigmoid'))\n",
    "model.compile(optimizer= 'SGD', loss = 'binary_crossentropy', metrics = ['accuracy'])\n",
    "model.fit(xtrain, ytrain, epochs = 70, batch_size = 100, verbose = 0)\n",
    "model.evaluate(xtest, ytest)"
   ]
  },
  {
   "cell_type": "code",
   "execution_count": 50,
   "metadata": {},
   "outputs": [
    {
     "name": "stdout",
     "output_type": "stream",
     "text": [
      "5/5 [==============================] - 2s 5ms/step - loss: 0.6025 - accuracy: 0.7143\n"
     ]
    },
    {
     "data": {
      "text/plain": [
       "[0.6024887561798096, 0.7142857313156128]"
      ]
     },
     "execution_count": 50,
     "metadata": {},
     "output_type": "execute_result"
    }
   ],
   "source": [
    "# actual implementation of GroupNormalization\n",
    "model = Sequential()\n",
    "model.add(Dense(8, input_shape = (8,), activation='relu'))\n",
    "model.add(GroupNormalization(groups = 4))\n",
    "model.add(Dense(64, activation = 'relu'))\n",
    "model.add(GroupNormalization(groups = 4))\n",
    "model.add(Dense(128, activation = 'relu'))\n",
    "model.add(GroupNormalization(groups = 4))\n",
    "model.add(Dense(1, activation='sigmoid'))\n",
    "model.compile(optimizer= 'SGD', loss = 'binary_crossentropy', metrics = ['accuracy'])\n",
    "model.fit(xtrain, ytrain, epochs = 70, batch_size = 100, verbose = 0)\n",
    "model.evaluate(xtest, ytest)"
   ]
  },
  {
   "cell_type": "code",
   "execution_count": 42,
   "metadata": {},
   "outputs": [
    {
     "name": "stdout",
     "output_type": "stream",
     "text": [
      "5/5 [==============================] - 1s 10ms/step - loss: 0.5285 - accuracy: 0.7727\n"
     ]
    },
    {
     "data": {
      "text/plain": [
       "[0.528499186038971, 0.7727272510528564]"
      ]
     },
     "execution_count": 42,
     "metadata": {},
     "output_type": "execute_result"
    }
   ],
   "source": [
    "# group normalization [when groups = 1, GroupNormalization() becomes identical to the layer normalization]\n",
    "\n",
    "model = Sequential()\n",
    "model.add(Dense(8, input_shape = (8,), activation='relu'))\n",
    "model.add(GroupNormalization(groups = 1))\n",
    "model.add(Dense(64, activation = 'relu'))\n",
    "model.add(GroupNormalization(groups = 1))\n",
    "model.add(Dense(128, activation = 'relu'))\n",
    "model.add(GroupNormalization(groups = 1))\n",
    "model.add(Dense(1, activation='sigmoid'))\n",
    "model.compile(optimizer= 'SGD', loss = 'binary_crossentropy', metrics = ['accuracy'])\n",
    "model.fit(xtrain, ytrain, epochs = 70, batch_size = 100, verbose = 0)\n",
    "model.evaluate(xtest, ytest)"
   ]
  },
  {
   "cell_type": "code",
   "execution_count": 47,
   "metadata": {},
   "outputs": [
    {
     "name": "stdout",
     "output_type": "stream",
     "text": [
      "5/5 [==============================] - 1s 8ms/step - loss: 0.6518 - accuracy: 0.6429\n"
     ]
    },
    {
     "data": {
      "text/plain": [
       "[0.6518314480781555, 0.6428571343421936]"
      ]
     },
     "execution_count": 47,
     "metadata": {},
     "output_type": "execute_result"
    }
   ],
   "source": [
    "# group normalization when groups = number of input chanels(in this case, 8) or -1, this operation becomes identical to the instance normalization\n",
    "\n",
    "model = Sequential()\n",
    "model.add(Dense(8, input_shape = (8,), activation='relu'))\n",
    "model.add(GroupNormalization(groups = -1))\n",
    "model.add(Dense(64, activation = 'relu'))\n",
    "model.add(GroupNormalization(groups = -1))\n",
    "model.add(Dense(128, activation = 'relu'))\n",
    "model.add(GroupNormalization(groups = -1))\n",
    "model.add(Dense(1, activation='sigmoid'))\n",
    "model.compile(optimizer= 'SGD', loss = 'binary_crossentropy', metrics = ['accuracy'])\n",
    "model.fit(xtrain, ytrain, epochs = 70, batch_size = 100, verbose = 0)\n",
    "model.evaluate(xtest, ytest)"
   ]
  },
  {
   "cell_type": "markdown",
   "metadata": {},
   "source": [
    "## early stopping\n",
    "    we never really know when to stop the model training(i.e., determining right number of epochs). if epochs are too high, then the model overfits and if the epochs are too small, then the model underfits. in both the cases, the model will not be able to generalize properly. so, we use 'early stopping' technique to stop the model traning when there is no change/very minimal change in the accuracy/loss of the model during traning. "
   ]
  },
  {
   "cell_type": "code",
   "execution_count": 10,
   "metadata": {},
   "outputs": [],
   "source": [
    "# we will use 'callbacks' parameter from model.fit() to interact with the model during training.\n",
    "# when you have multiple callbacks, we pass a list of callbacks\n",
    "        # cb = Callback()\n",
    "        # cb2 = Callback()\n",
    "        # callback_list = [cb, cb2]\n",
    "        # model.fit(...., callbacks = [cb, cb2])\n",
    "\n",
    "\n",
    "# implementing callback\n",
    "    # NOTE : to implement callback, we need to pass validation data separately during training. we can do this in 2 ways.\n",
    "        # method 1 : we split the dataset separately into train, validate, test using sklearn.model_selection.train_test_split() and pass it in model.fit() like this : model.fit(validation_data = (val_x, val_y))\n",
    "        # method 2 : we split the dataset into train and test set using sklearn.model_selection.train_test_split() and we specify percentage of validation set that will be used for validation from training set like this : model.fit(validation_split = 0.3)\n",
    "\n",
    "    # NOTE : keras.callbacks.EarlyStopping() : \n",
    "        # parameters : \n",
    "            # measure : specifies what measure Earlystopping() will track to implement early stopping. model.fit() returns 4 measures : accuracy, loss, val_accuracy and val_loss(val_accuracy and val_loss are accuracy and loss of the validation data). mostly we use 'val_loss' to track the performance of the model.\n",
    "            # mode : this parameter either 'min' or 'max' as value. it depends on the measure we have chosen. for example, if we use measure = 'val_accuracy', then we set mode = 'max' as we want to maximize the accuracy. if measure = 'val_loss', then we set mode = 'min' as we want to minimize the loss. by default, mode = 'auto'. it automatically knows that we want to minimize the loss and maximize the accuracy.\n",
    "            # patience : if the patience is not specified, then EarlyStopping() will stop the model training right after the first sign of no improvement(i.e., consider val_loss at epoch 10 is 1.45, if val_loss at epoch 11 is also 1.45, then the model training will be stopped). but this is not the best time to stop the training because sometimes the model might be stuck in a plateau and after few epochs it may result in a way better performance. so when patience = n, EarlyStopping() will only stop the training when the value remains unchanged for 'n' epochs\n",
    "            # min_delta : minimum change in the measure to be considered as imporvement. for example, EarlyStopping(measure = 'val_accuracy', min_delta = 1), then training will the terminated if the model does not improve by atleast 1 unit at every epoch.\n",
    "            # baseline : sometime, if you want to achieve only 0.12 loss and you dont want to train the model after loss = 0.12, then we can set baseline as 0.12. once it is achieved, the training is terminated.\n",
    "\n",
    "    # NOTE : ModelCheckpoint(filepath, monitor, mode, save_best_only : bool, verbose) : [keras.callbacks.ModelCheckpoint]\n",
    "                # sometimes, the final model we get after EarlyStopping may not be the best model we require, so we can save the best model using ModelCheckpoint()"
   ]
  },
  {
   "cell_type": "code",
   "execution_count": 9,
   "metadata": {},
   "outputs": [
    {
     "name": "stdout",
     "output_type": "stream",
     "text": [
      "20/20 [==============================] - 1s 7ms/step - loss: 0.2828 - accuracy: 0.8925\n",
      "[0.2827650308609009, 0.8925081491470337]\n",
      "5/5 [==============================] - 0s 11ms/step - loss: 0.5007 - accuracy: 0.8117\n",
      "[0.5006946325302124, 0.8116883039474487]\n"
     ]
    }
   ],
   "source": [
    "# without early stopping\n",
    "model = Sequential()\n",
    "model.add(Dense(500, input_shape = (8, ), activation='relu'))\n",
    "model.add(Dense(1, activation = 'sigmoid'))\n",
    "model.compile(optimizer = 'SGD', loss = 'binary_crossentropy', metrics = 'accuracy')\n",
    "his = model.fit(xtrain, ytrain, epochs = 4000, batch_size = 70, verbose = 0)\n",
    "\n",
    "# evaluating on train set\n",
    "print(model.evaluate(xtrain, ytrain))\n",
    "#evaluating on test set\n",
    "print(model.evaluate(xtest, ytest))"
   ]
  },
  {
   "cell_type": "code",
   "execution_count": 14,
   "metadata": {},
   "outputs": [
    {
     "name": "stdout",
     "output_type": "stream",
     "text": [
      "\n",
      "Epoch 1: val_accuracy improved from -inf to 0.68831, saving model to ./saved_models/early_stopping\\best_model.keras\n",
      "\n",
      "Epoch 2: val_accuracy improved from 0.68831 to 0.70779, saving model to ./saved_models/early_stopping\\best_model.keras\n",
      "\n",
      "Epoch 3: val_accuracy improved from 0.70779 to 0.71429, saving model to ./saved_models/early_stopping\\best_model.keras\n",
      "\n",
      "Epoch 4: val_accuracy did not improve from 0.71429\n",
      "\n",
      "Epoch 5: val_accuracy improved from 0.71429 to 0.72078, saving model to ./saved_models/early_stopping\\best_model.keras\n",
      "\n",
      "Epoch 6: val_accuracy improved from 0.72078 to 0.73377, saving model to ./saved_models/early_stopping\\best_model.keras\n",
      "\n",
      "Epoch 7: val_accuracy improved from 0.73377 to 0.74675, saving model to ./saved_models/early_stopping\\best_model.keras\n",
      "\n",
      "Epoch 8: val_accuracy improved from 0.74675 to 0.75974, saving model to ./saved_models/early_stopping\\best_model.keras\n",
      "\n",
      "Epoch 9: val_accuracy improved from 0.75974 to 0.77273, saving model to ./saved_models/early_stopping\\best_model.keras\n",
      "\n",
      "Epoch 10: val_accuracy did not improve from 0.77273\n",
      "\n",
      "Epoch 11: val_accuracy did not improve from 0.77273\n",
      "\n",
      "Epoch 12: val_accuracy did not improve from 0.77273\n",
      "\n",
      "Epoch 13: val_accuracy did not improve from 0.77273\n",
      "\n",
      "Epoch 14: val_accuracy did not improve from 0.77273\n",
      "\n",
      "Epoch 15: val_accuracy did not improve from 0.77273\n",
      "\n",
      "Epoch 16: val_accuracy did not improve from 0.77273\n",
      "\n",
      "Epoch 17: val_accuracy did not improve from 0.77273\n",
      "\n",
      "Epoch 18: val_accuracy did not improve from 0.77273\n",
      "\n",
      "Epoch 19: val_accuracy did not improve from 0.77273\n",
      "\n",
      "Epoch 20: val_accuracy did not improve from 0.77273\n",
      "\n",
      "Epoch 21: val_accuracy did not improve from 0.77273\n",
      "\n",
      "Epoch 22: val_accuracy did not improve from 0.77273\n",
      "\n",
      "Epoch 23: val_accuracy did not improve from 0.77273\n",
      "\n",
      "Epoch 24: val_accuracy did not improve from 0.77273\n",
      "\n",
      "Epoch 25: val_accuracy did not improve from 0.77273\n",
      "\n",
      "Epoch 26: val_accuracy did not improve from 0.77273\n",
      "\n",
      "Epoch 27: val_accuracy did not improve from 0.77273\n",
      "\n",
      "Epoch 28: val_accuracy did not improve from 0.77273\n",
      "\n",
      "Epoch 29: val_accuracy did not improve from 0.77273\n",
      "\n",
      "Epoch 30: val_accuracy did not improve from 0.77273\n",
      "\n",
      "Epoch 31: val_accuracy did not improve from 0.77273\n",
      "\n",
      "Epoch 32: val_accuracy did not improve from 0.77273\n",
      "\n",
      "Epoch 33: val_accuracy did not improve from 0.77273\n",
      "\n",
      "Epoch 34: val_accuracy did not improve from 0.77273\n",
      "\n",
      "Epoch 35: val_accuracy did not improve from 0.77273\n",
      "\n",
      "Epoch 36: val_accuracy did not improve from 0.77273\n",
      "\n",
      "Epoch 37: val_accuracy did not improve from 0.77273\n",
      "\n",
      "Epoch 38: val_accuracy did not improve from 0.77273\n",
      "\n",
      "Epoch 39: val_accuracy did not improve from 0.77273\n",
      "\n",
      "Epoch 40: val_accuracy did not improve from 0.77273\n",
      "\n",
      "Epoch 41: val_accuracy did not improve from 0.77273\n",
      "\n",
      "Epoch 42: val_accuracy did not improve from 0.77273\n",
      "\n",
      "Epoch 43: val_accuracy did not improve from 0.77273\n",
      "\n",
      "Epoch 44: val_accuracy did not improve from 0.77273\n",
      "\n",
      "Epoch 45: val_accuracy did not improve from 0.77273\n",
      "\n",
      "Epoch 46: val_accuracy did not improve from 0.77273\n",
      "\n",
      "Epoch 47: val_accuracy did not improve from 0.77273\n",
      "\n",
      "Epoch 48: val_accuracy did not improve from 0.77273\n",
      "\n",
      "Epoch 49: val_accuracy did not improve from 0.77273\n",
      "\n",
      "Epoch 50: val_accuracy did not improve from 0.77273\n",
      "\n",
      "Epoch 51: val_accuracy did not improve from 0.77273\n",
      "\n",
      "Epoch 52: val_accuracy did not improve from 0.77273\n",
      "\n",
      "Epoch 53: val_accuracy did not improve from 0.77273\n",
      "\n",
      "Epoch 54: val_accuracy did not improve from 0.77273\n",
      "\n",
      "Epoch 55: val_accuracy did not improve from 0.77273\n",
      "\n",
      "Epoch 56: val_accuracy did not improve from 0.77273\n",
      "\n",
      "Epoch 57: val_accuracy did not improve from 0.77273\n",
      "\n",
      "Epoch 58: val_accuracy did not improve from 0.77273\n",
      "\n",
      "Epoch 59: val_accuracy did not improve from 0.77273\n",
      "\n",
      "Epoch 60: val_accuracy did not improve from 0.77273\n",
      "\n",
      "Epoch 61: val_accuracy did not improve from 0.77273\n",
      "\n",
      "Epoch 62: val_accuracy did not improve from 0.77273\n",
      "\n",
      "Epoch 63: val_accuracy did not improve from 0.77273\n",
      "\n",
      "Epoch 64: val_accuracy did not improve from 0.77273\n",
      "\n",
      "Epoch 65: val_accuracy did not improve from 0.77273\n",
      "\n",
      "Epoch 66: val_accuracy did not improve from 0.77273\n",
      "\n",
      "Epoch 67: val_accuracy did not improve from 0.77273\n",
      "\n",
      "Epoch 68: val_accuracy did not improve from 0.77273\n",
      "\n",
      "Epoch 69: val_accuracy did not improve from 0.77273\n",
      "\n",
      "Epoch 70: val_accuracy did not improve from 0.77273\n",
      "\n",
      "Epoch 71: val_accuracy did not improve from 0.77273\n",
      "\n",
      "Epoch 72: val_accuracy improved from 0.77273 to 0.77922, saving model to ./saved_models/early_stopping\\best_model.keras\n",
      "\n",
      "Epoch 73: val_accuracy did not improve from 0.77922\n",
      "\n",
      "Epoch 74: val_accuracy did not improve from 0.77922\n",
      "\n",
      "Epoch 75: val_accuracy did not improve from 0.77922\n",
      "\n",
      "Epoch 76: val_accuracy did not improve from 0.77922\n",
      "\n",
      "Epoch 77: val_accuracy did not improve from 0.77922\n",
      "\n",
      "Epoch 78: val_accuracy did not improve from 0.77922\n",
      "\n",
      "Epoch 79: val_accuracy did not improve from 0.77922\n",
      "\n",
      "Epoch 80: val_accuracy did not improve from 0.77922\n",
      "\n",
      "Epoch 81: val_accuracy did not improve from 0.77922\n",
      "\n",
      "Epoch 82: val_accuracy did not improve from 0.77922\n",
      "\n",
      "Epoch 83: val_accuracy did not improve from 0.77922\n",
      "\n",
      "Epoch 84: val_accuracy did not improve from 0.77922\n",
      "\n",
      "Epoch 85: val_accuracy did not improve from 0.77922\n",
      "\n",
      "Epoch 86: val_accuracy did not improve from 0.77922\n",
      "\n",
      "Epoch 87: val_accuracy did not improve from 0.77922\n",
      "\n",
      "Epoch 88: val_accuracy did not improve from 0.77922\n",
      "\n",
      "Epoch 89: val_accuracy did not improve from 0.77922\n",
      "\n",
      "Epoch 90: val_accuracy did not improve from 0.77922\n",
      "\n",
      "Epoch 91: val_accuracy did not improve from 0.77922\n",
      "\n",
      "Epoch 92: val_accuracy did not improve from 0.77922\n",
      "\n",
      "Epoch 93: val_accuracy did not improve from 0.77922\n",
      "\n",
      "Epoch 94: val_accuracy did not improve from 0.77922\n",
      "\n",
      "Epoch 95: val_accuracy did not improve from 0.77922\n",
      "\n",
      "Epoch 96: val_accuracy did not improve from 0.77922\n",
      "\n",
      "Epoch 97: val_accuracy did not improve from 0.77922\n",
      "\n",
      "Epoch 98: val_accuracy did not improve from 0.77922\n",
      "\n",
      "Epoch 99: val_accuracy did not improve from 0.77922\n",
      "\n",
      "Epoch 100: val_accuracy did not improve from 0.77922\n",
      "\n",
      "Epoch 101: val_accuracy did not improve from 0.77922\n",
      "\n",
      "Epoch 102: val_accuracy did not improve from 0.77922\n",
      "\n",
      "Epoch 103: val_accuracy did not improve from 0.77922\n",
      "\n",
      "Epoch 104: val_accuracy did not improve from 0.77922\n",
      "\n",
      "Epoch 105: val_accuracy did not improve from 0.77922\n",
      "\n",
      "Epoch 106: val_accuracy did not improve from 0.77922\n",
      "\n",
      "Epoch 107: val_accuracy did not improve from 0.77922\n",
      "\n",
      "Epoch 108: val_accuracy did not improve from 0.77922\n",
      "\n",
      "Epoch 109: val_accuracy did not improve from 0.77922\n",
      "\n",
      "Epoch 110: val_accuracy did not improve from 0.77922\n",
      "\n",
      "Epoch 111: val_accuracy did not improve from 0.77922\n",
      "\n",
      "Epoch 112: val_accuracy did not improve from 0.77922\n",
      "\n",
      "Epoch 113: val_accuracy did not improve from 0.77922\n",
      "\n",
      "Epoch 114: val_accuracy did not improve from 0.77922\n",
      "\n",
      "Epoch 115: val_accuracy did not improve from 0.77922\n",
      "\n",
      "Epoch 116: val_accuracy did not improve from 0.77922\n",
      "\n",
      "Epoch 117: val_accuracy did not improve from 0.77922\n",
      "\n",
      "Epoch 118: val_accuracy did not improve from 0.77922\n",
      "\n",
      "Epoch 119: val_accuracy did not improve from 0.77922\n",
      "\n",
      "Epoch 120: val_accuracy did not improve from 0.77922\n",
      "\n",
      "Epoch 121: val_accuracy did not improve from 0.77922\n",
      "\n",
      "Epoch 122: val_accuracy did not improve from 0.77922\n",
      "\n",
      "Epoch 123: val_accuracy did not improve from 0.77922\n",
      "\n",
      "Epoch 124: val_accuracy did not improve from 0.77922\n",
      "\n",
      "Epoch 125: val_accuracy did not improve from 0.77922\n",
      "\n",
      "Epoch 126: val_accuracy did not improve from 0.77922\n",
      "\n",
      "Epoch 127: val_accuracy did not improve from 0.77922\n",
      "\n",
      "Epoch 128: val_accuracy did not improve from 0.77922\n",
      "\n",
      "Epoch 129: val_accuracy did not improve from 0.77922\n",
      "\n",
      "Epoch 130: val_accuracy improved from 0.77922 to 0.78571, saving model to ./saved_models/early_stopping\\best_model.keras\n",
      "\n",
      "Epoch 131: val_accuracy did not improve from 0.78571\n",
      "\n",
      "Epoch 132: val_accuracy did not improve from 0.78571\n",
      "\n",
      "Epoch 133: val_accuracy did not improve from 0.78571\n",
      "\n",
      "Epoch 134: val_accuracy did not improve from 0.78571\n",
      "\n",
      "Epoch 135: val_accuracy did not improve from 0.78571\n",
      "\n",
      "Epoch 136: val_accuracy did not improve from 0.78571\n",
      "\n",
      "Epoch 137: val_accuracy did not improve from 0.78571\n",
      "\n",
      "Epoch 138: val_accuracy did not improve from 0.78571\n",
      "\n",
      "Epoch 139: val_accuracy did not improve from 0.78571\n",
      "\n",
      "Epoch 140: val_accuracy did not improve from 0.78571\n",
      "\n",
      "Epoch 141: val_accuracy did not improve from 0.78571\n",
      "\n",
      "Epoch 142: val_accuracy did not improve from 0.78571\n",
      "\n",
      "Epoch 143: val_accuracy did not improve from 0.78571\n",
      "\n",
      "Epoch 144: val_accuracy did not improve from 0.78571\n",
      "\n",
      "Epoch 145: val_accuracy did not improve from 0.78571\n",
      "\n",
      "Epoch 146: val_accuracy did not improve from 0.78571\n",
      "\n",
      "Epoch 147: val_accuracy did not improve from 0.78571\n",
      "\n",
      "Epoch 148: val_accuracy did not improve from 0.78571\n",
      "\n",
      "Epoch 149: val_accuracy did not improve from 0.78571\n",
      "\n",
      "Epoch 150: val_accuracy did not improve from 0.78571\n",
      "\n",
      "Epoch 151: val_accuracy did not improve from 0.78571\n",
      "\n",
      "Epoch 152: val_accuracy did not improve from 0.78571\n",
      "\n",
      "Epoch 153: val_accuracy did not improve from 0.78571\n",
      "\n",
      "Epoch 154: val_accuracy did not improve from 0.78571\n",
      "\n",
      "Epoch 155: val_accuracy did not improve from 0.78571\n",
      "\n",
      "Epoch 156: val_accuracy did not improve from 0.78571\n",
      "\n",
      "Epoch 157: val_accuracy did not improve from 0.78571\n",
      "\n",
      "Epoch 158: val_accuracy did not improve from 0.78571\n",
      "\n",
      "Epoch 159: val_accuracy did not improve from 0.78571\n",
      "\n",
      "Epoch 160: val_accuracy did not improve from 0.78571\n",
      "\n",
      "Epoch 161: val_accuracy did not improve from 0.78571\n",
      "\n",
      "Epoch 162: val_accuracy did not improve from 0.78571\n",
      "\n",
      "Epoch 163: val_accuracy did not improve from 0.78571\n",
      "\n",
      "Epoch 164: val_accuracy did not improve from 0.78571\n",
      "\n",
      "Epoch 165: val_accuracy did not improve from 0.78571\n",
      "\n",
      "Epoch 166: val_accuracy did not improve from 0.78571\n",
      "\n",
      "Epoch 167: val_accuracy did not improve from 0.78571\n",
      "\n",
      "Epoch 168: val_accuracy did not improve from 0.78571\n",
      "\n",
      "Epoch 169: val_accuracy did not improve from 0.78571\n",
      "\n",
      "Epoch 170: val_accuracy did not improve from 0.78571\n",
      "\n",
      "Epoch 171: val_accuracy did not improve from 0.78571\n",
      "\n",
      "Epoch 172: val_accuracy did not improve from 0.78571\n",
      "\n",
      "Epoch 173: val_accuracy did not improve from 0.78571\n",
      "\n",
      "Epoch 174: val_accuracy did not improve from 0.78571\n",
      "\n",
      "Epoch 175: val_accuracy did not improve from 0.78571\n",
      "\n",
      "Epoch 176: val_accuracy did not improve from 0.78571\n",
      "\n",
      "Epoch 177: val_accuracy did not improve from 0.78571\n",
      "\n",
      "Epoch 178: val_accuracy did not improve from 0.78571\n",
      "\n",
      "Epoch 179: val_accuracy did not improve from 0.78571\n",
      "\n",
      "Epoch 180: val_accuracy did not improve from 0.78571\n",
      "\n",
      "Epoch 181: val_accuracy did not improve from 0.78571\n",
      "\n",
      "Epoch 182: val_accuracy did not improve from 0.78571\n",
      "\n",
      "Epoch 183: val_accuracy did not improve from 0.78571\n",
      "\n",
      "Epoch 184: val_accuracy did not improve from 0.78571\n",
      "\n",
      "Epoch 185: val_accuracy did not improve from 0.78571\n",
      "\n",
      "Epoch 186: val_accuracy did not improve from 0.78571\n",
      "\n",
      "Epoch 187: val_accuracy did not improve from 0.78571\n",
      "\n",
      "Epoch 188: val_accuracy did not improve from 0.78571\n",
      "\n",
      "Epoch 189: val_accuracy did not improve from 0.78571\n",
      "\n",
      "Epoch 190: val_accuracy did not improve from 0.78571\n",
      "\n",
      "Epoch 191: val_accuracy did not improve from 0.78571\n",
      "\n",
      "Epoch 192: val_accuracy did not improve from 0.78571\n",
      "\n",
      "Epoch 193: val_accuracy did not improve from 0.78571\n",
      "\n",
      "Epoch 194: val_accuracy did not improve from 0.78571\n",
      "\n",
      "Epoch 195: val_accuracy did not improve from 0.78571\n",
      "\n",
      "Epoch 196: val_accuracy did not improve from 0.78571\n",
      "\n",
      "Epoch 197: val_accuracy did not improve from 0.78571\n",
      "\n",
      "Epoch 198: val_accuracy did not improve from 0.78571\n",
      "\n",
      "Epoch 199: val_accuracy did not improve from 0.78571\n",
      "\n",
      "Epoch 200: val_accuracy did not improve from 0.78571\n",
      "\n",
      "Epoch 201: val_accuracy did not improve from 0.78571\n",
      "\n",
      "Epoch 202: val_accuracy did not improve from 0.78571\n",
      "\n",
      "Epoch 203: val_accuracy did not improve from 0.78571\n",
      "\n",
      "Epoch 204: val_accuracy did not improve from 0.78571\n",
      "\n",
      "Epoch 205: val_accuracy did not improve from 0.78571\n",
      "\n",
      "Epoch 206: val_accuracy did not improve from 0.78571\n",
      "\n",
      "Epoch 207: val_accuracy did not improve from 0.78571\n",
      "\n",
      "Epoch 208: val_accuracy did not improve from 0.78571\n",
      "\n",
      "Epoch 209: val_accuracy did not improve from 0.78571\n",
      "\n",
      "Epoch 210: val_accuracy did not improve from 0.78571\n",
      "\n",
      "Epoch 211: val_accuracy did not improve from 0.78571\n",
      "\n",
      "Epoch 212: val_accuracy did not improve from 0.78571\n",
      "\n",
      "Epoch 213: val_accuracy did not improve from 0.78571\n",
      "\n",
      "Epoch 214: val_accuracy did not improve from 0.78571\n",
      "\n",
      "Epoch 215: val_accuracy did not improve from 0.78571\n",
      "\n",
      "Epoch 216: val_accuracy did not improve from 0.78571\n",
      "\n",
      "Epoch 217: val_accuracy improved from 0.78571 to 0.79221, saving model to ./saved_models/early_stopping\\best_model.keras\n",
      "\n",
      "Epoch 218: val_accuracy did not improve from 0.79221\n",
      "\n",
      "Epoch 219: val_accuracy did not improve from 0.79221\n",
      "\n",
      "Epoch 220: val_accuracy did not improve from 0.79221\n",
      "\n",
      "Epoch 221: val_accuracy did not improve from 0.79221\n",
      "\n",
      "Epoch 222: val_accuracy did not improve from 0.79221\n",
      "\n",
      "Epoch 223: val_accuracy did not improve from 0.79221\n",
      "\n",
      "Epoch 224: val_accuracy did not improve from 0.79221\n",
      "\n",
      "Epoch 225: val_accuracy did not improve from 0.79221\n",
      "\n",
      "Epoch 226: val_accuracy did not improve from 0.79221\n",
      "\n",
      "Epoch 227: val_accuracy did not improve from 0.79221\n",
      "\n",
      "Epoch 228: val_accuracy did not improve from 0.79221\n",
      "\n",
      "Epoch 229: val_accuracy did not improve from 0.79221\n",
      "\n",
      "Epoch 230: val_accuracy did not improve from 0.79221\n",
      "\n",
      "Epoch 231: val_accuracy did not improve from 0.79221\n",
      "\n",
      "Epoch 232: val_accuracy did not improve from 0.79221\n",
      "\n",
      "Epoch 233: val_accuracy did not improve from 0.79221\n",
      "\n",
      "Epoch 234: val_accuracy did not improve from 0.79221\n",
      "\n",
      "Epoch 235: val_accuracy did not improve from 0.79221\n",
      "\n",
      "Epoch 236: val_accuracy did not improve from 0.79221\n",
      "\n",
      "Epoch 237: val_accuracy did not improve from 0.79221\n",
      "\n",
      "Epoch 238: val_accuracy did not improve from 0.79221\n",
      "\n",
      "Epoch 239: val_accuracy did not improve from 0.79221\n",
      "\n",
      "Epoch 240: val_accuracy did not improve from 0.79221\n",
      "\n",
      "Epoch 241: val_accuracy did not improve from 0.79221\n",
      "\n",
      "Epoch 242: val_accuracy did not improve from 0.79221\n",
      "\n",
      "Epoch 243: val_accuracy did not improve from 0.79221\n",
      "\n",
      "Epoch 244: val_accuracy did not improve from 0.79221\n",
      "\n",
      "Epoch 245: val_accuracy did not improve from 0.79221\n",
      "\n",
      "Epoch 246: val_accuracy did not improve from 0.79221\n",
      "\n",
      "Epoch 247: val_accuracy did not improve from 0.79221\n",
      "\n",
      "Epoch 248: val_accuracy did not improve from 0.79221\n",
      "\n",
      "Epoch 249: val_accuracy did not improve from 0.79221\n",
      "\n",
      "Epoch 250: val_accuracy did not improve from 0.79221\n",
      "\n",
      "Epoch 251: val_accuracy did not improve from 0.79221\n",
      "\n",
      "Epoch 252: val_accuracy did not improve from 0.79221\n",
      "\n",
      "Epoch 253: val_accuracy did not improve from 0.79221\n",
      "\n",
      "Epoch 254: val_accuracy did not improve from 0.79221\n",
      "\n",
      "Epoch 255: val_accuracy did not improve from 0.79221\n",
      "\n",
      "Epoch 256: val_accuracy did not improve from 0.79221\n",
      "\n",
      "Epoch 257: val_accuracy did not improve from 0.79221\n",
      "\n",
      "Epoch 258: val_accuracy improved from 0.79221 to 0.79870, saving model to ./saved_models/early_stopping\\best_model.keras\n",
      "\n",
      "Epoch 259: val_accuracy did not improve from 0.79870\n",
      "\n",
      "Epoch 260: val_accuracy did not improve from 0.79870\n",
      "\n",
      "Epoch 261: val_accuracy did not improve from 0.79870\n",
      "\n",
      "Epoch 262: val_accuracy did not improve from 0.79870\n",
      "\n",
      "Epoch 263: val_accuracy did not improve from 0.79870\n",
      "\n",
      "Epoch 264: val_accuracy did not improve from 0.79870\n",
      "\n",
      "Epoch 265: val_accuracy did not improve from 0.79870\n",
      "\n",
      "Epoch 266: val_accuracy did not improve from 0.79870\n",
      "\n",
      "Epoch 267: val_accuracy did not improve from 0.79870\n",
      "\n",
      "Epoch 268: val_accuracy did not improve from 0.79870\n",
      "\n",
      "Epoch 269: val_accuracy did not improve from 0.79870\n",
      "\n",
      "Epoch 270: val_accuracy did not improve from 0.79870\n",
      "\n",
      "Epoch 271: val_accuracy did not improve from 0.79870\n",
      "\n",
      "Epoch 272: val_accuracy did not improve from 0.79870\n",
      "\n",
      "Epoch 273: val_accuracy did not improve from 0.79870\n",
      "\n",
      "Epoch 274: val_accuracy did not improve from 0.79870\n",
      "\n",
      "Epoch 275: val_accuracy did not improve from 0.79870\n",
      "\n",
      "Epoch 276: val_accuracy did not improve from 0.79870\n",
      "\n",
      "Epoch 277: val_accuracy did not improve from 0.79870\n",
      "\n",
      "Epoch 278: val_accuracy did not improve from 0.79870\n",
      "\n",
      "Epoch 279: val_accuracy did not improve from 0.79870\n",
      "\n",
      "Epoch 280: val_accuracy did not improve from 0.79870\n",
      "\n",
      "Epoch 281: val_accuracy did not improve from 0.79870\n",
      "\n",
      "Epoch 282: val_accuracy did not improve from 0.79870\n",
      "\n",
      "Epoch 283: val_accuracy did not improve from 0.79870\n",
      "\n",
      "Epoch 284: val_accuracy did not improve from 0.79870\n",
      "\n",
      "Epoch 285: val_accuracy did not improve from 0.79870\n",
      "\n",
      "Epoch 286: val_accuracy did not improve from 0.79870\n",
      "\n",
      "Epoch 287: val_accuracy did not improve from 0.79870\n",
      "\n",
      "Epoch 288: val_accuracy did not improve from 0.79870\n",
      "\n",
      "Epoch 289: val_accuracy did not improve from 0.79870\n",
      "\n",
      "Epoch 290: val_accuracy did not improve from 0.79870\n",
      "\n",
      "Epoch 291: val_accuracy did not improve from 0.79870\n",
      "\n",
      "Epoch 292: val_accuracy did not improve from 0.79870\n",
      "\n",
      "Epoch 293: val_accuracy did not improve from 0.79870\n",
      "\n",
      "Epoch 294: val_accuracy did not improve from 0.79870\n",
      "\n",
      "Epoch 295: val_accuracy did not improve from 0.79870\n",
      "\n",
      "Epoch 296: val_accuracy did not improve from 0.79870\n",
      "\n",
      "Epoch 297: val_accuracy did not improve from 0.79870\n",
      "\n",
      "Epoch 298: val_accuracy did not improve from 0.79870\n",
      "\n",
      "Epoch 299: val_accuracy did not improve from 0.79870\n",
      "\n",
      "Epoch 300: val_accuracy did not improve from 0.79870\n",
      "\n",
      "Epoch 301: val_accuracy did not improve from 0.79870\n",
      "\n",
      "Epoch 302: val_accuracy did not improve from 0.79870\n",
      "\n",
      "Epoch 303: val_accuracy did not improve from 0.79870\n",
      "\n",
      "Epoch 304: val_accuracy did not improve from 0.79870\n",
      "\n",
      "Epoch 305: val_accuracy did not improve from 0.79870\n",
      "\n",
      "Epoch 306: val_accuracy did not improve from 0.79870\n",
      "\n",
      "Epoch 307: val_accuracy did not improve from 0.79870\n",
      "\n",
      "Epoch 308: val_accuracy did not improve from 0.79870\n",
      "\n",
      "Epoch 309: val_accuracy did not improve from 0.79870\n",
      "\n",
      "Epoch 310: val_accuracy did not improve from 0.79870\n",
      "\n",
      "Epoch 311: val_accuracy did not improve from 0.79870\n",
      "\n",
      "Epoch 312: val_accuracy did not improve from 0.79870\n",
      "\n",
      "Epoch 313: val_accuracy did not improve from 0.79870\n",
      "\n",
      "Epoch 314: val_accuracy did not improve from 0.79870\n",
      "\n",
      "Epoch 315: val_accuracy did not improve from 0.79870\n",
      "\n",
      "Epoch 316: val_accuracy did not improve from 0.79870\n",
      "\n",
      "Epoch 317: val_accuracy did not improve from 0.79870\n",
      "\n",
      "Epoch 318: val_accuracy did not improve from 0.79870\n",
      "\n",
      "Epoch 319: val_accuracy did not improve from 0.79870\n",
      "\n",
      "Epoch 320: val_accuracy did not improve from 0.79870\n",
      "\n",
      "Epoch 321: val_accuracy did not improve from 0.79870\n",
      "\n",
      "Epoch 322: val_accuracy did not improve from 0.79870\n",
      "\n",
      "Epoch 323: val_accuracy did not improve from 0.79870\n",
      "\n",
      "Epoch 324: val_accuracy did not improve from 0.79870\n",
      "\n",
      "Epoch 325: val_accuracy did not improve from 0.79870\n",
      "\n",
      "Epoch 326: val_accuracy did not improve from 0.79870\n",
      "\n",
      "Epoch 327: val_accuracy did not improve from 0.79870\n",
      "\n",
      "Epoch 328: val_accuracy did not improve from 0.79870\n",
      "\n",
      "Epoch 329: val_accuracy did not improve from 0.79870\n",
      "\n",
      "Epoch 330: val_accuracy did not improve from 0.79870\n",
      "\n",
      "Epoch 331: val_accuracy did not improve from 0.79870\n",
      "\n",
      "Epoch 332: val_accuracy did not improve from 0.79870\n",
      "\n",
      "Epoch 333: val_accuracy did not improve from 0.79870\n",
      "\n",
      "Epoch 334: val_accuracy did not improve from 0.79870\n",
      "\n",
      "Epoch 335: val_accuracy did not improve from 0.79870\n",
      "\n",
      "Epoch 336: val_accuracy did not improve from 0.79870\n",
      "\n",
      "Epoch 337: val_accuracy did not improve from 0.79870\n",
      "\n",
      "Epoch 338: val_accuracy did not improve from 0.79870\n",
      "\n",
      "Epoch 339: val_accuracy did not improve from 0.79870\n",
      "\n",
      "Epoch 340: val_accuracy did not improve from 0.79870\n",
      "\n",
      "Epoch 341: val_accuracy did not improve from 0.79870\n",
      "\n",
      "Epoch 342: val_accuracy did not improve from 0.79870\n",
      "\n",
      "Epoch 343: val_accuracy did not improve from 0.79870\n",
      "\n",
      "Epoch 344: val_accuracy did not improve from 0.79870\n",
      "\n",
      "Epoch 345: val_accuracy did not improve from 0.79870\n",
      "\n",
      "Epoch 346: val_accuracy did not improve from 0.79870\n",
      "\n",
      "Epoch 347: val_accuracy did not improve from 0.79870\n",
      "\n",
      "Epoch 348: val_accuracy did not improve from 0.79870\n",
      "\n",
      "Epoch 349: val_accuracy did not improve from 0.79870\n",
      "\n",
      "Epoch 350: val_accuracy did not improve from 0.79870\n",
      "\n",
      "Epoch 351: val_accuracy did not improve from 0.79870\n",
      "\n",
      "Epoch 352: val_accuracy did not improve from 0.79870\n",
      "\n",
      "Epoch 353: val_accuracy did not improve from 0.79870\n",
      "\n",
      "Epoch 354: val_accuracy did not improve from 0.79870\n",
      "\n",
      "Epoch 355: val_accuracy did not improve from 0.79870\n",
      "\n",
      "Epoch 356: val_accuracy did not improve from 0.79870\n",
      "\n",
      "Epoch 357: val_accuracy did not improve from 0.79870\n",
      "\n",
      "Epoch 358: val_accuracy did not improve from 0.79870\n",
      "\n",
      "Epoch 359: val_accuracy did not improve from 0.79870\n",
      "\n",
      "Epoch 360: val_accuracy did not improve from 0.79870\n",
      "\n",
      "Epoch 361: val_accuracy did not improve from 0.79870\n",
      "\n",
      "Epoch 362: val_accuracy did not improve from 0.79870\n",
      "\n",
      "Epoch 363: val_accuracy did not improve from 0.79870\n",
      "\n",
      "Epoch 364: val_accuracy did not improve from 0.79870\n",
      "\n",
      "Epoch 365: val_accuracy did not improve from 0.79870\n",
      "\n",
      "Epoch 366: val_accuracy did not improve from 0.79870\n",
      "\n",
      "Epoch 367: val_accuracy did not improve from 0.79870\n",
      "\n",
      "Epoch 368: val_accuracy did not improve from 0.79870\n",
      "\n",
      "Epoch 369: val_accuracy did not improve from 0.79870\n",
      "\n",
      "Epoch 370: val_accuracy did not improve from 0.79870\n",
      "\n",
      "Epoch 371: val_accuracy did not improve from 0.79870\n",
      "\n",
      "Epoch 372: val_accuracy did not improve from 0.79870\n",
      "\n",
      "Epoch 373: val_accuracy did not improve from 0.79870\n",
      "\n",
      "Epoch 374: val_accuracy did not improve from 0.79870\n",
      "\n",
      "Epoch 375: val_accuracy did not improve from 0.79870\n",
      "\n",
      "Epoch 376: val_accuracy did not improve from 0.79870\n",
      "\n",
      "Epoch 377: val_accuracy did not improve from 0.79870\n",
      "\n",
      "Epoch 378: val_accuracy did not improve from 0.79870\n",
      "\n",
      "Epoch 379: val_accuracy did not improve from 0.79870\n",
      "\n",
      "Epoch 380: val_accuracy did not improve from 0.79870\n",
      "\n",
      "Epoch 381: val_accuracy did not improve from 0.79870\n",
      "\n",
      "Epoch 382: val_accuracy did not improve from 0.79870\n",
      "\n",
      "Epoch 383: val_accuracy did not improve from 0.79870\n",
      "\n",
      "Epoch 384: val_accuracy did not improve from 0.79870\n",
      "\n",
      "Epoch 385: val_accuracy did not improve from 0.79870\n",
      "\n",
      "Epoch 386: val_accuracy did not improve from 0.79870\n",
      "\n",
      "Epoch 387: val_accuracy did not improve from 0.79870\n",
      "\n",
      "Epoch 388: val_accuracy did not improve from 0.79870\n",
      "\n",
      "Epoch 389: val_accuracy did not improve from 0.79870\n",
      "\n",
      "Epoch 390: val_accuracy did not improve from 0.79870\n",
      "\n",
      "Epoch 391: val_accuracy did not improve from 0.79870\n",
      "\n",
      "Epoch 392: val_accuracy did not improve from 0.79870\n",
      "\n",
      "Epoch 393: val_accuracy did not improve from 0.79870\n",
      "\n",
      "Epoch 394: val_accuracy did not improve from 0.79870\n",
      "\n",
      "Epoch 395: val_accuracy did not improve from 0.79870\n",
      "\n",
      "Epoch 396: val_accuracy did not improve from 0.79870\n",
      "\n",
      "Epoch 397: val_accuracy did not improve from 0.79870\n",
      "\n",
      "Epoch 398: val_accuracy did not improve from 0.79870\n",
      "\n",
      "Epoch 399: val_accuracy did not improve from 0.79870\n",
      "\n",
      "Epoch 400: val_accuracy did not improve from 0.79870\n",
      "\n",
      "Epoch 401: val_accuracy did not improve from 0.79870\n",
      "\n",
      "Epoch 402: val_accuracy did not improve from 0.79870\n",
      "\n",
      "Epoch 403: val_accuracy did not improve from 0.79870\n",
      "\n",
      "Epoch 404: val_accuracy did not improve from 0.79870\n",
      "\n",
      "Epoch 405: val_accuracy did not improve from 0.79870\n",
      "\n",
      "Epoch 406: val_accuracy did not improve from 0.79870\n",
      "\n",
      "Epoch 407: val_accuracy did not improve from 0.79870\n",
      "\n",
      "Epoch 408: val_accuracy did not improve from 0.79870\n",
      "\n",
      "Epoch 409: val_accuracy did not improve from 0.79870\n",
      "\n",
      "Epoch 410: val_accuracy did not improve from 0.79870\n",
      "\n",
      "Epoch 411: val_accuracy did not improve from 0.79870\n",
      "\n",
      "Epoch 412: val_accuracy did not improve from 0.79870\n",
      "\n",
      "Epoch 413: val_accuracy did not improve from 0.79870\n",
      "\n",
      "Epoch 414: val_accuracy did not improve from 0.79870\n",
      "\n",
      "Epoch 415: val_accuracy did not improve from 0.79870\n",
      "\n",
      "Epoch 416: val_accuracy did not improve from 0.79870\n",
      "\n",
      "Epoch 417: val_accuracy did not improve from 0.79870\n",
      "\n",
      "Epoch 418: val_accuracy did not improve from 0.79870\n",
      "\n",
      "Epoch 419: val_accuracy did not improve from 0.79870\n",
      "\n",
      "Epoch 420: val_accuracy did not improve from 0.79870\n",
      "\n",
      "Epoch 421: val_accuracy did not improve from 0.79870\n",
      "\n",
      "Epoch 422: val_accuracy did not improve from 0.79870\n",
      "\n",
      "Epoch 423: val_accuracy did not improve from 0.79870\n",
      "\n",
      "Epoch 424: val_accuracy did not improve from 0.79870\n",
      "\n",
      "Epoch 425: val_accuracy did not improve from 0.79870\n",
      "\n",
      "Epoch 426: val_accuracy improved from 0.79870 to 0.80519, saving model to ./saved_models/early_stopping\\best_model.keras\n",
      "\n",
      "Epoch 427: val_accuracy did not improve from 0.80519\n",
      "\n",
      "Epoch 428: val_accuracy did not improve from 0.80519\n",
      "\n",
      "Epoch 429: val_accuracy did not improve from 0.80519\n",
      "\n",
      "Epoch 430: val_accuracy did not improve from 0.80519\n",
      "\n",
      "Epoch 431: val_accuracy did not improve from 0.80519\n",
      "\n",
      "Epoch 432: val_accuracy did not improve from 0.80519\n",
      "\n",
      "Epoch 433: val_accuracy did not improve from 0.80519\n",
      "\n",
      "Epoch 434: val_accuracy did not improve from 0.80519\n",
      "\n",
      "Epoch 435: val_accuracy did not improve from 0.80519\n",
      "\n",
      "Epoch 436: val_accuracy did not improve from 0.80519\n",
      "Epoch 436: early stopping\n",
      "20/20 [==============================] - 0s 11ms/step - loss: 0.4281 - accuracy: 0.7866\n",
      "[0.4281240999698639, 0.7866449356079102]\n",
      "5/5 [==============================] - 0s 13ms/step - loss: 0.4605 - accuracy: 0.8052\n",
      "[0.4605293869972229, 0.8051947951316833]\n"
     ]
    }
   ],
   "source": [
    "# with early stopping\n",
    "model = Sequential()\n",
    "model.add(Dense(500, input_shape = (8, ), activation='relu'))\n",
    "model.add(Dense(1, activation = 'sigmoid'))\n",
    "model.compile(optimizer = 'SGD', loss = 'binary_crossentropy', metrics = 'accuracy')\n",
    "es = EarlyStopping(monitor = 'val_loss', mode = 'min', patience = 30, verbose = 1)\n",
    "mc = ModelCheckpoint('./saved_models/early_stopping/best_model.keras', monitor = 'val_accuracy', mode = 'max', save_best_only=True, verbose = 1)\n",
    "es_his = model.fit(xtrain, ytrain, epochs = 4000, batch_size = 70, callbacks = [es, mc], validation_data = (xtest, ytest), verbose = 0)\n",
    "\n",
    "# evaluating on train set\n",
    "print(model.evaluate(xtrain, ytrain))\n",
    "#evaluating on test set\n",
    "print(model.evaluate(xtest, ytest))"
   ]
  },
  {
   "cell_type": "markdown",
   "metadata": {},
   "source": [
    "the training was stopped at after 436th epoch"
   ]
  },
  {
   "cell_type": "code",
   "execution_count": 15,
   "metadata": {},
   "outputs": [
    {
     "name": "stdout",
     "output_type": "stream",
     "text": [
      "20/20 [==============================] - 2s 21ms/step - loss: 0.4287 - accuracy: 0.7883\n",
      "[0.4286772310733795, 0.7882736325263977]\n",
      "5/5 [==============================] - 0s 15ms/step - loss: 0.4606 - accuracy: 0.8052\n",
      "[0.4605841636657715, 0.8051947951316833]\n"
     ]
    }
   ],
   "source": [
    "model = load_model('./saved_models/early_stopping/best_model.keras')\n",
    "# evaluating on train set\n",
    "print(model.evaluate(xtrain, ytrain))\n",
    "#evaluating on test set\n",
    "print(model.evaluate(xtest, ytest))"
   ]
  },
  {
   "cell_type": "markdown",
   "metadata": {},
   "source": [
    "## model checkpoint\n",
    "    keras.callbacks.ModelCheckpoint()\n",
    "    saving the training process so that even if the model training stopped suddenly, the progress won't be lost."
   ]
  },
  {
   "cell_type": "code",
   "execution_count": 14,
   "metadata": {},
   "outputs": [
    {
     "name": "stdout",
     "output_type": "stream",
     "text": [
      "\n",
      "Epoch 1: accuracy improved from -inf to 0.44951, saving model to ./saved_models/model_checkpoint/best_model_only\\best_model.keras\n",
      "\n",
      "Epoch 2: accuracy improved from 0.44951 to 0.68078, saving model to ./saved_models/model_checkpoint/best_model_only\\best_model.keras\n",
      "\n",
      "Epoch 3: accuracy did not improve from 0.68078\n",
      "\n",
      "Epoch 4: accuracy did not improve from 0.68078\n",
      "\n",
      "Epoch 5: accuracy did not improve from 0.68078\n",
      "\n",
      "Epoch 6: accuracy did not improve from 0.68078\n",
      "\n",
      "Epoch 7: accuracy did not improve from 0.68078\n",
      "\n",
      "Epoch 8: accuracy did not improve from 0.68078\n",
      "\n",
      "Epoch 9: accuracy improved from 0.68078 to 0.68567, saving model to ./saved_models/model_checkpoint/best_model_only\\best_model.keras\n",
      "\n",
      "Epoch 10: accuracy did not improve from 0.68567\n",
      "\n",
      "Epoch 11: accuracy improved from 0.68567 to 0.68730, saving model to ./saved_models/model_checkpoint/best_model_only\\best_model.keras\n",
      "\n",
      "Epoch 12: accuracy did not improve from 0.68730\n",
      "\n",
      "Epoch 13: accuracy improved from 0.68730 to 0.69870, saving model to ./saved_models/model_checkpoint/best_model_only\\best_model.keras\n",
      "\n",
      "Epoch 14: accuracy did not improve from 0.69870\n",
      "\n",
      "Epoch 15: accuracy improved from 0.69870 to 0.70521, saving model to ./saved_models/model_checkpoint/best_model_only\\best_model.keras\n",
      "\n",
      "Epoch 16: accuracy did not improve from 0.70521\n",
      "\n",
      "Epoch 17: accuracy improved from 0.70521 to 0.71010, saving model to ./saved_models/model_checkpoint/best_model_only\\best_model.keras\n",
      "\n",
      "Epoch 18: accuracy improved from 0.71010 to 0.72313, saving model to ./saved_models/model_checkpoint/best_model_only\\best_model.keras\n",
      "\n",
      "Epoch 19: accuracy did not improve from 0.72313\n",
      "\n",
      "Epoch 20: accuracy did not improve from 0.72313\n",
      "\n",
      "Epoch 21: accuracy improved from 0.72313 to 0.72476, saving model to ./saved_models/model_checkpoint/best_model_only\\best_model.keras\n",
      "\n",
      "Epoch 22: accuracy did not improve from 0.72476\n",
      "\n",
      "Epoch 23: accuracy did not improve from 0.72476\n",
      "\n",
      "Epoch 24: accuracy improved from 0.72476 to 0.72638, saving model to ./saved_models/model_checkpoint/best_model_only\\best_model.keras\n",
      "\n",
      "Epoch 25: accuracy did not improve from 0.72638\n",
      "\n",
      "Epoch 26: accuracy did not improve from 0.72638\n",
      "\n",
      "Epoch 27: accuracy did not improve from 0.72638\n",
      "\n",
      "Epoch 28: accuracy did not improve from 0.72638\n",
      "\n",
      "Epoch 29: accuracy improved from 0.72638 to 0.72801, saving model to ./saved_models/model_checkpoint/best_model_only\\best_model.keras\n",
      "\n",
      "Epoch 30: accuracy did not improve from 0.72801\n",
      "\n",
      "Epoch 31: accuracy did not improve from 0.72801\n",
      "\n",
      "Epoch 32: accuracy improved from 0.72801 to 0.72964, saving model to ./saved_models/model_checkpoint/best_model_only\\best_model.keras\n",
      "\n",
      "Epoch 33: accuracy improved from 0.72964 to 0.73127, saving model to ./saved_models/model_checkpoint/best_model_only\\best_model.keras\n",
      "\n",
      "Epoch 34: accuracy did not improve from 0.73127\n",
      "\n",
      "Epoch 35: accuracy did not improve from 0.73127\n",
      "\n",
      "Epoch 36: accuracy did not improve from 0.73127\n",
      "\n",
      "Epoch 37: accuracy did not improve from 0.73127\n",
      "\n",
      "Epoch 38: accuracy did not improve from 0.73127\n",
      "\n",
      "Epoch 39: accuracy did not improve from 0.73127\n",
      "\n",
      "Epoch 40: accuracy did not improve from 0.73127\n",
      "\n",
      "Epoch 41: accuracy did not improve from 0.73127\n",
      "\n",
      "Epoch 42: accuracy improved from 0.73127 to 0.73290, saving model to ./saved_models/model_checkpoint/best_model_only\\best_model.keras\n",
      "\n",
      "Epoch 43: accuracy did not improve from 0.73290\n",
      "\n",
      "Epoch 44: accuracy did not improve from 0.73290\n",
      "\n",
      "Epoch 45: accuracy did not improve from 0.73290\n",
      "\n",
      "Epoch 46: accuracy did not improve from 0.73290\n",
      "\n",
      "Epoch 47: accuracy did not improve from 0.73290\n",
      "\n",
      "Epoch 48: accuracy improved from 0.73290 to 0.73616, saving model to ./saved_models/model_checkpoint/best_model_only\\best_model.keras\n",
      "\n",
      "Epoch 49: accuracy did not improve from 0.73616\n",
      "\n",
      "Epoch 50: accuracy did not improve from 0.73616\n",
      "\n",
      "Epoch 51: accuracy did not improve from 0.73616\n",
      "\n",
      "Epoch 52: accuracy did not improve from 0.73616\n",
      "\n",
      "Epoch 53: accuracy improved from 0.73616 to 0.74104, saving model to ./saved_models/model_checkpoint/best_model_only\\best_model.keras\n",
      "\n",
      "Epoch 54: accuracy did not improve from 0.74104\n",
      "\n",
      "Epoch 55: accuracy did not improve from 0.74104\n",
      "\n",
      "Epoch 56: accuracy did not improve from 0.74104\n",
      "\n",
      "Epoch 57: accuracy improved from 0.74104 to 0.74267, saving model to ./saved_models/model_checkpoint/best_model_only\\best_model.keras\n",
      "\n",
      "Epoch 58: accuracy did not improve from 0.74267\n",
      "\n",
      "Epoch 59: accuracy did not improve from 0.74267\n",
      "\n",
      "Epoch 60: accuracy improved from 0.74267 to 0.74593, saving model to ./saved_models/model_checkpoint/best_model_only\\best_model.keras\n",
      "\n",
      "Epoch 61: accuracy improved from 0.74593 to 0.74919, saving model to ./saved_models/model_checkpoint/best_model_only\\best_model.keras\n",
      "\n",
      "Epoch 62: accuracy did not improve from 0.74919\n",
      "\n",
      "Epoch 63: accuracy improved from 0.74919 to 0.75244, saving model to ./saved_models/model_checkpoint/best_model_only\\best_model.keras\n",
      "\n",
      "Epoch 64: accuracy improved from 0.75244 to 0.75570, saving model to ./saved_models/model_checkpoint/best_model_only\\best_model.keras\n",
      "\n",
      "Epoch 65: accuracy did not improve from 0.75570\n",
      "\n",
      "Epoch 66: accuracy improved from 0.75570 to 0.75896, saving model to ./saved_models/model_checkpoint/best_model_only\\best_model.keras\n",
      "\n",
      "Epoch 67: accuracy improved from 0.75896 to 0.76384, saving model to ./saved_models/model_checkpoint/best_model_only\\best_model.keras\n",
      "\n",
      "Epoch 68: accuracy improved from 0.76384 to 0.76547, saving model to ./saved_models/model_checkpoint/best_model_only\\best_model.keras\n",
      "\n",
      "Epoch 69: accuracy did not improve from 0.76547\n",
      "\n",
      "Epoch 70: accuracy did not improve from 0.76547\n",
      "\n",
      "Epoch 71: accuracy did not improve from 0.76547\n",
      "\n",
      "Epoch 72: accuracy did not improve from 0.76547\n",
      "\n",
      "Epoch 73: accuracy did not improve from 0.76547\n",
      "\n",
      "Epoch 74: accuracy improved from 0.76547 to 0.76710, saving model to ./saved_models/model_checkpoint/best_model_only\\best_model.keras\n",
      "\n",
      "Epoch 75: accuracy did not improve from 0.76710\n",
      "\n",
      "Epoch 76: accuracy improved from 0.76710 to 0.76873, saving model to ./saved_models/model_checkpoint/best_model_only\\best_model.keras\n",
      "\n",
      "Epoch 77: accuracy did not improve from 0.76873\n",
      "\n",
      "Epoch 78: accuracy improved from 0.76873 to 0.77199, saving model to ./saved_models/model_checkpoint/best_model_only\\best_model.keras\n",
      "\n",
      "Epoch 79: accuracy improved from 0.77199 to 0.77362, saving model to ./saved_models/model_checkpoint/best_model_only\\best_model.keras\n",
      "\n",
      "Epoch 80: accuracy did not improve from 0.77362\n",
      "\n",
      "Epoch 81: accuracy did not improve from 0.77362\n",
      "\n",
      "Epoch 82: accuracy did not improve from 0.77362\n",
      "\n",
      "Epoch 83: accuracy improved from 0.77362 to 0.77524, saving model to ./saved_models/model_checkpoint/best_model_only\\best_model.keras\n",
      "\n",
      "Epoch 84: accuracy did not improve from 0.77524\n",
      "\n",
      "Epoch 85: accuracy did not improve from 0.77524\n",
      "\n",
      "Epoch 86: accuracy did not improve from 0.77524\n",
      "\n",
      "Epoch 87: accuracy did not improve from 0.77524\n",
      "\n",
      "Epoch 88: accuracy did not improve from 0.77524\n",
      "\n",
      "Epoch 89: accuracy did not improve from 0.77524\n",
      "\n",
      "Epoch 90: accuracy did not improve from 0.77524\n",
      "\n",
      "Epoch 91: accuracy did not improve from 0.77524\n",
      "\n",
      "Epoch 92: accuracy did not improve from 0.77524\n",
      "\n",
      "Epoch 93: accuracy did not improve from 0.77524\n",
      "\n",
      "Epoch 94: accuracy did not improve from 0.77524\n",
      "\n",
      "Epoch 95: accuracy did not improve from 0.77524\n",
      "\n",
      "Epoch 96: accuracy did not improve from 0.77524\n",
      "\n",
      "Epoch 97: accuracy did not improve from 0.77524\n",
      "\n",
      "Epoch 98: accuracy did not improve from 0.77524\n",
      "\n",
      "Epoch 99: accuracy did not improve from 0.77524\n",
      "\n",
      "Epoch 100: accuracy did not improve from 0.77524\n",
      "\n",
      "Epoch 101: accuracy did not improve from 0.77524\n",
      "\n",
      "Epoch 102: accuracy did not improve from 0.77524\n",
      "\n",
      "Epoch 103: accuracy did not improve from 0.77524\n",
      "\n",
      "Epoch 104: accuracy did not improve from 0.77524\n",
      "\n",
      "Epoch 105: accuracy did not improve from 0.77524\n",
      "\n",
      "Epoch 106: accuracy did not improve from 0.77524\n",
      "\n",
      "Epoch 107: accuracy improved from 0.77524 to 0.77687, saving model to ./saved_models/model_checkpoint/best_model_only\\best_model.keras\n",
      "\n",
      "Epoch 108: accuracy improved from 0.77687 to 0.77850, saving model to ./saved_models/model_checkpoint/best_model_only\\best_model.keras\n",
      "\n",
      "Epoch 109: accuracy did not improve from 0.77850\n",
      "\n",
      "Epoch 110: accuracy did not improve from 0.77850\n",
      "\n",
      "Epoch 111: accuracy improved from 0.77850 to 0.78176, saving model to ./saved_models/model_checkpoint/best_model_only\\best_model.keras\n",
      "\n",
      "Epoch 112: accuracy did not improve from 0.78176\n",
      "\n",
      "Epoch 113: accuracy did not improve from 0.78176\n",
      "\n",
      "Epoch 114: accuracy did not improve from 0.78176\n",
      "\n",
      "Epoch 115: accuracy did not improve from 0.78176\n",
      "\n",
      "Epoch 116: accuracy did not improve from 0.78176\n",
      "\n",
      "Epoch 117: accuracy did not improve from 0.78176\n",
      "\n",
      "Epoch 118: accuracy did not improve from 0.78176\n",
      "\n",
      "Epoch 119: accuracy did not improve from 0.78176\n",
      "\n",
      "Epoch 120: accuracy did not improve from 0.78176\n",
      "\n",
      "Epoch 121: accuracy did not improve from 0.78176\n",
      "\n",
      "Epoch 122: accuracy did not improve from 0.78176\n",
      "\n",
      "Epoch 123: accuracy did not improve from 0.78176\n",
      "\n",
      "Epoch 124: accuracy did not improve from 0.78176\n",
      "\n",
      "Epoch 125: accuracy did not improve from 0.78176\n",
      "\n",
      "Epoch 126: accuracy did not improve from 0.78176\n",
      "\n",
      "Epoch 127: accuracy did not improve from 0.78176\n",
      "\n",
      "Epoch 128: accuracy did not improve from 0.78176\n",
      "\n",
      "Epoch 129: accuracy did not improve from 0.78176\n",
      "\n",
      "Epoch 130: accuracy did not improve from 0.78176\n",
      "\n",
      "Epoch 131: accuracy did not improve from 0.78176\n",
      "\n",
      "Epoch 132: accuracy did not improve from 0.78176\n",
      "\n",
      "Epoch 133: accuracy did not improve from 0.78176\n",
      "\n",
      "Epoch 134: accuracy did not improve from 0.78176\n",
      "\n",
      "Epoch 135: accuracy did not improve from 0.78176\n",
      "\n",
      "Epoch 136: accuracy did not improve from 0.78176\n",
      "\n",
      "Epoch 137: accuracy did not improve from 0.78176\n",
      "\n",
      "Epoch 138: accuracy did not improve from 0.78176\n",
      "\n",
      "Epoch 139: accuracy did not improve from 0.78176\n",
      "\n",
      "Epoch 140: accuracy did not improve from 0.78176\n",
      "\n",
      "Epoch 141: accuracy did not improve from 0.78176\n",
      "\n",
      "Epoch 142: accuracy did not improve from 0.78176\n",
      "\n",
      "Epoch 143: accuracy did not improve from 0.78176\n",
      "\n",
      "Epoch 144: accuracy did not improve from 0.78176\n",
      "\n",
      "Epoch 145: accuracy did not improve from 0.78176\n",
      "\n",
      "Epoch 146: accuracy did not improve from 0.78176\n",
      "\n",
      "Epoch 147: accuracy did not improve from 0.78176\n",
      "\n",
      "Epoch 148: accuracy did not improve from 0.78176\n",
      "\n",
      "Epoch 149: accuracy did not improve from 0.78176\n",
      "\n",
      "Epoch 150: accuracy did not improve from 0.78176\n",
      "\n",
      "Epoch 151: accuracy did not improve from 0.78176\n",
      "\n",
      "Epoch 152: accuracy did not improve from 0.78176\n",
      "\n",
      "Epoch 153: accuracy did not improve from 0.78176\n",
      "\n",
      "Epoch 154: accuracy did not improve from 0.78176\n",
      "\n",
      "Epoch 155: accuracy did not improve from 0.78176\n",
      "\n",
      "Epoch 156: accuracy did not improve from 0.78176\n",
      "\n",
      "Epoch 157: accuracy did not improve from 0.78176\n",
      "\n",
      "Epoch 158: accuracy did not improve from 0.78176\n",
      "\n",
      "Epoch 159: accuracy did not improve from 0.78176\n",
      "\n",
      "Epoch 160: accuracy did not improve from 0.78176\n",
      "\n",
      "Epoch 161: accuracy did not improve from 0.78176\n",
      "\n",
      "Epoch 162: accuracy did not improve from 0.78176\n",
      "\n",
      "Epoch 163: accuracy did not improve from 0.78176\n",
      "\n",
      "Epoch 164: accuracy did not improve from 0.78176\n",
      "\n",
      "Epoch 165: accuracy did not improve from 0.78176\n",
      "\n",
      "Epoch 166: accuracy did not improve from 0.78176\n",
      "\n",
      "Epoch 167: accuracy did not improve from 0.78176\n",
      "\n",
      "Epoch 168: accuracy did not improve from 0.78176\n",
      "\n",
      "Epoch 169: accuracy did not improve from 0.78176\n",
      "\n",
      "Epoch 170: accuracy did not improve from 0.78176\n",
      "\n",
      "Epoch 171: accuracy did not improve from 0.78176\n",
      "\n",
      "Epoch 172: accuracy did not improve from 0.78176\n",
      "\n",
      "Epoch 173: accuracy did not improve from 0.78176\n",
      "\n",
      "Epoch 174: accuracy did not improve from 0.78176\n",
      "\n",
      "Epoch 175: accuracy did not improve from 0.78176\n",
      "\n",
      "Epoch 176: accuracy did not improve from 0.78176\n",
      "\n",
      "Epoch 177: accuracy did not improve from 0.78176\n",
      "\n",
      "Epoch 178: accuracy did not improve from 0.78176\n",
      "\n",
      "Epoch 179: accuracy did not improve from 0.78176\n",
      "\n",
      "Epoch 180: accuracy did not improve from 0.78176\n",
      "\n",
      "Epoch 181: accuracy did not improve from 0.78176\n",
      "\n",
      "Epoch 182: accuracy did not improve from 0.78176\n",
      "\n",
      "Epoch 183: accuracy did not improve from 0.78176\n",
      "\n",
      "Epoch 184: accuracy did not improve from 0.78176\n",
      "\n",
      "Epoch 185: accuracy did not improve from 0.78176\n",
      "\n",
      "Epoch 186: accuracy did not improve from 0.78176\n",
      "\n",
      "Epoch 187: accuracy did not improve from 0.78176\n",
      "\n",
      "Epoch 188: accuracy did not improve from 0.78176\n",
      "\n",
      "Epoch 189: accuracy did not improve from 0.78176\n",
      "\n",
      "Epoch 190: accuracy did not improve from 0.78176\n",
      "\n",
      "Epoch 191: accuracy did not improve from 0.78176\n",
      "\n",
      "Epoch 192: accuracy did not improve from 0.78176\n",
      "\n",
      "Epoch 193: accuracy did not improve from 0.78176\n",
      "\n",
      "Epoch 194: accuracy did not improve from 0.78176\n",
      "\n",
      "Epoch 195: accuracy did not improve from 0.78176\n",
      "\n",
      "Epoch 196: accuracy did not improve from 0.78176\n",
      "\n",
      "Epoch 197: accuracy did not improve from 0.78176\n",
      "\n",
      "Epoch 198: accuracy did not improve from 0.78176\n",
      "\n",
      "Epoch 199: accuracy did not improve from 0.78176\n",
      "\n",
      "Epoch 200: accuracy did not improve from 0.78176\n",
      "\n",
      "Epoch 201: accuracy did not improve from 0.78176\n",
      "\n",
      "Epoch 202: accuracy did not improve from 0.78176\n",
      "\n",
      "Epoch 203: accuracy did not improve from 0.78176\n",
      "\n",
      "Epoch 204: accuracy did not improve from 0.78176\n",
      "\n",
      "Epoch 205: accuracy did not improve from 0.78176\n",
      "\n",
      "Epoch 206: accuracy did not improve from 0.78176\n",
      "\n",
      "Epoch 207: accuracy did not improve from 0.78176\n",
      "\n",
      "Epoch 208: accuracy did not improve from 0.78176\n",
      "\n",
      "Epoch 209: accuracy did not improve from 0.78176\n",
      "\n",
      "Epoch 210: accuracy did not improve from 0.78176\n",
      "\n",
      "Epoch 211: accuracy did not improve from 0.78176\n",
      "\n",
      "Epoch 212: accuracy did not improve from 0.78176\n",
      "\n",
      "Epoch 213: accuracy did not improve from 0.78176\n",
      "\n",
      "Epoch 214: accuracy did not improve from 0.78176\n",
      "\n",
      "Epoch 215: accuracy improved from 0.78176 to 0.78339, saving model to ./saved_models/model_checkpoint/best_model_only\\best_model.keras\n",
      "\n",
      "Epoch 216: accuracy did not improve from 0.78339\n",
      "\n",
      "Epoch 217: accuracy did not improve from 0.78339\n",
      "\n",
      "Epoch 218: accuracy did not improve from 0.78339\n",
      "\n",
      "Epoch 219: accuracy did not improve from 0.78339\n",
      "\n",
      "Epoch 220: accuracy did not improve from 0.78339\n",
      "\n",
      "Epoch 221: accuracy did not improve from 0.78339\n",
      "\n",
      "Epoch 222: accuracy did not improve from 0.78339\n",
      "\n",
      "Epoch 223: accuracy did not improve from 0.78339\n",
      "\n",
      "Epoch 224: accuracy did not improve from 0.78339\n",
      "\n",
      "Epoch 225: accuracy did not improve from 0.78339\n",
      "\n",
      "Epoch 226: accuracy did not improve from 0.78339\n",
      "\n",
      "Epoch 227: accuracy did not improve from 0.78339\n",
      "\n",
      "Epoch 228: accuracy did not improve from 0.78339\n",
      "\n",
      "Epoch 229: accuracy did not improve from 0.78339\n",
      "\n",
      "Epoch 230: accuracy did not improve from 0.78339\n",
      "\n",
      "Epoch 231: accuracy did not improve from 0.78339\n",
      "\n",
      "Epoch 232: accuracy did not improve from 0.78339\n",
      "\n",
      "Epoch 233: accuracy did not improve from 0.78339\n",
      "\n",
      "Epoch 234: accuracy did not improve from 0.78339\n",
      "\n",
      "Epoch 235: accuracy did not improve from 0.78339\n",
      "\n",
      "Epoch 236: accuracy did not improve from 0.78339\n",
      "\n",
      "Epoch 237: accuracy did not improve from 0.78339\n",
      "\n",
      "Epoch 238: accuracy did not improve from 0.78339\n",
      "\n",
      "Epoch 239: accuracy did not improve from 0.78339\n",
      "\n",
      "Epoch 240: accuracy did not improve from 0.78339\n",
      "\n",
      "Epoch 241: accuracy did not improve from 0.78339\n",
      "\n",
      "Epoch 242: accuracy did not improve from 0.78339\n",
      "\n",
      "Epoch 243: accuracy did not improve from 0.78339\n",
      "\n",
      "Epoch 244: accuracy did not improve from 0.78339\n",
      "\n",
      "Epoch 245: accuracy did not improve from 0.78339\n",
      "\n",
      "Epoch 246: accuracy did not improve from 0.78339\n",
      "\n",
      "Epoch 247: accuracy did not improve from 0.78339\n",
      "\n",
      "Epoch 248: accuracy did not improve from 0.78339\n",
      "\n",
      "Epoch 249: accuracy did not improve from 0.78339\n",
      "\n",
      "Epoch 250: accuracy did not improve from 0.78339\n",
      "\n",
      "Epoch 251: accuracy did not improve from 0.78339\n",
      "\n",
      "Epoch 252: accuracy did not improve from 0.78339\n",
      "\n",
      "Epoch 253: accuracy did not improve from 0.78339\n",
      "\n",
      "Epoch 254: accuracy did not improve from 0.78339\n",
      "\n",
      "Epoch 255: accuracy did not improve from 0.78339\n",
      "\n",
      "Epoch 256: accuracy did not improve from 0.78339\n",
      "\n",
      "Epoch 257: accuracy did not improve from 0.78339\n",
      "\n",
      "Epoch 258: accuracy did not improve from 0.78339\n",
      "\n",
      "Epoch 259: accuracy did not improve from 0.78339\n",
      "\n",
      "Epoch 260: accuracy did not improve from 0.78339\n",
      "\n",
      "Epoch 261: accuracy did not improve from 0.78339\n",
      "\n",
      "Epoch 262: accuracy did not improve from 0.78339\n",
      "\n",
      "Epoch 263: accuracy did not improve from 0.78339\n",
      "\n",
      "Epoch 264: accuracy did not improve from 0.78339\n",
      "\n",
      "Epoch 265: accuracy did not improve from 0.78339\n",
      "\n",
      "Epoch 266: accuracy did not improve from 0.78339\n",
      "\n",
      "Epoch 267: accuracy did not improve from 0.78339\n",
      "\n",
      "Epoch 268: accuracy did not improve from 0.78339\n",
      "\n",
      "Epoch 269: accuracy did not improve from 0.78339\n",
      "\n",
      "Epoch 270: accuracy did not improve from 0.78339\n",
      "\n",
      "Epoch 271: accuracy did not improve from 0.78339\n",
      "\n",
      "Epoch 272: accuracy did not improve from 0.78339\n",
      "\n",
      "Epoch 273: accuracy did not improve from 0.78339\n",
      "\n",
      "Epoch 274: accuracy did not improve from 0.78339\n",
      "\n",
      "Epoch 275: accuracy did not improve from 0.78339\n",
      "\n",
      "Epoch 276: accuracy did not improve from 0.78339\n",
      "\n",
      "Epoch 277: accuracy did not improve from 0.78339\n",
      "\n",
      "Epoch 278: accuracy did not improve from 0.78339\n",
      "\n",
      "Epoch 279: accuracy did not improve from 0.78339\n",
      "\n",
      "Epoch 280: accuracy did not improve from 0.78339\n",
      "\n",
      "Epoch 281: accuracy did not improve from 0.78339\n",
      "\n",
      "Epoch 282: accuracy did not improve from 0.78339\n",
      "\n",
      "Epoch 283: accuracy did not improve from 0.78339\n",
      "\n",
      "Epoch 284: accuracy did not improve from 0.78339\n",
      "\n",
      "Epoch 285: accuracy did not improve from 0.78339\n",
      "\n",
      "Epoch 286: accuracy did not improve from 0.78339\n",
      "\n",
      "Epoch 287: accuracy did not improve from 0.78339\n",
      "\n",
      "Epoch 288: accuracy did not improve from 0.78339\n",
      "\n",
      "Epoch 289: accuracy did not improve from 0.78339\n",
      "\n",
      "Epoch 290: accuracy did not improve from 0.78339\n",
      "\n",
      "Epoch 291: accuracy did not improve from 0.78339\n",
      "\n",
      "Epoch 292: accuracy did not improve from 0.78339\n",
      "\n",
      "Epoch 293: accuracy did not improve from 0.78339\n",
      "\n",
      "Epoch 294: accuracy did not improve from 0.78339\n",
      "\n",
      "Epoch 295: accuracy did not improve from 0.78339\n",
      "\n",
      "Epoch 296: accuracy did not improve from 0.78339\n",
      "\n",
      "Epoch 297: accuracy did not improve from 0.78339\n",
      "\n",
      "Epoch 298: accuracy did not improve from 0.78339\n",
      "\n",
      "Epoch 299: accuracy did not improve from 0.78339\n",
      "\n",
      "Epoch 300: accuracy did not improve from 0.78339\n",
      "\n",
      "Epoch 301: accuracy did not improve from 0.78339\n",
      "\n",
      "Epoch 302: accuracy did not improve from 0.78339\n",
      "\n",
      "Epoch 303: accuracy did not improve from 0.78339\n",
      "\n",
      "Epoch 304: accuracy did not improve from 0.78339\n",
      "\n",
      "Epoch 305: accuracy did not improve from 0.78339\n",
      "\n",
      "Epoch 306: accuracy did not improve from 0.78339\n",
      "\n",
      "Epoch 307: accuracy did not improve from 0.78339\n",
      "\n",
      "Epoch 308: accuracy did not improve from 0.78339\n",
      "\n",
      "Epoch 309: accuracy did not improve from 0.78339\n",
      "\n",
      "Epoch 310: accuracy did not improve from 0.78339\n",
      "\n",
      "Epoch 311: accuracy did not improve from 0.78339\n",
      "\n",
      "Epoch 312: accuracy did not improve from 0.78339\n",
      "\n",
      "Epoch 313: accuracy did not improve from 0.78339\n",
      "\n",
      "Epoch 314: accuracy did not improve from 0.78339\n",
      "\n",
      "Epoch 315: accuracy did not improve from 0.78339\n",
      "\n",
      "Epoch 316: accuracy did not improve from 0.78339\n",
      "\n",
      "Epoch 317: accuracy did not improve from 0.78339\n",
      "\n",
      "Epoch 318: accuracy did not improve from 0.78339\n",
      "\n",
      "Epoch 319: accuracy did not improve from 0.78339\n",
      "\n",
      "Epoch 320: accuracy did not improve from 0.78339\n",
      "\n",
      "Epoch 321: accuracy did not improve from 0.78339\n",
      "\n",
      "Epoch 322: accuracy improved from 0.78339 to 0.78502, saving model to ./saved_models/model_checkpoint/best_model_only\\best_model.keras\n",
      "\n",
      "Epoch 323: accuracy did not improve from 0.78502\n",
      "\n",
      "Epoch 324: accuracy did not improve from 0.78502\n",
      "\n",
      "Epoch 325: accuracy did not improve from 0.78502\n",
      "\n",
      "Epoch 326: accuracy did not improve from 0.78502\n",
      "\n",
      "Epoch 327: accuracy did not improve from 0.78502\n",
      "\n",
      "Epoch 328: accuracy did not improve from 0.78502\n",
      "\n",
      "Epoch 329: accuracy did not improve from 0.78502\n",
      "\n",
      "Epoch 330: accuracy did not improve from 0.78502\n",
      "\n",
      "Epoch 331: accuracy did not improve from 0.78502\n",
      "\n",
      "Epoch 332: accuracy did not improve from 0.78502\n",
      "\n",
      "Epoch 333: accuracy did not improve from 0.78502\n",
      "\n",
      "Epoch 334: accuracy did not improve from 0.78502\n",
      "\n",
      "Epoch 335: accuracy did not improve from 0.78502\n",
      "\n",
      "Epoch 336: accuracy did not improve from 0.78502\n",
      "\n",
      "Epoch 337: accuracy did not improve from 0.78502\n",
      "\n",
      "Epoch 338: accuracy did not improve from 0.78502\n",
      "\n",
      "Epoch 339: accuracy did not improve from 0.78502\n",
      "\n",
      "Epoch 340: accuracy did not improve from 0.78502\n",
      "\n",
      "Epoch 341: accuracy did not improve from 0.78502\n",
      "\n",
      "Epoch 342: accuracy did not improve from 0.78502\n",
      "\n",
      "Epoch 343: accuracy did not improve from 0.78502\n",
      "\n",
      "Epoch 344: accuracy did not improve from 0.78502\n",
      "\n",
      "Epoch 345: accuracy did not improve from 0.78502\n",
      "\n",
      "Epoch 346: accuracy did not improve from 0.78502\n",
      "\n",
      "Epoch 347: accuracy did not improve from 0.78502\n",
      "\n",
      "Epoch 348: accuracy did not improve from 0.78502\n",
      "\n",
      "Epoch 349: accuracy did not improve from 0.78502\n",
      "\n",
      "Epoch 350: accuracy did not improve from 0.78502\n",
      "\n",
      "Epoch 351: accuracy did not improve from 0.78502\n",
      "\n",
      "Epoch 352: accuracy did not improve from 0.78502\n",
      "\n",
      "Epoch 353: accuracy did not improve from 0.78502\n",
      "\n",
      "Epoch 354: accuracy did not improve from 0.78502\n",
      "\n",
      "Epoch 355: accuracy did not improve from 0.78502\n",
      "\n",
      "Epoch 356: accuracy did not improve from 0.78502\n",
      "\n",
      "Epoch 357: accuracy did not improve from 0.78502\n",
      "\n",
      "Epoch 358: accuracy did not improve from 0.78502\n",
      "\n",
      "Epoch 359: accuracy did not improve from 0.78502\n",
      "\n",
      "Epoch 360: accuracy did not improve from 0.78502\n",
      "\n",
      "Epoch 361: accuracy did not improve from 0.78502\n",
      "\n",
      "Epoch 362: accuracy did not improve from 0.78502\n",
      "\n",
      "Epoch 363: accuracy did not improve from 0.78502\n",
      "\n",
      "Epoch 364: accuracy did not improve from 0.78502\n",
      "\n",
      "Epoch 365: accuracy did not improve from 0.78502\n",
      "\n",
      "Epoch 366: accuracy did not improve from 0.78502\n",
      "\n",
      "Epoch 367: accuracy did not improve from 0.78502\n",
      "\n",
      "Epoch 368: accuracy did not improve from 0.78502\n",
      "\n",
      "Epoch 369: accuracy did not improve from 0.78502\n",
      "\n",
      "Epoch 370: accuracy did not improve from 0.78502\n",
      "\n",
      "Epoch 371: accuracy did not improve from 0.78502\n",
      "\n",
      "Epoch 372: accuracy did not improve from 0.78502\n",
      "\n",
      "Epoch 373: accuracy did not improve from 0.78502\n",
      "\n",
      "Epoch 374: accuracy did not improve from 0.78502\n",
      "\n",
      "Epoch 375: accuracy did not improve from 0.78502\n",
      "\n",
      "Epoch 376: accuracy did not improve from 0.78502\n",
      "\n",
      "Epoch 377: accuracy did not improve from 0.78502\n",
      "\n",
      "Epoch 378: accuracy did not improve from 0.78502\n",
      "\n",
      "Epoch 379: accuracy did not improve from 0.78502\n",
      "\n",
      "Epoch 380: accuracy did not improve from 0.78502\n",
      "\n",
      "Epoch 381: accuracy did not improve from 0.78502\n",
      "\n",
      "Epoch 382: accuracy did not improve from 0.78502\n",
      "\n",
      "Epoch 383: accuracy did not improve from 0.78502\n",
      "\n",
      "Epoch 384: accuracy did not improve from 0.78502\n",
      "\n",
      "Epoch 385: accuracy did not improve from 0.78502\n",
      "\n",
      "Epoch 386: accuracy did not improve from 0.78502\n",
      "\n",
      "Epoch 387: accuracy did not improve from 0.78502\n",
      "\n",
      "Epoch 388: accuracy did not improve from 0.78502\n",
      "\n",
      "Epoch 389: accuracy did not improve from 0.78502\n",
      "\n",
      "Epoch 390: accuracy did not improve from 0.78502\n",
      "\n",
      "Epoch 391: accuracy did not improve from 0.78502\n",
      "\n",
      "Epoch 392: accuracy did not improve from 0.78502\n",
      "\n",
      "Epoch 393: accuracy did not improve from 0.78502\n",
      "\n",
      "Epoch 394: accuracy did not improve from 0.78502\n",
      "\n",
      "Epoch 395: accuracy did not improve from 0.78502\n",
      "\n",
      "Epoch 396: accuracy did not improve from 0.78502\n",
      "\n",
      "Epoch 397: accuracy did not improve from 0.78502\n",
      "\n",
      "Epoch 398: accuracy did not improve from 0.78502\n",
      "\n",
      "Epoch 399: accuracy did not improve from 0.78502\n",
      "\n",
      "Epoch 400: accuracy did not improve from 0.78502\n",
      "\n",
      "Epoch 401: accuracy did not improve from 0.78502\n",
      "\n",
      "Epoch 402: accuracy did not improve from 0.78502\n",
      "\n",
      "Epoch 403: accuracy did not improve from 0.78502\n",
      "\n",
      "Epoch 404: accuracy did not improve from 0.78502\n",
      "\n",
      "Epoch 405: accuracy did not improve from 0.78502\n",
      "\n",
      "Epoch 406: accuracy did not improve from 0.78502\n",
      "\n",
      "Epoch 407: accuracy did not improve from 0.78502\n",
      "\n",
      "Epoch 408: accuracy did not improve from 0.78502\n",
      "\n",
      "Epoch 409: accuracy did not improve from 0.78502\n",
      "\n",
      "Epoch 410: accuracy did not improve from 0.78502\n",
      "\n",
      "Epoch 411: accuracy did not improve from 0.78502\n",
      "\n",
      "Epoch 412: accuracy did not improve from 0.78502\n",
      "\n",
      "Epoch 413: accuracy did not improve from 0.78502\n",
      "\n",
      "Epoch 414: accuracy did not improve from 0.78502\n",
      "\n",
      "Epoch 415: accuracy did not improve from 0.78502\n",
      "\n",
      "Epoch 416: accuracy did not improve from 0.78502\n",
      "\n",
      "Epoch 417: accuracy did not improve from 0.78502\n",
      "\n",
      "Epoch 418: accuracy did not improve from 0.78502\n",
      "\n",
      "Epoch 419: accuracy did not improve from 0.78502\n",
      "\n",
      "Epoch 420: accuracy did not improve from 0.78502\n",
      "\n",
      "Epoch 421: accuracy did not improve from 0.78502\n",
      "\n",
      "Epoch 422: accuracy did not improve from 0.78502\n",
      "\n",
      "Epoch 423: accuracy did not improve from 0.78502\n",
      "\n",
      "Epoch 424: accuracy did not improve from 0.78502\n",
      "\n",
      "Epoch 425: accuracy did not improve from 0.78502\n",
      "\n",
      "Epoch 426: accuracy did not improve from 0.78502\n",
      "\n",
      "Epoch 427: accuracy did not improve from 0.78502\n",
      "\n",
      "Epoch 428: accuracy did not improve from 0.78502\n",
      "\n",
      "Epoch 429: accuracy did not improve from 0.78502\n",
      "\n",
      "Epoch 430: accuracy did not improve from 0.78502\n",
      "\n",
      "Epoch 431: accuracy did not improve from 0.78502\n",
      "\n",
      "Epoch 432: accuracy did not improve from 0.78502\n",
      "\n",
      "Epoch 433: accuracy did not improve from 0.78502\n",
      "\n",
      "Epoch 434: accuracy did not improve from 0.78502\n",
      "\n",
      "Epoch 435: accuracy did not improve from 0.78502\n",
      "\n",
      "Epoch 436: accuracy did not improve from 0.78502\n",
      "\n",
      "Epoch 437: accuracy did not improve from 0.78502\n",
      "\n",
      "Epoch 438: accuracy did not improve from 0.78502\n",
      "\n",
      "Epoch 439: accuracy did not improve from 0.78502\n",
      "\n",
      "Epoch 440: accuracy did not improve from 0.78502\n",
      "\n",
      "Epoch 441: accuracy did not improve from 0.78502\n",
      "\n",
      "Epoch 442: accuracy did not improve from 0.78502\n",
      "\n",
      "Epoch 443: accuracy did not improve from 0.78502\n",
      "\n",
      "Epoch 444: accuracy did not improve from 0.78502\n",
      "\n",
      "Epoch 445: accuracy did not improve from 0.78502\n",
      "\n",
      "Epoch 446: accuracy did not improve from 0.78502\n",
      "\n",
      "Epoch 447: accuracy did not improve from 0.78502\n",
      "\n",
      "Epoch 448: accuracy did not improve from 0.78502\n",
      "\n",
      "Epoch 449: accuracy did not improve from 0.78502\n",
      "\n",
      "Epoch 450: accuracy did not improve from 0.78502\n",
      "\n",
      "Epoch 451: accuracy did not improve from 0.78502\n",
      "\n",
      "Epoch 452: accuracy did not improve from 0.78502\n",
      "\n",
      "Epoch 453: accuracy did not improve from 0.78502\n",
      "\n",
      "Epoch 454: accuracy did not improve from 0.78502\n",
      "\n",
      "Epoch 455: accuracy did not improve from 0.78502\n",
      "\n",
      "Epoch 456: accuracy did not improve from 0.78502\n",
      "\n",
      "Epoch 457: accuracy did not improve from 0.78502\n",
      "\n",
      "Epoch 458: accuracy did not improve from 0.78502\n",
      "\n",
      "Epoch 459: accuracy did not improve from 0.78502\n",
      "\n",
      "Epoch 460: accuracy did not improve from 0.78502\n",
      "\n",
      "Epoch 461: accuracy did not improve from 0.78502\n",
      "\n",
      "Epoch 462: accuracy did not improve from 0.78502\n",
      "\n",
      "Epoch 463: accuracy did not improve from 0.78502\n",
      "\n",
      "Epoch 464: accuracy did not improve from 0.78502\n",
      "\n",
      "Epoch 465: accuracy did not improve from 0.78502\n",
      "\n",
      "Epoch 466: accuracy did not improve from 0.78502\n",
      "\n",
      "Epoch 467: accuracy did not improve from 0.78502\n",
      "\n",
      "Epoch 468: accuracy did not improve from 0.78502\n",
      "\n",
      "Epoch 469: accuracy did not improve from 0.78502\n",
      "\n",
      "Epoch 470: accuracy did not improve from 0.78502\n",
      "\n",
      "Epoch 471: accuracy did not improve from 0.78502\n",
      "\n",
      "Epoch 472: accuracy did not improve from 0.78502\n",
      "\n",
      "Epoch 473: accuracy did not improve from 0.78502\n",
      "\n",
      "Epoch 474: accuracy did not improve from 0.78502\n",
      "\n",
      "Epoch 475: accuracy did not improve from 0.78502\n",
      "\n",
      "Epoch 476: accuracy did not improve from 0.78502\n",
      "\n",
      "Epoch 477: accuracy did not improve from 0.78502\n",
      "\n",
      "Epoch 478: accuracy did not improve from 0.78502\n",
      "\n",
      "Epoch 479: accuracy did not improve from 0.78502\n",
      "\n",
      "Epoch 480: accuracy did not improve from 0.78502\n",
      "\n",
      "Epoch 481: accuracy did not improve from 0.78502\n",
      "\n",
      "Epoch 482: accuracy did not improve from 0.78502\n",
      "\n",
      "Epoch 483: accuracy did not improve from 0.78502\n",
      "\n",
      "Epoch 484: accuracy did not improve from 0.78502\n",
      "\n",
      "Epoch 485: accuracy did not improve from 0.78502\n",
      "\n",
      "Epoch 486: accuracy did not improve from 0.78502\n",
      "\n",
      "Epoch 487: accuracy did not improve from 0.78502\n",
      "\n",
      "Epoch 488: accuracy did not improve from 0.78502\n",
      "\n",
      "Epoch 489: accuracy did not improve from 0.78502\n",
      "\n",
      "Epoch 490: accuracy did not improve from 0.78502\n",
      "\n",
      "Epoch 491: accuracy did not improve from 0.78502\n",
      "\n",
      "Epoch 492: accuracy did not improve from 0.78502\n",
      "\n",
      "Epoch 493: accuracy did not improve from 0.78502\n",
      "\n",
      "Epoch 494: accuracy did not improve from 0.78502\n",
      "\n",
      "Epoch 495: accuracy did not improve from 0.78502\n",
      "\n",
      "Epoch 496: accuracy did not improve from 0.78502\n",
      "\n",
      "Epoch 497: accuracy did not improve from 0.78502\n",
      "\n",
      "Epoch 498: accuracy did not improve from 0.78502\n",
      "\n",
      "Epoch 499: accuracy did not improve from 0.78502\n",
      "\n",
      "Epoch 500: accuracy did not improve from 0.78502\n",
      "\n",
      "Epoch 501: accuracy did not improve from 0.78502\n",
      "\n",
      "Epoch 502: accuracy did not improve from 0.78502\n",
      "\n",
      "Epoch 503: accuracy did not improve from 0.78502\n",
      "\n",
      "Epoch 504: accuracy did not improve from 0.78502\n",
      "\n",
      "Epoch 505: accuracy did not improve from 0.78502\n",
      "\n",
      "Epoch 506: accuracy did not improve from 0.78502\n",
      "\n",
      "Epoch 507: accuracy did not improve from 0.78502\n",
      "\n",
      "Epoch 508: accuracy did not improve from 0.78502\n",
      "\n",
      "Epoch 509: accuracy did not improve from 0.78502\n",
      "\n",
      "Epoch 510: accuracy did not improve from 0.78502\n",
      "\n",
      "Epoch 511: accuracy did not improve from 0.78502\n",
      "\n",
      "Epoch 512: accuracy did not improve from 0.78502\n",
      "\n",
      "Epoch 513: accuracy did not improve from 0.78502\n",
      "\n",
      "Epoch 514: accuracy did not improve from 0.78502\n",
      "\n",
      "Epoch 515: accuracy did not improve from 0.78502\n",
      "\n",
      "Epoch 516: accuracy did not improve from 0.78502\n",
      "\n",
      "Epoch 517: accuracy did not improve from 0.78502\n",
      "\n",
      "Epoch 518: accuracy did not improve from 0.78502\n",
      "\n",
      "Epoch 519: accuracy did not improve from 0.78502\n",
      "\n",
      "Epoch 520: accuracy did not improve from 0.78502\n",
      "\n",
      "Epoch 521: accuracy did not improve from 0.78502\n",
      "\n",
      "Epoch 522: accuracy did not improve from 0.78502\n",
      "\n",
      "Epoch 523: accuracy did not improve from 0.78502\n",
      "\n",
      "Epoch 524: accuracy did not improve from 0.78502\n",
      "\n",
      "Epoch 525: accuracy did not improve from 0.78502\n",
      "\n",
      "Epoch 526: accuracy did not improve from 0.78502\n",
      "\n",
      "Epoch 527: accuracy did not improve from 0.78502\n",
      "\n",
      "Epoch 528: accuracy did not improve from 0.78502\n",
      "\n",
      "Epoch 529: accuracy did not improve from 0.78502\n",
      "\n",
      "Epoch 530: accuracy did not improve from 0.78502\n",
      "\n",
      "Epoch 531: accuracy did not improve from 0.78502\n",
      "\n",
      "Epoch 532: accuracy did not improve from 0.78502\n",
      "\n",
      "Epoch 533: accuracy did not improve from 0.78502\n",
      "\n",
      "Epoch 534: accuracy did not improve from 0.78502\n",
      "\n",
      "Epoch 535: accuracy did not improve from 0.78502\n",
      "\n",
      "Epoch 536: accuracy did not improve from 0.78502\n",
      "\n",
      "Epoch 537: accuracy did not improve from 0.78502\n",
      "\n",
      "Epoch 538: accuracy did not improve from 0.78502\n",
      "\n",
      "Epoch 539: accuracy did not improve from 0.78502\n",
      "\n",
      "Epoch 540: accuracy did not improve from 0.78502\n",
      "\n",
      "Epoch 541: accuracy did not improve from 0.78502\n",
      "\n",
      "Epoch 542: accuracy did not improve from 0.78502\n",
      "\n",
      "Epoch 543: accuracy did not improve from 0.78502\n",
      "\n",
      "Epoch 544: accuracy did not improve from 0.78502\n",
      "\n",
      "Epoch 545: accuracy did not improve from 0.78502\n",
      "\n",
      "Epoch 546: accuracy did not improve from 0.78502\n",
      "\n",
      "Epoch 547: accuracy did not improve from 0.78502\n",
      "\n",
      "Epoch 548: accuracy did not improve from 0.78502\n",
      "\n",
      "Epoch 549: accuracy did not improve from 0.78502\n",
      "\n",
      "Epoch 550: accuracy did not improve from 0.78502\n",
      "\n",
      "Epoch 551: accuracy did not improve from 0.78502\n",
      "\n",
      "Epoch 552: accuracy did not improve from 0.78502\n",
      "\n",
      "Epoch 553: accuracy did not improve from 0.78502\n",
      "\n",
      "Epoch 554: accuracy did not improve from 0.78502\n",
      "\n",
      "Epoch 555: accuracy did not improve from 0.78502\n",
      "\n",
      "Epoch 556: accuracy did not improve from 0.78502\n",
      "\n",
      "Epoch 557: accuracy did not improve from 0.78502\n",
      "\n",
      "Epoch 558: accuracy did not improve from 0.78502\n",
      "\n",
      "Epoch 559: accuracy did not improve from 0.78502\n",
      "\n",
      "Epoch 560: accuracy did not improve from 0.78502\n",
      "\n",
      "Epoch 561: accuracy did not improve from 0.78502\n",
      "\n",
      "Epoch 562: accuracy did not improve from 0.78502\n",
      "\n",
      "Epoch 563: accuracy did not improve from 0.78502\n",
      "\n",
      "Epoch 564: accuracy did not improve from 0.78502\n",
      "\n",
      "Epoch 565: accuracy did not improve from 0.78502\n",
      "\n",
      "Epoch 566: accuracy did not improve from 0.78502\n",
      "\n",
      "Epoch 567: accuracy did not improve from 0.78502\n",
      "\n",
      "Epoch 568: accuracy did not improve from 0.78502\n",
      "\n",
      "Epoch 569: accuracy did not improve from 0.78502\n",
      "\n",
      "Epoch 570: accuracy did not improve from 0.78502\n",
      "\n",
      "Epoch 571: accuracy did not improve from 0.78502\n",
      "\n",
      "Epoch 572: accuracy did not improve from 0.78502\n",
      "\n",
      "Epoch 573: accuracy did not improve from 0.78502\n",
      "\n",
      "Epoch 574: accuracy did not improve from 0.78502\n",
      "\n",
      "Epoch 575: accuracy did not improve from 0.78502\n",
      "\n",
      "Epoch 576: accuracy did not improve from 0.78502\n",
      "\n",
      "Epoch 577: accuracy did not improve from 0.78502\n",
      "\n",
      "Epoch 578: accuracy did not improve from 0.78502\n",
      "\n",
      "Epoch 579: accuracy did not improve from 0.78502\n",
      "\n",
      "Epoch 580: accuracy did not improve from 0.78502\n",
      "\n",
      "Epoch 581: accuracy did not improve from 0.78502\n",
      "\n",
      "Epoch 582: accuracy did not improve from 0.78502\n",
      "\n",
      "Epoch 583: accuracy did not improve from 0.78502\n",
      "\n",
      "Epoch 584: accuracy did not improve from 0.78502\n",
      "\n",
      "Epoch 585: accuracy did not improve from 0.78502\n",
      "\n",
      "Epoch 586: accuracy did not improve from 0.78502\n",
      "\n",
      "Epoch 587: accuracy did not improve from 0.78502\n",
      "\n",
      "Epoch 588: accuracy did not improve from 0.78502\n",
      "\n",
      "Epoch 589: accuracy did not improve from 0.78502\n",
      "\n",
      "Epoch 590: accuracy did not improve from 0.78502\n",
      "\n",
      "Epoch 591: accuracy did not improve from 0.78502\n",
      "\n",
      "Epoch 592: accuracy did not improve from 0.78502\n",
      "\n",
      "Epoch 593: accuracy did not improve from 0.78502\n",
      "\n",
      "Epoch 594: accuracy did not improve from 0.78502\n",
      "\n",
      "Epoch 595: accuracy did not improve from 0.78502\n",
      "\n",
      "Epoch 596: accuracy did not improve from 0.78502\n",
      "\n",
      "Epoch 597: accuracy did not improve from 0.78502\n",
      "\n",
      "Epoch 598: accuracy did not improve from 0.78502\n",
      "\n",
      "Epoch 599: accuracy did not improve from 0.78502\n",
      "\n",
      "Epoch 600: accuracy did not improve from 0.78502\n",
      "\n",
      "Epoch 601: accuracy did not improve from 0.78502\n",
      "\n",
      "Epoch 602: accuracy did not improve from 0.78502\n",
      "\n",
      "Epoch 603: accuracy did not improve from 0.78502\n",
      "\n",
      "Epoch 604: accuracy did not improve from 0.78502\n",
      "\n",
      "Epoch 605: accuracy did not improve from 0.78502\n",
      "\n",
      "Epoch 606: accuracy did not improve from 0.78502\n",
      "\n",
      "Epoch 607: accuracy did not improve from 0.78502\n",
      "\n",
      "Epoch 608: accuracy did not improve from 0.78502\n",
      "\n",
      "Epoch 609: accuracy did not improve from 0.78502\n",
      "\n",
      "Epoch 610: accuracy did not improve from 0.78502\n",
      "\n",
      "Epoch 611: accuracy did not improve from 0.78502\n",
      "\n",
      "Epoch 612: accuracy did not improve from 0.78502\n",
      "\n",
      "Epoch 613: accuracy did not improve from 0.78502\n",
      "\n",
      "Epoch 614: accuracy did not improve from 0.78502\n",
      "\n",
      "Epoch 615: accuracy did not improve from 0.78502\n",
      "\n",
      "Epoch 616: accuracy did not improve from 0.78502\n",
      "\n",
      "Epoch 617: accuracy did not improve from 0.78502\n",
      "\n",
      "Epoch 618: accuracy did not improve from 0.78502\n",
      "\n",
      "Epoch 619: accuracy did not improve from 0.78502\n",
      "\n",
      "Epoch 620: accuracy did not improve from 0.78502\n",
      "\n",
      "Epoch 621: accuracy did not improve from 0.78502\n",
      "\n",
      "Epoch 622: accuracy did not improve from 0.78502\n",
      "\n",
      "Epoch 623: accuracy did not improve from 0.78502\n",
      "\n",
      "Epoch 624: accuracy did not improve from 0.78502\n",
      "\n",
      "Epoch 625: accuracy did not improve from 0.78502\n",
      "\n",
      "Epoch 626: accuracy did not improve from 0.78502\n",
      "\n",
      "Epoch 627: accuracy did not improve from 0.78502\n",
      "\n",
      "Epoch 628: accuracy did not improve from 0.78502\n",
      "\n",
      "Epoch 629: accuracy did not improve from 0.78502\n",
      "\n",
      "Epoch 630: accuracy did not improve from 0.78502\n",
      "\n",
      "Epoch 631: accuracy did not improve from 0.78502\n",
      "\n",
      "Epoch 632: accuracy did not improve from 0.78502\n",
      "\n",
      "Epoch 633: accuracy did not improve from 0.78502\n",
      "\n",
      "Epoch 634: accuracy did not improve from 0.78502\n",
      "\n",
      "Epoch 635: accuracy did not improve from 0.78502\n",
      "\n",
      "Epoch 636: accuracy did not improve from 0.78502\n",
      "\n",
      "Epoch 637: accuracy did not improve from 0.78502\n",
      "\n",
      "Epoch 638: accuracy did not improve from 0.78502\n",
      "\n",
      "Epoch 639: accuracy did not improve from 0.78502\n",
      "\n",
      "Epoch 640: accuracy did not improve from 0.78502\n",
      "\n",
      "Epoch 641: accuracy did not improve from 0.78502\n",
      "\n",
      "Epoch 642: accuracy did not improve from 0.78502\n",
      "\n",
      "Epoch 643: accuracy did not improve from 0.78502\n",
      "\n",
      "Epoch 644: accuracy did not improve from 0.78502\n",
      "\n",
      "Epoch 645: accuracy did not improve from 0.78502\n",
      "\n",
      "Epoch 646: accuracy did not improve from 0.78502\n",
      "\n",
      "Epoch 647: accuracy did not improve from 0.78502\n",
      "\n",
      "Epoch 648: accuracy did not improve from 0.78502\n",
      "\n",
      "Epoch 649: accuracy did not improve from 0.78502\n",
      "\n",
      "Epoch 650: accuracy did not improve from 0.78502\n",
      "\n",
      "Epoch 651: accuracy did not improve from 0.78502\n",
      "\n",
      "Epoch 652: accuracy improved from 0.78502 to 0.78664, saving model to ./saved_models/model_checkpoint/best_model_only\\best_model.keras\n",
      "\n",
      "Epoch 653: accuracy did not improve from 0.78664\n",
      "\n",
      "Epoch 654: accuracy did not improve from 0.78664\n",
      "\n",
      "Epoch 655: accuracy did not improve from 0.78664\n",
      "\n",
      "Epoch 656: accuracy did not improve from 0.78664\n",
      "\n",
      "Epoch 657: accuracy did not improve from 0.78664\n",
      "\n",
      "Epoch 658: accuracy did not improve from 0.78664\n",
      "\n",
      "Epoch 659: accuracy did not improve from 0.78664\n",
      "\n",
      "Epoch 660: accuracy did not improve from 0.78664\n",
      "\n",
      "Epoch 661: accuracy did not improve from 0.78664\n",
      "\n",
      "Epoch 662: accuracy did not improve from 0.78664\n",
      "\n",
      "Epoch 663: accuracy did not improve from 0.78664\n",
      "\n",
      "Epoch 664: accuracy did not improve from 0.78664\n",
      "\n",
      "Epoch 665: accuracy did not improve from 0.78664\n",
      "\n",
      "Epoch 666: accuracy did not improve from 0.78664\n",
      "\n",
      "Epoch 667: accuracy did not improve from 0.78664\n",
      "\n",
      "Epoch 668: accuracy improved from 0.78664 to 0.78827, saving model to ./saved_models/model_checkpoint/best_model_only\\best_model.keras\n",
      "\n",
      "Epoch 669: accuracy did not improve from 0.78827\n",
      "\n",
      "Epoch 670: accuracy did not improve from 0.78827\n",
      "\n",
      "Epoch 671: accuracy did not improve from 0.78827\n",
      "\n",
      "Epoch 672: accuracy did not improve from 0.78827\n",
      "\n",
      "Epoch 673: accuracy did not improve from 0.78827\n",
      "\n",
      "Epoch 674: accuracy did not improve from 0.78827\n",
      "\n",
      "Epoch 675: accuracy did not improve from 0.78827\n",
      "\n",
      "Epoch 676: accuracy did not improve from 0.78827\n",
      "\n",
      "Epoch 677: accuracy did not improve from 0.78827\n",
      "\n",
      "Epoch 678: accuracy did not improve from 0.78827\n",
      "\n",
      "Epoch 679: accuracy did not improve from 0.78827\n",
      "\n",
      "Epoch 680: accuracy did not improve from 0.78827\n",
      "\n",
      "Epoch 681: accuracy did not improve from 0.78827\n",
      "\n",
      "Epoch 682: accuracy improved from 0.78827 to 0.78990, saving model to ./saved_models/model_checkpoint/best_model_only\\best_model.keras\n",
      "\n",
      "Epoch 683: accuracy did not improve from 0.78990\n",
      "\n",
      "Epoch 684: accuracy did not improve from 0.78990\n",
      "\n",
      "Epoch 685: accuracy did not improve from 0.78990\n",
      "\n",
      "Epoch 686: accuracy did not improve from 0.78990\n",
      "\n",
      "Epoch 687: accuracy did not improve from 0.78990\n",
      "\n",
      "Epoch 688: accuracy did not improve from 0.78990\n",
      "\n",
      "Epoch 689: accuracy did not improve from 0.78990\n",
      "\n",
      "Epoch 690: accuracy did not improve from 0.78990\n",
      "\n",
      "Epoch 691: accuracy did not improve from 0.78990\n",
      "\n",
      "Epoch 692: accuracy did not improve from 0.78990\n",
      "\n",
      "Epoch 693: accuracy did not improve from 0.78990\n",
      "\n",
      "Epoch 694: accuracy did not improve from 0.78990\n",
      "\n",
      "Epoch 695: accuracy did not improve from 0.78990\n",
      "\n",
      "Epoch 696: accuracy did not improve from 0.78990\n",
      "\n",
      "Epoch 697: accuracy did not improve from 0.78990\n",
      "\n",
      "Epoch 698: accuracy did not improve from 0.78990\n",
      "\n",
      "Epoch 699: accuracy did not improve from 0.78990\n",
      "\n",
      "Epoch 700: accuracy improved from 0.78990 to 0.79153, saving model to ./saved_models/model_checkpoint/best_model_only\\best_model.keras\n",
      "\n",
      "Epoch 701: accuracy did not improve from 0.79153\n",
      "\n",
      "Epoch 702: accuracy did not improve from 0.79153\n",
      "\n",
      "Epoch 703: accuracy improved from 0.79153 to 0.79316, saving model to ./saved_models/model_checkpoint/best_model_only\\best_model.keras\n",
      "\n",
      "Epoch 704: accuracy did not improve from 0.79316\n",
      "\n",
      "Epoch 705: accuracy did not improve from 0.79316\n",
      "\n",
      "Epoch 706: accuracy did not improve from 0.79316\n",
      "\n",
      "Epoch 707: accuracy did not improve from 0.79316\n",
      "\n",
      "Epoch 708: accuracy did not improve from 0.79316\n",
      "\n",
      "Epoch 709: accuracy did not improve from 0.79316\n",
      "\n",
      "Epoch 710: accuracy did not improve from 0.79316\n",
      "\n",
      "Epoch 711: accuracy did not improve from 0.79316\n",
      "\n",
      "Epoch 712: accuracy did not improve from 0.79316\n",
      "\n",
      "Epoch 713: accuracy did not improve from 0.79316\n",
      "\n",
      "Epoch 714: accuracy did not improve from 0.79316\n",
      "\n",
      "Epoch 715: accuracy did not improve from 0.79316\n",
      "\n",
      "Epoch 716: accuracy did not improve from 0.79316\n",
      "\n",
      "Epoch 717: accuracy did not improve from 0.79316\n",
      "\n",
      "Epoch 718: accuracy did not improve from 0.79316\n",
      "\n",
      "Epoch 719: accuracy did not improve from 0.79316\n",
      "\n",
      "Epoch 720: accuracy did not improve from 0.79316\n",
      "\n",
      "Epoch 721: accuracy did not improve from 0.79316\n",
      "\n",
      "Epoch 722: accuracy did not improve from 0.79316\n",
      "\n",
      "Epoch 723: accuracy did not improve from 0.79316\n",
      "\n",
      "Epoch 724: accuracy did not improve from 0.79316\n",
      "\n",
      "Epoch 725: accuracy did not improve from 0.79316\n",
      "\n",
      "Epoch 726: accuracy did not improve from 0.79316\n",
      "\n",
      "Epoch 727: accuracy did not improve from 0.79316\n",
      "\n",
      "Epoch 728: accuracy did not improve from 0.79316\n",
      "\n",
      "Epoch 729: accuracy did not improve from 0.79316\n",
      "\n",
      "Epoch 730: accuracy did not improve from 0.79316\n",
      "\n",
      "Epoch 731: accuracy did not improve from 0.79316\n",
      "\n",
      "Epoch 732: accuracy did not improve from 0.79316\n",
      "\n",
      "Epoch 733: accuracy did not improve from 0.79316\n",
      "\n",
      "Epoch 734: accuracy did not improve from 0.79316\n",
      "\n",
      "Epoch 735: accuracy did not improve from 0.79316\n",
      "\n",
      "Epoch 736: accuracy did not improve from 0.79316\n",
      "\n",
      "Epoch 737: accuracy did not improve from 0.79316\n",
      "\n",
      "Epoch 738: accuracy did not improve from 0.79316\n",
      "\n",
      "Epoch 739: accuracy did not improve from 0.79316\n",
      "\n",
      "Epoch 740: accuracy did not improve from 0.79316\n",
      "\n",
      "Epoch 741: accuracy did not improve from 0.79316\n",
      "\n",
      "Epoch 742: accuracy did not improve from 0.79316\n",
      "\n",
      "Epoch 743: accuracy improved from 0.79316 to 0.79479, saving model to ./saved_models/model_checkpoint/best_model_only\\best_model.keras\n",
      "\n",
      "Epoch 744: accuracy did not improve from 0.79479\n",
      "\n",
      "Epoch 745: accuracy did not improve from 0.79479\n",
      "\n",
      "Epoch 746: accuracy did not improve from 0.79479\n",
      "\n",
      "Epoch 747: accuracy did not improve from 0.79479\n",
      "\n",
      "Epoch 748: accuracy did not improve from 0.79479\n",
      "\n",
      "Epoch 749: accuracy did not improve from 0.79479\n",
      "\n",
      "Epoch 750: accuracy did not improve from 0.79479\n",
      "\n",
      "Epoch 751: accuracy did not improve from 0.79479\n",
      "\n",
      "Epoch 752: accuracy did not improve from 0.79479\n",
      "\n",
      "Epoch 753: accuracy did not improve from 0.79479\n",
      "\n",
      "Epoch 754: accuracy did not improve from 0.79479\n",
      "\n",
      "Epoch 755: accuracy improved from 0.79479 to 0.79642, saving model to ./saved_models/model_checkpoint/best_model_only\\best_model.keras\n",
      "\n",
      "Epoch 756: accuracy did not improve from 0.79642\n",
      "\n",
      "Epoch 757: accuracy did not improve from 0.79642\n",
      "\n",
      "Epoch 758: accuracy did not improve from 0.79642\n",
      "\n",
      "Epoch 759: accuracy did not improve from 0.79642\n",
      "\n",
      "Epoch 760: accuracy did not improve from 0.79642\n",
      "\n",
      "Epoch 761: accuracy did not improve from 0.79642\n",
      "\n",
      "Epoch 762: accuracy did not improve from 0.79642\n",
      "\n",
      "Epoch 763: accuracy did not improve from 0.79642\n",
      "\n",
      "Epoch 764: accuracy did not improve from 0.79642\n",
      "\n",
      "Epoch 765: accuracy did not improve from 0.79642\n",
      "\n",
      "Epoch 766: accuracy did not improve from 0.79642\n",
      "\n",
      "Epoch 767: accuracy did not improve from 0.79642\n",
      "\n",
      "Epoch 768: accuracy did not improve from 0.79642\n",
      "\n",
      "Epoch 769: accuracy did not improve from 0.79642\n",
      "\n",
      "Epoch 770: accuracy did not improve from 0.79642\n",
      "\n",
      "Epoch 771: accuracy did not improve from 0.79642\n",
      "\n",
      "Epoch 772: accuracy did not improve from 0.79642\n",
      "\n",
      "Epoch 773: accuracy did not improve from 0.79642\n",
      "\n",
      "Epoch 774: accuracy did not improve from 0.79642\n",
      "\n",
      "Epoch 775: accuracy did not improve from 0.79642\n",
      "\n",
      "Epoch 776: accuracy did not improve from 0.79642\n",
      "\n",
      "Epoch 777: accuracy did not improve from 0.79642\n",
      "\n",
      "Epoch 778: accuracy did not improve from 0.79642\n",
      "\n",
      "Epoch 779: accuracy did not improve from 0.79642\n",
      "\n",
      "Epoch 780: accuracy improved from 0.79642 to 0.79805, saving model to ./saved_models/model_checkpoint/best_model_only\\best_model.keras\n",
      "\n",
      "Epoch 781: accuracy did not improve from 0.79805\n",
      "\n",
      "Epoch 782: accuracy did not improve from 0.79805\n",
      "\n",
      "Epoch 783: accuracy did not improve from 0.79805\n",
      "\n",
      "Epoch 784: accuracy did not improve from 0.79805\n",
      "\n",
      "Epoch 785: accuracy did not improve from 0.79805\n",
      "\n",
      "Epoch 786: accuracy did not improve from 0.79805\n",
      "\n",
      "Epoch 787: accuracy did not improve from 0.79805\n",
      "\n",
      "Epoch 788: accuracy did not improve from 0.79805\n",
      "\n",
      "Epoch 789: accuracy did not improve from 0.79805\n",
      "\n",
      "Epoch 790: accuracy did not improve from 0.79805\n",
      "\n",
      "Epoch 791: accuracy did not improve from 0.79805\n",
      "\n",
      "Epoch 792: accuracy did not improve from 0.79805\n",
      "\n",
      "Epoch 793: accuracy did not improve from 0.79805\n",
      "\n",
      "Epoch 794: accuracy did not improve from 0.79805\n",
      "\n",
      "Epoch 795: accuracy did not improve from 0.79805\n",
      "\n",
      "Epoch 796: accuracy did not improve from 0.79805\n",
      "\n",
      "Epoch 797: accuracy did not improve from 0.79805\n",
      "\n",
      "Epoch 798: accuracy did not improve from 0.79805\n",
      "\n",
      "Epoch 799: accuracy did not improve from 0.79805\n",
      "\n",
      "Epoch 800: accuracy did not improve from 0.79805\n",
      "\n",
      "Epoch 801: accuracy did not improve from 0.79805\n",
      "\n",
      "Epoch 802: accuracy did not improve from 0.79805\n",
      "\n",
      "Epoch 803: accuracy did not improve from 0.79805\n",
      "\n",
      "Epoch 804: accuracy did not improve from 0.79805\n",
      "\n",
      "Epoch 805: accuracy did not improve from 0.79805\n",
      "\n",
      "Epoch 806: accuracy improved from 0.79805 to 0.79967, saving model to ./saved_models/model_checkpoint/best_model_only\\best_model.keras\n",
      "\n",
      "Epoch 807: accuracy did not improve from 0.79967\n",
      "\n",
      "Epoch 808: accuracy did not improve from 0.79967\n",
      "\n",
      "Epoch 809: accuracy did not improve from 0.79967\n",
      "\n",
      "Epoch 810: accuracy did not improve from 0.79967\n",
      "\n",
      "Epoch 811: accuracy did not improve from 0.79967\n",
      "\n",
      "Epoch 812: accuracy did not improve from 0.79967\n",
      "\n",
      "Epoch 813: accuracy did not improve from 0.79967\n",
      "\n",
      "Epoch 814: accuracy did not improve from 0.79967\n",
      "\n",
      "Epoch 815: accuracy did not improve from 0.79967\n",
      "\n",
      "Epoch 816: accuracy did not improve from 0.79967\n",
      "\n",
      "Epoch 817: accuracy did not improve from 0.79967\n",
      "\n",
      "Epoch 818: accuracy did not improve from 0.79967\n",
      "\n",
      "Epoch 819: accuracy did not improve from 0.79967\n",
      "\n",
      "Epoch 820: accuracy did not improve from 0.79967\n",
      "\n",
      "Epoch 821: accuracy improved from 0.79967 to 0.80130, saving model to ./saved_models/model_checkpoint/best_model_only\\best_model.keras\n",
      "\n",
      "Epoch 822: accuracy did not improve from 0.80130\n",
      "\n",
      "Epoch 823: accuracy did not improve from 0.80130\n",
      "\n",
      "Epoch 824: accuracy did not improve from 0.80130\n",
      "\n",
      "Epoch 825: accuracy did not improve from 0.80130\n",
      "\n",
      "Epoch 826: accuracy did not improve from 0.80130\n",
      "\n",
      "Epoch 827: accuracy did not improve from 0.80130\n",
      "\n",
      "Epoch 828: accuracy did not improve from 0.80130\n",
      "\n",
      "Epoch 829: accuracy did not improve from 0.80130\n",
      "\n",
      "Epoch 830: accuracy did not improve from 0.80130\n",
      "\n",
      "Epoch 831: accuracy did not improve from 0.80130\n",
      "\n",
      "Epoch 832: accuracy did not improve from 0.80130\n",
      "\n",
      "Epoch 833: accuracy did not improve from 0.80130\n",
      "\n",
      "Epoch 834: accuracy did not improve from 0.80130\n",
      "\n",
      "Epoch 835: accuracy did not improve from 0.80130\n",
      "\n",
      "Epoch 836: accuracy did not improve from 0.80130\n",
      "\n",
      "Epoch 837: accuracy did not improve from 0.80130\n",
      "\n",
      "Epoch 838: accuracy did not improve from 0.80130\n",
      "\n",
      "Epoch 839: accuracy did not improve from 0.80130\n",
      "\n",
      "Epoch 840: accuracy did not improve from 0.80130\n",
      "\n",
      "Epoch 841: accuracy did not improve from 0.80130\n",
      "\n",
      "Epoch 842: accuracy did not improve from 0.80130\n",
      "\n",
      "Epoch 843: accuracy did not improve from 0.80130\n",
      "\n",
      "Epoch 844: accuracy did not improve from 0.80130\n",
      "\n",
      "Epoch 845: accuracy did not improve from 0.80130\n",
      "\n",
      "Epoch 846: accuracy did not improve from 0.80130\n",
      "\n",
      "Epoch 847: accuracy did not improve from 0.80130\n",
      "\n",
      "Epoch 848: accuracy did not improve from 0.80130\n",
      "\n",
      "Epoch 849: accuracy did not improve from 0.80130\n",
      "\n",
      "Epoch 850: accuracy did not improve from 0.80130\n",
      "\n",
      "Epoch 851: accuracy did not improve from 0.80130\n",
      "\n",
      "Epoch 852: accuracy did not improve from 0.80130\n",
      "\n",
      "Epoch 853: accuracy did not improve from 0.80130\n",
      "\n",
      "Epoch 854: accuracy did not improve from 0.80130\n",
      "\n",
      "Epoch 855: accuracy did not improve from 0.80130\n",
      "\n",
      "Epoch 856: accuracy did not improve from 0.80130\n",
      "\n",
      "Epoch 857: accuracy did not improve from 0.80130\n",
      "\n",
      "Epoch 858: accuracy did not improve from 0.80130\n",
      "\n",
      "Epoch 859: accuracy did not improve from 0.80130\n",
      "\n",
      "Epoch 860: accuracy did not improve from 0.80130\n",
      "\n",
      "Epoch 861: accuracy did not improve from 0.80130\n",
      "\n",
      "Epoch 862: accuracy did not improve from 0.80130\n",
      "\n",
      "Epoch 863: accuracy did not improve from 0.80130\n",
      "\n",
      "Epoch 864: accuracy did not improve from 0.80130\n",
      "\n",
      "Epoch 865: accuracy did not improve from 0.80130\n",
      "\n",
      "Epoch 866: accuracy did not improve from 0.80130\n",
      "\n",
      "Epoch 867: accuracy did not improve from 0.80130\n",
      "\n",
      "Epoch 868: accuracy did not improve from 0.80130\n",
      "\n",
      "Epoch 869: accuracy did not improve from 0.80130\n",
      "\n",
      "Epoch 870: accuracy did not improve from 0.80130\n",
      "\n",
      "Epoch 871: accuracy did not improve from 0.80130\n",
      "\n",
      "Epoch 872: accuracy did not improve from 0.80130\n",
      "\n",
      "Epoch 873: accuracy did not improve from 0.80130\n",
      "\n",
      "Epoch 874: accuracy did not improve from 0.80130\n",
      "\n",
      "Epoch 875: accuracy did not improve from 0.80130\n",
      "\n",
      "Epoch 876: accuracy did not improve from 0.80130\n",
      "\n",
      "Epoch 877: accuracy did not improve from 0.80130\n",
      "\n",
      "Epoch 878: accuracy did not improve from 0.80130\n",
      "\n",
      "Epoch 879: accuracy did not improve from 0.80130\n",
      "\n",
      "Epoch 880: accuracy did not improve from 0.80130\n",
      "\n",
      "Epoch 881: accuracy did not improve from 0.80130\n",
      "\n",
      "Epoch 882: accuracy did not improve from 0.80130\n",
      "\n",
      "Epoch 883: accuracy did not improve from 0.80130\n",
      "\n",
      "Epoch 884: accuracy did not improve from 0.80130\n",
      "\n",
      "Epoch 885: accuracy did not improve from 0.80130\n",
      "\n",
      "Epoch 886: accuracy did not improve from 0.80130\n",
      "\n",
      "Epoch 887: accuracy did not improve from 0.80130\n",
      "\n",
      "Epoch 888: accuracy did not improve from 0.80130\n",
      "\n",
      "Epoch 889: accuracy did not improve from 0.80130\n",
      "\n",
      "Epoch 890: accuracy did not improve from 0.80130\n",
      "\n",
      "Epoch 891: accuracy did not improve from 0.80130\n",
      "\n",
      "Epoch 892: accuracy did not improve from 0.80130\n",
      "\n",
      "Epoch 893: accuracy did not improve from 0.80130\n",
      "\n",
      "Epoch 894: accuracy did not improve from 0.80130\n",
      "\n",
      "Epoch 895: accuracy did not improve from 0.80130\n",
      "\n",
      "Epoch 896: accuracy did not improve from 0.80130\n",
      "\n",
      "Epoch 897: accuracy did not improve from 0.80130\n",
      "\n",
      "Epoch 898: accuracy did not improve from 0.80130\n",
      "\n",
      "Epoch 899: accuracy did not improve from 0.80130\n",
      "\n",
      "Epoch 900: accuracy did not improve from 0.80130\n",
      "\n",
      "Epoch 901: accuracy did not improve from 0.80130\n",
      "\n",
      "Epoch 902: accuracy did not improve from 0.80130\n",
      "\n",
      "Epoch 903: accuracy did not improve from 0.80130\n",
      "\n",
      "Epoch 904: accuracy did not improve from 0.80130\n",
      "\n",
      "Epoch 905: accuracy did not improve from 0.80130\n",
      "\n",
      "Epoch 906: accuracy did not improve from 0.80130\n",
      "\n",
      "Epoch 907: accuracy did not improve from 0.80130\n",
      "\n",
      "Epoch 908: accuracy did not improve from 0.80130\n",
      "\n",
      "Epoch 909: accuracy did not improve from 0.80130\n",
      "\n",
      "Epoch 910: accuracy did not improve from 0.80130\n",
      "\n",
      "Epoch 911: accuracy did not improve from 0.80130\n",
      "\n",
      "Epoch 912: accuracy did not improve from 0.80130\n",
      "\n",
      "Epoch 913: accuracy did not improve from 0.80130\n",
      "\n",
      "Epoch 914: accuracy did not improve from 0.80130\n",
      "\n",
      "Epoch 915: accuracy did not improve from 0.80130\n",
      "\n",
      "Epoch 916: accuracy did not improve from 0.80130\n",
      "\n",
      "Epoch 917: accuracy did not improve from 0.80130\n",
      "\n",
      "Epoch 918: accuracy did not improve from 0.80130\n",
      "\n",
      "Epoch 919: accuracy did not improve from 0.80130\n",
      "\n",
      "Epoch 920: accuracy did not improve from 0.80130\n",
      "\n",
      "Epoch 921: accuracy did not improve from 0.80130\n",
      "\n",
      "Epoch 922: accuracy did not improve from 0.80130\n",
      "\n",
      "Epoch 923: accuracy did not improve from 0.80130\n",
      "\n",
      "Epoch 924: accuracy did not improve from 0.80130\n",
      "\n",
      "Epoch 925: accuracy did not improve from 0.80130\n",
      "\n",
      "Epoch 926: accuracy did not improve from 0.80130\n",
      "\n",
      "Epoch 927: accuracy did not improve from 0.80130\n",
      "\n",
      "Epoch 928: accuracy did not improve from 0.80130\n",
      "\n",
      "Epoch 929: accuracy did not improve from 0.80130\n",
      "\n",
      "Epoch 930: accuracy did not improve from 0.80130\n",
      "\n",
      "Epoch 931: accuracy did not improve from 0.80130\n",
      "\n",
      "Epoch 932: accuracy did not improve from 0.80130\n",
      "\n",
      "Epoch 933: accuracy improved from 0.80130 to 0.80456, saving model to ./saved_models/model_checkpoint/best_model_only\\best_model.keras\n",
      "\n",
      "Epoch 934: accuracy did not improve from 0.80456\n",
      "\n",
      "Epoch 935: accuracy did not improve from 0.80456\n",
      "\n",
      "Epoch 936: accuracy did not improve from 0.80456\n",
      "\n",
      "Epoch 937: accuracy did not improve from 0.80456\n",
      "\n",
      "Epoch 938: accuracy did not improve from 0.80456\n",
      "\n",
      "Epoch 939: accuracy did not improve from 0.80456\n",
      "\n",
      "Epoch 940: accuracy did not improve from 0.80456\n",
      "\n",
      "Epoch 941: accuracy did not improve from 0.80456\n",
      "\n",
      "Epoch 942: accuracy did not improve from 0.80456\n",
      "\n",
      "Epoch 943: accuracy did not improve from 0.80456\n",
      "\n",
      "Epoch 944: accuracy did not improve from 0.80456\n",
      "\n",
      "Epoch 945: accuracy did not improve from 0.80456\n",
      "\n",
      "Epoch 946: accuracy did not improve from 0.80456\n",
      "\n",
      "Epoch 947: accuracy did not improve from 0.80456\n",
      "\n",
      "Epoch 948: accuracy did not improve from 0.80456\n",
      "\n",
      "Epoch 949: accuracy did not improve from 0.80456\n",
      "\n",
      "Epoch 950: accuracy did not improve from 0.80456\n",
      "\n",
      "Epoch 951: accuracy did not improve from 0.80456\n",
      "\n",
      "Epoch 952: accuracy did not improve from 0.80456\n",
      "\n",
      "Epoch 953: accuracy did not improve from 0.80456\n",
      "\n",
      "Epoch 954: accuracy did not improve from 0.80456\n",
      "\n",
      "Epoch 955: accuracy did not improve from 0.80456\n",
      "\n",
      "Epoch 956: accuracy did not improve from 0.80456\n",
      "\n",
      "Epoch 957: accuracy did not improve from 0.80456\n",
      "\n",
      "Epoch 958: accuracy did not improve from 0.80456\n",
      "\n",
      "Epoch 959: accuracy did not improve from 0.80456\n",
      "\n",
      "Epoch 960: accuracy did not improve from 0.80456\n",
      "\n",
      "Epoch 961: accuracy did not improve from 0.80456\n",
      "\n",
      "Epoch 962: accuracy did not improve from 0.80456\n",
      "\n",
      "Epoch 963: accuracy did not improve from 0.80456\n",
      "\n",
      "Epoch 964: accuracy did not improve from 0.80456\n",
      "\n",
      "Epoch 965: accuracy did not improve from 0.80456\n",
      "\n",
      "Epoch 966: accuracy did not improve from 0.80456\n",
      "\n",
      "Epoch 967: accuracy did not improve from 0.80456\n",
      "\n",
      "Epoch 968: accuracy did not improve from 0.80456\n",
      "\n",
      "Epoch 969: accuracy did not improve from 0.80456\n",
      "\n",
      "Epoch 970: accuracy did not improve from 0.80456\n",
      "\n",
      "Epoch 971: accuracy did not improve from 0.80456\n",
      "\n",
      "Epoch 972: accuracy did not improve from 0.80456\n",
      "\n",
      "Epoch 973: accuracy did not improve from 0.80456\n",
      "\n",
      "Epoch 974: accuracy did not improve from 0.80456\n",
      "\n",
      "Epoch 975: accuracy did not improve from 0.80456\n",
      "\n",
      "Epoch 976: accuracy did not improve from 0.80456\n",
      "\n",
      "Epoch 977: accuracy did not improve from 0.80456\n",
      "\n",
      "Epoch 978: accuracy did not improve from 0.80456\n",
      "\n",
      "Epoch 979: accuracy did not improve from 0.80456\n",
      "\n",
      "Epoch 980: accuracy did not improve from 0.80456\n",
      "\n",
      "Epoch 981: accuracy did not improve from 0.80456\n",
      "\n",
      "Epoch 982: accuracy did not improve from 0.80456\n",
      "\n",
      "Epoch 983: accuracy did not improve from 0.80456\n",
      "\n",
      "Epoch 984: accuracy did not improve from 0.80456\n",
      "\n",
      "Epoch 985: accuracy did not improve from 0.80456\n",
      "\n",
      "Epoch 986: accuracy did not improve from 0.80456\n",
      "\n",
      "Epoch 987: accuracy did not improve from 0.80456\n",
      "\n",
      "Epoch 988: accuracy did not improve from 0.80456\n",
      "\n",
      "Epoch 989: accuracy did not improve from 0.80456\n",
      "\n",
      "Epoch 990: accuracy did not improve from 0.80456\n",
      "\n",
      "Epoch 991: accuracy did not improve from 0.80456\n",
      "\n",
      "Epoch 992: accuracy did not improve from 0.80456\n",
      "\n",
      "Epoch 993: accuracy did not improve from 0.80456\n",
      "\n",
      "Epoch 994: accuracy did not improve from 0.80456\n",
      "\n",
      "Epoch 995: accuracy did not improve from 0.80456\n",
      "\n",
      "Epoch 996: accuracy did not improve from 0.80456\n",
      "\n",
      "Epoch 997: accuracy did not improve from 0.80456\n",
      "\n",
      "Epoch 998: accuracy did not improve from 0.80456\n",
      "\n",
      "Epoch 999: accuracy did not improve from 0.80456\n",
      "\n",
      "Epoch 1000: accuracy did not improve from 0.80456\n"
     ]
    },
    {
     "data": {
      "text/plain": [
       "<keras.src.callbacks.History at 0x2343bf8d890>"
      ]
     },
     "execution_count": 14,
     "metadata": {},
     "output_type": "execute_result"
    }
   ],
   "source": [
    "# saving only the best model\n",
    "\n",
    "model = Sequential()\n",
    "model.add(Dense(8, input_shape = (8,), activation='relu'))\n",
    "model.add(Dense(1024, activation = 'relu'))\n",
    "model.add(Dense(1, activation = 'sigmoid'))\n",
    "model.compile(optimizer = 'SGD', loss = 'binary_crossentropy', metrics = 'accuracy')\n",
    "\n",
    "ms = ModelCheckpoint(f'./saved_models/model_checkpoint/best_model_only/best_model.keras', monitor='accuracy', mode = 'max', verbose = 1, save_best_only=True) # only save the model when there is a improvement in accuracy\n",
    "model.fit(xtrain, ytrain, validation_data = (xtest, ytest), epochs = 1000, batch_size = 50, callbacks = [ms], verbose = 0)"
   ]
  },
  {
   "cell_type": "code",
   "execution_count": 21,
   "metadata": {},
   "outputs": [
    {
     "name": "stdout",
     "output_type": "stream",
     "text": [
      "\n",
      "Epoch 1: saving model to ./saved_models/model_checkpoint/all_models\\model_001_0.64.keras\n",
      "\n",
      "Epoch 2: saving model to ./saved_models/model_checkpoint/all_models\\model_002_0.65.keras\n",
      "\n",
      "Epoch 3: saving model to ./saved_models/model_checkpoint/all_models\\model_003_0.66.keras\n",
      "\n",
      "Epoch 4: saving model to ./saved_models/model_checkpoint/all_models\\model_004_0.66.keras\n",
      "\n",
      "Epoch 5: saving model to ./saved_models/model_checkpoint/all_models\\model_005_0.66.keras\n"
     ]
    },
    {
     "data": {
      "text/plain": [
       "<keras.src.callbacks.History at 0x23441c64b90>"
      ]
     },
     "execution_count": 21,
     "metadata": {},
     "output_type": "execute_result"
    }
   ],
   "source": [
    "# saving all the models\n",
    "\n",
    "model = Sequential()\n",
    "model.add(Dense(8, input_shape = (8,), activation='relu'))\n",
    "model.add(Dense(1024, activation = 'relu'))\n",
    "model.add(Dense(1, activation = 'sigmoid'))\n",
    "model.compile(optimizer = 'SGD', loss = 'binary_crossentropy', metrics = 'accuracy')\n",
    "ms = ModelCheckpoint(\"./saved_models/model_checkpoint/all_models/model_{epoch:03d}_{val_accuracy:.2f}.keras\", monitor='val_accuracy', mode = 'max', verbose = 1)\n",
    "model.fit(xtrain, ytrain, validation_data = (xtest, ytest), epochs = 5, batch_size = 50, callbacks = [ms], verbose = 0)"
   ]
  },
  {
   "cell_type": "code",
   "execution_count": 22,
   "metadata": {},
   "outputs": [
    {
     "name": "stdout",
     "output_type": "stream",
     "text": [
      "\n",
      "Epoch 1: accuracy improved from -inf to 0.52769, saving model to ./saved_models/model_checkpoint/all_best\\model_001_0.53.keras\n",
      "\n",
      "Epoch 2: accuracy improved from 0.52769 to 0.67101, saving model to ./saved_models/model_checkpoint/all_best\\model_002_0.67.keras\n",
      "\n",
      "Epoch 3: accuracy did not improve from 0.67101\n",
      "\n",
      "Epoch 4: accuracy did not improve from 0.67101\n",
      "\n",
      "Epoch 5: accuracy did not improve from 0.67101\n",
      "\n",
      "Epoch 6: accuracy did not improve from 0.67101\n",
      "\n",
      "Epoch 7: accuracy did not improve from 0.67101\n",
      "\n",
      "Epoch 8: accuracy did not improve from 0.67101\n",
      "\n",
      "Epoch 9: accuracy did not improve from 0.67101\n",
      "\n",
      "Epoch 10: accuracy did not improve from 0.67101\n"
     ]
    },
    {
     "data": {
      "text/plain": [
       "<keras.src.callbacks.History at 0x23441d55f50>"
      ]
     },
     "execution_count": 22,
     "metadata": {},
     "output_type": "execute_result"
    }
   ],
   "source": [
    "# saving all models where there is improvement\n",
    "\n",
    "model = Sequential()\n",
    "model.add(Dense(8, input_shape = (8,), activation='relu'))\n",
    "model.add(Dense(1024, activation = 'relu'))\n",
    "model.add(Dense(1, activation = 'sigmoid'))\n",
    "model.compile(optimizer = 'SGD', loss = 'binary_crossentropy', metrics = 'accuracy')\n",
    "\n",
    "ms = ModelCheckpoint('./saved_models/model_checkpoint/all_best/model_{epoch:03d}_{accuracy:.2f}.keras', monitor='accuracy', mode = 'max', verbose = 1, save_best_only=True) # only save the model when there is a improvement in accuracy\n",
    "model.fit(xtrain, ytrain, validation_data = (xtest, ytest), epochs = 10, batch_size = 50, callbacks = [ms], verbose = 0)"
   ]
  },
  {
   "cell_type": "code",
   "execution_count": 23,
   "metadata": {},
   "outputs": [
    {
     "name": "stderr",
     "output_type": "stream",
     "text": [
      "WARNING:absl:Skipping variable loading for optimizer 'SGD', because it has 1 variables whereas the saved optimizer has 7 variables. \n"
     ]
    },
    {
     "name": "stdout",
     "output_type": "stream",
     "text": [
      "5/5 [==============================] - 2s 24ms/step - loss: 0.4604 - accuracy: 0.8117\n"
     ]
    },
    {
     "data": {
      "text/plain": [
       "[0.46041160821914673, 0.8116883039474487]"
      ]
     },
     "execution_count": 23,
     "metadata": {},
     "output_type": "execute_result"
    }
   ],
   "source": [
    "# loading saved model\n",
    "\n",
    "# NOTE : here, ModelCheckpoint() only saved the model weights(it is assumed that network architecture is known). if you want to save the model including architecture, use save_model()[disscussed further in the notebook]\n",
    "\n",
    "model = Sequential()\n",
    "model.add(Dense(8, input_shape = (8,), activation='relu'))\n",
    "model.add(Dense(1024, activation = 'relu'))\n",
    "model.add(Dense(1, activation = 'sigmoid'))\n",
    "model.compile(optimizer = 'SGD', loss = 'binary_crossentropy', metrics = 'accuracy')\n",
    "\n",
    "# we will load the weights from ./saved_models/model_checkpoint/best_model_only/best_model.keras\n",
    "model.load_weights('./saved_models/model_checkpoint/best_model_only/best_model.keras')\n",
    "model.compile(optimizer = 'SGD', loss = 'binary_crossentropy', metrics = 'accuracy')\n",
    "\n",
    "# no need to fit the data again, we can directly use the model for predictions\n",
    "model.evaluate(xtest, ytest)"
   ]
  },
  {
   "cell_type": "markdown",
   "metadata": {},
   "source": [
    "## L1 and L2 regularization : \n",
    "    technique to avoid overfitting the model by adding a penalty term to the loss function. it encourages the model to have less weight values because if the weight values are larger then the jump at each iteration/epoch will be higher, resulting in never reaching the global minima\n",
    "\n",
    "    another way to prevent overfitting the model is to reduce the complexity of the model(i.e., reduce the layers and nodes)\n",
    "\n",
    "    ANOTHER POINT TO NOTE IS TRY TO HAVE SIMPLE NETWORK ARCHITECTURE. MORE COMPLEX THE MODEL, MORE UNSTABLE IT BECOMES.\n",
    "\n",
    "    L1 AND L2 REGULARIZATION : \n",
    "        -> L1 regularization / lasso regression : \n",
    "                we calculate the sum of all the weights in the network and try to penalise the model for having larger weight values. L1 regularization encourages the model to have more 0.0 weight values if possible, resulting in sparse weights(more 0.0 values). useful when the dataset has high dimentional features\n",
    "        \n",
    "        -> L2 regularization / ridge regression : \n",
    "                here we calculate the sum of squared values of weights. L2 regularization penalises the larger weights more severely resulting in less sparse values. useful when the dataset has higher correlation between the features.\n",
    "\n",
    "    CONTROL IMPACT OF PENALTY : α/λ is the regularization coefficient. α/λ hyperparameter that controls the impact of the penalty on the weights(or in other words, it controls how much attention the learning process should pay on penalty). \n",
    "        value range of α/λ -> 0.0 - 1.0 (0 for no penalty, 1 for full penalty).\n",
    "        α/λ hyperparameter controls the bias and variance. when penalty is 0.0, the bias will be very low but the variance will be very high whereas if penalty is 1.0, the variance will be very low but the bias will be very high\n",
    "\n",
    "        another thing to note is that if the penalty is too strong, then the model will underestimate the weights resulting in underfitting and if the penalty is too weak, the model will be allowed to overfit.\n",
    "\n",
    "        -> the vector norm for α/λ hyperparameter is calculated per layer rather than entire network which makes this regularization flexible in the choice of regularization used(L1 for input and L2 somewhere else)\n",
    "\n",
    "    -> regularization allows us to use larger networks without overfitting\n",
    "    -> grid search the α/λ hyperparameter. you can start with 0.1/0.001/0.001 at first and lets say that 0.001 give better result, you can then grid search using other numbers on the same scale like 0.002, 0.003, etc\n",
    "    ->use L1 and L2 at the same time(elastic net regularization). elastic net regularization combines both l1 and l2 regularization methods, giving us the advantage of both techniques. useful when the dataset has high dimentional features and has high correlation between the features."
   ]
  },
  {
   "cell_type": "code",
   "execution_count": 14,
   "metadata": {},
   "outputs": [
    {
     "name": "stdout",
     "output_type": "stream",
     "text": [
      "evaluation of train set :  [0.2988314628601074, 0.8745928406715393]\n",
      "evaluation of test set :  [0.6978551149368286, 0.7402597665786743]\n"
     ]
    }
   ],
   "source": [
    "# model without regularization \n",
    "\n",
    "model = Sequential()\n",
    "model.add(Dense(8, input_shape = (8,), activation='relu'))\n",
    "model.add(Dense(1024, activation = 'relu'))\n",
    "model.add(Dense(1024, activation = 'relu'))\n",
    "model.add(Dense(1024, activation = 'relu'))\n",
    "model.add(Dense(1, activation = 'sigmoid'))\n",
    "model.compile(optimizer = 'SGD', loss = 'binary_crossentropy', metrics = 'accuracy')\n",
    "model.fit(xtrain, ytrain, epochs = 1000, batch_size = 50, verbose = 0)\n",
    "print('evaluation of train set : ', model.evaluate(xtrain, ytrain, verbose = 0))\n",
    "print('evaluation of test set : ', model.evaluate(xtest, ytest, verbose = 0))"
   ]
  },
  {
   "cell_type": "code",
   "execution_count": 16,
   "metadata": {},
   "outputs": [
    {
     "name": "stdout",
     "output_type": "stream",
     "text": [
      "evaluation of train set :  [10.106595993041992, 0.653094470500946]\n",
      "evaluation of test set :  [10.11300277709961, 0.6428571343421936]\n"
     ]
    }
   ],
   "source": [
    "# model with l1 regularization \n",
    "\n",
    "model = Sequential()\n",
    "model.add(Dense(8, input_shape = (8,), activation='relu', kernel_regularizer=regularizers.l1(0.03)))\n",
    "model.add(Dense(1024, activation = 'relu', kernel_regularizer=regularizers.l1(0.03)))\n",
    "model.add(Dense(1024, activation = 'relu', kernel_regularizer=regularizers.l1(0.03)))\n",
    "model.add(Dense(1024, activation = 'relu', kernel_regularizer=regularizers.l1(0.03)))\n",
    "model.add(Dense(1, activation = 'sigmoid'))\n",
    "model.compile(optimizer = 'SGD', loss = 'binary_crossentropy', metrics = 'accuracy')\n",
    "model.fit(xtrain, ytrain, epochs = 1000, batch_size = 50, verbose = 0)\n",
    "print('evaluation of train set : ', model.evaluate(xtrain, ytrain, verbose = 0))\n",
    "print('evaluation of test set : ', model.evaluate(xtest, ytest, verbose = 0))"
   ]
  },
  {
   "cell_type": "code",
   "execution_count": 17,
   "metadata": {},
   "outputs": [
    {
     "name": "stdout",
     "output_type": "stream",
     "text": [
      "evaluation of train set :  [0.5373745560646057, 0.7833876013755798]\n",
      "evaluation of test set :  [0.5456160306930542, 0.7922077775001526]\n"
     ]
    }
   ],
   "source": [
    "# model with l2 regularization \n",
    "\n",
    "model = Sequential()\n",
    "model.add(Dense(8, input_shape = (8,), activation='relu', kernel_regularizer=regularizers.l2(0.03)))\n",
    "model.add(Dense(1024, activation = 'relu', kernel_regularizer=regularizers.l2(0.03)))\n",
    "model.add(Dense(1024, activation = 'relu', kernel_regularizer=regularizers.l2(0.03)))\n",
    "model.add(Dense(1024, activation = 'relu', kernel_regularizer=regularizers.l2(0.03)))\n",
    "model.add(Dense(1, activation = 'sigmoid'))\n",
    "model.compile(optimizer = 'SGD', loss = 'binary_crossentropy', metrics = 'accuracy')\n",
    "model.fit(xtrain, ytrain, epochs = 1000, batch_size = 50, verbose = 0)\n",
    "print('evaluation of train set : ', model.evaluate(xtrain, ytrain, verbose = 0))\n",
    "print('evaluation of test set : ', model.evaluate(xtest, ytest, verbose = 0))"
   ]
  },
  {
   "cell_type": "markdown",
   "metadata": {},
   "source": [
    " you can notice that in the model without any regularization, there is a large difference between the accuracy of the train and test set, and while using regularization the difference is much lower. \n",
    "\n",
    " also, the accuracy of the model while using l2 regularizer is much higher than the model with l1 regularizer. this is the reason why l2 regularization is widely used"
   ]
  },
  {
   "cell_type": "code",
   "execution_count": 12,
   "metadata": {},
   "outputs": [
    {
     "name": "stdout",
     "output_type": "stream",
     "text": [
      "Fitting 2 folds for each of 3 candidates, totalling 6 fits\n",
      "[CV] END ..................................model__alpha=0.02; total time=  24.6s\n",
      "[CV] END ..................................model__alpha=0.02; total time=  27.6s\n",
      "[CV] END ..................................model__alpha=0.03; total time=  22.6s\n",
      "[CV] END ..................................model__alpha=0.03; total time=  20.8s\n",
      "[CV] END ..................................model__alpha=0.04; total time=  26.9s\n",
      "[CV] END ..................................model__alpha=0.04; total time=  25.6s\n"
     ]
    }
   ],
   "source": [
    "# hyperparameter tuning the regularization parameter\n",
    "\n",
    "def create_model(alpha = 0.03):\n",
    "    model = Sequential()\n",
    "    model.add(Dense(8, input_shape = (8,), activation='relu', kernel_regularizer=regularizers.l2(alpha)))\n",
    "    model.add(Dense(1024, activation = 'relu', kernel_regularizer=regularizers.l2(alpha)))\n",
    "    model.add(Dense(1, activation = 'sigmoid'))\n",
    "    model.compile(optimizer = 'SGD', loss = 'binary_crossentropy', metrics = 'accuracy')\n",
    "    return model\n",
    "ms = ModelCheckpoint('./saved_models/regularized_model/best_regularized_model.keras', monitor='accuracy', mode = 'max', verbose = 0, save_best_only=True)\n",
    "model = KerasClassifier(create_model, epochs = 100, batch_size = 50, verbose = 0, callbacks = [ms])\n",
    "params = {\n",
    "    'model__alpha' : [0.02, 0.03, 0.04]\n",
    "}\n",
    "\n",
    "gs = GridSearchCV(model, param_grid = params, scoring='accuracy', cv = 2, verbose=2)\n",
    "result = gs.fit(xtrain, ytrain)"
   ]
  },
  {
   "cell_type": "code",
   "execution_count": 13,
   "metadata": {},
   "outputs": [
    {
     "data": {
      "text/plain": [
       "{'model__alpha': 0.02}"
      ]
     },
     "execution_count": 13,
     "metadata": {},
     "output_type": "execute_result"
    }
   ],
   "source": [
    "result.best_params_"
   ]
  },
  {
   "cell_type": "code",
   "execution_count": 9,
   "metadata": {},
   "outputs": [
    {
     "name": "stdout",
     "output_type": "stream",
     "text": [
      "5/5 [==============================] - 0s 14ms/step - loss: 1.9509 - accuracy: 0.6429\n"
     ]
    },
    {
     "data": {
      "text/plain": [
       "[1.9509336948394775, 0.6428571343421936]"
      ]
     },
     "execution_count": 9,
     "metadata": {},
     "output_type": "execute_result"
    }
   ],
   "source": [
    "# applying l1 & l2 regularization to kernel(weights), bias and activity\n",
    "\n",
    "model=Sequential()\n",
    "model.add(Dense(100, input_shape = (8,), activation = 'relu', kernel_regularizer = regularizers.l1(0.03), bias_regularizer=regularizers.l1(0.03), activity_regularizer=regularizers.l1(0.03)))\n",
    "model.add(Dense(100, activation = 'relu', kernel_regularizer = regularizers.l2(0.03), bias_regularizer=regularizers.l2(0.03), activity_regularizer=regularizers.l2(0.03)))\n",
    "model.add(Dense(1, activation='sigmoid'))\n",
    "model.compile(optimizer = 'SGD', loss = 'binary_crossentropy', metrics = 'accuracy')\n",
    "model.fit(xtrain, ytrain, validation_data = (xtest, ytest), verbose = 0, epochs = 100, batch_size = 100)\n",
    "model.evaluate(xtest, ytest)"
   ]
  },
  {
   "cell_type": "code",
   "execution_count": 12,
   "metadata": {},
   "outputs": [
    {
     "name": "stdout",
     "output_type": "stream",
     "text": [
      "5/5 [==============================] - 0s 5ms/step - loss: 0.7037 - accuracy: 0.6429\n"
     ]
    },
    {
     "data": {
      "text/plain": [
       "[0.70367032289505, 0.6428571343421936]"
      ]
     },
     "execution_count": 12,
     "metadata": {},
     "output_type": "execute_result"
    }
   ],
   "source": [
    "# elastic net regularization in kernel, bias and activity\n",
    "\n",
    "model = Sequential()\n",
    "model.add(Dense(100, input_shape = (8,), activation = 'relu', kernel_regularizer=regularizers.l1_l2(l1 = 0.03, l2 = 0.03), bias_regularizer=regularizers.l1_l2(l1 = 0.03, l2 = 0.03), activity_regularizer=regularizers.l1_l2(l1 = 0.03, l2 = 0.03)))\n",
    "model.add(Dense(100, activation = 'relu', kernel_regularizer=regularizers.l1_l2(l1 = 0.03, l2 = 0.03), bias_regularizer=regularizers.l1_l2(l1 = 0.03, l2 = 0.03), activity_regularizer=regularizers.l1_l2(l1 = 0.03, l2 = 0.03)))\n",
    "model.add(Dense(1, activation = 'sigmoid'))\n",
    "model.compile(optimizer = 'SGD', loss = 'binary_crossentropy', metrics = 'accuracy')\n",
    "model.fit(xtrain, ytrain, validation_data = (xtest, ytest), verbose = 0, epochs = 100, batch_size = 100)\n",
    "model.evaluate(xtest, ytest)"
   ]
  },
  {
   "cell_type": "code",
   "execution_count": 13,
   "metadata": {},
   "outputs": [
    {
     "name": "stdout",
     "output_type": "stream",
     "text": [
      "Fitting 2 folds for each of 4 candidates, totalling 8 fits\n"
     ]
    }
   ],
   "source": [
    "# hyperparameter tuning of elastic net regularizer\n",
    "\n",
    "def create_model(l1 : float, l2 : float):\n",
    "    model = Sequential()\n",
    "    model.add(Dense(100, input_shape = (8,), activation = 'relu', kernel_regularizer=regularizers.l1_l2(l1 = l1, l2 = l2), bias_regularizer=regularizers.l1_l2(l1 = l1, l2 = l2), activity_regularizer=regularizers.l1_l2(l1 = l2, l2 = l2)))\n",
    "    model.add(Dense(100, activation = 'relu', kernel_regularizer=regularizers.l1_l2(l1 = l1, l2 = l2), bias_regularizer=regularizers.l1_l2(l1 = l1, l2 = l2), activity_regularizer=regularizers.l1_l2(l1 =l1, l2 =l2)))\n",
    "    model.add(Dense(1, activation = 'sigmoid'))\n",
    "    model.compile(optimizer = 'SGD', loss = 'binary_crossentropy', metrics = 'accuracy')\n",
    "    return model\n",
    "\n",
    "model = KerasClassifier(create_model, epochs = 10, batch_size = 100, verbose = 0, validation_split=0.15)\n",
    "params = {\n",
    "    'model__l1' : [0.02, 0.03],\n",
    "    'model__l2' : [0.02, 0.03]\n",
    "}\n",
    "gs = GridSearchCV(model, param_grid = params, cv = 2, scoring = 'accuracy', verbose = 1)\n",
    "result = gs.fit(xtrain, ytrain)"
   ]
  },
  {
   "cell_type": "code",
   "execution_count": 14,
   "metadata": {},
   "outputs": [
    {
     "data": {
      "text/plain": [
       "({'model__l1': 0.03, 'model__l2': 0.02}, 0.6547231270358307)"
      ]
     },
     "execution_count": 14,
     "metadata": {},
     "output_type": "execute_result"
    }
   ],
   "source": [
    "result.best_params_, result.best_score_"
   ]
  },
  {
   "cell_type": "markdown",
   "metadata": {},
   "source": [
    "## saving a model in keras : "
   ]
  },
  {
   "cell_type": "code",
   "execution_count": 12,
   "metadata": {},
   "outputs": [
    {
     "name": "stdout",
     "output_type": "stream",
     "text": [
      "before saving, accuracy = 0.8246753215789795, loss = 0.4691004455089569\n"
     ]
    }
   ],
   "source": [
    "model = Sequential()\n",
    "model.add(Dense(8, input_shape = (8,), activation='relu'))\n",
    "model.add(Dense(16, activation='swish'))\n",
    "model.add(Dense(1, activation='sigmoid'))\n",
    "model.compile(optimizer='adam', loss = 'binary_crossentropy', metrics='accuracy')\n",
    "model.fit(xtrain, ytrain, epochs=100, batch_size = 70, validation_data=(xtest, ytest))\n",
    "loss, accuracy = model.evaluate(xtest, ytest, verbose = 0)\n",
    "print(f\"before saving, accuracy = {accuracy}, loss = {loss}\")\n",
    "\n",
    "# saving the model - we have saved the model in .keras format. you can also save the model in HDF5 format(model.h5) but this format has become legacy and .keras format is better.\n",
    "model.save('./saved_models/example_model.keras')\n"
   ]
  },
  {
   "cell_type": "code",
   "execution_count": 13,
   "metadata": {},
   "outputs": [
    {
     "name": "stdout",
     "output_type": "stream",
     "text": [
      "before saving, accuracy = 0.8246753215789795, loss = 0.4691004455089569\n"
     ]
    }
   ],
   "source": [
    "# loading the model\n",
    "loaded_model = load_model('./saved_models/example_model.keras')\n",
    "loss, accuracy = loaded_model.evaluate(xtest, ytest)\n",
    "print(f\"before saving, accuracy = {accuracy}, loss = {loss}\")"
   ]
  },
  {
   "cell_type": "markdown",
   "metadata": {},
   "source": [
    "saving only weights : \n",
    "\n",
    "    model.save_weights(filepath)"
   ]
  },
  {
   "cell_type": "markdown",
   "metadata": {},
   "source": [
    "## finalising a model : \n",
    "    when you have found best configuration of a model for the given dataset(through various methods like resampling, hyperparameter tuning, etc), we will go ahead and train the model with the best parameters on the whole dataset(both train and test data) and save the model."
   ]
  },
  {
   "cell_type": "markdown",
   "metadata": {},
   "source": [
    "## evaluating the skill of a model : "
   ]
  },
  {
   "cell_type": "code",
   "execution_count": 19,
   "metadata": {},
   "outputs": [
    {
     "name": "stdout",
     "output_type": "stream",
     "text": [
      "INFO:tensorflow:Assets written to: C:\\Users\\RAJESH\\AppData\\Local\\Temp\\tmpejsw580w\\assets\n"
     ]
    },
    {
     "name": "stderr",
     "output_type": "stream",
     "text": [
      "INFO:tensorflow:Assets written to: C:\\Users\\RAJESH\\AppData\\Local\\Temp\\tmpejsw580w\\assets\n"
     ]
    },
    {
     "name": "stdout",
     "output_type": "stream",
     "text": [
      "WARNING:tensorflow:Detecting that an object or model or tf.train.Checkpoint is being deleted with unrestored values. See the following logs for the specific values in question. To silence these warnings, use `status.expect_partial()`. See https://www.tensorflow.org/api_docs/python/tf/train/Checkpoint#restorefor details about the status object returned by the restore function.\n"
     ]
    },
    {
     "name": "stderr",
     "output_type": "stream",
     "text": [
      "WARNING:tensorflow:Detecting that an object or model or tf.train.Checkpoint is being deleted with unrestored values. See the following logs for the specific values in question. To silence these warnings, use `status.expect_partial()`. See https://www.tensorflow.org/api_docs/python/tf/train/Checkpoint#restorefor details about the status object returned by the restore function.\n"
     ]
    },
    {
     "name": "stdout",
     "output_type": "stream",
     "text": [
      "WARNING:tensorflow:Value in checkpoint could not be found in the restored object: (root).keras_api.metrics.0.total\n"
     ]
    },
    {
     "name": "stderr",
     "output_type": "stream",
     "text": [
      "WARNING:tensorflow:Value in checkpoint could not be found in the restored object: (root).keras_api.metrics.0.total\n"
     ]
    },
    {
     "name": "stdout",
     "output_type": "stream",
     "text": [
      "WARNING:tensorflow:Value in checkpoint could not be found in the restored object: (root).keras_api.metrics.0.count\n"
     ]
    },
    {
     "name": "stderr",
     "output_type": "stream",
     "text": [
      "WARNING:tensorflow:Value in checkpoint could not be found in the restored object: (root).keras_api.metrics.0.count\n"
     ]
    },
    {
     "name": "stdout",
     "output_type": "stream",
     "text": [
      "WARNING:tensorflow:Value in checkpoint could not be found in the restored object: (root).keras_api.metrics.1.total\n"
     ]
    },
    {
     "name": "stderr",
     "output_type": "stream",
     "text": [
      "WARNING:tensorflow:Value in checkpoint could not be found in the restored object: (root).keras_api.metrics.1.total\n"
     ]
    },
    {
     "name": "stdout",
     "output_type": "stream",
     "text": [
      "WARNING:tensorflow:Value in checkpoint could not be found in the restored object: (root).keras_api.metrics.1.count\n"
     ]
    },
    {
     "name": "stderr",
     "output_type": "stream",
     "text": [
      "WARNING:tensorflow:Value in checkpoint could not be found in the restored object: (root).keras_api.metrics.1.count\n"
     ]
    },
    {
     "name": "stdout",
     "output_type": "stream",
     "text": [
      "WARNING:tensorflow:Detecting that an object or model or tf.train.Checkpoint is being deleted with unrestored values. See the following logs for the specific values in question. To silence these warnings, use `status.expect_partial()`. See https://www.tensorflow.org/api_docs/python/tf/train/Checkpoint#restorefor details about the status object returned by the restore function.\n"
     ]
    },
    {
     "name": "stderr",
     "output_type": "stream",
     "text": [
      "WARNING:tensorflow:Detecting that an object or model or tf.train.Checkpoint is being deleted with unrestored values. See the following logs for the specific values in question. To silence these warnings, use `status.expect_partial()`. See https://www.tensorflow.org/api_docs/python/tf/train/Checkpoint#restorefor details about the status object returned by the restore function.\n"
     ]
    },
    {
     "name": "stdout",
     "output_type": "stream",
     "text": [
      "WARNING:tensorflow:Value in checkpoint could not be found in the restored object: (root).keras_api.metrics.0.total\n"
     ]
    },
    {
     "name": "stderr",
     "output_type": "stream",
     "text": [
      "WARNING:tensorflow:Value in checkpoint could not be found in the restored object: (root).keras_api.metrics.0.total\n"
     ]
    },
    {
     "name": "stdout",
     "output_type": "stream",
     "text": [
      "WARNING:tensorflow:Value in checkpoint could not be found in the restored object: (root).keras_api.metrics.0.count\n"
     ]
    },
    {
     "name": "stderr",
     "output_type": "stream",
     "text": [
      "WARNING:tensorflow:Value in checkpoint could not be found in the restored object: (root).keras_api.metrics.0.count\n"
     ]
    },
    {
     "name": "stdout",
     "output_type": "stream",
     "text": [
      "WARNING:tensorflow:Value in checkpoint could not be found in the restored object: (root).keras_api.metrics.1.total\n"
     ]
    },
    {
     "name": "stderr",
     "output_type": "stream",
     "text": [
      "WARNING:tensorflow:Value in checkpoint could not be found in the restored object: (root).keras_api.metrics.1.total\n"
     ]
    },
    {
     "name": "stdout",
     "output_type": "stream",
     "text": [
      "WARNING:tensorflow:Value in checkpoint could not be found in the restored object: (root).keras_api.metrics.1.count\n"
     ]
    },
    {
     "name": "stderr",
     "output_type": "stream",
     "text": [
      "WARNING:tensorflow:Value in checkpoint could not be found in the restored object: (root).keras_api.metrics.1.count\n"
     ]
    },
    {
     "name": "stdout",
     "output_type": "stream",
     "text": [
      "WARNING:tensorflow:Detecting that an object or model or tf.train.Checkpoint is being deleted with unrestored values. See the following logs for the specific values in question. To silence these warnings, use `status.expect_partial()`. See https://www.tensorflow.org/api_docs/python/tf/train/Checkpoint#restorefor details about the status object returned by the restore function.\n"
     ]
    },
    {
     "name": "stderr",
     "output_type": "stream",
     "text": [
      "WARNING:tensorflow:Detecting that an object or model or tf.train.Checkpoint is being deleted with unrestored values. See the following logs for the specific values in question. To silence these warnings, use `status.expect_partial()`. See https://www.tensorflow.org/api_docs/python/tf/train/Checkpoint#restorefor details about the status object returned by the restore function.\n"
     ]
    },
    {
     "name": "stdout",
     "output_type": "stream",
     "text": [
      "WARNING:tensorflow:Value in checkpoint could not be found in the restored object: (root).keras_api.metrics.0.total\n"
     ]
    },
    {
     "name": "stderr",
     "output_type": "stream",
     "text": [
      "WARNING:tensorflow:Value in checkpoint could not be found in the restored object: (root).keras_api.metrics.0.total\n"
     ]
    },
    {
     "name": "stdout",
     "output_type": "stream",
     "text": [
      "WARNING:tensorflow:Value in checkpoint could not be found in the restored object: (root).keras_api.metrics.0.count\n"
     ]
    },
    {
     "name": "stderr",
     "output_type": "stream",
     "text": [
      "WARNING:tensorflow:Value in checkpoint could not be found in the restored object: (root).keras_api.metrics.0.count\n"
     ]
    },
    {
     "name": "stdout",
     "output_type": "stream",
     "text": [
      "WARNING:tensorflow:Value in checkpoint could not be found in the restored object: (root).keras_api.metrics.1.total\n"
     ]
    },
    {
     "name": "stderr",
     "output_type": "stream",
     "text": [
      "WARNING:tensorflow:Value in checkpoint could not be found in the restored object: (root).keras_api.metrics.1.total\n"
     ]
    },
    {
     "name": "stdout",
     "output_type": "stream",
     "text": [
      "WARNING:tensorflow:Value in checkpoint could not be found in the restored object: (root).keras_api.metrics.1.count\n"
     ]
    },
    {
     "name": "stderr",
     "output_type": "stream",
     "text": [
      "WARNING:tensorflow:Value in checkpoint could not be found in the restored object: (root).keras_api.metrics.1.count\n"
     ]
    },
    {
     "name": "stdout",
     "output_type": "stream",
     "text": [
      "WARNING:tensorflow:Detecting that an object or model or tf.train.Checkpoint is being deleted with unrestored values. See the following logs for the specific values in question. To silence these warnings, use `status.expect_partial()`. See https://www.tensorflow.org/api_docs/python/tf/train/Checkpoint#restorefor details about the status object returned by the restore function.\n"
     ]
    },
    {
     "name": "stderr",
     "output_type": "stream",
     "text": [
      "WARNING:tensorflow:Detecting that an object or model or tf.train.Checkpoint is being deleted with unrestored values. See the following logs for the specific values in question. To silence these warnings, use `status.expect_partial()`. See https://www.tensorflow.org/api_docs/python/tf/train/Checkpoint#restorefor details about the status object returned by the restore function.\n"
     ]
    },
    {
     "name": "stdout",
     "output_type": "stream",
     "text": [
      "WARNING:tensorflow:Value in checkpoint could not be found in the restored object: (root).keras_api.metrics.0.total\n"
     ]
    },
    {
     "name": "stderr",
     "output_type": "stream",
     "text": [
      "WARNING:tensorflow:Value in checkpoint could not be found in the restored object: (root).keras_api.metrics.0.total\n"
     ]
    },
    {
     "name": "stdout",
     "output_type": "stream",
     "text": [
      "WARNING:tensorflow:Value in checkpoint could not be found in the restored object: (root).keras_api.metrics.0.count\n"
     ]
    },
    {
     "name": "stderr",
     "output_type": "stream",
     "text": [
      "WARNING:tensorflow:Value in checkpoint could not be found in the restored object: (root).keras_api.metrics.0.count\n"
     ]
    },
    {
     "name": "stdout",
     "output_type": "stream",
     "text": [
      "WARNING:tensorflow:Value in checkpoint could not be found in the restored object: (root).keras_api.metrics.1.total\n"
     ]
    },
    {
     "name": "stderr",
     "output_type": "stream",
     "text": [
      "WARNING:tensorflow:Value in checkpoint could not be found in the restored object: (root).keras_api.metrics.1.total\n"
     ]
    },
    {
     "name": "stdout",
     "output_type": "stream",
     "text": [
      "WARNING:tensorflow:Value in checkpoint could not be found in the restored object: (root).keras_api.metrics.1.count\n"
     ]
    },
    {
     "name": "stderr",
     "output_type": "stream",
     "text": [
      "WARNING:tensorflow:Value in checkpoint could not be found in the restored object: (root).keras_api.metrics.1.count\n"
     ]
    },
    {
     "name": "stdout",
     "output_type": "stream",
     "text": [
      "WARNING:tensorflow:Detecting that an object or model or tf.train.Checkpoint is being deleted with unrestored values. See the following logs for the specific values in question. To silence these warnings, use `status.expect_partial()`. See https://www.tensorflow.org/api_docs/python/tf/train/Checkpoint#restorefor details about the status object returned by the restore function.\n"
     ]
    },
    {
     "name": "stderr",
     "output_type": "stream",
     "text": [
      "WARNING:tensorflow:Detecting that an object or model or tf.train.Checkpoint is being deleted with unrestored values. See the following logs for the specific values in question. To silence these warnings, use `status.expect_partial()`. See https://www.tensorflow.org/api_docs/python/tf/train/Checkpoint#restorefor details about the status object returned by the restore function.\n"
     ]
    },
    {
     "name": "stdout",
     "output_type": "stream",
     "text": [
      "WARNING:tensorflow:Value in checkpoint could not be found in the restored object: (root).keras_api.metrics.0.total\n"
     ]
    },
    {
     "name": "stderr",
     "output_type": "stream",
     "text": [
      "WARNING:tensorflow:Value in checkpoint could not be found in the restored object: (root).keras_api.metrics.0.total\n"
     ]
    },
    {
     "name": "stdout",
     "output_type": "stream",
     "text": [
      "WARNING:tensorflow:Value in checkpoint could not be found in the restored object: (root).keras_api.metrics.0.count\n"
     ]
    },
    {
     "name": "stderr",
     "output_type": "stream",
     "text": [
      "WARNING:tensorflow:Value in checkpoint could not be found in the restored object: (root).keras_api.metrics.0.count\n"
     ]
    },
    {
     "name": "stdout",
     "output_type": "stream",
     "text": [
      "WARNING:tensorflow:Value in checkpoint could not be found in the restored object: (root).keras_api.metrics.1.total\n"
     ]
    },
    {
     "name": "stderr",
     "output_type": "stream",
     "text": [
      "WARNING:tensorflow:Value in checkpoint could not be found in the restored object: (root).keras_api.metrics.1.total\n"
     ]
    },
    {
     "name": "stdout",
     "output_type": "stream",
     "text": [
      "WARNING:tensorflow:Value in checkpoint could not be found in the restored object: (root).keras_api.metrics.1.count\n"
     ]
    },
    {
     "name": "stderr",
     "output_type": "stream",
     "text": [
      "WARNING:tensorflow:Value in checkpoint could not be found in the restored object: (root).keras_api.metrics.1.count\n"
     ]
    },
    {
     "name": "stdout",
     "output_type": "stream",
     "text": [
      "INFO:tensorflow:Assets written to: C:\\Users\\RAJESH\\AppData\\Local\\Temp\\tmpu4mgqlsl\\assets\n"
     ]
    },
    {
     "name": "stderr",
     "output_type": "stream",
     "text": [
      "INFO:tensorflow:Assets written to: C:\\Users\\RAJESH\\AppData\\Local\\Temp\\tmpu4mgqlsl\\assets\n"
     ]
    },
    {
     "name": "stdout",
     "output_type": "stream",
     "text": [
      "WARNING:tensorflow:5 out of the last 14 calls to <function Model.make_predict_function.<locals>.predict_function at 0x00000198A425E160> triggered tf.function retracing. Tracing is expensive and the excessive number of tracings could be due to (1) creating @tf.function repeatedly in a loop, (2) passing tensors with different shapes, (3) passing Python objects instead of tensors. For (1), please define your @tf.function outside of the loop. For (2), @tf.function has reduce_retracing=True option that can avoid unnecessary retracing. For (3), please refer to https://www.tensorflow.org/guide/function#controlling_retracing and https://www.tensorflow.org/api_docs/python/tf/function for  more details.\n"
     ]
    },
    {
     "name": "stderr",
     "output_type": "stream",
     "text": [
      "WARNING:tensorflow:5 out of the last 14 calls to <function Model.make_predict_function.<locals>.predict_function at 0x00000198A425E160> triggered tf.function retracing. Tracing is expensive and the excessive number of tracings could be due to (1) creating @tf.function repeatedly in a loop, (2) passing tensors with different shapes, (3) passing Python objects instead of tensors. For (1), please define your @tf.function outside of the loop. For (2), @tf.function has reduce_retracing=True option that can avoid unnecessary retracing. For (3), please refer to https://www.tensorflow.org/guide/function#controlling_retracing and https://www.tensorflow.org/api_docs/python/tf/function for  more details.\n"
     ]
    },
    {
     "name": "stdout",
     "output_type": "stream",
     "text": [
      "INFO:tensorflow:Assets written to: C:\\Users\\RAJESH\\AppData\\Local\\Temp\\tmp9xyaf9z7\\assets\n"
     ]
    },
    {
     "name": "stderr",
     "output_type": "stream",
     "text": [
      "INFO:tensorflow:Assets written to: C:\\Users\\RAJESH\\AppData\\Local\\Temp\\tmp9xyaf9z7\\assets\n"
     ]
    },
    {
     "name": "stdout",
     "output_type": "stream",
     "text": [
      "WARNING:tensorflow:5 out of the last 11 calls to <function Model.make_predict_function.<locals>.predict_function at 0x000001989F16E520> triggered tf.function retracing. Tracing is expensive and the excessive number of tracings could be due to (1) creating @tf.function repeatedly in a loop, (2) passing tensors with different shapes, (3) passing Python objects instead of tensors. For (1), please define your @tf.function outside of the loop. For (2), @tf.function has reduce_retracing=True option that can avoid unnecessary retracing. For (3), please refer to https://www.tensorflow.org/guide/function#controlling_retracing and https://www.tensorflow.org/api_docs/python/tf/function for  more details.\n"
     ]
    },
    {
     "name": "stderr",
     "output_type": "stream",
     "text": [
      "WARNING:tensorflow:5 out of the last 11 calls to <function Model.make_predict_function.<locals>.predict_function at 0x000001989F16E520> triggered tf.function retracing. Tracing is expensive and the excessive number of tracings could be due to (1) creating @tf.function repeatedly in a loop, (2) passing tensors with different shapes, (3) passing Python objects instead of tensors. For (1), please define your @tf.function outside of the loop. For (2), @tf.function has reduce_retracing=True option that can avoid unnecessary retracing. For (3), please refer to https://www.tensorflow.org/guide/function#controlling_retracing and https://www.tensorflow.org/api_docs/python/tf/function for  more details.\n"
     ]
    },
    {
     "name": "stdout",
     "output_type": "stream",
     "text": [
      "INFO:tensorflow:Assets written to: C:\\Users\\RAJESH\\AppData\\Local\\Temp\\tmp8us0fto0\\assets\n"
     ]
    },
    {
     "name": "stderr",
     "output_type": "stream",
     "text": [
      "INFO:tensorflow:Assets written to: C:\\Users\\RAJESH\\AppData\\Local\\Temp\\tmp8us0fto0\\assets\n"
     ]
    },
    {
     "name": "stdout",
     "output_type": "stream",
     "text": [
      "INFO:tensorflow:Assets written to: C:\\Users\\RAJESH\\AppData\\Local\\Temp\\tmp_1o0f0wn\\assets\n"
     ]
    },
    {
     "name": "stderr",
     "output_type": "stream",
     "text": [
      "INFO:tensorflow:Assets written to: C:\\Users\\RAJESH\\AppData\\Local\\Temp\\tmp_1o0f0wn\\assets\n"
     ]
    },
    {
     "name": "stdout",
     "output_type": "stream",
     "text": [
      "INFO:tensorflow:Assets written to: C:\\Users\\RAJESH\\AppData\\Local\\Temp\\tmp0ncla0nf\\assets\n"
     ]
    },
    {
     "name": "stderr",
     "output_type": "stream",
     "text": [
      "INFO:tensorflow:Assets written to: C:\\Users\\RAJESH\\AppData\\Local\\Temp\\tmp0ncla0nf\\assets\n"
     ]
    },
    {
     "name": "stdout",
     "output_type": "stream",
     "text": [
      "INFO:tensorflow:Assets written to: C:\\Users\\RAJESH\\AppData\\Local\\Temp\\tmp7bvyfzs0\\assets\n"
     ]
    },
    {
     "name": "stderr",
     "output_type": "stream",
     "text": [
      "INFO:tensorflow:Assets written to: C:\\Users\\RAJESH\\AppData\\Local\\Temp\\tmp7bvyfzs0\\assets\n"
     ]
    },
    {
     "name": "stdout",
     "output_type": "stream",
     "text": [
      "WARNING:tensorflow:Detecting that an object or model or tf.train.Checkpoint is being deleted with unrestored values. See the following logs for the specific values in question. To silence these warnings, use `status.expect_partial()`. See https://www.tensorflow.org/api_docs/python/tf/train/Checkpoint#restorefor details about the status object returned by the restore function.\n"
     ]
    },
    {
     "name": "stderr",
     "output_type": "stream",
     "text": [
      "WARNING:tensorflow:Detecting that an object or model or tf.train.Checkpoint is being deleted with unrestored values. See the following logs for the specific values in question. To silence these warnings, use `status.expect_partial()`. See https://www.tensorflow.org/api_docs/python/tf/train/Checkpoint#restorefor details about the status object returned by the restore function.\n"
     ]
    },
    {
     "name": "stdout",
     "output_type": "stream",
     "text": [
      "WARNING:tensorflow:Value in checkpoint could not be found in the restored object: (root).keras_api.metrics.0.total\n"
     ]
    },
    {
     "name": "stderr",
     "output_type": "stream",
     "text": [
      "WARNING:tensorflow:Value in checkpoint could not be found in the restored object: (root).keras_api.metrics.0.total\n"
     ]
    },
    {
     "name": "stdout",
     "output_type": "stream",
     "text": [
      "WARNING:tensorflow:Value in checkpoint could not be found in the restored object: (root).keras_api.metrics.0.count\n"
     ]
    },
    {
     "name": "stderr",
     "output_type": "stream",
     "text": [
      "WARNING:tensorflow:Value in checkpoint could not be found in the restored object: (root).keras_api.metrics.0.count\n"
     ]
    },
    {
     "name": "stdout",
     "output_type": "stream",
     "text": [
      "WARNING:tensorflow:Value in checkpoint could not be found in the restored object: (root).keras_api.metrics.1.total\n"
     ]
    },
    {
     "name": "stderr",
     "output_type": "stream",
     "text": [
      "WARNING:tensorflow:Value in checkpoint could not be found in the restored object: (root).keras_api.metrics.1.total\n"
     ]
    },
    {
     "name": "stdout",
     "output_type": "stream",
     "text": [
      "WARNING:tensorflow:Value in checkpoint could not be found in the restored object: (root).keras_api.metrics.1.count\n"
     ]
    },
    {
     "name": "stderr",
     "output_type": "stream",
     "text": [
      "WARNING:tensorflow:Value in checkpoint could not be found in the restored object: (root).keras_api.metrics.1.count\n"
     ]
    },
    {
     "name": "stdout",
     "output_type": "stream",
     "text": [
      "WARNING:tensorflow:Detecting that an object or model or tf.train.Checkpoint is being deleted with unrestored values. See the following logs for the specific values in question. To silence these warnings, use `status.expect_partial()`. See https://www.tensorflow.org/api_docs/python/tf/train/Checkpoint#restorefor details about the status object returned by the restore function.\n"
     ]
    },
    {
     "name": "stderr",
     "output_type": "stream",
     "text": [
      "WARNING:tensorflow:Detecting that an object or model or tf.train.Checkpoint is being deleted with unrestored values. See the following logs for the specific values in question. To silence these warnings, use `status.expect_partial()`. See https://www.tensorflow.org/api_docs/python/tf/train/Checkpoint#restorefor details about the status object returned by the restore function.\n"
     ]
    },
    {
     "name": "stdout",
     "output_type": "stream",
     "text": [
      "WARNING:tensorflow:Value in checkpoint could not be found in the restored object: (root).keras_api.metrics.0.total\n"
     ]
    },
    {
     "name": "stderr",
     "output_type": "stream",
     "text": [
      "WARNING:tensorflow:Value in checkpoint could not be found in the restored object: (root).keras_api.metrics.0.total\n"
     ]
    },
    {
     "name": "stdout",
     "output_type": "stream",
     "text": [
      "WARNING:tensorflow:Value in checkpoint could not be found in the restored object: (root).keras_api.metrics.0.count\n"
     ]
    },
    {
     "name": "stderr",
     "output_type": "stream",
     "text": [
      "WARNING:tensorflow:Value in checkpoint could not be found in the restored object: (root).keras_api.metrics.0.count\n"
     ]
    },
    {
     "name": "stdout",
     "output_type": "stream",
     "text": [
      "WARNING:tensorflow:Value in checkpoint could not be found in the restored object: (root).keras_api.metrics.1.total\n"
     ]
    },
    {
     "name": "stderr",
     "output_type": "stream",
     "text": [
      "WARNING:tensorflow:Value in checkpoint could not be found in the restored object: (root).keras_api.metrics.1.total\n"
     ]
    },
    {
     "name": "stdout",
     "output_type": "stream",
     "text": [
      "WARNING:tensorflow:Value in checkpoint could not be found in the restored object: (root).keras_api.metrics.1.count\n"
     ]
    },
    {
     "name": "stderr",
     "output_type": "stream",
     "text": [
      "WARNING:tensorflow:Value in checkpoint could not be found in the restored object: (root).keras_api.metrics.1.count\n"
     ]
    },
    {
     "name": "stdout",
     "output_type": "stream",
     "text": [
      "WARNING:tensorflow:Detecting that an object or model or tf.train.Checkpoint is being deleted with unrestored values. See the following logs for the specific values in question. To silence these warnings, use `status.expect_partial()`. See https://www.tensorflow.org/api_docs/python/tf/train/Checkpoint#restorefor details about the status object returned by the restore function.\n"
     ]
    },
    {
     "name": "stderr",
     "output_type": "stream",
     "text": [
      "WARNING:tensorflow:Detecting that an object or model or tf.train.Checkpoint is being deleted with unrestored values. See the following logs for the specific values in question. To silence these warnings, use `status.expect_partial()`. See https://www.tensorflow.org/api_docs/python/tf/train/Checkpoint#restorefor details about the status object returned by the restore function.\n"
     ]
    },
    {
     "name": "stdout",
     "output_type": "stream",
     "text": [
      "WARNING:tensorflow:Value in checkpoint could not be found in the restored object: (root).keras_api.metrics.0.total\n"
     ]
    },
    {
     "name": "stderr",
     "output_type": "stream",
     "text": [
      "WARNING:tensorflow:Value in checkpoint could not be found in the restored object: (root).keras_api.metrics.0.total\n"
     ]
    },
    {
     "name": "stdout",
     "output_type": "stream",
     "text": [
      "WARNING:tensorflow:Value in checkpoint could not be found in the restored object: (root).keras_api.metrics.0.count\n"
     ]
    },
    {
     "name": "stderr",
     "output_type": "stream",
     "text": [
      "WARNING:tensorflow:Value in checkpoint could not be found in the restored object: (root).keras_api.metrics.0.count\n"
     ]
    },
    {
     "name": "stdout",
     "output_type": "stream",
     "text": [
      "WARNING:tensorflow:Value in checkpoint could not be found in the restored object: (root).keras_api.metrics.1.total\n"
     ]
    },
    {
     "name": "stderr",
     "output_type": "stream",
     "text": [
      "WARNING:tensorflow:Value in checkpoint could not be found in the restored object: (root).keras_api.metrics.1.total\n"
     ]
    },
    {
     "name": "stdout",
     "output_type": "stream",
     "text": [
      "WARNING:tensorflow:Value in checkpoint could not be found in the restored object: (root).keras_api.metrics.1.count\n"
     ]
    },
    {
     "name": "stderr",
     "output_type": "stream",
     "text": [
      "WARNING:tensorflow:Value in checkpoint could not be found in the restored object: (root).keras_api.metrics.1.count\n"
     ]
    },
    {
     "name": "stdout",
     "output_type": "stream",
     "text": [
      "WARNING:tensorflow:Detecting that an object or model or tf.train.Checkpoint is being deleted with unrestored values. See the following logs for the specific values in question. To silence these warnings, use `status.expect_partial()`. See https://www.tensorflow.org/api_docs/python/tf/train/Checkpoint#restorefor details about the status object returned by the restore function.\n"
     ]
    },
    {
     "name": "stderr",
     "output_type": "stream",
     "text": [
      "WARNING:tensorflow:Detecting that an object or model or tf.train.Checkpoint is being deleted with unrestored values. See the following logs for the specific values in question. To silence these warnings, use `status.expect_partial()`. See https://www.tensorflow.org/api_docs/python/tf/train/Checkpoint#restorefor details about the status object returned by the restore function.\n"
     ]
    },
    {
     "name": "stdout",
     "output_type": "stream",
     "text": [
      "WARNING:tensorflow:Value in checkpoint could not be found in the restored object: (root).keras_api.metrics.0.total\n"
     ]
    },
    {
     "name": "stderr",
     "output_type": "stream",
     "text": [
      "WARNING:tensorflow:Value in checkpoint could not be found in the restored object: (root).keras_api.metrics.0.total\n"
     ]
    },
    {
     "name": "stdout",
     "output_type": "stream",
     "text": [
      "WARNING:tensorflow:Value in checkpoint could not be found in the restored object: (root).keras_api.metrics.0.count\n"
     ]
    },
    {
     "name": "stderr",
     "output_type": "stream",
     "text": [
      "WARNING:tensorflow:Value in checkpoint could not be found in the restored object: (root).keras_api.metrics.0.count\n"
     ]
    },
    {
     "name": "stdout",
     "output_type": "stream",
     "text": [
      "WARNING:tensorflow:Value in checkpoint could not be found in the restored object: (root).keras_api.metrics.1.total\n"
     ]
    },
    {
     "name": "stderr",
     "output_type": "stream",
     "text": [
      "WARNING:tensorflow:Value in checkpoint could not be found in the restored object: (root).keras_api.metrics.1.total\n"
     ]
    },
    {
     "name": "stdout",
     "output_type": "stream",
     "text": [
      "WARNING:tensorflow:Value in checkpoint could not be found in the restored object: (root).keras_api.metrics.1.count\n"
     ]
    },
    {
     "name": "stderr",
     "output_type": "stream",
     "text": [
      "WARNING:tensorflow:Value in checkpoint could not be found in the restored object: (root).keras_api.metrics.1.count\n"
     ]
    },
    {
     "name": "stdout",
     "output_type": "stream",
     "text": [
      "WARNING:tensorflow:Detecting that an object or model or tf.train.Checkpoint is being deleted with unrestored values. See the following logs for the specific values in question. To silence these warnings, use `status.expect_partial()`. See https://www.tensorflow.org/api_docs/python/tf/train/Checkpoint#restorefor details about the status object returned by the restore function.\n"
     ]
    },
    {
     "name": "stderr",
     "output_type": "stream",
     "text": [
      "WARNING:tensorflow:Detecting that an object or model or tf.train.Checkpoint is being deleted with unrestored values. See the following logs for the specific values in question. To silence these warnings, use `status.expect_partial()`. See https://www.tensorflow.org/api_docs/python/tf/train/Checkpoint#restorefor details about the status object returned by the restore function.\n"
     ]
    },
    {
     "name": "stdout",
     "output_type": "stream",
     "text": [
      "WARNING:tensorflow:Value in checkpoint could not be found in the restored object: (root).keras_api.metrics.0.total\n"
     ]
    },
    {
     "name": "stderr",
     "output_type": "stream",
     "text": [
      "WARNING:tensorflow:Value in checkpoint could not be found in the restored object: (root).keras_api.metrics.0.total\n"
     ]
    },
    {
     "name": "stdout",
     "output_type": "stream",
     "text": [
      "WARNING:tensorflow:Value in checkpoint could not be found in the restored object: (root).keras_api.metrics.0.count\n"
     ]
    },
    {
     "name": "stderr",
     "output_type": "stream",
     "text": [
      "WARNING:tensorflow:Value in checkpoint could not be found in the restored object: (root).keras_api.metrics.0.count\n"
     ]
    },
    {
     "name": "stdout",
     "output_type": "stream",
     "text": [
      "WARNING:tensorflow:Value in checkpoint could not be found in the restored object: (root).keras_api.metrics.1.total\n"
     ]
    },
    {
     "name": "stderr",
     "output_type": "stream",
     "text": [
      "WARNING:tensorflow:Value in checkpoint could not be found in the restored object: (root).keras_api.metrics.1.total\n"
     ]
    },
    {
     "name": "stdout",
     "output_type": "stream",
     "text": [
      "WARNING:tensorflow:Value in checkpoint could not be found in the restored object: (root).keras_api.metrics.1.count\n"
     ]
    },
    {
     "name": "stderr",
     "output_type": "stream",
     "text": [
      "WARNING:tensorflow:Value in checkpoint could not be found in the restored object: (root).keras_api.metrics.1.count\n"
     ]
    },
    {
     "name": "stdout",
     "output_type": "stream",
     "text": [
      "INFO:tensorflow:Assets written to: C:\\Users\\RAJESH\\AppData\\Local\\Temp\\tmp2lnqrl4m\\assets\n"
     ]
    },
    {
     "name": "stderr",
     "output_type": "stream",
     "text": [
      "INFO:tensorflow:Assets written to: C:\\Users\\RAJESH\\AppData\\Local\\Temp\\tmp2lnqrl4m\\assets\n"
     ]
    },
    {
     "name": "stdout",
     "output_type": "stream",
     "text": [
      "INFO:tensorflow:Assets written to: C:\\Users\\RAJESH\\AppData\\Local\\Temp\\tmp17ljwmaq\\assets\n"
     ]
    },
    {
     "name": "stderr",
     "output_type": "stream",
     "text": [
      "INFO:tensorflow:Assets written to: C:\\Users\\RAJESH\\AppData\\Local\\Temp\\tmp17ljwmaq\\assets\n"
     ]
    },
    {
     "name": "stdout",
     "output_type": "stream",
     "text": [
      "INFO:tensorflow:Assets written to: C:\\Users\\RAJESH\\AppData\\Local\\Temp\\tmptjozzg73\\assets\n"
     ]
    },
    {
     "name": "stderr",
     "output_type": "stream",
     "text": [
      "INFO:tensorflow:Assets written to: C:\\Users\\RAJESH\\AppData\\Local\\Temp\\tmptjozzg73\\assets\n"
     ]
    },
    {
     "name": "stdout",
     "output_type": "stream",
     "text": [
      "INFO:tensorflow:Assets written to: C:\\Users\\RAJESH\\AppData\\Local\\Temp\\tmp9z8jyj26\\assets\n"
     ]
    },
    {
     "name": "stderr",
     "output_type": "stream",
     "text": [
      "INFO:tensorflow:Assets written to: C:\\Users\\RAJESH\\AppData\\Local\\Temp\\tmp9z8jyj26\\assets\n"
     ]
    },
    {
     "name": "stdout",
     "output_type": "stream",
     "text": [
      "INFO:tensorflow:Assets written to: C:\\Users\\RAJESH\\AppData\\Local\\Temp\\tmp1i7qq1o7\\assets\n"
     ]
    },
    {
     "name": "stderr",
     "output_type": "stream",
     "text": [
      "INFO:tensorflow:Assets written to: C:\\Users\\RAJESH\\AppData\\Local\\Temp\\tmp1i7qq1o7\\assets\n"
     ]
    },
    {
     "name": "stdout",
     "output_type": "stream",
     "text": [
      "INFO:tensorflow:Assets written to: C:\\Users\\RAJESH\\AppData\\Local\\Temp\\tmp9_n6wmo5\\assets\n"
     ]
    },
    {
     "name": "stderr",
     "output_type": "stream",
     "text": [
      "INFO:tensorflow:Assets written to: C:\\Users\\RAJESH\\AppData\\Local\\Temp\\tmp9_n6wmo5\\assets\n"
     ]
    },
    {
     "name": "stdout",
     "output_type": "stream",
     "text": [
      "INFO:tensorflow:Assets written to: C:\\Users\\RAJESH\\AppData\\Local\\Temp\\tmpix8drg0d\\assets\n"
     ]
    },
    {
     "name": "stderr",
     "output_type": "stream",
     "text": [
      "INFO:tensorflow:Assets written to: C:\\Users\\RAJESH\\AppData\\Local\\Temp\\tmpix8drg0d\\assets\n"
     ]
    },
    {
     "name": "stdout",
     "output_type": "stream",
     "text": [
      "INFO:tensorflow:Assets written to: C:\\Users\\RAJESH\\AppData\\Local\\Temp\\tmpgkkwp8v3\\assets\n"
     ]
    },
    {
     "name": "stderr",
     "output_type": "stream",
     "text": [
      "INFO:tensorflow:Assets written to: C:\\Users\\RAJESH\\AppData\\Local\\Temp\\tmpgkkwp8v3\\assets\n"
     ]
    },
    {
     "name": "stdout",
     "output_type": "stream",
     "text": [
      "WARNING:tensorflow:Detecting that an object or model or tf.train.Checkpoint is being deleted with unrestored values. See the following logs for the specific values in question. To silence these warnings, use `status.expect_partial()`. See https://www.tensorflow.org/api_docs/python/tf/train/Checkpoint#restorefor details about the status object returned by the restore function.\n"
     ]
    },
    {
     "name": "stderr",
     "output_type": "stream",
     "text": [
      "WARNING:tensorflow:Detecting that an object or model or tf.train.Checkpoint is being deleted with unrestored values. See the following logs for the specific values in question. To silence these warnings, use `status.expect_partial()`. See https://www.tensorflow.org/api_docs/python/tf/train/Checkpoint#restorefor details about the status object returned by the restore function.\n"
     ]
    },
    {
     "name": "stdout",
     "output_type": "stream",
     "text": [
      "WARNING:tensorflow:Value in checkpoint could not be found in the restored object: (root).keras_api.metrics.0.total\n"
     ]
    },
    {
     "name": "stderr",
     "output_type": "stream",
     "text": [
      "WARNING:tensorflow:Value in checkpoint could not be found in the restored object: (root).keras_api.metrics.0.total\n"
     ]
    },
    {
     "name": "stdout",
     "output_type": "stream",
     "text": [
      "WARNING:tensorflow:Value in checkpoint could not be found in the restored object: (root).keras_api.metrics.0.count\n"
     ]
    },
    {
     "name": "stderr",
     "output_type": "stream",
     "text": [
      "WARNING:tensorflow:Value in checkpoint could not be found in the restored object: (root).keras_api.metrics.0.count\n"
     ]
    },
    {
     "name": "stdout",
     "output_type": "stream",
     "text": [
      "WARNING:tensorflow:Value in checkpoint could not be found in the restored object: (root).keras_api.metrics.1.total\n"
     ]
    },
    {
     "name": "stderr",
     "output_type": "stream",
     "text": [
      "WARNING:tensorflow:Value in checkpoint could not be found in the restored object: (root).keras_api.metrics.1.total\n"
     ]
    },
    {
     "name": "stdout",
     "output_type": "stream",
     "text": [
      "WARNING:tensorflow:Value in checkpoint could not be found in the restored object: (root).keras_api.metrics.1.count\n"
     ]
    },
    {
     "name": "stderr",
     "output_type": "stream",
     "text": [
      "WARNING:tensorflow:Value in checkpoint could not be found in the restored object: (root).keras_api.metrics.1.count\n"
     ]
    },
    {
     "name": "stdout",
     "output_type": "stream",
     "text": [
      "WARNING:tensorflow:Detecting that an object or model or tf.train.Checkpoint is being deleted with unrestored values. See the following logs for the specific values in question. To silence these warnings, use `status.expect_partial()`. See https://www.tensorflow.org/api_docs/python/tf/train/Checkpoint#restorefor details about the status object returned by the restore function.\n"
     ]
    },
    {
     "name": "stderr",
     "output_type": "stream",
     "text": [
      "WARNING:tensorflow:Detecting that an object or model or tf.train.Checkpoint is being deleted with unrestored values. See the following logs for the specific values in question. To silence these warnings, use `status.expect_partial()`. See https://www.tensorflow.org/api_docs/python/tf/train/Checkpoint#restorefor details about the status object returned by the restore function.\n"
     ]
    },
    {
     "name": "stdout",
     "output_type": "stream",
     "text": [
      "WARNING:tensorflow:Value in checkpoint could not be found in the restored object: (root).keras_api.metrics.0.total\n"
     ]
    },
    {
     "name": "stderr",
     "output_type": "stream",
     "text": [
      "WARNING:tensorflow:Value in checkpoint could not be found in the restored object: (root).keras_api.metrics.0.total\n"
     ]
    },
    {
     "name": "stdout",
     "output_type": "stream",
     "text": [
      "WARNING:tensorflow:Value in checkpoint could not be found in the restored object: (root).keras_api.metrics.0.count\n"
     ]
    },
    {
     "name": "stderr",
     "output_type": "stream",
     "text": [
      "WARNING:tensorflow:Value in checkpoint could not be found in the restored object: (root).keras_api.metrics.0.count\n"
     ]
    },
    {
     "name": "stdout",
     "output_type": "stream",
     "text": [
      "WARNING:tensorflow:Value in checkpoint could not be found in the restored object: (root).keras_api.metrics.1.total\n"
     ]
    },
    {
     "name": "stderr",
     "output_type": "stream",
     "text": [
      "WARNING:tensorflow:Value in checkpoint could not be found in the restored object: (root).keras_api.metrics.1.total\n"
     ]
    },
    {
     "name": "stdout",
     "output_type": "stream",
     "text": [
      "WARNING:tensorflow:Value in checkpoint could not be found in the restored object: (root).keras_api.metrics.1.count\n"
     ]
    },
    {
     "name": "stderr",
     "output_type": "stream",
     "text": [
      "WARNING:tensorflow:Value in checkpoint could not be found in the restored object: (root).keras_api.metrics.1.count\n"
     ]
    },
    {
     "name": "stdout",
     "output_type": "stream",
     "text": [
      "WARNING:tensorflow:Detecting that an object or model or tf.train.Checkpoint is being deleted with unrestored values. See the following logs for the specific values in question. To silence these warnings, use `status.expect_partial()`. See https://www.tensorflow.org/api_docs/python/tf/train/Checkpoint#restorefor details about the status object returned by the restore function.\n"
     ]
    },
    {
     "name": "stderr",
     "output_type": "stream",
     "text": [
      "WARNING:tensorflow:Detecting that an object or model or tf.train.Checkpoint is being deleted with unrestored values. See the following logs for the specific values in question. To silence these warnings, use `status.expect_partial()`. See https://www.tensorflow.org/api_docs/python/tf/train/Checkpoint#restorefor details about the status object returned by the restore function.\n"
     ]
    },
    {
     "name": "stdout",
     "output_type": "stream",
     "text": [
      "WARNING:tensorflow:Value in checkpoint could not be found in the restored object: (root).keras_api.metrics.0.total\n"
     ]
    },
    {
     "name": "stderr",
     "output_type": "stream",
     "text": [
      "WARNING:tensorflow:Value in checkpoint could not be found in the restored object: (root).keras_api.metrics.0.total\n"
     ]
    },
    {
     "name": "stdout",
     "output_type": "stream",
     "text": [
      "WARNING:tensorflow:Value in checkpoint could not be found in the restored object: (root).keras_api.metrics.0.count\n"
     ]
    },
    {
     "name": "stderr",
     "output_type": "stream",
     "text": [
      "WARNING:tensorflow:Value in checkpoint could not be found in the restored object: (root).keras_api.metrics.0.count\n"
     ]
    },
    {
     "name": "stdout",
     "output_type": "stream",
     "text": [
      "WARNING:tensorflow:Value in checkpoint could not be found in the restored object: (root).keras_api.metrics.1.total\n"
     ]
    },
    {
     "name": "stderr",
     "output_type": "stream",
     "text": [
      "WARNING:tensorflow:Value in checkpoint could not be found in the restored object: (root).keras_api.metrics.1.total\n"
     ]
    },
    {
     "name": "stdout",
     "output_type": "stream",
     "text": [
      "WARNING:tensorflow:Value in checkpoint could not be found in the restored object: (root).keras_api.metrics.1.count\n"
     ]
    },
    {
     "name": "stderr",
     "output_type": "stream",
     "text": [
      "WARNING:tensorflow:Value in checkpoint could not be found in the restored object: (root).keras_api.metrics.1.count\n"
     ]
    },
    {
     "name": "stdout",
     "output_type": "stream",
     "text": [
      "WARNING:tensorflow:Detecting that an object or model or tf.train.Checkpoint is being deleted with unrestored values. See the following logs for the specific values in question. To silence these warnings, use `status.expect_partial()`. See https://www.tensorflow.org/api_docs/python/tf/train/Checkpoint#restorefor details about the status object returned by the restore function.\n"
     ]
    },
    {
     "name": "stderr",
     "output_type": "stream",
     "text": [
      "WARNING:tensorflow:Detecting that an object or model or tf.train.Checkpoint is being deleted with unrestored values. See the following logs for the specific values in question. To silence these warnings, use `status.expect_partial()`. See https://www.tensorflow.org/api_docs/python/tf/train/Checkpoint#restorefor details about the status object returned by the restore function.\n"
     ]
    },
    {
     "name": "stdout",
     "output_type": "stream",
     "text": [
      "WARNING:tensorflow:Value in checkpoint could not be found in the restored object: (root).keras_api.metrics.0.total\n"
     ]
    },
    {
     "name": "stderr",
     "output_type": "stream",
     "text": [
      "WARNING:tensorflow:Value in checkpoint could not be found in the restored object: (root).keras_api.metrics.0.total\n"
     ]
    },
    {
     "name": "stdout",
     "output_type": "stream",
     "text": [
      "WARNING:tensorflow:Value in checkpoint could not be found in the restored object: (root).keras_api.metrics.0.count\n"
     ]
    },
    {
     "name": "stderr",
     "output_type": "stream",
     "text": [
      "WARNING:tensorflow:Value in checkpoint could not be found in the restored object: (root).keras_api.metrics.0.count\n"
     ]
    },
    {
     "name": "stdout",
     "output_type": "stream",
     "text": [
      "WARNING:tensorflow:Value in checkpoint could not be found in the restored object: (root).keras_api.metrics.1.total\n"
     ]
    },
    {
     "name": "stderr",
     "output_type": "stream",
     "text": [
      "WARNING:tensorflow:Value in checkpoint could not be found in the restored object: (root).keras_api.metrics.1.total\n"
     ]
    },
    {
     "name": "stdout",
     "output_type": "stream",
     "text": [
      "WARNING:tensorflow:Value in checkpoint could not be found in the restored object: (root).keras_api.metrics.1.count\n"
     ]
    },
    {
     "name": "stderr",
     "output_type": "stream",
     "text": [
      "WARNING:tensorflow:Value in checkpoint could not be found in the restored object: (root).keras_api.metrics.1.count\n"
     ]
    },
    {
     "name": "stdout",
     "output_type": "stream",
     "text": [
      "WARNING:tensorflow:Detecting that an object or model or tf.train.Checkpoint is being deleted with unrestored values. See the following logs for the specific values in question. To silence these warnings, use `status.expect_partial()`. See https://www.tensorflow.org/api_docs/python/tf/train/Checkpoint#restorefor details about the status object returned by the restore function.\n"
     ]
    },
    {
     "name": "stderr",
     "output_type": "stream",
     "text": [
      "WARNING:tensorflow:Detecting that an object or model or tf.train.Checkpoint is being deleted with unrestored values. See the following logs for the specific values in question. To silence these warnings, use `status.expect_partial()`. See https://www.tensorflow.org/api_docs/python/tf/train/Checkpoint#restorefor details about the status object returned by the restore function.\n"
     ]
    },
    {
     "name": "stdout",
     "output_type": "stream",
     "text": [
      "WARNING:tensorflow:Value in checkpoint could not be found in the restored object: (root).keras_api.metrics.0.total\n"
     ]
    },
    {
     "name": "stderr",
     "output_type": "stream",
     "text": [
      "WARNING:tensorflow:Value in checkpoint could not be found in the restored object: (root).keras_api.metrics.0.total\n"
     ]
    },
    {
     "name": "stdout",
     "output_type": "stream",
     "text": [
      "WARNING:tensorflow:Value in checkpoint could not be found in the restored object: (root).keras_api.metrics.0.count\n"
     ]
    },
    {
     "name": "stderr",
     "output_type": "stream",
     "text": [
      "WARNING:tensorflow:Value in checkpoint could not be found in the restored object: (root).keras_api.metrics.0.count\n"
     ]
    },
    {
     "name": "stdout",
     "output_type": "stream",
     "text": [
      "WARNING:tensorflow:Value in checkpoint could not be found in the restored object: (root).keras_api.metrics.1.total\n"
     ]
    },
    {
     "name": "stderr",
     "output_type": "stream",
     "text": [
      "WARNING:tensorflow:Value in checkpoint could not be found in the restored object: (root).keras_api.metrics.1.total\n"
     ]
    },
    {
     "name": "stdout",
     "output_type": "stream",
     "text": [
      "WARNING:tensorflow:Value in checkpoint could not be found in the restored object: (root).keras_api.metrics.1.count\n"
     ]
    },
    {
     "name": "stderr",
     "output_type": "stream",
     "text": [
      "WARNING:tensorflow:Value in checkpoint could not be found in the restored object: (root).keras_api.metrics.1.count\n"
     ]
    },
    {
     "name": "stdout",
     "output_type": "stream",
     "text": [
      "WARNING:tensorflow:Detecting that an object or model or tf.train.Checkpoint is being deleted with unrestored values. See the following logs for the specific values in question. To silence these warnings, use `status.expect_partial()`. See https://www.tensorflow.org/api_docs/python/tf/train/Checkpoint#restorefor details about the status object returned by the restore function.\n"
     ]
    },
    {
     "name": "stderr",
     "output_type": "stream",
     "text": [
      "WARNING:tensorflow:Detecting that an object or model or tf.train.Checkpoint is being deleted with unrestored values. See the following logs for the specific values in question. To silence these warnings, use `status.expect_partial()`. See https://www.tensorflow.org/api_docs/python/tf/train/Checkpoint#restorefor details about the status object returned by the restore function.\n"
     ]
    },
    {
     "name": "stdout",
     "output_type": "stream",
     "text": [
      "WARNING:tensorflow:Value in checkpoint could not be found in the restored object: (root).keras_api.metrics.0.total\n"
     ]
    },
    {
     "name": "stderr",
     "output_type": "stream",
     "text": [
      "WARNING:tensorflow:Value in checkpoint could not be found in the restored object: (root).keras_api.metrics.0.total\n"
     ]
    },
    {
     "name": "stdout",
     "output_type": "stream",
     "text": [
      "WARNING:tensorflow:Value in checkpoint could not be found in the restored object: (root).keras_api.metrics.0.count\n"
     ]
    },
    {
     "name": "stderr",
     "output_type": "stream",
     "text": [
      "WARNING:tensorflow:Value in checkpoint could not be found in the restored object: (root).keras_api.metrics.0.count\n"
     ]
    },
    {
     "name": "stdout",
     "output_type": "stream",
     "text": [
      "WARNING:tensorflow:Value in checkpoint could not be found in the restored object: (root).keras_api.metrics.1.total\n"
     ]
    },
    {
     "name": "stderr",
     "output_type": "stream",
     "text": [
      "WARNING:tensorflow:Value in checkpoint could not be found in the restored object: (root).keras_api.metrics.1.total\n"
     ]
    },
    {
     "name": "stdout",
     "output_type": "stream",
     "text": [
      "WARNING:tensorflow:Value in checkpoint could not be found in the restored object: (root).keras_api.metrics.1.count\n"
     ]
    },
    {
     "name": "stderr",
     "output_type": "stream",
     "text": [
      "WARNING:tensorflow:Value in checkpoint could not be found in the restored object: (root).keras_api.metrics.1.count\n"
     ]
    },
    {
     "name": "stdout",
     "output_type": "stream",
     "text": [
      "WARNING:tensorflow:Detecting that an object or model or tf.train.Checkpoint is being deleted with unrestored values. See the following logs for the specific values in question. To silence these warnings, use `status.expect_partial()`. See https://www.tensorflow.org/api_docs/python/tf/train/Checkpoint#restorefor details about the status object returned by the restore function.\n"
     ]
    },
    {
     "name": "stderr",
     "output_type": "stream",
     "text": [
      "WARNING:tensorflow:Detecting that an object or model or tf.train.Checkpoint is being deleted with unrestored values. See the following logs for the specific values in question. To silence these warnings, use `status.expect_partial()`. See https://www.tensorflow.org/api_docs/python/tf/train/Checkpoint#restorefor details about the status object returned by the restore function.\n"
     ]
    },
    {
     "name": "stdout",
     "output_type": "stream",
     "text": [
      "WARNING:tensorflow:Value in checkpoint could not be found in the restored object: (root).keras_api.metrics.0.total\n"
     ]
    },
    {
     "name": "stderr",
     "output_type": "stream",
     "text": [
      "WARNING:tensorflow:Value in checkpoint could not be found in the restored object: (root).keras_api.metrics.0.total\n"
     ]
    },
    {
     "name": "stdout",
     "output_type": "stream",
     "text": [
      "WARNING:tensorflow:Value in checkpoint could not be found in the restored object: (root).keras_api.metrics.0.count\n"
     ]
    },
    {
     "name": "stderr",
     "output_type": "stream",
     "text": [
      "WARNING:tensorflow:Value in checkpoint could not be found in the restored object: (root).keras_api.metrics.0.count\n"
     ]
    },
    {
     "name": "stdout",
     "output_type": "stream",
     "text": [
      "WARNING:tensorflow:Value in checkpoint could not be found in the restored object: (root).keras_api.metrics.1.total\n"
     ]
    },
    {
     "name": "stderr",
     "output_type": "stream",
     "text": [
      "WARNING:tensorflow:Value in checkpoint could not be found in the restored object: (root).keras_api.metrics.1.total\n"
     ]
    },
    {
     "name": "stdout",
     "output_type": "stream",
     "text": [
      "WARNING:tensorflow:Value in checkpoint could not be found in the restored object: (root).keras_api.metrics.1.count\n"
     ]
    },
    {
     "name": "stderr",
     "output_type": "stream",
     "text": [
      "WARNING:tensorflow:Value in checkpoint could not be found in the restored object: (root).keras_api.metrics.1.count\n"
     ]
    },
    {
     "name": "stdout",
     "output_type": "stream",
     "text": [
      "WARNING:tensorflow:Detecting that an object or model or tf.train.Checkpoint is being deleted with unrestored values. See the following logs for the specific values in question. To silence these warnings, use `status.expect_partial()`. See https://www.tensorflow.org/api_docs/python/tf/train/Checkpoint#restorefor details about the status object returned by the restore function.\n"
     ]
    },
    {
     "name": "stderr",
     "output_type": "stream",
     "text": [
      "WARNING:tensorflow:Detecting that an object or model or tf.train.Checkpoint is being deleted with unrestored values. See the following logs for the specific values in question. To silence these warnings, use `status.expect_partial()`. See https://www.tensorflow.org/api_docs/python/tf/train/Checkpoint#restorefor details about the status object returned by the restore function.\n"
     ]
    },
    {
     "name": "stdout",
     "output_type": "stream",
     "text": [
      "WARNING:tensorflow:Value in checkpoint could not be found in the restored object: (root).keras_api.metrics.0.total\n"
     ]
    },
    {
     "name": "stderr",
     "output_type": "stream",
     "text": [
      "WARNING:tensorflow:Value in checkpoint could not be found in the restored object: (root).keras_api.metrics.0.total\n"
     ]
    },
    {
     "name": "stdout",
     "output_type": "stream",
     "text": [
      "WARNING:tensorflow:Value in checkpoint could not be found in the restored object: (root).keras_api.metrics.0.count\n"
     ]
    },
    {
     "name": "stderr",
     "output_type": "stream",
     "text": [
      "WARNING:tensorflow:Value in checkpoint could not be found in the restored object: (root).keras_api.metrics.0.count\n"
     ]
    },
    {
     "name": "stdout",
     "output_type": "stream",
     "text": [
      "WARNING:tensorflow:Value in checkpoint could not be found in the restored object: (root).keras_api.metrics.1.total\n"
     ]
    },
    {
     "name": "stderr",
     "output_type": "stream",
     "text": [
      "WARNING:tensorflow:Value in checkpoint could not be found in the restored object: (root).keras_api.metrics.1.total\n"
     ]
    },
    {
     "name": "stdout",
     "output_type": "stream",
     "text": [
      "WARNING:tensorflow:Value in checkpoint could not be found in the restored object: (root).keras_api.metrics.1.count\n"
     ]
    },
    {
     "name": "stderr",
     "output_type": "stream",
     "text": [
      "WARNING:tensorflow:Value in checkpoint could not be found in the restored object: (root).keras_api.metrics.1.count\n"
     ]
    },
    {
     "name": "stdout",
     "output_type": "stream",
     "text": [
      "INFO:tensorflow:Assets written to: C:\\Users\\RAJESH\\AppData\\Local\\Temp\\tmp5r7p622o\\assets\n"
     ]
    },
    {
     "name": "stderr",
     "output_type": "stream",
     "text": [
      "INFO:tensorflow:Assets written to: C:\\Users\\RAJESH\\AppData\\Local\\Temp\\tmp5r7p622o\\assets\n"
     ]
    },
    {
     "name": "stdout",
     "output_type": "stream",
     "text": [
      "INFO:tensorflow:Assets written to: C:\\Users\\RAJESH\\AppData\\Local\\Temp\\tmpi7cnxuag\\assets\n"
     ]
    },
    {
     "name": "stderr",
     "output_type": "stream",
     "text": [
      "INFO:tensorflow:Assets written to: C:\\Users\\RAJESH\\AppData\\Local\\Temp\\tmpi7cnxuag\\assets\n"
     ]
    },
    {
     "name": "stdout",
     "output_type": "stream",
     "text": [
      "INFO:tensorflow:Assets written to: C:\\Users\\RAJESH\\AppData\\Local\\Temp\\tmp7poe_fzf\\assets\n"
     ]
    },
    {
     "name": "stderr",
     "output_type": "stream",
     "text": [
      "INFO:tensorflow:Assets written to: C:\\Users\\RAJESH\\AppData\\Local\\Temp\\tmp7poe_fzf\\assets\n"
     ]
    },
    {
     "name": "stdout",
     "output_type": "stream",
     "text": [
      "INFO:tensorflow:Assets written to: C:\\Users\\RAJESH\\AppData\\Local\\Temp\\tmpewwcegdo\\assets\n"
     ]
    },
    {
     "name": "stderr",
     "output_type": "stream",
     "text": [
      "INFO:tensorflow:Assets written to: C:\\Users\\RAJESH\\AppData\\Local\\Temp\\tmpewwcegdo\\assets\n"
     ]
    },
    {
     "name": "stdout",
     "output_type": "stream",
     "text": [
      "INFO:tensorflow:Assets written to: C:\\Users\\RAJESH\\AppData\\Local\\Temp\\tmpmxxeqmr2\\assets\n"
     ]
    },
    {
     "name": "stderr",
     "output_type": "stream",
     "text": [
      "INFO:tensorflow:Assets written to: C:\\Users\\RAJESH\\AppData\\Local\\Temp\\tmpmxxeqmr2\\assets\n"
     ]
    },
    {
     "name": "stdout",
     "output_type": "stream",
     "text": [
      "INFO:tensorflow:Assets written to: C:\\Users\\RAJESH\\AppData\\Local\\Temp\\tmpy1l2cpgl\\assets\n"
     ]
    },
    {
     "name": "stderr",
     "output_type": "stream",
     "text": [
      "INFO:tensorflow:Assets written to: C:\\Users\\RAJESH\\AppData\\Local\\Temp\\tmpy1l2cpgl\\assets\n"
     ]
    },
    {
     "name": "stdout",
     "output_type": "stream",
     "text": [
      "INFO:tensorflow:Assets written to: C:\\Users\\RAJESH\\AppData\\Local\\Temp\\tmp5557g2ha\\assets\n"
     ]
    },
    {
     "name": "stderr",
     "output_type": "stream",
     "text": [
      "INFO:tensorflow:Assets written to: C:\\Users\\RAJESH\\AppData\\Local\\Temp\\tmp5557g2ha\\assets\n"
     ]
    },
    {
     "name": "stdout",
     "output_type": "stream",
     "text": [
      "INFO:tensorflow:Assets written to: C:\\Users\\RAJESH\\AppData\\Local\\Temp\\tmp3uyxf_f8\\assets\n"
     ]
    },
    {
     "name": "stderr",
     "output_type": "stream",
     "text": [
      "INFO:tensorflow:Assets written to: C:\\Users\\RAJESH\\AppData\\Local\\Temp\\tmp3uyxf_f8\\assets\n"
     ]
    },
    {
     "name": "stdout",
     "output_type": "stream",
     "text": [
      "WARNING:tensorflow:Detecting that an object or model or tf.train.Checkpoint is being deleted with unrestored values. See the following logs for the specific values in question. To silence these warnings, use `status.expect_partial()`. See https://www.tensorflow.org/api_docs/python/tf/train/Checkpoint#restorefor details about the status object returned by the restore function.\n"
     ]
    },
    {
     "name": "stderr",
     "output_type": "stream",
     "text": [
      "WARNING:tensorflow:Detecting that an object or model or tf.train.Checkpoint is being deleted with unrestored values. See the following logs for the specific values in question. To silence these warnings, use `status.expect_partial()`. See https://www.tensorflow.org/api_docs/python/tf/train/Checkpoint#restorefor details about the status object returned by the restore function.\n"
     ]
    },
    {
     "name": "stdout",
     "output_type": "stream",
     "text": [
      "WARNING:tensorflow:Value in checkpoint could not be found in the restored object: (root).keras_api.metrics.0.total\n"
     ]
    },
    {
     "name": "stderr",
     "output_type": "stream",
     "text": [
      "WARNING:tensorflow:Value in checkpoint could not be found in the restored object: (root).keras_api.metrics.0.total\n"
     ]
    },
    {
     "name": "stdout",
     "output_type": "stream",
     "text": [
      "WARNING:tensorflow:Value in checkpoint could not be found in the restored object: (root).keras_api.metrics.0.count\n"
     ]
    },
    {
     "name": "stderr",
     "output_type": "stream",
     "text": [
      "WARNING:tensorflow:Value in checkpoint could not be found in the restored object: (root).keras_api.metrics.0.count\n"
     ]
    },
    {
     "name": "stdout",
     "output_type": "stream",
     "text": [
      "WARNING:tensorflow:Value in checkpoint could not be found in the restored object: (root).keras_api.metrics.1.total\n"
     ]
    },
    {
     "name": "stderr",
     "output_type": "stream",
     "text": [
      "WARNING:tensorflow:Value in checkpoint could not be found in the restored object: (root).keras_api.metrics.1.total\n"
     ]
    },
    {
     "name": "stdout",
     "output_type": "stream",
     "text": [
      "WARNING:tensorflow:Value in checkpoint could not be found in the restored object: (root).keras_api.metrics.1.count\n"
     ]
    },
    {
     "name": "stderr",
     "output_type": "stream",
     "text": [
      "WARNING:tensorflow:Value in checkpoint could not be found in the restored object: (root).keras_api.metrics.1.count\n"
     ]
    },
    {
     "name": "stdout",
     "output_type": "stream",
     "text": [
      "WARNING:tensorflow:Detecting that an object or model or tf.train.Checkpoint is being deleted with unrestored values. See the following logs for the specific values in question. To silence these warnings, use `status.expect_partial()`. See https://www.tensorflow.org/api_docs/python/tf/train/Checkpoint#restorefor details about the status object returned by the restore function.\n"
     ]
    },
    {
     "name": "stderr",
     "output_type": "stream",
     "text": [
      "WARNING:tensorflow:Detecting that an object or model or tf.train.Checkpoint is being deleted with unrestored values. See the following logs for the specific values in question. To silence these warnings, use `status.expect_partial()`. See https://www.tensorflow.org/api_docs/python/tf/train/Checkpoint#restorefor details about the status object returned by the restore function.\n"
     ]
    },
    {
     "name": "stdout",
     "output_type": "stream",
     "text": [
      "WARNING:tensorflow:Value in checkpoint could not be found in the restored object: (root).keras_api.metrics.0.total\n"
     ]
    },
    {
     "name": "stderr",
     "output_type": "stream",
     "text": [
      "WARNING:tensorflow:Value in checkpoint could not be found in the restored object: (root).keras_api.metrics.0.total\n"
     ]
    },
    {
     "name": "stdout",
     "output_type": "stream",
     "text": [
      "WARNING:tensorflow:Value in checkpoint could not be found in the restored object: (root).keras_api.metrics.0.count\n"
     ]
    },
    {
     "name": "stderr",
     "output_type": "stream",
     "text": [
      "WARNING:tensorflow:Value in checkpoint could not be found in the restored object: (root).keras_api.metrics.0.count\n"
     ]
    },
    {
     "name": "stdout",
     "output_type": "stream",
     "text": [
      "WARNING:tensorflow:Value in checkpoint could not be found in the restored object: (root).keras_api.metrics.1.total\n"
     ]
    },
    {
     "name": "stderr",
     "output_type": "stream",
     "text": [
      "WARNING:tensorflow:Value in checkpoint could not be found in the restored object: (root).keras_api.metrics.1.total\n"
     ]
    },
    {
     "name": "stdout",
     "output_type": "stream",
     "text": [
      "WARNING:tensorflow:Value in checkpoint could not be found in the restored object: (root).keras_api.metrics.1.count\n"
     ]
    },
    {
     "name": "stderr",
     "output_type": "stream",
     "text": [
      "WARNING:tensorflow:Value in checkpoint could not be found in the restored object: (root).keras_api.metrics.1.count\n"
     ]
    },
    {
     "name": "stdout",
     "output_type": "stream",
     "text": [
      "WARNING:tensorflow:Detecting that an object or model or tf.train.Checkpoint is being deleted with unrestored values. See the following logs for the specific values in question. To silence these warnings, use `status.expect_partial()`. See https://www.tensorflow.org/api_docs/python/tf/train/Checkpoint#restorefor details about the status object returned by the restore function.\n"
     ]
    },
    {
     "name": "stderr",
     "output_type": "stream",
     "text": [
      "WARNING:tensorflow:Detecting that an object or model or tf.train.Checkpoint is being deleted with unrestored values. See the following logs for the specific values in question. To silence these warnings, use `status.expect_partial()`. See https://www.tensorflow.org/api_docs/python/tf/train/Checkpoint#restorefor details about the status object returned by the restore function.\n"
     ]
    },
    {
     "name": "stdout",
     "output_type": "stream",
     "text": [
      "WARNING:tensorflow:Value in checkpoint could not be found in the restored object: (root).keras_api.metrics.0.total\n"
     ]
    },
    {
     "name": "stderr",
     "output_type": "stream",
     "text": [
      "WARNING:tensorflow:Value in checkpoint could not be found in the restored object: (root).keras_api.metrics.0.total\n"
     ]
    },
    {
     "name": "stdout",
     "output_type": "stream",
     "text": [
      "WARNING:tensorflow:Value in checkpoint could not be found in the restored object: (root).keras_api.metrics.0.count\n"
     ]
    },
    {
     "name": "stderr",
     "output_type": "stream",
     "text": [
      "WARNING:tensorflow:Value in checkpoint could not be found in the restored object: (root).keras_api.metrics.0.count\n"
     ]
    },
    {
     "name": "stdout",
     "output_type": "stream",
     "text": [
      "WARNING:tensorflow:Value in checkpoint could not be found in the restored object: (root).keras_api.metrics.1.total\n"
     ]
    },
    {
     "name": "stderr",
     "output_type": "stream",
     "text": [
      "WARNING:tensorflow:Value in checkpoint could not be found in the restored object: (root).keras_api.metrics.1.total\n"
     ]
    },
    {
     "name": "stdout",
     "output_type": "stream",
     "text": [
      "WARNING:tensorflow:Value in checkpoint could not be found in the restored object: (root).keras_api.metrics.1.count\n"
     ]
    },
    {
     "name": "stderr",
     "output_type": "stream",
     "text": [
      "WARNING:tensorflow:Value in checkpoint could not be found in the restored object: (root).keras_api.metrics.1.count\n"
     ]
    },
    {
     "name": "stdout",
     "output_type": "stream",
     "text": [
      "WARNING:tensorflow:Detecting that an object or model or tf.train.Checkpoint is being deleted with unrestored values. See the following logs for the specific values in question. To silence these warnings, use `status.expect_partial()`. See https://www.tensorflow.org/api_docs/python/tf/train/Checkpoint#restorefor details about the status object returned by the restore function.\n"
     ]
    },
    {
     "name": "stderr",
     "output_type": "stream",
     "text": [
      "WARNING:tensorflow:Detecting that an object or model or tf.train.Checkpoint is being deleted with unrestored values. See the following logs for the specific values in question. To silence these warnings, use `status.expect_partial()`. See https://www.tensorflow.org/api_docs/python/tf/train/Checkpoint#restorefor details about the status object returned by the restore function.\n"
     ]
    },
    {
     "name": "stdout",
     "output_type": "stream",
     "text": [
      "WARNING:tensorflow:Value in checkpoint could not be found in the restored object: (root).keras_api.metrics.0.total\n"
     ]
    },
    {
     "name": "stderr",
     "output_type": "stream",
     "text": [
      "WARNING:tensorflow:Value in checkpoint could not be found in the restored object: (root).keras_api.metrics.0.total\n"
     ]
    },
    {
     "name": "stdout",
     "output_type": "stream",
     "text": [
      "WARNING:tensorflow:Value in checkpoint could not be found in the restored object: (root).keras_api.metrics.0.count\n"
     ]
    },
    {
     "name": "stderr",
     "output_type": "stream",
     "text": [
      "WARNING:tensorflow:Value in checkpoint could not be found in the restored object: (root).keras_api.metrics.0.count\n"
     ]
    },
    {
     "name": "stdout",
     "output_type": "stream",
     "text": [
      "WARNING:tensorflow:Value in checkpoint could not be found in the restored object: (root).keras_api.metrics.1.total\n"
     ]
    },
    {
     "name": "stderr",
     "output_type": "stream",
     "text": [
      "WARNING:tensorflow:Value in checkpoint could not be found in the restored object: (root).keras_api.metrics.1.total\n"
     ]
    },
    {
     "name": "stdout",
     "output_type": "stream",
     "text": [
      "WARNING:tensorflow:Value in checkpoint could not be found in the restored object: (root).keras_api.metrics.1.count\n"
     ]
    },
    {
     "name": "stderr",
     "output_type": "stream",
     "text": [
      "WARNING:tensorflow:Value in checkpoint could not be found in the restored object: (root).keras_api.metrics.1.count\n"
     ]
    },
    {
     "name": "stdout",
     "output_type": "stream",
     "text": [
      "WARNING:tensorflow:Detecting that an object or model or tf.train.Checkpoint is being deleted with unrestored values. See the following logs for the specific values in question. To silence these warnings, use `status.expect_partial()`. See https://www.tensorflow.org/api_docs/python/tf/train/Checkpoint#restorefor details about the status object returned by the restore function.\n"
     ]
    },
    {
     "name": "stderr",
     "output_type": "stream",
     "text": [
      "WARNING:tensorflow:Detecting that an object or model or tf.train.Checkpoint is being deleted with unrestored values. See the following logs for the specific values in question. To silence these warnings, use `status.expect_partial()`. See https://www.tensorflow.org/api_docs/python/tf/train/Checkpoint#restorefor details about the status object returned by the restore function.\n"
     ]
    },
    {
     "name": "stdout",
     "output_type": "stream",
     "text": [
      "WARNING:tensorflow:Value in checkpoint could not be found in the restored object: (root).keras_api.metrics.0.total\n"
     ]
    },
    {
     "name": "stderr",
     "output_type": "stream",
     "text": [
      "WARNING:tensorflow:Value in checkpoint could not be found in the restored object: (root).keras_api.metrics.0.total\n"
     ]
    },
    {
     "name": "stdout",
     "output_type": "stream",
     "text": [
      "WARNING:tensorflow:Value in checkpoint could not be found in the restored object: (root).keras_api.metrics.0.count\n"
     ]
    },
    {
     "name": "stderr",
     "output_type": "stream",
     "text": [
      "WARNING:tensorflow:Value in checkpoint could not be found in the restored object: (root).keras_api.metrics.0.count\n"
     ]
    },
    {
     "name": "stdout",
     "output_type": "stream",
     "text": [
      "WARNING:tensorflow:Value in checkpoint could not be found in the restored object: (root).keras_api.metrics.1.total\n"
     ]
    },
    {
     "name": "stderr",
     "output_type": "stream",
     "text": [
      "WARNING:tensorflow:Value in checkpoint could not be found in the restored object: (root).keras_api.metrics.1.total\n"
     ]
    },
    {
     "name": "stdout",
     "output_type": "stream",
     "text": [
      "WARNING:tensorflow:Value in checkpoint could not be found in the restored object: (root).keras_api.metrics.1.count\n"
     ]
    },
    {
     "name": "stderr",
     "output_type": "stream",
     "text": [
      "WARNING:tensorflow:Value in checkpoint could not be found in the restored object: (root).keras_api.metrics.1.count\n"
     ]
    },
    {
     "name": "stdout",
     "output_type": "stream",
     "text": [
      "WARNING:tensorflow:Detecting that an object or model or tf.train.Checkpoint is being deleted with unrestored values. See the following logs for the specific values in question. To silence these warnings, use `status.expect_partial()`. See https://www.tensorflow.org/api_docs/python/tf/train/Checkpoint#restorefor details about the status object returned by the restore function.\n"
     ]
    },
    {
     "name": "stderr",
     "output_type": "stream",
     "text": [
      "WARNING:tensorflow:Detecting that an object or model or tf.train.Checkpoint is being deleted with unrestored values. See the following logs for the specific values in question. To silence these warnings, use `status.expect_partial()`. See https://www.tensorflow.org/api_docs/python/tf/train/Checkpoint#restorefor details about the status object returned by the restore function.\n"
     ]
    },
    {
     "name": "stdout",
     "output_type": "stream",
     "text": [
      "WARNING:tensorflow:Value in checkpoint could not be found in the restored object: (root).keras_api.metrics.0.total\n"
     ]
    },
    {
     "name": "stderr",
     "output_type": "stream",
     "text": [
      "WARNING:tensorflow:Value in checkpoint could not be found in the restored object: (root).keras_api.metrics.0.total\n"
     ]
    },
    {
     "name": "stdout",
     "output_type": "stream",
     "text": [
      "WARNING:tensorflow:Value in checkpoint could not be found in the restored object: (root).keras_api.metrics.0.count\n"
     ]
    },
    {
     "name": "stderr",
     "output_type": "stream",
     "text": [
      "WARNING:tensorflow:Value in checkpoint could not be found in the restored object: (root).keras_api.metrics.0.count\n"
     ]
    },
    {
     "name": "stdout",
     "output_type": "stream",
     "text": [
      "WARNING:tensorflow:Value in checkpoint could not be found in the restored object: (root).keras_api.metrics.1.total\n"
     ]
    },
    {
     "name": "stderr",
     "output_type": "stream",
     "text": [
      "WARNING:tensorflow:Value in checkpoint could not be found in the restored object: (root).keras_api.metrics.1.total\n"
     ]
    },
    {
     "name": "stdout",
     "output_type": "stream",
     "text": [
      "WARNING:tensorflow:Value in checkpoint could not be found in the restored object: (root).keras_api.metrics.1.count\n"
     ]
    },
    {
     "name": "stderr",
     "output_type": "stream",
     "text": [
      "WARNING:tensorflow:Value in checkpoint could not be found in the restored object: (root).keras_api.metrics.1.count\n"
     ]
    },
    {
     "name": "stdout",
     "output_type": "stream",
     "text": [
      "WARNING:tensorflow:Detecting that an object or model or tf.train.Checkpoint is being deleted with unrestored values. See the following logs for the specific values in question. To silence these warnings, use `status.expect_partial()`. See https://www.tensorflow.org/api_docs/python/tf/train/Checkpoint#restorefor details about the status object returned by the restore function.\n"
     ]
    },
    {
     "name": "stderr",
     "output_type": "stream",
     "text": [
      "WARNING:tensorflow:Detecting that an object or model or tf.train.Checkpoint is being deleted with unrestored values. See the following logs for the specific values in question. To silence these warnings, use `status.expect_partial()`. See https://www.tensorflow.org/api_docs/python/tf/train/Checkpoint#restorefor details about the status object returned by the restore function.\n"
     ]
    },
    {
     "name": "stdout",
     "output_type": "stream",
     "text": [
      "WARNING:tensorflow:Value in checkpoint could not be found in the restored object: (root).keras_api.metrics.0.total\n"
     ]
    },
    {
     "name": "stderr",
     "output_type": "stream",
     "text": [
      "WARNING:tensorflow:Value in checkpoint could not be found in the restored object: (root).keras_api.metrics.0.total\n"
     ]
    },
    {
     "name": "stdout",
     "output_type": "stream",
     "text": [
      "WARNING:tensorflow:Value in checkpoint could not be found in the restored object: (root).keras_api.metrics.0.count\n"
     ]
    },
    {
     "name": "stderr",
     "output_type": "stream",
     "text": [
      "WARNING:tensorflow:Value in checkpoint could not be found in the restored object: (root).keras_api.metrics.0.count\n"
     ]
    },
    {
     "name": "stdout",
     "output_type": "stream",
     "text": [
      "WARNING:tensorflow:Value in checkpoint could not be found in the restored object: (root).keras_api.metrics.1.total\n"
     ]
    },
    {
     "name": "stderr",
     "output_type": "stream",
     "text": [
      "WARNING:tensorflow:Value in checkpoint could not be found in the restored object: (root).keras_api.metrics.1.total\n"
     ]
    },
    {
     "name": "stdout",
     "output_type": "stream",
     "text": [
      "WARNING:tensorflow:Value in checkpoint could not be found in the restored object: (root).keras_api.metrics.1.count\n"
     ]
    },
    {
     "name": "stderr",
     "output_type": "stream",
     "text": [
      "WARNING:tensorflow:Value in checkpoint could not be found in the restored object: (root).keras_api.metrics.1.count\n"
     ]
    },
    {
     "name": "stdout",
     "output_type": "stream",
     "text": [
      "WARNING:tensorflow:Detecting that an object or model or tf.train.Checkpoint is being deleted with unrestored values. See the following logs for the specific values in question. To silence these warnings, use `status.expect_partial()`. See https://www.tensorflow.org/api_docs/python/tf/train/Checkpoint#restorefor details about the status object returned by the restore function.\n"
     ]
    },
    {
     "name": "stderr",
     "output_type": "stream",
     "text": [
      "WARNING:tensorflow:Detecting that an object or model or tf.train.Checkpoint is being deleted with unrestored values. See the following logs for the specific values in question. To silence these warnings, use `status.expect_partial()`. See https://www.tensorflow.org/api_docs/python/tf/train/Checkpoint#restorefor details about the status object returned by the restore function.\n"
     ]
    },
    {
     "name": "stdout",
     "output_type": "stream",
     "text": [
      "WARNING:tensorflow:Value in checkpoint could not be found in the restored object: (root).keras_api.metrics.0.total\n"
     ]
    },
    {
     "name": "stderr",
     "output_type": "stream",
     "text": [
      "WARNING:tensorflow:Value in checkpoint could not be found in the restored object: (root).keras_api.metrics.0.total\n"
     ]
    },
    {
     "name": "stdout",
     "output_type": "stream",
     "text": [
      "WARNING:tensorflow:Value in checkpoint could not be found in the restored object: (root).keras_api.metrics.0.count\n"
     ]
    },
    {
     "name": "stderr",
     "output_type": "stream",
     "text": [
      "WARNING:tensorflow:Value in checkpoint could not be found in the restored object: (root).keras_api.metrics.0.count\n"
     ]
    },
    {
     "name": "stdout",
     "output_type": "stream",
     "text": [
      "WARNING:tensorflow:Value in checkpoint could not be found in the restored object: (root).keras_api.metrics.1.total\n"
     ]
    },
    {
     "name": "stderr",
     "output_type": "stream",
     "text": [
      "WARNING:tensorflow:Value in checkpoint could not be found in the restored object: (root).keras_api.metrics.1.total\n"
     ]
    },
    {
     "name": "stdout",
     "output_type": "stream",
     "text": [
      "WARNING:tensorflow:Value in checkpoint could not be found in the restored object: (root).keras_api.metrics.1.count\n"
     ]
    },
    {
     "name": "stderr",
     "output_type": "stream",
     "text": [
      "WARNING:tensorflow:Value in checkpoint could not be found in the restored object: (root).keras_api.metrics.1.count\n"
     ]
    },
    {
     "name": "stdout",
     "output_type": "stream",
     "text": [
      "INFO:tensorflow:Assets written to: C:\\Users\\RAJESH\\AppData\\Local\\Temp\\tmpf0ot1z3h\\assets\n"
     ]
    },
    {
     "name": "stderr",
     "output_type": "stream",
     "text": [
      "INFO:tensorflow:Assets written to: C:\\Users\\RAJESH\\AppData\\Local\\Temp\\tmpf0ot1z3h\\assets\n"
     ]
    },
    {
     "name": "stdout",
     "output_type": "stream",
     "text": [
      "INFO:tensorflow:Assets written to: C:\\Users\\RAJESH\\AppData\\Local\\Temp\\tmpespqrw0f\\assets\n"
     ]
    },
    {
     "name": "stderr",
     "output_type": "stream",
     "text": [
      "INFO:tensorflow:Assets written to: C:\\Users\\RAJESH\\AppData\\Local\\Temp\\tmpespqrw0f\\assets\n"
     ]
    },
    {
     "name": "stdout",
     "output_type": "stream",
     "text": [
      "INFO:tensorflow:Assets written to: C:\\Users\\RAJESH\\AppData\\Local\\Temp\\tmp0wg1tqqn\\assets\n"
     ]
    },
    {
     "name": "stderr",
     "output_type": "stream",
     "text": [
      "INFO:tensorflow:Assets written to: C:\\Users\\RAJESH\\AppData\\Local\\Temp\\tmp0wg1tqqn\\assets\n"
     ]
    },
    {
     "name": "stdout",
     "output_type": "stream",
     "text": [
      "INFO:tensorflow:Assets written to: C:\\Users\\RAJESH\\AppData\\Local\\Temp\\tmpbdnpzdkq\\assets\n"
     ]
    },
    {
     "name": "stderr",
     "output_type": "stream",
     "text": [
      "INFO:tensorflow:Assets written to: C:\\Users\\RAJESH\\AppData\\Local\\Temp\\tmpbdnpzdkq\\assets\n"
     ]
    },
    {
     "name": "stdout",
     "output_type": "stream",
     "text": [
      "INFO:tensorflow:Assets written to: C:\\Users\\RAJESH\\AppData\\Local\\Temp\\tmpb5tv36ab\\assets\n"
     ]
    },
    {
     "name": "stderr",
     "output_type": "stream",
     "text": [
      "INFO:tensorflow:Assets written to: C:\\Users\\RAJESH\\AppData\\Local\\Temp\\tmpb5tv36ab\\assets\n"
     ]
    },
    {
     "name": "stdout",
     "output_type": "stream",
     "text": [
      "INFO:tensorflow:Assets written to: C:\\Users\\RAJESH\\AppData\\Local\\Temp\\tmpc34s45mo\\assets\n"
     ]
    },
    {
     "name": "stderr",
     "output_type": "stream",
     "text": [
      "INFO:tensorflow:Assets written to: C:\\Users\\RAJESH\\AppData\\Local\\Temp\\tmpc34s45mo\\assets\n"
     ]
    },
    {
     "name": "stdout",
     "output_type": "stream",
     "text": [
      "INFO:tensorflow:Assets written to: C:\\Users\\RAJESH\\AppData\\Local\\Temp\\tmp2u63v97t\\assets\n"
     ]
    },
    {
     "name": "stderr",
     "output_type": "stream",
     "text": [
      "INFO:tensorflow:Assets written to: C:\\Users\\RAJESH\\AppData\\Local\\Temp\\tmp2u63v97t\\assets\n"
     ]
    },
    {
     "name": "stdout",
     "output_type": "stream",
     "text": [
      "INFO:tensorflow:Assets written to: C:\\Users\\RAJESH\\AppData\\Local\\Temp\\tmp6f05hyj0\\assets\n"
     ]
    },
    {
     "name": "stderr",
     "output_type": "stream",
     "text": [
      "INFO:tensorflow:Assets written to: C:\\Users\\RAJESH\\AppData\\Local\\Temp\\tmp6f05hyj0\\assets\n"
     ]
    },
    {
     "name": "stdout",
     "output_type": "stream",
     "text": [
      "INFO:tensorflow:Assets written to: C:\\Users\\RAJESH\\AppData\\Local\\Temp\\tmpwdegk940\\assets\n"
     ]
    },
    {
     "name": "stderr",
     "output_type": "stream",
     "text": [
      "INFO:tensorflow:Assets written to: C:\\Users\\RAJESH\\AppData\\Local\\Temp\\tmpwdegk940\\assets\n"
     ]
    },
    {
     "name": "stdout",
     "output_type": "stream",
     "text": [
      "WARNING:tensorflow:Detecting that an object or model or tf.train.Checkpoint is being deleted with unrestored values. See the following logs for the specific values in question. To silence these warnings, use `status.expect_partial()`. See https://www.tensorflow.org/api_docs/python/tf/train/Checkpoint#restorefor details about the status object returned by the restore function.\n"
     ]
    },
    {
     "name": "stderr",
     "output_type": "stream",
     "text": [
      "WARNING:tensorflow:Detecting that an object or model or tf.train.Checkpoint is being deleted with unrestored values. See the following logs for the specific values in question. To silence these warnings, use `status.expect_partial()`. See https://www.tensorflow.org/api_docs/python/tf/train/Checkpoint#restorefor details about the status object returned by the restore function.\n"
     ]
    },
    {
     "name": "stdout",
     "output_type": "stream",
     "text": [
      "WARNING:tensorflow:Value in checkpoint could not be found in the restored object: (root).keras_api.metrics.0.total\n"
     ]
    },
    {
     "name": "stderr",
     "output_type": "stream",
     "text": [
      "WARNING:tensorflow:Value in checkpoint could not be found in the restored object: (root).keras_api.metrics.0.total\n"
     ]
    },
    {
     "name": "stdout",
     "output_type": "stream",
     "text": [
      "WARNING:tensorflow:Value in checkpoint could not be found in the restored object: (root).keras_api.metrics.0.count\n"
     ]
    },
    {
     "name": "stderr",
     "output_type": "stream",
     "text": [
      "WARNING:tensorflow:Value in checkpoint could not be found in the restored object: (root).keras_api.metrics.0.count\n"
     ]
    },
    {
     "name": "stdout",
     "output_type": "stream",
     "text": [
      "WARNING:tensorflow:Value in checkpoint could not be found in the restored object: (root).keras_api.metrics.1.total\n"
     ]
    },
    {
     "name": "stderr",
     "output_type": "stream",
     "text": [
      "WARNING:tensorflow:Value in checkpoint could not be found in the restored object: (root).keras_api.metrics.1.total\n"
     ]
    },
    {
     "name": "stdout",
     "output_type": "stream",
     "text": [
      "WARNING:tensorflow:Value in checkpoint could not be found in the restored object: (root).keras_api.metrics.1.count\n"
     ]
    },
    {
     "name": "stderr",
     "output_type": "stream",
     "text": [
      "WARNING:tensorflow:Value in checkpoint could not be found in the restored object: (root).keras_api.metrics.1.count\n"
     ]
    },
    {
     "name": "stdout",
     "output_type": "stream",
     "text": [
      "WARNING:tensorflow:Detecting that an object or model or tf.train.Checkpoint is being deleted with unrestored values. See the following logs for the specific values in question. To silence these warnings, use `status.expect_partial()`. See https://www.tensorflow.org/api_docs/python/tf/train/Checkpoint#restorefor details about the status object returned by the restore function.\n"
     ]
    },
    {
     "name": "stderr",
     "output_type": "stream",
     "text": [
      "WARNING:tensorflow:Detecting that an object or model or tf.train.Checkpoint is being deleted with unrestored values. See the following logs for the specific values in question. To silence these warnings, use `status.expect_partial()`. See https://www.tensorflow.org/api_docs/python/tf/train/Checkpoint#restorefor details about the status object returned by the restore function.\n"
     ]
    },
    {
     "name": "stdout",
     "output_type": "stream",
     "text": [
      "WARNING:tensorflow:Value in checkpoint could not be found in the restored object: (root).keras_api.metrics.0.total\n"
     ]
    },
    {
     "name": "stderr",
     "output_type": "stream",
     "text": [
      "WARNING:tensorflow:Value in checkpoint could not be found in the restored object: (root).keras_api.metrics.0.total\n"
     ]
    },
    {
     "name": "stdout",
     "output_type": "stream",
     "text": [
      "WARNING:tensorflow:Value in checkpoint could not be found in the restored object: (root).keras_api.metrics.0.count\n"
     ]
    },
    {
     "name": "stderr",
     "output_type": "stream",
     "text": [
      "WARNING:tensorflow:Value in checkpoint could not be found in the restored object: (root).keras_api.metrics.0.count\n"
     ]
    },
    {
     "name": "stdout",
     "output_type": "stream",
     "text": [
      "WARNING:tensorflow:Value in checkpoint could not be found in the restored object: (root).keras_api.metrics.1.total\n"
     ]
    },
    {
     "name": "stderr",
     "output_type": "stream",
     "text": [
      "WARNING:tensorflow:Value in checkpoint could not be found in the restored object: (root).keras_api.metrics.1.total\n"
     ]
    },
    {
     "name": "stdout",
     "output_type": "stream",
     "text": [
      "WARNING:tensorflow:Value in checkpoint could not be found in the restored object: (root).keras_api.metrics.1.count\n"
     ]
    },
    {
     "name": "stderr",
     "output_type": "stream",
     "text": [
      "WARNING:tensorflow:Value in checkpoint could not be found in the restored object: (root).keras_api.metrics.1.count\n"
     ]
    },
    {
     "name": "stdout",
     "output_type": "stream",
     "text": [
      "WARNING:tensorflow:Detecting that an object or model or tf.train.Checkpoint is being deleted with unrestored values. See the following logs for the specific values in question. To silence these warnings, use `status.expect_partial()`. See https://www.tensorflow.org/api_docs/python/tf/train/Checkpoint#restorefor details about the status object returned by the restore function.\n"
     ]
    },
    {
     "name": "stderr",
     "output_type": "stream",
     "text": [
      "WARNING:tensorflow:Detecting that an object or model or tf.train.Checkpoint is being deleted with unrestored values. See the following logs for the specific values in question. To silence these warnings, use `status.expect_partial()`. See https://www.tensorflow.org/api_docs/python/tf/train/Checkpoint#restorefor details about the status object returned by the restore function.\n"
     ]
    },
    {
     "name": "stdout",
     "output_type": "stream",
     "text": [
      "WARNING:tensorflow:Value in checkpoint could not be found in the restored object: (root).keras_api.metrics.0.total\n"
     ]
    },
    {
     "name": "stderr",
     "output_type": "stream",
     "text": [
      "WARNING:tensorflow:Value in checkpoint could not be found in the restored object: (root).keras_api.metrics.0.total\n"
     ]
    },
    {
     "name": "stdout",
     "output_type": "stream",
     "text": [
      "WARNING:tensorflow:Value in checkpoint could not be found in the restored object: (root).keras_api.metrics.0.count\n"
     ]
    },
    {
     "name": "stderr",
     "output_type": "stream",
     "text": [
      "WARNING:tensorflow:Value in checkpoint could not be found in the restored object: (root).keras_api.metrics.0.count\n"
     ]
    },
    {
     "name": "stdout",
     "output_type": "stream",
     "text": [
      "WARNING:tensorflow:Value in checkpoint could not be found in the restored object: (root).keras_api.metrics.1.total\n"
     ]
    },
    {
     "name": "stderr",
     "output_type": "stream",
     "text": [
      "WARNING:tensorflow:Value in checkpoint could not be found in the restored object: (root).keras_api.metrics.1.total\n"
     ]
    },
    {
     "name": "stdout",
     "output_type": "stream",
     "text": [
      "WARNING:tensorflow:Value in checkpoint could not be found in the restored object: (root).keras_api.metrics.1.count\n"
     ]
    },
    {
     "name": "stderr",
     "output_type": "stream",
     "text": [
      "WARNING:tensorflow:Value in checkpoint could not be found in the restored object: (root).keras_api.metrics.1.count\n"
     ]
    },
    {
     "name": "stdout",
     "output_type": "stream",
     "text": [
      "WARNING:tensorflow:Detecting that an object or model or tf.train.Checkpoint is being deleted with unrestored values. See the following logs for the specific values in question. To silence these warnings, use `status.expect_partial()`. See https://www.tensorflow.org/api_docs/python/tf/train/Checkpoint#restorefor details about the status object returned by the restore function.\n"
     ]
    },
    {
     "name": "stderr",
     "output_type": "stream",
     "text": [
      "WARNING:tensorflow:Detecting that an object or model or tf.train.Checkpoint is being deleted with unrestored values. See the following logs for the specific values in question. To silence these warnings, use `status.expect_partial()`. See https://www.tensorflow.org/api_docs/python/tf/train/Checkpoint#restorefor details about the status object returned by the restore function.\n"
     ]
    },
    {
     "name": "stdout",
     "output_type": "stream",
     "text": [
      "WARNING:tensorflow:Value in checkpoint could not be found in the restored object: (root).keras_api.metrics.0.total\n"
     ]
    },
    {
     "name": "stderr",
     "output_type": "stream",
     "text": [
      "WARNING:tensorflow:Value in checkpoint could not be found in the restored object: (root).keras_api.metrics.0.total\n"
     ]
    },
    {
     "name": "stdout",
     "output_type": "stream",
     "text": [
      "WARNING:tensorflow:Value in checkpoint could not be found in the restored object: (root).keras_api.metrics.0.count\n"
     ]
    },
    {
     "name": "stderr",
     "output_type": "stream",
     "text": [
      "WARNING:tensorflow:Value in checkpoint could not be found in the restored object: (root).keras_api.metrics.0.count\n"
     ]
    },
    {
     "name": "stdout",
     "output_type": "stream",
     "text": [
      "WARNING:tensorflow:Value in checkpoint could not be found in the restored object: (root).keras_api.metrics.1.total\n"
     ]
    },
    {
     "name": "stderr",
     "output_type": "stream",
     "text": [
      "WARNING:tensorflow:Value in checkpoint could not be found in the restored object: (root).keras_api.metrics.1.total\n"
     ]
    },
    {
     "name": "stdout",
     "output_type": "stream",
     "text": [
      "WARNING:tensorflow:Value in checkpoint could not be found in the restored object: (root).keras_api.metrics.1.count\n"
     ]
    },
    {
     "name": "stderr",
     "output_type": "stream",
     "text": [
      "WARNING:tensorflow:Value in checkpoint could not be found in the restored object: (root).keras_api.metrics.1.count\n"
     ]
    },
    {
     "name": "stdout",
     "output_type": "stream",
     "text": [
      "WARNING:tensorflow:Detecting that an object or model or tf.train.Checkpoint is being deleted with unrestored values. See the following logs for the specific values in question. To silence these warnings, use `status.expect_partial()`. See https://www.tensorflow.org/api_docs/python/tf/train/Checkpoint#restorefor details about the status object returned by the restore function.\n"
     ]
    },
    {
     "name": "stderr",
     "output_type": "stream",
     "text": [
      "WARNING:tensorflow:Detecting that an object or model or tf.train.Checkpoint is being deleted with unrestored values. See the following logs for the specific values in question. To silence these warnings, use `status.expect_partial()`. See https://www.tensorflow.org/api_docs/python/tf/train/Checkpoint#restorefor details about the status object returned by the restore function.\n"
     ]
    },
    {
     "name": "stdout",
     "output_type": "stream",
     "text": [
      "WARNING:tensorflow:Value in checkpoint could not be found in the restored object: (root).keras_api.metrics.0.total\n"
     ]
    },
    {
     "name": "stderr",
     "output_type": "stream",
     "text": [
      "WARNING:tensorflow:Value in checkpoint could not be found in the restored object: (root).keras_api.metrics.0.total\n"
     ]
    },
    {
     "name": "stdout",
     "output_type": "stream",
     "text": [
      "WARNING:tensorflow:Value in checkpoint could not be found in the restored object: (root).keras_api.metrics.0.count\n"
     ]
    },
    {
     "name": "stderr",
     "output_type": "stream",
     "text": [
      "WARNING:tensorflow:Value in checkpoint could not be found in the restored object: (root).keras_api.metrics.0.count\n"
     ]
    },
    {
     "name": "stdout",
     "output_type": "stream",
     "text": [
      "WARNING:tensorflow:Value in checkpoint could not be found in the restored object: (root).keras_api.metrics.1.total\n"
     ]
    },
    {
     "name": "stderr",
     "output_type": "stream",
     "text": [
      "WARNING:tensorflow:Value in checkpoint could not be found in the restored object: (root).keras_api.metrics.1.total\n"
     ]
    },
    {
     "name": "stdout",
     "output_type": "stream",
     "text": [
      "WARNING:tensorflow:Value in checkpoint could not be found in the restored object: (root).keras_api.metrics.1.count\n"
     ]
    },
    {
     "name": "stderr",
     "output_type": "stream",
     "text": [
      "WARNING:tensorflow:Value in checkpoint could not be found in the restored object: (root).keras_api.metrics.1.count\n"
     ]
    },
    {
     "name": "stdout",
     "output_type": "stream",
     "text": [
      "WARNING:tensorflow:Detecting that an object or model or tf.train.Checkpoint is being deleted with unrestored values. See the following logs for the specific values in question. To silence these warnings, use `status.expect_partial()`. See https://www.tensorflow.org/api_docs/python/tf/train/Checkpoint#restorefor details about the status object returned by the restore function.\n"
     ]
    },
    {
     "name": "stderr",
     "output_type": "stream",
     "text": [
      "WARNING:tensorflow:Detecting that an object or model or tf.train.Checkpoint is being deleted with unrestored values. See the following logs for the specific values in question. To silence these warnings, use `status.expect_partial()`. See https://www.tensorflow.org/api_docs/python/tf/train/Checkpoint#restorefor details about the status object returned by the restore function.\n"
     ]
    },
    {
     "name": "stdout",
     "output_type": "stream",
     "text": [
      "WARNING:tensorflow:Value in checkpoint could not be found in the restored object: (root).keras_api.metrics.0.total\n"
     ]
    },
    {
     "name": "stderr",
     "output_type": "stream",
     "text": [
      "WARNING:tensorflow:Value in checkpoint could not be found in the restored object: (root).keras_api.metrics.0.total\n"
     ]
    },
    {
     "name": "stdout",
     "output_type": "stream",
     "text": [
      "WARNING:tensorflow:Value in checkpoint could not be found in the restored object: (root).keras_api.metrics.0.count\n"
     ]
    },
    {
     "name": "stderr",
     "output_type": "stream",
     "text": [
      "WARNING:tensorflow:Value in checkpoint could not be found in the restored object: (root).keras_api.metrics.0.count\n"
     ]
    },
    {
     "name": "stdout",
     "output_type": "stream",
     "text": [
      "WARNING:tensorflow:Value in checkpoint could not be found in the restored object: (root).keras_api.metrics.1.total\n"
     ]
    },
    {
     "name": "stderr",
     "output_type": "stream",
     "text": [
      "WARNING:tensorflow:Value in checkpoint could not be found in the restored object: (root).keras_api.metrics.1.total\n"
     ]
    },
    {
     "name": "stdout",
     "output_type": "stream",
     "text": [
      "WARNING:tensorflow:Value in checkpoint could not be found in the restored object: (root).keras_api.metrics.1.count\n"
     ]
    },
    {
     "name": "stderr",
     "output_type": "stream",
     "text": [
      "WARNING:tensorflow:Value in checkpoint could not be found in the restored object: (root).keras_api.metrics.1.count\n"
     ]
    },
    {
     "name": "stdout",
     "output_type": "stream",
     "text": [
      "WARNING:tensorflow:Detecting that an object or model or tf.train.Checkpoint is being deleted with unrestored values. See the following logs for the specific values in question. To silence these warnings, use `status.expect_partial()`. See https://www.tensorflow.org/api_docs/python/tf/train/Checkpoint#restorefor details about the status object returned by the restore function.\n"
     ]
    },
    {
     "name": "stderr",
     "output_type": "stream",
     "text": [
      "WARNING:tensorflow:Detecting that an object or model or tf.train.Checkpoint is being deleted with unrestored values. See the following logs for the specific values in question. To silence these warnings, use `status.expect_partial()`. See https://www.tensorflow.org/api_docs/python/tf/train/Checkpoint#restorefor details about the status object returned by the restore function.\n"
     ]
    },
    {
     "name": "stdout",
     "output_type": "stream",
     "text": [
      "WARNING:tensorflow:Value in checkpoint could not be found in the restored object: (root).keras_api.metrics.0.total\n"
     ]
    },
    {
     "name": "stderr",
     "output_type": "stream",
     "text": [
      "WARNING:tensorflow:Value in checkpoint could not be found in the restored object: (root).keras_api.metrics.0.total\n"
     ]
    },
    {
     "name": "stdout",
     "output_type": "stream",
     "text": [
      "WARNING:tensorflow:Value in checkpoint could not be found in the restored object: (root).keras_api.metrics.0.count\n"
     ]
    },
    {
     "name": "stderr",
     "output_type": "stream",
     "text": [
      "WARNING:tensorflow:Value in checkpoint could not be found in the restored object: (root).keras_api.metrics.0.count\n"
     ]
    },
    {
     "name": "stdout",
     "output_type": "stream",
     "text": [
      "WARNING:tensorflow:Value in checkpoint could not be found in the restored object: (root).keras_api.metrics.1.total\n"
     ]
    },
    {
     "name": "stderr",
     "output_type": "stream",
     "text": [
      "WARNING:tensorflow:Value in checkpoint could not be found in the restored object: (root).keras_api.metrics.1.total\n"
     ]
    },
    {
     "name": "stdout",
     "output_type": "stream",
     "text": [
      "WARNING:tensorflow:Value in checkpoint could not be found in the restored object: (root).keras_api.metrics.1.count\n"
     ]
    },
    {
     "name": "stderr",
     "output_type": "stream",
     "text": [
      "WARNING:tensorflow:Value in checkpoint could not be found in the restored object: (root).keras_api.metrics.1.count\n"
     ]
    },
    {
     "name": "stdout",
     "output_type": "stream",
     "text": [
      "WARNING:tensorflow:Detecting that an object or model or tf.train.Checkpoint is being deleted with unrestored values. See the following logs for the specific values in question. To silence these warnings, use `status.expect_partial()`. See https://www.tensorflow.org/api_docs/python/tf/train/Checkpoint#restorefor details about the status object returned by the restore function.\n"
     ]
    },
    {
     "name": "stderr",
     "output_type": "stream",
     "text": [
      "WARNING:tensorflow:Detecting that an object or model or tf.train.Checkpoint is being deleted with unrestored values. See the following logs for the specific values in question. To silence these warnings, use `status.expect_partial()`. See https://www.tensorflow.org/api_docs/python/tf/train/Checkpoint#restorefor details about the status object returned by the restore function.\n"
     ]
    },
    {
     "name": "stdout",
     "output_type": "stream",
     "text": [
      "WARNING:tensorflow:Value in checkpoint could not be found in the restored object: (root).keras_api.metrics.0.total\n"
     ]
    },
    {
     "name": "stderr",
     "output_type": "stream",
     "text": [
      "WARNING:tensorflow:Value in checkpoint could not be found in the restored object: (root).keras_api.metrics.0.total\n"
     ]
    },
    {
     "name": "stdout",
     "output_type": "stream",
     "text": [
      "WARNING:tensorflow:Value in checkpoint could not be found in the restored object: (root).keras_api.metrics.0.count\n"
     ]
    },
    {
     "name": "stderr",
     "output_type": "stream",
     "text": [
      "WARNING:tensorflow:Value in checkpoint could not be found in the restored object: (root).keras_api.metrics.0.count\n"
     ]
    },
    {
     "name": "stdout",
     "output_type": "stream",
     "text": [
      "WARNING:tensorflow:Value in checkpoint could not be found in the restored object: (root).keras_api.metrics.1.total\n"
     ]
    },
    {
     "name": "stderr",
     "output_type": "stream",
     "text": [
      "WARNING:tensorflow:Value in checkpoint could not be found in the restored object: (root).keras_api.metrics.1.total\n"
     ]
    },
    {
     "name": "stdout",
     "output_type": "stream",
     "text": [
      "WARNING:tensorflow:Value in checkpoint could not be found in the restored object: (root).keras_api.metrics.1.count\n"
     ]
    },
    {
     "name": "stderr",
     "output_type": "stream",
     "text": [
      "WARNING:tensorflow:Value in checkpoint could not be found in the restored object: (root).keras_api.metrics.1.count\n"
     ]
    },
    {
     "name": "stdout",
     "output_type": "stream",
     "text": [
      "WARNING:tensorflow:Detecting that an object or model or tf.train.Checkpoint is being deleted with unrestored values. See the following logs for the specific values in question. To silence these warnings, use `status.expect_partial()`. See https://www.tensorflow.org/api_docs/python/tf/train/Checkpoint#restorefor details about the status object returned by the restore function.\n"
     ]
    },
    {
     "name": "stderr",
     "output_type": "stream",
     "text": [
      "WARNING:tensorflow:Detecting that an object or model or tf.train.Checkpoint is being deleted with unrestored values. See the following logs for the specific values in question. To silence these warnings, use `status.expect_partial()`. See https://www.tensorflow.org/api_docs/python/tf/train/Checkpoint#restorefor details about the status object returned by the restore function.\n"
     ]
    },
    {
     "name": "stdout",
     "output_type": "stream",
     "text": [
      "WARNING:tensorflow:Value in checkpoint could not be found in the restored object: (root).keras_api.metrics.0.total\n"
     ]
    },
    {
     "name": "stderr",
     "output_type": "stream",
     "text": [
      "WARNING:tensorflow:Value in checkpoint could not be found in the restored object: (root).keras_api.metrics.0.total\n"
     ]
    },
    {
     "name": "stdout",
     "output_type": "stream",
     "text": [
      "WARNING:tensorflow:Value in checkpoint could not be found in the restored object: (root).keras_api.metrics.0.count\n"
     ]
    },
    {
     "name": "stderr",
     "output_type": "stream",
     "text": [
      "WARNING:tensorflow:Value in checkpoint could not be found in the restored object: (root).keras_api.metrics.0.count\n"
     ]
    },
    {
     "name": "stdout",
     "output_type": "stream",
     "text": [
      "WARNING:tensorflow:Value in checkpoint could not be found in the restored object: (root).keras_api.metrics.1.total\n"
     ]
    },
    {
     "name": "stderr",
     "output_type": "stream",
     "text": [
      "WARNING:tensorflow:Value in checkpoint could not be found in the restored object: (root).keras_api.metrics.1.total\n"
     ]
    },
    {
     "name": "stdout",
     "output_type": "stream",
     "text": [
      "WARNING:tensorflow:Value in checkpoint could not be found in the restored object: (root).keras_api.metrics.1.count\n"
     ]
    },
    {
     "name": "stderr",
     "output_type": "stream",
     "text": [
      "WARNING:tensorflow:Value in checkpoint could not be found in the restored object: (root).keras_api.metrics.1.count\n"
     ]
    },
    {
     "name": "stdout",
     "output_type": "stream",
     "text": [
      "INFO:tensorflow:Assets written to: C:\\Users\\RAJESH\\AppData\\Local\\Temp\\tmpraeoua4f\\assets\n"
     ]
    },
    {
     "name": "stderr",
     "output_type": "stream",
     "text": [
      "INFO:tensorflow:Assets written to: C:\\Users\\RAJESH\\AppData\\Local\\Temp\\tmpraeoua4f\\assets\n"
     ]
    },
    {
     "name": "stdout",
     "output_type": "stream",
     "text": [
      "INFO:tensorflow:Assets written to: C:\\Users\\RAJESH\\AppData\\Local\\Temp\\tmp_qt2mqpz\\assets\n"
     ]
    },
    {
     "name": "stderr",
     "output_type": "stream",
     "text": [
      "INFO:tensorflow:Assets written to: C:\\Users\\RAJESH\\AppData\\Local\\Temp\\tmp_qt2mqpz\\assets\n"
     ]
    },
    {
     "name": "stdout",
     "output_type": "stream",
     "text": [
      "INFO:tensorflow:Assets written to: C:\\Users\\RAJESH\\AppData\\Local\\Temp\\tmpd6i11_cw\\assets\n"
     ]
    },
    {
     "name": "stderr",
     "output_type": "stream",
     "text": [
      "INFO:tensorflow:Assets written to: C:\\Users\\RAJESH\\AppData\\Local\\Temp\\tmpd6i11_cw\\assets\n"
     ]
    },
    {
     "name": "stdout",
     "output_type": "stream",
     "text": [
      "INFO:tensorflow:Assets written to: C:\\Users\\RAJESH\\AppData\\Local\\Temp\\tmpu7t4ec7l\\assets\n"
     ]
    },
    {
     "name": "stderr",
     "output_type": "stream",
     "text": [
      "INFO:tensorflow:Assets written to: C:\\Users\\RAJESH\\AppData\\Local\\Temp\\tmpu7t4ec7l\\assets\n"
     ]
    },
    {
     "name": "stdout",
     "output_type": "stream",
     "text": [
      "INFO:tensorflow:Assets written to: C:\\Users\\RAJESH\\AppData\\Local\\Temp\\tmpyfxdz0r4\\assets\n"
     ]
    },
    {
     "name": "stderr",
     "output_type": "stream",
     "text": [
      "INFO:tensorflow:Assets written to: C:\\Users\\RAJESH\\AppData\\Local\\Temp\\tmpyfxdz0r4\\assets\n"
     ]
    },
    {
     "name": "stdout",
     "output_type": "stream",
     "text": [
      "INFO:tensorflow:Assets written to: C:\\Users\\RAJESH\\AppData\\Local\\Temp\\tmpcri90et7\\assets\n"
     ]
    },
    {
     "name": "stderr",
     "output_type": "stream",
     "text": [
      "INFO:tensorflow:Assets written to: C:\\Users\\RAJESH\\AppData\\Local\\Temp\\tmpcri90et7\\assets\n"
     ]
    },
    {
     "name": "stdout",
     "output_type": "stream",
     "text": [
      "INFO:tensorflow:Assets written to: C:\\Users\\RAJESH\\AppData\\Local\\Temp\\tmpwoxgjttn\\assets\n"
     ]
    },
    {
     "name": "stderr",
     "output_type": "stream",
     "text": [
      "INFO:tensorflow:Assets written to: C:\\Users\\RAJESH\\AppData\\Local\\Temp\\tmpwoxgjttn\\assets\n"
     ]
    },
    {
     "name": "stdout",
     "output_type": "stream",
     "text": [
      "INFO:tensorflow:Assets written to: C:\\Users\\RAJESH\\AppData\\Local\\Temp\\tmp6zkpzj95\\assets\n"
     ]
    },
    {
     "name": "stderr",
     "output_type": "stream",
     "text": [
      "INFO:tensorflow:Assets written to: C:\\Users\\RAJESH\\AppData\\Local\\Temp\\tmp6zkpzj95\\assets\n"
     ]
    }
   ],
   "source": [
    "# i'm using the same model that we save in \"./saved_models/example_model.keras\"\n",
    "model_skill = KerasClassifier(loaded_model)"
   ]
  },
  {
   "cell_type": "code",
   "execution_count": 29,
   "metadata": {},
   "outputs": [
    {
     "name": "stdout",
     "output_type": "stream",
     "text": [
      "ON TEST SET : \n",
      "\n"
     ]
    },
    {
     "name": "stdout",
     "output_type": "stream",
     "text": [
      "INFO:tensorflow:Assets written to: C:\\Users\\RAJESH\\AppData\\Local\\Temp\\tmpbiwijys3\\assets\n"
     ]
    },
    {
     "name": "stderr",
     "output_type": "stream",
     "text": [
      "INFO:tensorflow:Assets written to: C:\\Users\\RAJESH\\AppData\\Local\\Temp\\tmpbiwijys3\\assets\n"
     ]
    },
    {
     "name": "stdout",
     "output_type": "stream",
     "text": [
      "INFO:tensorflow:Assets written to: C:\\Users\\RAJESH\\AppData\\Local\\Temp\\tmpg1hyivtf\\assets\n"
     ]
    },
    {
     "name": "stderr",
     "output_type": "stream",
     "text": [
      "INFO:tensorflow:Assets written to: C:\\Users\\RAJESH\\AppData\\Local\\Temp\\tmpg1hyivtf\\assets\n"
     ]
    },
    {
     "name": "stdout",
     "output_type": "stream",
     "text": [
      "INFO:tensorflow:Assets written to: C:\\Users\\RAJESH\\AppData\\Local\\Temp\\tmpep2nbkjj\\assets\n"
     ]
    },
    {
     "name": "stderr",
     "output_type": "stream",
     "text": [
      "INFO:tensorflow:Assets written to: C:\\Users\\RAJESH\\AppData\\Local\\Temp\\tmpep2nbkjj\\assets\n"
     ]
    },
    {
     "name": "stdout",
     "output_type": "stream",
     "text": [
      "INFO:tensorflow:Assets written to: C:\\Users\\RAJESH\\AppData\\Local\\Temp\\tmp3ih8tlqs\\assets\n"
     ]
    },
    {
     "name": "stderr",
     "output_type": "stream",
     "text": [
      "INFO:tensorflow:Assets written to: C:\\Users\\RAJESH\\AppData\\Local\\Temp\\tmp3ih8tlqs\\assets\n"
     ]
    },
    {
     "name": "stdout",
     "output_type": "stream",
     "text": [
      "INFO:tensorflow:Assets written to: C:\\Users\\RAJESH\\AppData\\Local\\Temp\\tmpjsv7mgzg\\assets\n"
     ]
    },
    {
     "name": "stderr",
     "output_type": "stream",
     "text": [
      "INFO:tensorflow:Assets written to: C:\\Users\\RAJESH\\AppData\\Local\\Temp\\tmpjsv7mgzg\\assets\n"
     ]
    },
    {
     "name": "stdout",
     "output_type": "stream",
     "text": [
      "INFO:tensorflow:Assets written to: C:\\Users\\RAJESH\\AppData\\Local\\Temp\\tmp670m9i7z\\assets\n"
     ]
    },
    {
     "name": "stderr",
     "output_type": "stream",
     "text": [
      "INFO:tensorflow:Assets written to: C:\\Users\\RAJESH\\AppData\\Local\\Temp\\tmp670m9i7z\\assets\n"
     ]
    },
    {
     "name": "stdout",
     "output_type": "stream",
     "text": [
      "INFO:tensorflow:Assets written to: C:\\Users\\RAJESH\\AppData\\Local\\Temp\\tmp5pf_by7u\\assets\n"
     ]
    },
    {
     "name": "stderr",
     "output_type": "stream",
     "text": [
      "INFO:tensorflow:Assets written to: C:\\Users\\RAJESH\\AppData\\Local\\Temp\\tmp5pf_by7u\\assets\n"
     ]
    },
    {
     "name": "stdout",
     "output_type": "stream",
     "text": [
      "INFO:tensorflow:Assets written to: C:\\Users\\RAJESH\\AppData\\Local\\Temp\\tmpdq46u6dq\\assets\n"
     ]
    },
    {
     "name": "stderr",
     "output_type": "stream",
     "text": [
      "INFO:tensorflow:Assets written to: C:\\Users\\RAJESH\\AppData\\Local\\Temp\\tmpdq46u6dq\\assets\n"
     ]
    },
    {
     "name": "stdout",
     "output_type": "stream",
     "text": [
      "INFO:tensorflow:Assets written to: C:\\Users\\RAJESH\\AppData\\Local\\Temp\\tmp0nd5mufj\\assets\n"
     ]
    },
    {
     "name": "stderr",
     "output_type": "stream",
     "text": [
      "INFO:tensorflow:Assets written to: C:\\Users\\RAJESH\\AppData\\Local\\Temp\\tmp0nd5mufj\\assets\n"
     ]
    },
    {
     "name": "stdout",
     "output_type": "stream",
     "text": [
      "WARNING:tensorflow:Detecting that an object or model or tf.train.Checkpoint is being deleted with unrestored values. See the following logs for the specific values in question. To silence these warnings, use `status.expect_partial()`. See https://www.tensorflow.org/api_docs/python/tf/train/Checkpoint#restorefor details about the status object returned by the restore function.\n"
     ]
    },
    {
     "name": "stderr",
     "output_type": "stream",
     "text": [
      "WARNING:tensorflow:Detecting that an object or model or tf.train.Checkpoint is being deleted with unrestored values. See the following logs for the specific values in question. To silence these warnings, use `status.expect_partial()`. See https://www.tensorflow.org/api_docs/python/tf/train/Checkpoint#restorefor details about the status object returned by the restore function.\n"
     ]
    },
    {
     "name": "stdout",
     "output_type": "stream",
     "text": [
      "WARNING:tensorflow:Value in checkpoint could not be found in the restored object: (root).keras_api.metrics.0.total\n"
     ]
    },
    {
     "name": "stderr",
     "output_type": "stream",
     "text": [
      "WARNING:tensorflow:Value in checkpoint could not be found in the restored object: (root).keras_api.metrics.0.total\n"
     ]
    },
    {
     "name": "stdout",
     "output_type": "stream",
     "text": [
      "WARNING:tensorflow:Value in checkpoint could not be found in the restored object: (root).keras_api.metrics.0.count\n"
     ]
    },
    {
     "name": "stderr",
     "output_type": "stream",
     "text": [
      "WARNING:tensorflow:Value in checkpoint could not be found in the restored object: (root).keras_api.metrics.0.count\n"
     ]
    },
    {
     "name": "stdout",
     "output_type": "stream",
     "text": [
      "WARNING:tensorflow:Value in checkpoint could not be found in the restored object: (root).keras_api.metrics.1.total\n"
     ]
    },
    {
     "name": "stderr",
     "output_type": "stream",
     "text": [
      "WARNING:tensorflow:Value in checkpoint could not be found in the restored object: (root).keras_api.metrics.1.total\n"
     ]
    },
    {
     "name": "stdout",
     "output_type": "stream",
     "text": [
      "WARNING:tensorflow:Value in checkpoint could not be found in the restored object: (root).keras_api.metrics.1.count\n"
     ]
    },
    {
     "name": "stderr",
     "output_type": "stream",
     "text": [
      "WARNING:tensorflow:Value in checkpoint could not be found in the restored object: (root).keras_api.metrics.1.count\n"
     ]
    },
    {
     "name": "stdout",
     "output_type": "stream",
     "text": [
      "WARNING:tensorflow:Detecting that an object or model or tf.train.Checkpoint is being deleted with unrestored values. See the following logs for the specific values in question. To silence these warnings, use `status.expect_partial()`. See https://www.tensorflow.org/api_docs/python/tf/train/Checkpoint#restorefor details about the status object returned by the restore function.\n"
     ]
    },
    {
     "name": "stderr",
     "output_type": "stream",
     "text": [
      "WARNING:tensorflow:Detecting that an object or model or tf.train.Checkpoint is being deleted with unrestored values. See the following logs for the specific values in question. To silence these warnings, use `status.expect_partial()`. See https://www.tensorflow.org/api_docs/python/tf/train/Checkpoint#restorefor details about the status object returned by the restore function.\n"
     ]
    },
    {
     "name": "stdout",
     "output_type": "stream",
     "text": [
      "WARNING:tensorflow:Value in checkpoint could not be found in the restored object: (root).keras_api.metrics.0.total\n"
     ]
    },
    {
     "name": "stderr",
     "output_type": "stream",
     "text": [
      "WARNING:tensorflow:Value in checkpoint could not be found in the restored object: (root).keras_api.metrics.0.total\n"
     ]
    },
    {
     "name": "stdout",
     "output_type": "stream",
     "text": [
      "WARNING:tensorflow:Value in checkpoint could not be found in the restored object: (root).keras_api.metrics.0.count\n"
     ]
    },
    {
     "name": "stderr",
     "output_type": "stream",
     "text": [
      "WARNING:tensorflow:Value in checkpoint could not be found in the restored object: (root).keras_api.metrics.0.count\n"
     ]
    },
    {
     "name": "stdout",
     "output_type": "stream",
     "text": [
      "WARNING:tensorflow:Value in checkpoint could not be found in the restored object: (root).keras_api.metrics.1.total\n"
     ]
    },
    {
     "name": "stderr",
     "output_type": "stream",
     "text": [
      "WARNING:tensorflow:Value in checkpoint could not be found in the restored object: (root).keras_api.metrics.1.total\n"
     ]
    },
    {
     "name": "stdout",
     "output_type": "stream",
     "text": [
      "WARNING:tensorflow:Value in checkpoint could not be found in the restored object: (root).keras_api.metrics.1.count\n"
     ]
    },
    {
     "name": "stderr",
     "output_type": "stream",
     "text": [
      "WARNING:tensorflow:Value in checkpoint could not be found in the restored object: (root).keras_api.metrics.1.count\n"
     ]
    },
    {
     "name": "stdout",
     "output_type": "stream",
     "text": [
      "WARNING:tensorflow:Detecting that an object or model or tf.train.Checkpoint is being deleted with unrestored values. See the following logs for the specific values in question. To silence these warnings, use `status.expect_partial()`. See https://www.tensorflow.org/api_docs/python/tf/train/Checkpoint#restorefor details about the status object returned by the restore function.\n"
     ]
    },
    {
     "name": "stderr",
     "output_type": "stream",
     "text": [
      "WARNING:tensorflow:Detecting that an object or model or tf.train.Checkpoint is being deleted with unrestored values. See the following logs for the specific values in question. To silence these warnings, use `status.expect_partial()`. See https://www.tensorflow.org/api_docs/python/tf/train/Checkpoint#restorefor details about the status object returned by the restore function.\n"
     ]
    },
    {
     "name": "stdout",
     "output_type": "stream",
     "text": [
      "WARNING:tensorflow:Value in checkpoint could not be found in the restored object: (root).keras_api.metrics.0.total\n"
     ]
    },
    {
     "name": "stderr",
     "output_type": "stream",
     "text": [
      "WARNING:tensorflow:Value in checkpoint could not be found in the restored object: (root).keras_api.metrics.0.total\n"
     ]
    },
    {
     "name": "stdout",
     "output_type": "stream",
     "text": [
      "WARNING:tensorflow:Value in checkpoint could not be found in the restored object: (root).keras_api.metrics.0.count\n"
     ]
    },
    {
     "name": "stderr",
     "output_type": "stream",
     "text": [
      "WARNING:tensorflow:Value in checkpoint could not be found in the restored object: (root).keras_api.metrics.0.count\n"
     ]
    },
    {
     "name": "stdout",
     "output_type": "stream",
     "text": [
      "WARNING:tensorflow:Value in checkpoint could not be found in the restored object: (root).keras_api.metrics.1.total\n"
     ]
    },
    {
     "name": "stderr",
     "output_type": "stream",
     "text": [
      "WARNING:tensorflow:Value in checkpoint could not be found in the restored object: (root).keras_api.metrics.1.total\n"
     ]
    },
    {
     "name": "stdout",
     "output_type": "stream",
     "text": [
      "WARNING:tensorflow:Value in checkpoint could not be found in the restored object: (root).keras_api.metrics.1.count\n"
     ]
    },
    {
     "name": "stderr",
     "output_type": "stream",
     "text": [
      "WARNING:tensorflow:Value in checkpoint could not be found in the restored object: (root).keras_api.metrics.1.count\n"
     ]
    },
    {
     "name": "stdout",
     "output_type": "stream",
     "text": [
      "WARNING:tensorflow:Detecting that an object or model or tf.train.Checkpoint is being deleted with unrestored values. See the following logs for the specific values in question. To silence these warnings, use `status.expect_partial()`. See https://www.tensorflow.org/api_docs/python/tf/train/Checkpoint#restorefor details about the status object returned by the restore function.\n"
     ]
    },
    {
     "name": "stderr",
     "output_type": "stream",
     "text": [
      "WARNING:tensorflow:Detecting that an object or model or tf.train.Checkpoint is being deleted with unrestored values. See the following logs for the specific values in question. To silence these warnings, use `status.expect_partial()`. See https://www.tensorflow.org/api_docs/python/tf/train/Checkpoint#restorefor details about the status object returned by the restore function.\n"
     ]
    },
    {
     "name": "stdout",
     "output_type": "stream",
     "text": [
      "WARNING:tensorflow:Value in checkpoint could not be found in the restored object: (root).keras_api.metrics.0.total\n"
     ]
    },
    {
     "name": "stderr",
     "output_type": "stream",
     "text": [
      "WARNING:tensorflow:Value in checkpoint could not be found in the restored object: (root).keras_api.metrics.0.total\n"
     ]
    },
    {
     "name": "stdout",
     "output_type": "stream",
     "text": [
      "WARNING:tensorflow:Value in checkpoint could not be found in the restored object: (root).keras_api.metrics.0.count\n"
     ]
    },
    {
     "name": "stderr",
     "output_type": "stream",
     "text": [
      "WARNING:tensorflow:Value in checkpoint could not be found in the restored object: (root).keras_api.metrics.0.count\n"
     ]
    },
    {
     "name": "stdout",
     "output_type": "stream",
     "text": [
      "WARNING:tensorflow:Value in checkpoint could not be found in the restored object: (root).keras_api.metrics.1.total\n"
     ]
    },
    {
     "name": "stderr",
     "output_type": "stream",
     "text": [
      "WARNING:tensorflow:Value in checkpoint could not be found in the restored object: (root).keras_api.metrics.1.total\n"
     ]
    },
    {
     "name": "stdout",
     "output_type": "stream",
     "text": [
      "WARNING:tensorflow:Value in checkpoint could not be found in the restored object: (root).keras_api.metrics.1.count\n"
     ]
    },
    {
     "name": "stderr",
     "output_type": "stream",
     "text": [
      "WARNING:tensorflow:Value in checkpoint could not be found in the restored object: (root).keras_api.metrics.1.count\n"
     ]
    },
    {
     "name": "stdout",
     "output_type": "stream",
     "text": [
      "WARNING:tensorflow:Detecting that an object or model or tf.train.Checkpoint is being deleted with unrestored values. See the following logs for the specific values in question. To silence these warnings, use `status.expect_partial()`. See https://www.tensorflow.org/api_docs/python/tf/train/Checkpoint#restorefor details about the status object returned by the restore function.\n"
     ]
    },
    {
     "name": "stderr",
     "output_type": "stream",
     "text": [
      "WARNING:tensorflow:Detecting that an object or model or tf.train.Checkpoint is being deleted with unrestored values. See the following logs for the specific values in question. To silence these warnings, use `status.expect_partial()`. See https://www.tensorflow.org/api_docs/python/tf/train/Checkpoint#restorefor details about the status object returned by the restore function.\n"
     ]
    },
    {
     "name": "stdout",
     "output_type": "stream",
     "text": [
      "WARNING:tensorflow:Value in checkpoint could not be found in the restored object: (root).keras_api.metrics.0.total\n"
     ]
    },
    {
     "name": "stderr",
     "output_type": "stream",
     "text": [
      "WARNING:tensorflow:Value in checkpoint could not be found in the restored object: (root).keras_api.metrics.0.total\n"
     ]
    },
    {
     "name": "stdout",
     "output_type": "stream",
     "text": [
      "WARNING:tensorflow:Value in checkpoint could not be found in the restored object: (root).keras_api.metrics.0.count\n"
     ]
    },
    {
     "name": "stderr",
     "output_type": "stream",
     "text": [
      "WARNING:tensorflow:Value in checkpoint could not be found in the restored object: (root).keras_api.metrics.0.count\n"
     ]
    },
    {
     "name": "stdout",
     "output_type": "stream",
     "text": [
      "WARNING:tensorflow:Value in checkpoint could not be found in the restored object: (root).keras_api.metrics.1.total\n"
     ]
    },
    {
     "name": "stderr",
     "output_type": "stream",
     "text": [
      "WARNING:tensorflow:Value in checkpoint could not be found in the restored object: (root).keras_api.metrics.1.total\n"
     ]
    },
    {
     "name": "stdout",
     "output_type": "stream",
     "text": [
      "WARNING:tensorflow:Value in checkpoint could not be found in the restored object: (root).keras_api.metrics.1.count\n"
     ]
    },
    {
     "name": "stderr",
     "output_type": "stream",
     "text": [
      "WARNING:tensorflow:Value in checkpoint could not be found in the restored object: (root).keras_api.metrics.1.count\n"
     ]
    },
    {
     "name": "stdout",
     "output_type": "stream",
     "text": [
      "WARNING:tensorflow:Detecting that an object or model or tf.train.Checkpoint is being deleted with unrestored values. See the following logs for the specific values in question. To silence these warnings, use `status.expect_partial()`. See https://www.tensorflow.org/api_docs/python/tf/train/Checkpoint#restorefor details about the status object returned by the restore function.\n"
     ]
    },
    {
     "name": "stderr",
     "output_type": "stream",
     "text": [
      "WARNING:tensorflow:Detecting that an object or model or tf.train.Checkpoint is being deleted with unrestored values. See the following logs for the specific values in question. To silence these warnings, use `status.expect_partial()`. See https://www.tensorflow.org/api_docs/python/tf/train/Checkpoint#restorefor details about the status object returned by the restore function.\n"
     ]
    },
    {
     "name": "stdout",
     "output_type": "stream",
     "text": [
      "WARNING:tensorflow:Value in checkpoint could not be found in the restored object: (root).keras_api.metrics.0.total\n"
     ]
    },
    {
     "name": "stderr",
     "output_type": "stream",
     "text": [
      "WARNING:tensorflow:Value in checkpoint could not be found in the restored object: (root).keras_api.metrics.0.total\n"
     ]
    },
    {
     "name": "stdout",
     "output_type": "stream",
     "text": [
      "WARNING:tensorflow:Value in checkpoint could not be found in the restored object: (root).keras_api.metrics.0.count\n"
     ]
    },
    {
     "name": "stderr",
     "output_type": "stream",
     "text": [
      "WARNING:tensorflow:Value in checkpoint could not be found in the restored object: (root).keras_api.metrics.0.count\n"
     ]
    },
    {
     "name": "stdout",
     "output_type": "stream",
     "text": [
      "WARNING:tensorflow:Value in checkpoint could not be found in the restored object: (root).keras_api.metrics.1.total\n"
     ]
    },
    {
     "name": "stderr",
     "output_type": "stream",
     "text": [
      "WARNING:tensorflow:Value in checkpoint could not be found in the restored object: (root).keras_api.metrics.1.total\n"
     ]
    },
    {
     "name": "stdout",
     "output_type": "stream",
     "text": [
      "WARNING:tensorflow:Value in checkpoint could not be found in the restored object: (root).keras_api.metrics.1.count\n"
     ]
    },
    {
     "name": "stderr",
     "output_type": "stream",
     "text": [
      "WARNING:tensorflow:Value in checkpoint could not be found in the restored object: (root).keras_api.metrics.1.count\n"
     ]
    },
    {
     "name": "stdout",
     "output_type": "stream",
     "text": [
      "WARNING:tensorflow:Detecting that an object or model or tf.train.Checkpoint is being deleted with unrestored values. See the following logs for the specific values in question. To silence these warnings, use `status.expect_partial()`. See https://www.tensorflow.org/api_docs/python/tf/train/Checkpoint#restorefor details about the status object returned by the restore function.\n"
     ]
    },
    {
     "name": "stderr",
     "output_type": "stream",
     "text": [
      "WARNING:tensorflow:Detecting that an object or model or tf.train.Checkpoint is being deleted with unrestored values. See the following logs for the specific values in question. To silence these warnings, use `status.expect_partial()`. See https://www.tensorflow.org/api_docs/python/tf/train/Checkpoint#restorefor details about the status object returned by the restore function.\n"
     ]
    },
    {
     "name": "stdout",
     "output_type": "stream",
     "text": [
      "WARNING:tensorflow:Value in checkpoint could not be found in the restored object: (root).keras_api.metrics.0.total\n"
     ]
    },
    {
     "name": "stderr",
     "output_type": "stream",
     "text": [
      "WARNING:tensorflow:Value in checkpoint could not be found in the restored object: (root).keras_api.metrics.0.total\n"
     ]
    },
    {
     "name": "stdout",
     "output_type": "stream",
     "text": [
      "WARNING:tensorflow:Value in checkpoint could not be found in the restored object: (root).keras_api.metrics.0.count\n"
     ]
    },
    {
     "name": "stderr",
     "output_type": "stream",
     "text": [
      "WARNING:tensorflow:Value in checkpoint could not be found in the restored object: (root).keras_api.metrics.0.count\n"
     ]
    },
    {
     "name": "stdout",
     "output_type": "stream",
     "text": [
      "WARNING:tensorflow:Value in checkpoint could not be found in the restored object: (root).keras_api.metrics.1.total\n"
     ]
    },
    {
     "name": "stderr",
     "output_type": "stream",
     "text": [
      "WARNING:tensorflow:Value in checkpoint could not be found in the restored object: (root).keras_api.metrics.1.total\n"
     ]
    },
    {
     "name": "stdout",
     "output_type": "stream",
     "text": [
      "WARNING:tensorflow:Value in checkpoint could not be found in the restored object: (root).keras_api.metrics.1.count\n"
     ]
    },
    {
     "name": "stderr",
     "output_type": "stream",
     "text": [
      "WARNING:tensorflow:Value in checkpoint could not be found in the restored object: (root).keras_api.metrics.1.count\n"
     ]
    },
    {
     "name": "stdout",
     "output_type": "stream",
     "text": [
      "WARNING:tensorflow:Detecting that an object or model or tf.train.Checkpoint is being deleted with unrestored values. See the following logs for the specific values in question. To silence these warnings, use `status.expect_partial()`. See https://www.tensorflow.org/api_docs/python/tf/train/Checkpoint#restorefor details about the status object returned by the restore function.\n"
     ]
    },
    {
     "name": "stderr",
     "output_type": "stream",
     "text": [
      "WARNING:tensorflow:Detecting that an object or model or tf.train.Checkpoint is being deleted with unrestored values. See the following logs for the specific values in question. To silence these warnings, use `status.expect_partial()`. See https://www.tensorflow.org/api_docs/python/tf/train/Checkpoint#restorefor details about the status object returned by the restore function.\n"
     ]
    },
    {
     "name": "stdout",
     "output_type": "stream",
     "text": [
      "WARNING:tensorflow:Value in checkpoint could not be found in the restored object: (root).keras_api.metrics.0.total\n"
     ]
    },
    {
     "name": "stderr",
     "output_type": "stream",
     "text": [
      "WARNING:tensorflow:Value in checkpoint could not be found in the restored object: (root).keras_api.metrics.0.total\n"
     ]
    },
    {
     "name": "stdout",
     "output_type": "stream",
     "text": [
      "WARNING:tensorflow:Value in checkpoint could not be found in the restored object: (root).keras_api.metrics.0.count\n"
     ]
    },
    {
     "name": "stderr",
     "output_type": "stream",
     "text": [
      "WARNING:tensorflow:Value in checkpoint could not be found in the restored object: (root).keras_api.metrics.0.count\n"
     ]
    },
    {
     "name": "stdout",
     "output_type": "stream",
     "text": [
      "WARNING:tensorflow:Value in checkpoint could not be found in the restored object: (root).keras_api.metrics.1.total\n"
     ]
    },
    {
     "name": "stderr",
     "output_type": "stream",
     "text": [
      "WARNING:tensorflow:Value in checkpoint could not be found in the restored object: (root).keras_api.metrics.1.total\n"
     ]
    },
    {
     "name": "stdout",
     "output_type": "stream",
     "text": [
      "WARNING:tensorflow:Value in checkpoint could not be found in the restored object: (root).keras_api.metrics.1.count\n"
     ]
    },
    {
     "name": "stderr",
     "output_type": "stream",
     "text": [
      "WARNING:tensorflow:Value in checkpoint could not be found in the restored object: (root).keras_api.metrics.1.count\n"
     ]
    },
    {
     "name": "stdout",
     "output_type": "stream",
     "text": [
      "WARNING:tensorflow:Detecting that an object or model or tf.train.Checkpoint is being deleted with unrestored values. See the following logs for the specific values in question. To silence these warnings, use `status.expect_partial()`. See https://www.tensorflow.org/api_docs/python/tf/train/Checkpoint#restorefor details about the status object returned by the restore function.\n"
     ]
    },
    {
     "name": "stderr",
     "output_type": "stream",
     "text": [
      "WARNING:tensorflow:Detecting that an object or model or tf.train.Checkpoint is being deleted with unrestored values. See the following logs for the specific values in question. To silence these warnings, use `status.expect_partial()`. See https://www.tensorflow.org/api_docs/python/tf/train/Checkpoint#restorefor details about the status object returned by the restore function.\n"
     ]
    },
    {
     "name": "stdout",
     "output_type": "stream",
     "text": [
      "WARNING:tensorflow:Value in checkpoint could not be found in the restored object: (root).keras_api.metrics.0.total\n"
     ]
    },
    {
     "name": "stderr",
     "output_type": "stream",
     "text": [
      "WARNING:tensorflow:Value in checkpoint could not be found in the restored object: (root).keras_api.metrics.0.total\n"
     ]
    },
    {
     "name": "stdout",
     "output_type": "stream",
     "text": [
      "WARNING:tensorflow:Value in checkpoint could not be found in the restored object: (root).keras_api.metrics.0.count\n"
     ]
    },
    {
     "name": "stderr",
     "output_type": "stream",
     "text": [
      "WARNING:tensorflow:Value in checkpoint could not be found in the restored object: (root).keras_api.metrics.0.count\n"
     ]
    },
    {
     "name": "stdout",
     "output_type": "stream",
     "text": [
      "WARNING:tensorflow:Value in checkpoint could not be found in the restored object: (root).keras_api.metrics.1.total\n"
     ]
    },
    {
     "name": "stderr",
     "output_type": "stream",
     "text": [
      "WARNING:tensorflow:Value in checkpoint could not be found in the restored object: (root).keras_api.metrics.1.total\n"
     ]
    },
    {
     "name": "stdout",
     "output_type": "stream",
     "text": [
      "WARNING:tensorflow:Value in checkpoint could not be found in the restored object: (root).keras_api.metrics.1.count\n"
     ]
    },
    {
     "name": "stderr",
     "output_type": "stream",
     "text": [
      "WARNING:tensorflow:Value in checkpoint could not be found in the restored object: (root).keras_api.metrics.1.count\n"
     ]
    },
    {
     "name": "stdout",
     "output_type": "stream",
     "text": [
      "WARNING:tensorflow:Detecting that an object or model or tf.train.Checkpoint is being deleted with unrestored values. See the following logs for the specific values in question. To silence these warnings, use `status.expect_partial()`. See https://www.tensorflow.org/api_docs/python/tf/train/Checkpoint#restorefor details about the status object returned by the restore function.\n"
     ]
    },
    {
     "name": "stderr",
     "output_type": "stream",
     "text": [
      "WARNING:tensorflow:Detecting that an object or model or tf.train.Checkpoint is being deleted with unrestored values. See the following logs for the specific values in question. To silence these warnings, use `status.expect_partial()`. See https://www.tensorflow.org/api_docs/python/tf/train/Checkpoint#restorefor details about the status object returned by the restore function.\n"
     ]
    },
    {
     "name": "stdout",
     "output_type": "stream",
     "text": [
      "WARNING:tensorflow:Value in checkpoint could not be found in the restored object: (root).keras_api.metrics.0.total\n"
     ]
    },
    {
     "name": "stderr",
     "output_type": "stream",
     "text": [
      "WARNING:tensorflow:Value in checkpoint could not be found in the restored object: (root).keras_api.metrics.0.total\n"
     ]
    },
    {
     "name": "stdout",
     "output_type": "stream",
     "text": [
      "WARNING:tensorflow:Value in checkpoint could not be found in the restored object: (root).keras_api.metrics.0.count\n"
     ]
    },
    {
     "name": "stderr",
     "output_type": "stream",
     "text": [
      "WARNING:tensorflow:Value in checkpoint could not be found in the restored object: (root).keras_api.metrics.0.count\n"
     ]
    },
    {
     "name": "stdout",
     "output_type": "stream",
     "text": [
      "WARNING:tensorflow:Value in checkpoint could not be found in the restored object: (root).keras_api.metrics.1.total\n"
     ]
    },
    {
     "name": "stderr",
     "output_type": "stream",
     "text": [
      "WARNING:tensorflow:Value in checkpoint could not be found in the restored object: (root).keras_api.metrics.1.total\n"
     ]
    },
    {
     "name": "stdout",
     "output_type": "stream",
     "text": [
      "WARNING:tensorflow:Value in checkpoint could not be found in the restored object: (root).keras_api.metrics.1.count\n"
     ]
    },
    {
     "name": "stderr",
     "output_type": "stream",
     "text": [
      "WARNING:tensorflow:Value in checkpoint could not be found in the restored object: (root).keras_api.metrics.1.count\n"
     ]
    },
    {
     "name": "stdout",
     "output_type": "stream",
     "text": [
      "WARNING:tensorflow:Detecting that an object or model or tf.train.Checkpoint is being deleted with unrestored values. See the following logs for the specific values in question. To silence these warnings, use `status.expect_partial()`. See https://www.tensorflow.org/api_docs/python/tf/train/Checkpoint#restorefor details about the status object returned by the restore function.\n"
     ]
    },
    {
     "name": "stderr",
     "output_type": "stream",
     "text": [
      "WARNING:tensorflow:Detecting that an object or model or tf.train.Checkpoint is being deleted with unrestored values. See the following logs for the specific values in question. To silence these warnings, use `status.expect_partial()`. See https://www.tensorflow.org/api_docs/python/tf/train/Checkpoint#restorefor details about the status object returned by the restore function.\n"
     ]
    },
    {
     "name": "stdout",
     "output_type": "stream",
     "text": [
      "WARNING:tensorflow:Value in checkpoint could not be found in the restored object: (root).keras_api.metrics.0.total\n"
     ]
    },
    {
     "name": "stderr",
     "output_type": "stream",
     "text": [
      "WARNING:tensorflow:Value in checkpoint could not be found in the restored object: (root).keras_api.metrics.0.total\n"
     ]
    },
    {
     "name": "stdout",
     "output_type": "stream",
     "text": [
      "WARNING:tensorflow:Value in checkpoint could not be found in the restored object: (root).keras_api.metrics.0.count\n"
     ]
    },
    {
     "name": "stderr",
     "output_type": "stream",
     "text": [
      "WARNING:tensorflow:Value in checkpoint could not be found in the restored object: (root).keras_api.metrics.0.count\n"
     ]
    },
    {
     "name": "stdout",
     "output_type": "stream",
     "text": [
      "WARNING:tensorflow:Value in checkpoint could not be found in the restored object: (root).keras_api.metrics.1.total\n"
     ]
    },
    {
     "name": "stderr",
     "output_type": "stream",
     "text": [
      "WARNING:tensorflow:Value in checkpoint could not be found in the restored object: (root).keras_api.metrics.1.total\n"
     ]
    },
    {
     "name": "stdout",
     "output_type": "stream",
     "text": [
      "WARNING:tensorflow:Value in checkpoint could not be found in the restored object: (root).keras_api.metrics.1.count\n"
     ]
    },
    {
     "name": "stderr",
     "output_type": "stream",
     "text": [
      "WARNING:tensorflow:Value in checkpoint could not be found in the restored object: (root).keras_api.metrics.1.count\n"
     ]
    },
    {
     "name": "stdout",
     "output_type": "stream",
     "text": [
      "WARNING:tensorflow:Detecting that an object or model or tf.train.Checkpoint is being deleted with unrestored values. See the following logs for the specific values in question. To silence these warnings, use `status.expect_partial()`. See https://www.tensorflow.org/api_docs/python/tf/train/Checkpoint#restorefor details about the status object returned by the restore function.\n"
     ]
    },
    {
     "name": "stderr",
     "output_type": "stream",
     "text": [
      "WARNING:tensorflow:Detecting that an object or model or tf.train.Checkpoint is being deleted with unrestored values. See the following logs for the specific values in question. To silence these warnings, use `status.expect_partial()`. See https://www.tensorflow.org/api_docs/python/tf/train/Checkpoint#restorefor details about the status object returned by the restore function.\n"
     ]
    },
    {
     "name": "stdout",
     "output_type": "stream",
     "text": [
      "WARNING:tensorflow:Value in checkpoint could not be found in the restored object: (root).keras_api.metrics.0.total\n"
     ]
    },
    {
     "name": "stderr",
     "output_type": "stream",
     "text": [
      "WARNING:tensorflow:Value in checkpoint could not be found in the restored object: (root).keras_api.metrics.0.total\n"
     ]
    },
    {
     "name": "stdout",
     "output_type": "stream",
     "text": [
      "WARNING:tensorflow:Value in checkpoint could not be found in the restored object: (root).keras_api.metrics.0.count\n"
     ]
    },
    {
     "name": "stderr",
     "output_type": "stream",
     "text": [
      "WARNING:tensorflow:Value in checkpoint could not be found in the restored object: (root).keras_api.metrics.0.count\n"
     ]
    },
    {
     "name": "stdout",
     "output_type": "stream",
     "text": [
      "WARNING:tensorflow:Value in checkpoint could not be found in the restored object: (root).keras_api.metrics.1.total\n"
     ]
    },
    {
     "name": "stderr",
     "output_type": "stream",
     "text": [
      "WARNING:tensorflow:Value in checkpoint could not be found in the restored object: (root).keras_api.metrics.1.total\n"
     ]
    },
    {
     "name": "stdout",
     "output_type": "stream",
     "text": [
      "WARNING:tensorflow:Value in checkpoint could not be found in the restored object: (root).keras_api.metrics.1.count\n"
     ]
    },
    {
     "name": "stderr",
     "output_type": "stream",
     "text": [
      "WARNING:tensorflow:Value in checkpoint could not be found in the restored object: (root).keras_api.metrics.1.count\n"
     ]
    },
    {
     "name": "stdout",
     "output_type": "stream",
     "text": [
      "WARNING:tensorflow:Detecting that an object or model or tf.train.Checkpoint is being deleted with unrestored values. See the following logs for the specific values in question. To silence these warnings, use `status.expect_partial()`. See https://www.tensorflow.org/api_docs/python/tf/train/Checkpoint#restorefor details about the status object returned by the restore function.\n"
     ]
    },
    {
     "name": "stderr",
     "output_type": "stream",
     "text": [
      "WARNING:tensorflow:Detecting that an object or model or tf.train.Checkpoint is being deleted with unrestored values. See the following logs for the specific values in question. To silence these warnings, use `status.expect_partial()`. See https://www.tensorflow.org/api_docs/python/tf/train/Checkpoint#restorefor details about the status object returned by the restore function.\n"
     ]
    },
    {
     "name": "stdout",
     "output_type": "stream",
     "text": [
      "WARNING:tensorflow:Value in checkpoint could not be found in the restored object: (root).keras_api.metrics.0.total\n"
     ]
    },
    {
     "name": "stderr",
     "output_type": "stream",
     "text": [
      "WARNING:tensorflow:Value in checkpoint could not be found in the restored object: (root).keras_api.metrics.0.total\n"
     ]
    },
    {
     "name": "stdout",
     "output_type": "stream",
     "text": [
      "WARNING:tensorflow:Value in checkpoint could not be found in the restored object: (root).keras_api.metrics.0.count\n"
     ]
    },
    {
     "name": "stderr",
     "output_type": "stream",
     "text": [
      "WARNING:tensorflow:Value in checkpoint could not be found in the restored object: (root).keras_api.metrics.0.count\n"
     ]
    },
    {
     "name": "stdout",
     "output_type": "stream",
     "text": [
      "WARNING:tensorflow:Value in checkpoint could not be found in the restored object: (root).keras_api.metrics.1.total\n"
     ]
    },
    {
     "name": "stderr",
     "output_type": "stream",
     "text": [
      "WARNING:tensorflow:Value in checkpoint could not be found in the restored object: (root).keras_api.metrics.1.total\n"
     ]
    },
    {
     "name": "stdout",
     "output_type": "stream",
     "text": [
      "WARNING:tensorflow:Value in checkpoint could not be found in the restored object: (root).keras_api.metrics.1.count\n"
     ]
    },
    {
     "name": "stderr",
     "output_type": "stream",
     "text": [
      "WARNING:tensorflow:Value in checkpoint could not be found in the restored object: (root).keras_api.metrics.1.count\n"
     ]
    },
    {
     "name": "stdout",
     "output_type": "stream",
     "text": [
      "WARNING:tensorflow:Detecting that an object or model or tf.train.Checkpoint is being deleted with unrestored values. See the following logs for the specific values in question. To silence these warnings, use `status.expect_partial()`. See https://www.tensorflow.org/api_docs/python/tf/train/Checkpoint#restorefor details about the status object returned by the restore function.\n"
     ]
    },
    {
     "name": "stderr",
     "output_type": "stream",
     "text": [
      "WARNING:tensorflow:Detecting that an object or model or tf.train.Checkpoint is being deleted with unrestored values. See the following logs for the specific values in question. To silence these warnings, use `status.expect_partial()`. See https://www.tensorflow.org/api_docs/python/tf/train/Checkpoint#restorefor details about the status object returned by the restore function.\n"
     ]
    },
    {
     "name": "stdout",
     "output_type": "stream",
     "text": [
      "WARNING:tensorflow:Value in checkpoint could not be found in the restored object: (root).keras_api.metrics.0.total\n"
     ]
    },
    {
     "name": "stderr",
     "output_type": "stream",
     "text": [
      "WARNING:tensorflow:Value in checkpoint could not be found in the restored object: (root).keras_api.metrics.0.total\n"
     ]
    },
    {
     "name": "stdout",
     "output_type": "stream",
     "text": [
      "WARNING:tensorflow:Value in checkpoint could not be found in the restored object: (root).keras_api.metrics.0.count\n"
     ]
    },
    {
     "name": "stderr",
     "output_type": "stream",
     "text": [
      "WARNING:tensorflow:Value in checkpoint could not be found in the restored object: (root).keras_api.metrics.0.count\n"
     ]
    },
    {
     "name": "stdout",
     "output_type": "stream",
     "text": [
      "WARNING:tensorflow:Value in checkpoint could not be found in the restored object: (root).keras_api.metrics.1.total\n"
     ]
    },
    {
     "name": "stderr",
     "output_type": "stream",
     "text": [
      "WARNING:tensorflow:Value in checkpoint could not be found in the restored object: (root).keras_api.metrics.1.total\n"
     ]
    },
    {
     "name": "stdout",
     "output_type": "stream",
     "text": [
      "WARNING:tensorflow:Value in checkpoint could not be found in the restored object: (root).keras_api.metrics.1.count\n"
     ]
    },
    {
     "name": "stderr",
     "output_type": "stream",
     "text": [
      "WARNING:tensorflow:Value in checkpoint could not be found in the restored object: (root).keras_api.metrics.1.count\n"
     ]
    },
    {
     "name": "stdout",
     "output_type": "stream",
     "text": [
      "WARNING:tensorflow:Detecting that an object or model or tf.train.Checkpoint is being deleted with unrestored values. See the following logs for the specific values in question. To silence these warnings, use `status.expect_partial()`. See https://www.tensorflow.org/api_docs/python/tf/train/Checkpoint#restorefor details about the status object returned by the restore function.\n"
     ]
    },
    {
     "name": "stderr",
     "output_type": "stream",
     "text": [
      "WARNING:tensorflow:Detecting that an object or model or tf.train.Checkpoint is being deleted with unrestored values. See the following logs for the specific values in question. To silence these warnings, use `status.expect_partial()`. See https://www.tensorflow.org/api_docs/python/tf/train/Checkpoint#restorefor details about the status object returned by the restore function.\n"
     ]
    },
    {
     "name": "stdout",
     "output_type": "stream",
     "text": [
      "WARNING:tensorflow:Value in checkpoint could not be found in the restored object: (root).keras_api.metrics.0.total\n"
     ]
    },
    {
     "name": "stderr",
     "output_type": "stream",
     "text": [
      "WARNING:tensorflow:Value in checkpoint could not be found in the restored object: (root).keras_api.metrics.0.total\n"
     ]
    },
    {
     "name": "stdout",
     "output_type": "stream",
     "text": [
      "WARNING:tensorflow:Value in checkpoint could not be found in the restored object: (root).keras_api.metrics.0.count\n"
     ]
    },
    {
     "name": "stderr",
     "output_type": "stream",
     "text": [
      "WARNING:tensorflow:Value in checkpoint could not be found in the restored object: (root).keras_api.metrics.0.count\n"
     ]
    },
    {
     "name": "stdout",
     "output_type": "stream",
     "text": [
      "WARNING:tensorflow:Value in checkpoint could not be found in the restored object: (root).keras_api.metrics.1.total\n"
     ]
    },
    {
     "name": "stderr",
     "output_type": "stream",
     "text": [
      "WARNING:tensorflow:Value in checkpoint could not be found in the restored object: (root).keras_api.metrics.1.total\n"
     ]
    },
    {
     "name": "stdout",
     "output_type": "stream",
     "text": [
      "WARNING:tensorflow:Value in checkpoint could not be found in the restored object: (root).keras_api.metrics.1.count\n"
     ]
    },
    {
     "name": "stderr",
     "output_type": "stream",
     "text": [
      "WARNING:tensorflow:Value in checkpoint could not be found in the restored object: (root).keras_api.metrics.1.count\n"
     ]
    },
    {
     "name": "stdout",
     "output_type": "stream",
     "text": [
      "WARNING:tensorflow:Detecting that an object or model or tf.train.Checkpoint is being deleted with unrestored values. See the following logs for the specific values in question. To silence these warnings, use `status.expect_partial()`. See https://www.tensorflow.org/api_docs/python/tf/train/Checkpoint#restorefor details about the status object returned by the restore function.\n"
     ]
    },
    {
     "name": "stderr",
     "output_type": "stream",
     "text": [
      "WARNING:tensorflow:Detecting that an object or model or tf.train.Checkpoint is being deleted with unrestored values. See the following logs for the specific values in question. To silence these warnings, use `status.expect_partial()`. See https://www.tensorflow.org/api_docs/python/tf/train/Checkpoint#restorefor details about the status object returned by the restore function.\n"
     ]
    },
    {
     "name": "stdout",
     "output_type": "stream",
     "text": [
      "WARNING:tensorflow:Value in checkpoint could not be found in the restored object: (root).keras_api.metrics.0.total\n"
     ]
    },
    {
     "name": "stderr",
     "output_type": "stream",
     "text": [
      "WARNING:tensorflow:Value in checkpoint could not be found in the restored object: (root).keras_api.metrics.0.total\n"
     ]
    },
    {
     "name": "stdout",
     "output_type": "stream",
     "text": [
      "WARNING:tensorflow:Value in checkpoint could not be found in the restored object: (root).keras_api.metrics.0.count\n"
     ]
    },
    {
     "name": "stderr",
     "output_type": "stream",
     "text": [
      "WARNING:tensorflow:Value in checkpoint could not be found in the restored object: (root).keras_api.metrics.0.count\n"
     ]
    },
    {
     "name": "stdout",
     "output_type": "stream",
     "text": [
      "WARNING:tensorflow:Value in checkpoint could not be found in the restored object: (root).keras_api.metrics.1.total\n"
     ]
    },
    {
     "name": "stderr",
     "output_type": "stream",
     "text": [
      "WARNING:tensorflow:Value in checkpoint could not be found in the restored object: (root).keras_api.metrics.1.total\n"
     ]
    },
    {
     "name": "stdout",
     "output_type": "stream",
     "text": [
      "WARNING:tensorflow:Value in checkpoint could not be found in the restored object: (root).keras_api.metrics.1.count\n"
     ]
    },
    {
     "name": "stderr",
     "output_type": "stream",
     "text": [
      "WARNING:tensorflow:Value in checkpoint could not be found in the restored object: (root).keras_api.metrics.1.count\n"
     ]
    },
    {
     "name": "stdout",
     "output_type": "stream",
     "text": [
      "INFO:tensorflow:Assets written to: C:\\Users\\RAJESH\\AppData\\Local\\Temp\\tmppzpwyz90\\assets\n"
     ]
    },
    {
     "name": "stderr",
     "output_type": "stream",
     "text": [
      "INFO:tensorflow:Assets written to: C:\\Users\\RAJESH\\AppData\\Local\\Temp\\tmppzpwyz90\\assets\n"
     ]
    },
    {
     "name": "stdout",
     "output_type": "stream",
     "text": [
      "INFO:tensorflow:Assets written to: C:\\Users\\RAJESH\\AppData\\Local\\Temp\\tmpexb6tp00\\assets\n"
     ]
    },
    {
     "name": "stderr",
     "output_type": "stream",
     "text": [
      "INFO:tensorflow:Assets written to: C:\\Users\\RAJESH\\AppData\\Local\\Temp\\tmpexb6tp00\\assets\n"
     ]
    },
    {
     "name": "stdout",
     "output_type": "stream",
     "text": [
      "INFO:tensorflow:Assets written to: C:\\Users\\RAJESH\\AppData\\Local\\Temp\\tmpt0lho43j\\assets\n"
     ]
    },
    {
     "name": "stderr",
     "output_type": "stream",
     "text": [
      "INFO:tensorflow:Assets written to: C:\\Users\\RAJESH\\AppData\\Local\\Temp\\tmpt0lho43j\\assets\n"
     ]
    },
    {
     "name": "stdout",
     "output_type": "stream",
     "text": [
      "INFO:tensorflow:Assets written to: C:\\Users\\RAJESH\\AppData\\Local\\Temp\\tmpfk5it4ou\\assets\n"
     ]
    },
    {
     "name": "stderr",
     "output_type": "stream",
     "text": [
      "INFO:tensorflow:Assets written to: C:\\Users\\RAJESH\\AppData\\Local\\Temp\\tmpfk5it4ou\\assets\n"
     ]
    },
    {
     "name": "stdout",
     "output_type": "stream",
     "text": [
      "INFO:tensorflow:Assets written to: C:\\Users\\RAJESH\\AppData\\Local\\Temp\\tmplfeszwwz\\assets\n"
     ]
    },
    {
     "name": "stderr",
     "output_type": "stream",
     "text": [
      "INFO:tensorflow:Assets written to: C:\\Users\\RAJESH\\AppData\\Local\\Temp\\tmplfeszwwz\\assets\n"
     ]
    },
    {
     "name": "stdout",
     "output_type": "stream",
     "text": [
      "INFO:tensorflow:Assets written to: C:\\Users\\RAJESH\\AppData\\Local\\Temp\\tmpyq1by4ab\\assets\n"
     ]
    },
    {
     "name": "stderr",
     "output_type": "stream",
     "text": [
      "INFO:tensorflow:Assets written to: C:\\Users\\RAJESH\\AppData\\Local\\Temp\\tmpyq1by4ab\\assets\n"
     ]
    },
    {
     "name": "stdout",
     "output_type": "stream",
     "text": [
      "INFO:tensorflow:Assets written to: C:\\Users\\RAJESH\\AppData\\Local\\Temp\\tmpa1v54l9t\\assets\n"
     ]
    },
    {
     "name": "stderr",
     "output_type": "stream",
     "text": [
      "INFO:tensorflow:Assets written to: C:\\Users\\RAJESH\\AppData\\Local\\Temp\\tmpa1v54l9t\\assets\n"
     ]
    },
    {
     "name": "stdout",
     "output_type": "stream",
     "text": [
      "INFO:tensorflow:Assets written to: C:\\Users\\RAJESH\\AppData\\Local\\Temp\\tmpcqqtz9st\\assets\n"
     ]
    },
    {
     "name": "stderr",
     "output_type": "stream",
     "text": [
      "INFO:tensorflow:Assets written to: C:\\Users\\RAJESH\\AppData\\Local\\Temp\\tmpcqqtz9st\\assets\n"
     ]
    },
    {
     "name": "stdout",
     "output_type": "stream",
     "text": [
      "INFO:tensorflow:Assets written to: C:\\Users\\RAJESH\\AppData\\Local\\Temp\\tmpj32h0i8e\\assets\n"
     ]
    },
    {
     "name": "stderr",
     "output_type": "stream",
     "text": [
      "INFO:tensorflow:Assets written to: C:\\Users\\RAJESH\\AppData\\Local\\Temp\\tmpj32h0i8e\\assets\n"
     ]
    },
    {
     "name": "stdout",
     "output_type": "stream",
     "text": [
      "INFO:tensorflow:Assets written to: C:\\Users\\RAJESH\\AppData\\Local\\Temp\\tmp9l20x67z\\assets\n"
     ]
    },
    {
     "name": "stderr",
     "output_type": "stream",
     "text": [
      "INFO:tensorflow:Assets written to: C:\\Users\\RAJESH\\AppData\\Local\\Temp\\tmp9l20x67z\\assets\n"
     ]
    },
    {
     "name": "stdout",
     "output_type": "stream",
     "text": [
      "INFO:tensorflow:Assets written to: C:\\Users\\RAJESH\\AppData\\Local\\Temp\\tmpi__tfr00\\assets\n"
     ]
    },
    {
     "name": "stderr",
     "output_type": "stream",
     "text": [
      "INFO:tensorflow:Assets written to: C:\\Users\\RAJESH\\AppData\\Local\\Temp\\tmpi__tfr00\\assets\n"
     ]
    },
    {
     "name": "stdout",
     "output_type": "stream",
     "text": [
      "INFO:tensorflow:Assets written to: C:\\Users\\RAJESH\\AppData\\Local\\Temp\\tmppdks3vtq\\assets\n"
     ]
    },
    {
     "name": "stderr",
     "output_type": "stream",
     "text": [
      "INFO:tensorflow:Assets written to: C:\\Users\\RAJESH\\AppData\\Local\\Temp\\tmppdks3vtq\\assets\n"
     ]
    },
    {
     "name": "stdout",
     "output_type": "stream",
     "text": [
      "INFO:tensorflow:Assets written to: C:\\Users\\RAJESH\\AppData\\Local\\Temp\\tmplgd8io3r\\assets\n"
     ]
    },
    {
     "name": "stderr",
     "output_type": "stream",
     "text": [
      "INFO:tensorflow:Assets written to: C:\\Users\\RAJESH\\AppData\\Local\\Temp\\tmplgd8io3r\\assets\n"
     ]
    },
    {
     "name": "stdout",
     "output_type": "stream",
     "text": [
      "INFO:tensorflow:Assets written to: C:\\Users\\RAJESH\\AppData\\Local\\Temp\\tmpn8nn48ss\\assets\n"
     ]
    },
    {
     "name": "stderr",
     "output_type": "stream",
     "text": [
      "INFO:tensorflow:Assets written to: C:\\Users\\RAJESH\\AppData\\Local\\Temp\\tmpn8nn48ss\\assets\n"
     ]
    },
    {
     "name": "stdout",
     "output_type": "stream",
     "text": [
      "INFO:tensorflow:Assets written to: C:\\Users\\RAJESH\\AppData\\Local\\Temp\\tmpmktjb5ud\\assets\n"
     ]
    },
    {
     "name": "stderr",
     "output_type": "stream",
     "text": [
      "INFO:tensorflow:Assets written to: C:\\Users\\RAJESH\\AppData\\Local\\Temp\\tmpmktjb5ud\\assets\n"
     ]
    },
    {
     "name": "stdout",
     "output_type": "stream",
     "text": [
      "INFO:tensorflow:Assets written to: C:\\Users\\RAJESH\\AppData\\Local\\Temp\\tmp17q1y8qw\\assets\n"
     ]
    },
    {
     "name": "stderr",
     "output_type": "stream",
     "text": [
      "INFO:tensorflow:Assets written to: C:\\Users\\RAJESH\\AppData\\Local\\Temp\\tmp17q1y8qw\\assets\n"
     ]
    },
    {
     "name": "stdout",
     "output_type": "stream",
     "text": [
      "INFO:tensorflow:Assets written to: C:\\Users\\RAJESH\\AppData\\Local\\Temp\\tmpc9hl27rg\\assets\n"
     ]
    },
    {
     "name": "stderr",
     "output_type": "stream",
     "text": [
      "INFO:tensorflow:Assets written to: C:\\Users\\RAJESH\\AppData\\Local\\Temp\\tmpc9hl27rg\\assets\n"
     ]
    },
    {
     "name": "stdout",
     "output_type": "stream",
     "text": [
      "INFO:tensorflow:Assets written to: C:\\Users\\RAJESH\\AppData\\Local\\Temp\\tmplbk4ksd3\\assets\n"
     ]
    },
    {
     "name": "stderr",
     "output_type": "stream",
     "text": [
      "INFO:tensorflow:Assets written to: C:\\Users\\RAJESH\\AppData\\Local\\Temp\\tmplbk4ksd3\\assets\n"
     ]
    },
    {
     "name": "stdout",
     "output_type": "stream",
     "text": [
      "WARNING:tensorflow:Detecting that an object or model or tf.train.Checkpoint is being deleted with unrestored values. See the following logs for the specific values in question. To silence these warnings, use `status.expect_partial()`. See https://www.tensorflow.org/api_docs/python/tf/train/Checkpoint#restorefor details about the status object returned by the restore function.\n"
     ]
    },
    {
     "name": "stderr",
     "output_type": "stream",
     "text": [
      "WARNING:tensorflow:Detecting that an object or model or tf.train.Checkpoint is being deleted with unrestored values. See the following logs for the specific values in question. To silence these warnings, use `status.expect_partial()`. See https://www.tensorflow.org/api_docs/python/tf/train/Checkpoint#restorefor details about the status object returned by the restore function.\n"
     ]
    },
    {
     "name": "stdout",
     "output_type": "stream",
     "text": [
      "WARNING:tensorflow:Value in checkpoint could not be found in the restored object: (root).keras_api.metrics.0.total\n"
     ]
    },
    {
     "name": "stderr",
     "output_type": "stream",
     "text": [
      "WARNING:tensorflow:Value in checkpoint could not be found in the restored object: (root).keras_api.metrics.0.total\n"
     ]
    },
    {
     "name": "stdout",
     "output_type": "stream",
     "text": [
      "WARNING:tensorflow:Value in checkpoint could not be found in the restored object: (root).keras_api.metrics.0.count\n"
     ]
    },
    {
     "name": "stderr",
     "output_type": "stream",
     "text": [
      "WARNING:tensorflow:Value in checkpoint could not be found in the restored object: (root).keras_api.metrics.0.count\n"
     ]
    },
    {
     "name": "stdout",
     "output_type": "stream",
     "text": [
      "WARNING:tensorflow:Value in checkpoint could not be found in the restored object: (root).keras_api.metrics.1.total\n"
     ]
    },
    {
     "name": "stderr",
     "output_type": "stream",
     "text": [
      "WARNING:tensorflow:Value in checkpoint could not be found in the restored object: (root).keras_api.metrics.1.total\n"
     ]
    },
    {
     "name": "stdout",
     "output_type": "stream",
     "text": [
      "WARNING:tensorflow:Value in checkpoint could not be found in the restored object: (root).keras_api.metrics.1.count\n"
     ]
    },
    {
     "name": "stderr",
     "output_type": "stream",
     "text": [
      "WARNING:tensorflow:Value in checkpoint could not be found in the restored object: (root).keras_api.metrics.1.count\n"
     ]
    },
    {
     "name": "stdout",
     "output_type": "stream",
     "text": [
      "WARNING:tensorflow:Detecting that an object or model or tf.train.Checkpoint is being deleted with unrestored values. See the following logs for the specific values in question. To silence these warnings, use `status.expect_partial()`. See https://www.tensorflow.org/api_docs/python/tf/train/Checkpoint#restorefor details about the status object returned by the restore function.\n"
     ]
    },
    {
     "name": "stderr",
     "output_type": "stream",
     "text": [
      "WARNING:tensorflow:Detecting that an object or model or tf.train.Checkpoint is being deleted with unrestored values. See the following logs for the specific values in question. To silence these warnings, use `status.expect_partial()`. See https://www.tensorflow.org/api_docs/python/tf/train/Checkpoint#restorefor details about the status object returned by the restore function.\n"
     ]
    },
    {
     "name": "stdout",
     "output_type": "stream",
     "text": [
      "WARNING:tensorflow:Value in checkpoint could not be found in the restored object: (root).keras_api.metrics.0.total\n"
     ]
    },
    {
     "name": "stderr",
     "output_type": "stream",
     "text": [
      "WARNING:tensorflow:Value in checkpoint could not be found in the restored object: (root).keras_api.metrics.0.total\n"
     ]
    },
    {
     "name": "stdout",
     "output_type": "stream",
     "text": [
      "WARNING:tensorflow:Value in checkpoint could not be found in the restored object: (root).keras_api.metrics.0.count\n"
     ]
    },
    {
     "name": "stderr",
     "output_type": "stream",
     "text": [
      "WARNING:tensorflow:Value in checkpoint could not be found in the restored object: (root).keras_api.metrics.0.count\n"
     ]
    },
    {
     "name": "stdout",
     "output_type": "stream",
     "text": [
      "WARNING:tensorflow:Value in checkpoint could not be found in the restored object: (root).keras_api.metrics.1.total\n"
     ]
    },
    {
     "name": "stderr",
     "output_type": "stream",
     "text": [
      "WARNING:tensorflow:Value in checkpoint could not be found in the restored object: (root).keras_api.metrics.1.total\n"
     ]
    },
    {
     "name": "stdout",
     "output_type": "stream",
     "text": [
      "WARNING:tensorflow:Value in checkpoint could not be found in the restored object: (root).keras_api.metrics.1.count\n"
     ]
    },
    {
     "name": "stderr",
     "output_type": "stream",
     "text": [
      "WARNING:tensorflow:Value in checkpoint could not be found in the restored object: (root).keras_api.metrics.1.count\n"
     ]
    },
    {
     "name": "stdout",
     "output_type": "stream",
     "text": [
      "WARNING:tensorflow:Detecting that an object or model or tf.train.Checkpoint is being deleted with unrestored values. See the following logs for the specific values in question. To silence these warnings, use `status.expect_partial()`. See https://www.tensorflow.org/api_docs/python/tf/train/Checkpoint#restorefor details about the status object returned by the restore function.\n"
     ]
    },
    {
     "name": "stderr",
     "output_type": "stream",
     "text": [
      "WARNING:tensorflow:Detecting that an object or model or tf.train.Checkpoint is being deleted with unrestored values. See the following logs for the specific values in question. To silence these warnings, use `status.expect_partial()`. See https://www.tensorflow.org/api_docs/python/tf/train/Checkpoint#restorefor details about the status object returned by the restore function.\n"
     ]
    },
    {
     "name": "stdout",
     "output_type": "stream",
     "text": [
      "WARNING:tensorflow:Value in checkpoint could not be found in the restored object: (root).keras_api.metrics.0.total\n"
     ]
    },
    {
     "name": "stderr",
     "output_type": "stream",
     "text": [
      "WARNING:tensorflow:Value in checkpoint could not be found in the restored object: (root).keras_api.metrics.0.total\n"
     ]
    },
    {
     "name": "stdout",
     "output_type": "stream",
     "text": [
      "WARNING:tensorflow:Value in checkpoint could not be found in the restored object: (root).keras_api.metrics.0.count\n"
     ]
    },
    {
     "name": "stderr",
     "output_type": "stream",
     "text": [
      "WARNING:tensorflow:Value in checkpoint could not be found in the restored object: (root).keras_api.metrics.0.count\n"
     ]
    },
    {
     "name": "stdout",
     "output_type": "stream",
     "text": [
      "WARNING:tensorflow:Value in checkpoint could not be found in the restored object: (root).keras_api.metrics.1.total\n"
     ]
    },
    {
     "name": "stderr",
     "output_type": "stream",
     "text": [
      "WARNING:tensorflow:Value in checkpoint could not be found in the restored object: (root).keras_api.metrics.1.total\n"
     ]
    },
    {
     "name": "stdout",
     "output_type": "stream",
     "text": [
      "WARNING:tensorflow:Value in checkpoint could not be found in the restored object: (root).keras_api.metrics.1.count\n"
     ]
    },
    {
     "name": "stderr",
     "output_type": "stream",
     "text": [
      "WARNING:tensorflow:Value in checkpoint could not be found in the restored object: (root).keras_api.metrics.1.count\n"
     ]
    },
    {
     "name": "stdout",
     "output_type": "stream",
     "text": [
      "WARNING:tensorflow:Detecting that an object or model or tf.train.Checkpoint is being deleted with unrestored values. See the following logs for the specific values in question. To silence these warnings, use `status.expect_partial()`. See https://www.tensorflow.org/api_docs/python/tf/train/Checkpoint#restorefor details about the status object returned by the restore function.\n"
     ]
    },
    {
     "name": "stderr",
     "output_type": "stream",
     "text": [
      "WARNING:tensorflow:Detecting that an object or model or tf.train.Checkpoint is being deleted with unrestored values. See the following logs for the specific values in question. To silence these warnings, use `status.expect_partial()`. See https://www.tensorflow.org/api_docs/python/tf/train/Checkpoint#restorefor details about the status object returned by the restore function.\n"
     ]
    },
    {
     "name": "stdout",
     "output_type": "stream",
     "text": [
      "WARNING:tensorflow:Value in checkpoint could not be found in the restored object: (root).keras_api.metrics.0.total\n"
     ]
    },
    {
     "name": "stderr",
     "output_type": "stream",
     "text": [
      "WARNING:tensorflow:Value in checkpoint could not be found in the restored object: (root).keras_api.metrics.0.total\n"
     ]
    },
    {
     "name": "stdout",
     "output_type": "stream",
     "text": [
      "WARNING:tensorflow:Value in checkpoint could not be found in the restored object: (root).keras_api.metrics.0.count\n"
     ]
    },
    {
     "name": "stderr",
     "output_type": "stream",
     "text": [
      "WARNING:tensorflow:Value in checkpoint could not be found in the restored object: (root).keras_api.metrics.0.count\n"
     ]
    },
    {
     "name": "stdout",
     "output_type": "stream",
     "text": [
      "WARNING:tensorflow:Value in checkpoint could not be found in the restored object: (root).keras_api.metrics.1.total\n"
     ]
    },
    {
     "name": "stderr",
     "output_type": "stream",
     "text": [
      "WARNING:tensorflow:Value in checkpoint could not be found in the restored object: (root).keras_api.metrics.1.total\n"
     ]
    },
    {
     "name": "stdout",
     "output_type": "stream",
     "text": [
      "WARNING:tensorflow:Value in checkpoint could not be found in the restored object: (root).keras_api.metrics.1.count\n"
     ]
    },
    {
     "name": "stderr",
     "output_type": "stream",
     "text": [
      "WARNING:tensorflow:Value in checkpoint could not be found in the restored object: (root).keras_api.metrics.1.count\n"
     ]
    },
    {
     "name": "stdout",
     "output_type": "stream",
     "text": [
      "WARNING:tensorflow:Detecting that an object or model or tf.train.Checkpoint is being deleted with unrestored values. See the following logs for the specific values in question. To silence these warnings, use `status.expect_partial()`. See https://www.tensorflow.org/api_docs/python/tf/train/Checkpoint#restorefor details about the status object returned by the restore function.\n"
     ]
    },
    {
     "name": "stderr",
     "output_type": "stream",
     "text": [
      "WARNING:tensorflow:Detecting that an object or model or tf.train.Checkpoint is being deleted with unrestored values. See the following logs for the specific values in question. To silence these warnings, use `status.expect_partial()`. See https://www.tensorflow.org/api_docs/python/tf/train/Checkpoint#restorefor details about the status object returned by the restore function.\n"
     ]
    },
    {
     "name": "stdout",
     "output_type": "stream",
     "text": [
      "WARNING:tensorflow:Value in checkpoint could not be found in the restored object: (root).keras_api.metrics.0.total\n"
     ]
    },
    {
     "name": "stderr",
     "output_type": "stream",
     "text": [
      "WARNING:tensorflow:Value in checkpoint could not be found in the restored object: (root).keras_api.metrics.0.total\n"
     ]
    },
    {
     "name": "stdout",
     "output_type": "stream",
     "text": [
      "WARNING:tensorflow:Value in checkpoint could not be found in the restored object: (root).keras_api.metrics.0.count\n"
     ]
    },
    {
     "name": "stderr",
     "output_type": "stream",
     "text": [
      "WARNING:tensorflow:Value in checkpoint could not be found in the restored object: (root).keras_api.metrics.0.count\n"
     ]
    },
    {
     "name": "stdout",
     "output_type": "stream",
     "text": [
      "WARNING:tensorflow:Value in checkpoint could not be found in the restored object: (root).keras_api.metrics.1.total\n"
     ]
    },
    {
     "name": "stderr",
     "output_type": "stream",
     "text": [
      "WARNING:tensorflow:Value in checkpoint could not be found in the restored object: (root).keras_api.metrics.1.total\n"
     ]
    },
    {
     "name": "stdout",
     "output_type": "stream",
     "text": [
      "WARNING:tensorflow:Value in checkpoint could not be found in the restored object: (root).keras_api.metrics.1.count\n"
     ]
    },
    {
     "name": "stderr",
     "output_type": "stream",
     "text": [
      "WARNING:tensorflow:Value in checkpoint could not be found in the restored object: (root).keras_api.metrics.1.count\n"
     ]
    },
    {
     "name": "stdout",
     "output_type": "stream",
     "text": [
      "WARNING:tensorflow:Detecting that an object or model or tf.train.Checkpoint is being deleted with unrestored values. See the following logs for the specific values in question. To silence these warnings, use `status.expect_partial()`. See https://www.tensorflow.org/api_docs/python/tf/train/Checkpoint#restorefor details about the status object returned by the restore function.\n"
     ]
    },
    {
     "name": "stderr",
     "output_type": "stream",
     "text": [
      "WARNING:tensorflow:Detecting that an object or model or tf.train.Checkpoint is being deleted with unrestored values. See the following logs for the specific values in question. To silence these warnings, use `status.expect_partial()`. See https://www.tensorflow.org/api_docs/python/tf/train/Checkpoint#restorefor details about the status object returned by the restore function.\n"
     ]
    },
    {
     "name": "stdout",
     "output_type": "stream",
     "text": [
      "WARNING:tensorflow:Value in checkpoint could not be found in the restored object: (root).keras_api.metrics.0.total\n"
     ]
    },
    {
     "name": "stderr",
     "output_type": "stream",
     "text": [
      "WARNING:tensorflow:Value in checkpoint could not be found in the restored object: (root).keras_api.metrics.0.total\n"
     ]
    },
    {
     "name": "stdout",
     "output_type": "stream",
     "text": [
      "WARNING:tensorflow:Value in checkpoint could not be found in the restored object: (root).keras_api.metrics.0.count\n"
     ]
    },
    {
     "name": "stderr",
     "output_type": "stream",
     "text": [
      "WARNING:tensorflow:Value in checkpoint could not be found in the restored object: (root).keras_api.metrics.0.count\n"
     ]
    },
    {
     "name": "stdout",
     "output_type": "stream",
     "text": [
      "WARNING:tensorflow:Value in checkpoint could not be found in the restored object: (root).keras_api.metrics.1.total\n"
     ]
    },
    {
     "name": "stderr",
     "output_type": "stream",
     "text": [
      "WARNING:tensorflow:Value in checkpoint could not be found in the restored object: (root).keras_api.metrics.1.total\n"
     ]
    },
    {
     "name": "stdout",
     "output_type": "stream",
     "text": [
      "WARNING:tensorflow:Value in checkpoint could not be found in the restored object: (root).keras_api.metrics.1.count\n"
     ]
    },
    {
     "name": "stderr",
     "output_type": "stream",
     "text": [
      "WARNING:tensorflow:Value in checkpoint could not be found in the restored object: (root).keras_api.metrics.1.count\n"
     ]
    },
    {
     "name": "stdout",
     "output_type": "stream",
     "text": [
      "WARNING:tensorflow:Detecting that an object or model or tf.train.Checkpoint is being deleted with unrestored values. See the following logs for the specific values in question. To silence these warnings, use `status.expect_partial()`. See https://www.tensorflow.org/api_docs/python/tf/train/Checkpoint#restorefor details about the status object returned by the restore function.\n"
     ]
    },
    {
     "name": "stderr",
     "output_type": "stream",
     "text": [
      "WARNING:tensorflow:Detecting that an object or model or tf.train.Checkpoint is being deleted with unrestored values. See the following logs for the specific values in question. To silence these warnings, use `status.expect_partial()`. See https://www.tensorflow.org/api_docs/python/tf/train/Checkpoint#restorefor details about the status object returned by the restore function.\n"
     ]
    },
    {
     "name": "stdout",
     "output_type": "stream",
     "text": [
      "WARNING:tensorflow:Value in checkpoint could not be found in the restored object: (root).keras_api.metrics.0.total\n"
     ]
    },
    {
     "name": "stderr",
     "output_type": "stream",
     "text": [
      "WARNING:tensorflow:Value in checkpoint could not be found in the restored object: (root).keras_api.metrics.0.total\n"
     ]
    },
    {
     "name": "stdout",
     "output_type": "stream",
     "text": [
      "WARNING:tensorflow:Value in checkpoint could not be found in the restored object: (root).keras_api.metrics.0.count\n"
     ]
    },
    {
     "name": "stderr",
     "output_type": "stream",
     "text": [
      "WARNING:tensorflow:Value in checkpoint could not be found in the restored object: (root).keras_api.metrics.0.count\n"
     ]
    },
    {
     "name": "stdout",
     "output_type": "stream",
     "text": [
      "WARNING:tensorflow:Value in checkpoint could not be found in the restored object: (root).keras_api.metrics.1.total\n"
     ]
    },
    {
     "name": "stderr",
     "output_type": "stream",
     "text": [
      "WARNING:tensorflow:Value in checkpoint could not be found in the restored object: (root).keras_api.metrics.1.total\n"
     ]
    },
    {
     "name": "stdout",
     "output_type": "stream",
     "text": [
      "WARNING:tensorflow:Value in checkpoint could not be found in the restored object: (root).keras_api.metrics.1.count\n"
     ]
    },
    {
     "name": "stderr",
     "output_type": "stream",
     "text": [
      "WARNING:tensorflow:Value in checkpoint could not be found in the restored object: (root).keras_api.metrics.1.count\n"
     ]
    },
    {
     "name": "stdout",
     "output_type": "stream",
     "text": [
      "WARNING:tensorflow:Detecting that an object or model or tf.train.Checkpoint is being deleted with unrestored values. See the following logs for the specific values in question. To silence these warnings, use `status.expect_partial()`. See https://www.tensorflow.org/api_docs/python/tf/train/Checkpoint#restorefor details about the status object returned by the restore function.\n"
     ]
    },
    {
     "name": "stderr",
     "output_type": "stream",
     "text": [
      "WARNING:tensorflow:Detecting that an object or model or tf.train.Checkpoint is being deleted with unrestored values. See the following logs for the specific values in question. To silence these warnings, use `status.expect_partial()`. See https://www.tensorflow.org/api_docs/python/tf/train/Checkpoint#restorefor details about the status object returned by the restore function.\n"
     ]
    },
    {
     "name": "stdout",
     "output_type": "stream",
     "text": [
      "WARNING:tensorflow:Value in checkpoint could not be found in the restored object: (root).keras_api.metrics.0.total\n"
     ]
    },
    {
     "name": "stderr",
     "output_type": "stream",
     "text": [
      "WARNING:tensorflow:Value in checkpoint could not be found in the restored object: (root).keras_api.metrics.0.total\n"
     ]
    },
    {
     "name": "stdout",
     "output_type": "stream",
     "text": [
      "WARNING:tensorflow:Value in checkpoint could not be found in the restored object: (root).keras_api.metrics.0.count\n"
     ]
    },
    {
     "name": "stderr",
     "output_type": "stream",
     "text": [
      "WARNING:tensorflow:Value in checkpoint could not be found in the restored object: (root).keras_api.metrics.0.count\n"
     ]
    },
    {
     "name": "stdout",
     "output_type": "stream",
     "text": [
      "WARNING:tensorflow:Value in checkpoint could not be found in the restored object: (root).keras_api.metrics.1.total\n"
     ]
    },
    {
     "name": "stderr",
     "output_type": "stream",
     "text": [
      "WARNING:tensorflow:Value in checkpoint could not be found in the restored object: (root).keras_api.metrics.1.total\n"
     ]
    },
    {
     "name": "stdout",
     "output_type": "stream",
     "text": [
      "WARNING:tensorflow:Value in checkpoint could not be found in the restored object: (root).keras_api.metrics.1.count\n"
     ]
    },
    {
     "name": "stderr",
     "output_type": "stream",
     "text": [
      "WARNING:tensorflow:Value in checkpoint could not be found in the restored object: (root).keras_api.metrics.1.count\n"
     ]
    },
    {
     "name": "stdout",
     "output_type": "stream",
     "text": [
      "WARNING:tensorflow:Detecting that an object or model or tf.train.Checkpoint is being deleted with unrestored values. See the following logs for the specific values in question. To silence these warnings, use `status.expect_partial()`. See https://www.tensorflow.org/api_docs/python/tf/train/Checkpoint#restorefor details about the status object returned by the restore function.\n"
     ]
    },
    {
     "name": "stderr",
     "output_type": "stream",
     "text": [
      "WARNING:tensorflow:Detecting that an object or model or tf.train.Checkpoint is being deleted with unrestored values. See the following logs for the specific values in question. To silence these warnings, use `status.expect_partial()`. See https://www.tensorflow.org/api_docs/python/tf/train/Checkpoint#restorefor details about the status object returned by the restore function.\n"
     ]
    },
    {
     "name": "stdout",
     "output_type": "stream",
     "text": [
      "WARNING:tensorflow:Value in checkpoint could not be found in the restored object: (root).keras_api.metrics.0.total\n"
     ]
    },
    {
     "name": "stderr",
     "output_type": "stream",
     "text": [
      "WARNING:tensorflow:Value in checkpoint could not be found in the restored object: (root).keras_api.metrics.0.total\n"
     ]
    },
    {
     "name": "stdout",
     "output_type": "stream",
     "text": [
      "WARNING:tensorflow:Value in checkpoint could not be found in the restored object: (root).keras_api.metrics.0.count\n"
     ]
    },
    {
     "name": "stderr",
     "output_type": "stream",
     "text": [
      "WARNING:tensorflow:Value in checkpoint could not be found in the restored object: (root).keras_api.metrics.0.count\n"
     ]
    },
    {
     "name": "stdout",
     "output_type": "stream",
     "text": [
      "WARNING:tensorflow:Value in checkpoint could not be found in the restored object: (root).keras_api.metrics.1.total\n"
     ]
    },
    {
     "name": "stderr",
     "output_type": "stream",
     "text": [
      "WARNING:tensorflow:Value in checkpoint could not be found in the restored object: (root).keras_api.metrics.1.total\n"
     ]
    },
    {
     "name": "stdout",
     "output_type": "stream",
     "text": [
      "WARNING:tensorflow:Value in checkpoint could not be found in the restored object: (root).keras_api.metrics.1.count\n"
     ]
    },
    {
     "name": "stderr",
     "output_type": "stream",
     "text": [
      "WARNING:tensorflow:Value in checkpoint could not be found in the restored object: (root).keras_api.metrics.1.count\n"
     ]
    },
    {
     "name": "stdout",
     "output_type": "stream",
     "text": [
      "WARNING:tensorflow:Detecting that an object or model or tf.train.Checkpoint is being deleted with unrestored values. See the following logs for the specific values in question. To silence these warnings, use `status.expect_partial()`. See https://www.tensorflow.org/api_docs/python/tf/train/Checkpoint#restorefor details about the status object returned by the restore function.\n"
     ]
    },
    {
     "name": "stderr",
     "output_type": "stream",
     "text": [
      "WARNING:tensorflow:Detecting that an object or model or tf.train.Checkpoint is being deleted with unrestored values. See the following logs for the specific values in question. To silence these warnings, use `status.expect_partial()`. See https://www.tensorflow.org/api_docs/python/tf/train/Checkpoint#restorefor details about the status object returned by the restore function.\n"
     ]
    },
    {
     "name": "stdout",
     "output_type": "stream",
     "text": [
      "WARNING:tensorflow:Value in checkpoint could not be found in the restored object: (root).keras_api.metrics.0.total\n"
     ]
    },
    {
     "name": "stderr",
     "output_type": "stream",
     "text": [
      "WARNING:tensorflow:Value in checkpoint could not be found in the restored object: (root).keras_api.metrics.0.total\n"
     ]
    },
    {
     "name": "stdout",
     "output_type": "stream",
     "text": [
      "WARNING:tensorflow:Value in checkpoint could not be found in the restored object: (root).keras_api.metrics.0.count\n"
     ]
    },
    {
     "name": "stderr",
     "output_type": "stream",
     "text": [
      "WARNING:tensorflow:Value in checkpoint could not be found in the restored object: (root).keras_api.metrics.0.count\n"
     ]
    },
    {
     "name": "stdout",
     "output_type": "stream",
     "text": [
      "WARNING:tensorflow:Value in checkpoint could not be found in the restored object: (root).keras_api.metrics.1.total\n"
     ]
    },
    {
     "name": "stderr",
     "output_type": "stream",
     "text": [
      "WARNING:tensorflow:Value in checkpoint could not be found in the restored object: (root).keras_api.metrics.1.total\n"
     ]
    },
    {
     "name": "stdout",
     "output_type": "stream",
     "text": [
      "WARNING:tensorflow:Value in checkpoint could not be found in the restored object: (root).keras_api.metrics.1.count\n"
     ]
    },
    {
     "name": "stderr",
     "output_type": "stream",
     "text": [
      "WARNING:tensorflow:Value in checkpoint could not be found in the restored object: (root).keras_api.metrics.1.count\n"
     ]
    },
    {
     "name": "stdout",
     "output_type": "stream",
     "text": [
      "WARNING:tensorflow:Detecting that an object or model or tf.train.Checkpoint is being deleted with unrestored values. See the following logs for the specific values in question. To silence these warnings, use `status.expect_partial()`. See https://www.tensorflow.org/api_docs/python/tf/train/Checkpoint#restorefor details about the status object returned by the restore function.\n"
     ]
    },
    {
     "name": "stderr",
     "output_type": "stream",
     "text": [
      "WARNING:tensorflow:Detecting that an object or model or tf.train.Checkpoint is being deleted with unrestored values. See the following logs for the specific values in question. To silence these warnings, use `status.expect_partial()`. See https://www.tensorflow.org/api_docs/python/tf/train/Checkpoint#restorefor details about the status object returned by the restore function.\n"
     ]
    },
    {
     "name": "stdout",
     "output_type": "stream",
     "text": [
      "WARNING:tensorflow:Value in checkpoint could not be found in the restored object: (root).keras_api.metrics.0.total\n"
     ]
    },
    {
     "name": "stderr",
     "output_type": "stream",
     "text": [
      "WARNING:tensorflow:Value in checkpoint could not be found in the restored object: (root).keras_api.metrics.0.total\n"
     ]
    },
    {
     "name": "stdout",
     "output_type": "stream",
     "text": [
      "WARNING:tensorflow:Value in checkpoint could not be found in the restored object: (root).keras_api.metrics.0.count\n"
     ]
    },
    {
     "name": "stderr",
     "output_type": "stream",
     "text": [
      "WARNING:tensorflow:Value in checkpoint could not be found in the restored object: (root).keras_api.metrics.0.count\n"
     ]
    },
    {
     "name": "stdout",
     "output_type": "stream",
     "text": [
      "WARNING:tensorflow:Value in checkpoint could not be found in the restored object: (root).keras_api.metrics.1.total\n"
     ]
    },
    {
     "name": "stderr",
     "output_type": "stream",
     "text": [
      "WARNING:tensorflow:Value in checkpoint could not be found in the restored object: (root).keras_api.metrics.1.total\n"
     ]
    },
    {
     "name": "stdout",
     "output_type": "stream",
     "text": [
      "WARNING:tensorflow:Value in checkpoint could not be found in the restored object: (root).keras_api.metrics.1.count\n"
     ]
    },
    {
     "name": "stderr",
     "output_type": "stream",
     "text": [
      "WARNING:tensorflow:Value in checkpoint could not be found in the restored object: (root).keras_api.metrics.1.count\n"
     ]
    },
    {
     "name": "stdout",
     "output_type": "stream",
     "text": [
      "WARNING:tensorflow:Detecting that an object or model or tf.train.Checkpoint is being deleted with unrestored values. See the following logs for the specific values in question. To silence these warnings, use `status.expect_partial()`. See https://www.tensorflow.org/api_docs/python/tf/train/Checkpoint#restorefor details about the status object returned by the restore function.\n"
     ]
    },
    {
     "name": "stderr",
     "output_type": "stream",
     "text": [
      "WARNING:tensorflow:Detecting that an object or model or tf.train.Checkpoint is being deleted with unrestored values. See the following logs for the specific values in question. To silence these warnings, use `status.expect_partial()`. See https://www.tensorflow.org/api_docs/python/tf/train/Checkpoint#restorefor details about the status object returned by the restore function.\n"
     ]
    },
    {
     "name": "stdout",
     "output_type": "stream",
     "text": [
      "WARNING:tensorflow:Value in checkpoint could not be found in the restored object: (root).keras_api.metrics.0.total\n"
     ]
    },
    {
     "name": "stderr",
     "output_type": "stream",
     "text": [
      "WARNING:tensorflow:Value in checkpoint could not be found in the restored object: (root).keras_api.metrics.0.total\n"
     ]
    },
    {
     "name": "stdout",
     "output_type": "stream",
     "text": [
      "WARNING:tensorflow:Value in checkpoint could not be found in the restored object: (root).keras_api.metrics.0.count\n"
     ]
    },
    {
     "name": "stderr",
     "output_type": "stream",
     "text": [
      "WARNING:tensorflow:Value in checkpoint could not be found in the restored object: (root).keras_api.metrics.0.count\n"
     ]
    },
    {
     "name": "stdout",
     "output_type": "stream",
     "text": [
      "WARNING:tensorflow:Value in checkpoint could not be found in the restored object: (root).keras_api.metrics.1.total\n"
     ]
    },
    {
     "name": "stderr",
     "output_type": "stream",
     "text": [
      "WARNING:tensorflow:Value in checkpoint could not be found in the restored object: (root).keras_api.metrics.1.total\n"
     ]
    },
    {
     "name": "stdout",
     "output_type": "stream",
     "text": [
      "WARNING:tensorflow:Value in checkpoint could not be found in the restored object: (root).keras_api.metrics.1.count\n"
     ]
    },
    {
     "name": "stderr",
     "output_type": "stream",
     "text": [
      "WARNING:tensorflow:Value in checkpoint could not be found in the restored object: (root).keras_api.metrics.1.count\n"
     ]
    },
    {
     "name": "stdout",
     "output_type": "stream",
     "text": [
      "WARNING:tensorflow:Detecting that an object or model or tf.train.Checkpoint is being deleted with unrestored values. See the following logs for the specific values in question. To silence these warnings, use `status.expect_partial()`. See https://www.tensorflow.org/api_docs/python/tf/train/Checkpoint#restorefor details about the status object returned by the restore function.\n"
     ]
    },
    {
     "name": "stderr",
     "output_type": "stream",
     "text": [
      "WARNING:tensorflow:Detecting that an object or model or tf.train.Checkpoint is being deleted with unrestored values. See the following logs for the specific values in question. To silence these warnings, use `status.expect_partial()`. See https://www.tensorflow.org/api_docs/python/tf/train/Checkpoint#restorefor details about the status object returned by the restore function.\n"
     ]
    },
    {
     "name": "stdout",
     "output_type": "stream",
     "text": [
      "WARNING:tensorflow:Value in checkpoint could not be found in the restored object: (root).keras_api.metrics.0.total\n"
     ]
    },
    {
     "name": "stderr",
     "output_type": "stream",
     "text": [
      "WARNING:tensorflow:Value in checkpoint could not be found in the restored object: (root).keras_api.metrics.0.total\n"
     ]
    },
    {
     "name": "stdout",
     "output_type": "stream",
     "text": [
      "WARNING:tensorflow:Value in checkpoint could not be found in the restored object: (root).keras_api.metrics.0.count\n"
     ]
    },
    {
     "name": "stderr",
     "output_type": "stream",
     "text": [
      "WARNING:tensorflow:Value in checkpoint could not be found in the restored object: (root).keras_api.metrics.0.count\n"
     ]
    },
    {
     "name": "stdout",
     "output_type": "stream",
     "text": [
      "WARNING:tensorflow:Value in checkpoint could not be found in the restored object: (root).keras_api.metrics.1.total\n"
     ]
    },
    {
     "name": "stderr",
     "output_type": "stream",
     "text": [
      "WARNING:tensorflow:Value in checkpoint could not be found in the restored object: (root).keras_api.metrics.1.total\n"
     ]
    },
    {
     "name": "stdout",
     "output_type": "stream",
     "text": [
      "WARNING:tensorflow:Value in checkpoint could not be found in the restored object: (root).keras_api.metrics.1.count\n"
     ]
    },
    {
     "name": "stderr",
     "output_type": "stream",
     "text": [
      "WARNING:tensorflow:Value in checkpoint could not be found in the restored object: (root).keras_api.metrics.1.count\n"
     ]
    },
    {
     "name": "stdout",
     "output_type": "stream",
     "text": [
      "WARNING:tensorflow:Detecting that an object or model or tf.train.Checkpoint is being deleted with unrestored values. See the following logs for the specific values in question. To silence these warnings, use `status.expect_partial()`. See https://www.tensorflow.org/api_docs/python/tf/train/Checkpoint#restorefor details about the status object returned by the restore function.\n"
     ]
    },
    {
     "name": "stderr",
     "output_type": "stream",
     "text": [
      "WARNING:tensorflow:Detecting that an object or model or tf.train.Checkpoint is being deleted with unrestored values. See the following logs for the specific values in question. To silence these warnings, use `status.expect_partial()`. See https://www.tensorflow.org/api_docs/python/tf/train/Checkpoint#restorefor details about the status object returned by the restore function.\n"
     ]
    },
    {
     "name": "stdout",
     "output_type": "stream",
     "text": [
      "WARNING:tensorflow:Value in checkpoint could not be found in the restored object: (root).keras_api.metrics.0.total\n"
     ]
    },
    {
     "name": "stderr",
     "output_type": "stream",
     "text": [
      "WARNING:tensorflow:Value in checkpoint could not be found in the restored object: (root).keras_api.metrics.0.total\n"
     ]
    },
    {
     "name": "stdout",
     "output_type": "stream",
     "text": [
      "WARNING:tensorflow:Value in checkpoint could not be found in the restored object: (root).keras_api.metrics.0.count\n"
     ]
    },
    {
     "name": "stderr",
     "output_type": "stream",
     "text": [
      "WARNING:tensorflow:Value in checkpoint could not be found in the restored object: (root).keras_api.metrics.0.count\n"
     ]
    },
    {
     "name": "stdout",
     "output_type": "stream",
     "text": [
      "WARNING:tensorflow:Value in checkpoint could not be found in the restored object: (root).keras_api.metrics.1.total\n"
     ]
    },
    {
     "name": "stderr",
     "output_type": "stream",
     "text": [
      "WARNING:tensorflow:Value in checkpoint could not be found in the restored object: (root).keras_api.metrics.1.total\n"
     ]
    },
    {
     "name": "stdout",
     "output_type": "stream",
     "text": [
      "WARNING:tensorflow:Value in checkpoint could not be found in the restored object: (root).keras_api.metrics.1.count\n"
     ]
    },
    {
     "name": "stderr",
     "output_type": "stream",
     "text": [
      "WARNING:tensorflow:Value in checkpoint could not be found in the restored object: (root).keras_api.metrics.1.count\n"
     ]
    },
    {
     "name": "stdout",
     "output_type": "stream",
     "text": [
      "WARNING:tensorflow:Detecting that an object or model or tf.train.Checkpoint is being deleted with unrestored values. See the following logs for the specific values in question. To silence these warnings, use `status.expect_partial()`. See https://www.tensorflow.org/api_docs/python/tf/train/Checkpoint#restorefor details about the status object returned by the restore function.\n"
     ]
    },
    {
     "name": "stderr",
     "output_type": "stream",
     "text": [
      "WARNING:tensorflow:Detecting that an object or model or tf.train.Checkpoint is being deleted with unrestored values. See the following logs for the specific values in question. To silence these warnings, use `status.expect_partial()`. See https://www.tensorflow.org/api_docs/python/tf/train/Checkpoint#restorefor details about the status object returned by the restore function.\n"
     ]
    },
    {
     "name": "stdout",
     "output_type": "stream",
     "text": [
      "WARNING:tensorflow:Value in checkpoint could not be found in the restored object: (root).keras_api.metrics.0.total\n"
     ]
    },
    {
     "name": "stderr",
     "output_type": "stream",
     "text": [
      "WARNING:tensorflow:Value in checkpoint could not be found in the restored object: (root).keras_api.metrics.0.total\n"
     ]
    },
    {
     "name": "stdout",
     "output_type": "stream",
     "text": [
      "WARNING:tensorflow:Value in checkpoint could not be found in the restored object: (root).keras_api.metrics.0.count\n"
     ]
    },
    {
     "name": "stderr",
     "output_type": "stream",
     "text": [
      "WARNING:tensorflow:Value in checkpoint could not be found in the restored object: (root).keras_api.metrics.0.count\n"
     ]
    },
    {
     "name": "stdout",
     "output_type": "stream",
     "text": [
      "WARNING:tensorflow:Value in checkpoint could not be found in the restored object: (root).keras_api.metrics.1.total\n"
     ]
    },
    {
     "name": "stderr",
     "output_type": "stream",
     "text": [
      "WARNING:tensorflow:Value in checkpoint could not be found in the restored object: (root).keras_api.metrics.1.total\n"
     ]
    },
    {
     "name": "stdout",
     "output_type": "stream",
     "text": [
      "WARNING:tensorflow:Value in checkpoint could not be found in the restored object: (root).keras_api.metrics.1.count\n"
     ]
    },
    {
     "name": "stderr",
     "output_type": "stream",
     "text": [
      "WARNING:tensorflow:Value in checkpoint could not be found in the restored object: (root).keras_api.metrics.1.count\n"
     ]
    },
    {
     "name": "stdout",
     "output_type": "stream",
     "text": [
      "WARNING:tensorflow:Detecting that an object or model or tf.train.Checkpoint is being deleted with unrestored values. See the following logs for the specific values in question. To silence these warnings, use `status.expect_partial()`. See https://www.tensorflow.org/api_docs/python/tf/train/Checkpoint#restorefor details about the status object returned by the restore function.\n"
     ]
    },
    {
     "name": "stderr",
     "output_type": "stream",
     "text": [
      "WARNING:tensorflow:Detecting that an object or model or tf.train.Checkpoint is being deleted with unrestored values. See the following logs for the specific values in question. To silence these warnings, use `status.expect_partial()`. See https://www.tensorflow.org/api_docs/python/tf/train/Checkpoint#restorefor details about the status object returned by the restore function.\n"
     ]
    },
    {
     "name": "stdout",
     "output_type": "stream",
     "text": [
      "WARNING:tensorflow:Value in checkpoint could not be found in the restored object: (root).keras_api.metrics.0.total\n"
     ]
    },
    {
     "name": "stderr",
     "output_type": "stream",
     "text": [
      "WARNING:tensorflow:Value in checkpoint could not be found in the restored object: (root).keras_api.metrics.0.total\n"
     ]
    },
    {
     "name": "stdout",
     "output_type": "stream",
     "text": [
      "WARNING:tensorflow:Value in checkpoint could not be found in the restored object: (root).keras_api.metrics.0.count\n"
     ]
    },
    {
     "name": "stderr",
     "output_type": "stream",
     "text": [
      "WARNING:tensorflow:Value in checkpoint could not be found in the restored object: (root).keras_api.metrics.0.count\n"
     ]
    },
    {
     "name": "stdout",
     "output_type": "stream",
     "text": [
      "WARNING:tensorflow:Value in checkpoint could not be found in the restored object: (root).keras_api.metrics.1.total\n"
     ]
    },
    {
     "name": "stderr",
     "output_type": "stream",
     "text": [
      "WARNING:tensorflow:Value in checkpoint could not be found in the restored object: (root).keras_api.metrics.1.total\n"
     ]
    },
    {
     "name": "stdout",
     "output_type": "stream",
     "text": [
      "WARNING:tensorflow:Value in checkpoint could not be found in the restored object: (root).keras_api.metrics.1.count\n"
     ]
    },
    {
     "name": "stderr",
     "output_type": "stream",
     "text": [
      "WARNING:tensorflow:Value in checkpoint could not be found in the restored object: (root).keras_api.metrics.1.count\n"
     ]
    },
    {
     "name": "stdout",
     "output_type": "stream",
     "text": [
      "WARNING:tensorflow:Detecting that an object or model or tf.train.Checkpoint is being deleted with unrestored values. See the following logs for the specific values in question. To silence these warnings, use `status.expect_partial()`. See https://www.tensorflow.org/api_docs/python/tf/train/Checkpoint#restorefor details about the status object returned by the restore function.\n"
     ]
    },
    {
     "name": "stderr",
     "output_type": "stream",
     "text": [
      "WARNING:tensorflow:Detecting that an object or model or tf.train.Checkpoint is being deleted with unrestored values. See the following logs for the specific values in question. To silence these warnings, use `status.expect_partial()`. See https://www.tensorflow.org/api_docs/python/tf/train/Checkpoint#restorefor details about the status object returned by the restore function.\n"
     ]
    },
    {
     "name": "stdout",
     "output_type": "stream",
     "text": [
      "WARNING:tensorflow:Value in checkpoint could not be found in the restored object: (root).keras_api.metrics.0.total\n"
     ]
    },
    {
     "name": "stderr",
     "output_type": "stream",
     "text": [
      "WARNING:tensorflow:Value in checkpoint could not be found in the restored object: (root).keras_api.metrics.0.total\n"
     ]
    },
    {
     "name": "stdout",
     "output_type": "stream",
     "text": [
      "WARNING:tensorflow:Value in checkpoint could not be found in the restored object: (root).keras_api.metrics.0.count\n"
     ]
    },
    {
     "name": "stderr",
     "output_type": "stream",
     "text": [
      "WARNING:tensorflow:Value in checkpoint could not be found in the restored object: (root).keras_api.metrics.0.count\n"
     ]
    },
    {
     "name": "stdout",
     "output_type": "stream",
     "text": [
      "WARNING:tensorflow:Value in checkpoint could not be found in the restored object: (root).keras_api.metrics.1.total\n"
     ]
    },
    {
     "name": "stderr",
     "output_type": "stream",
     "text": [
      "WARNING:tensorflow:Value in checkpoint could not be found in the restored object: (root).keras_api.metrics.1.total\n"
     ]
    },
    {
     "name": "stdout",
     "output_type": "stream",
     "text": [
      "WARNING:tensorflow:Value in checkpoint could not be found in the restored object: (root).keras_api.metrics.1.count\n"
     ]
    },
    {
     "name": "stderr",
     "output_type": "stream",
     "text": [
      "WARNING:tensorflow:Value in checkpoint could not be found in the restored object: (root).keras_api.metrics.1.count\n"
     ]
    },
    {
     "name": "stdout",
     "output_type": "stream",
     "text": [
      "WARNING:tensorflow:Detecting that an object or model or tf.train.Checkpoint is being deleted with unrestored values. See the following logs for the specific values in question. To silence these warnings, use `status.expect_partial()`. See https://www.tensorflow.org/api_docs/python/tf/train/Checkpoint#restorefor details about the status object returned by the restore function.\n"
     ]
    },
    {
     "name": "stderr",
     "output_type": "stream",
     "text": [
      "WARNING:tensorflow:Detecting that an object or model or tf.train.Checkpoint is being deleted with unrestored values. See the following logs for the specific values in question. To silence these warnings, use `status.expect_partial()`. See https://www.tensorflow.org/api_docs/python/tf/train/Checkpoint#restorefor details about the status object returned by the restore function.\n"
     ]
    },
    {
     "name": "stdout",
     "output_type": "stream",
     "text": [
      "WARNING:tensorflow:Value in checkpoint could not be found in the restored object: (root).keras_api.metrics.0.total\n"
     ]
    },
    {
     "name": "stderr",
     "output_type": "stream",
     "text": [
      "WARNING:tensorflow:Value in checkpoint could not be found in the restored object: (root).keras_api.metrics.0.total\n"
     ]
    },
    {
     "name": "stdout",
     "output_type": "stream",
     "text": [
      "WARNING:tensorflow:Value in checkpoint could not be found in the restored object: (root).keras_api.metrics.0.count\n"
     ]
    },
    {
     "name": "stderr",
     "output_type": "stream",
     "text": [
      "WARNING:tensorflow:Value in checkpoint could not be found in the restored object: (root).keras_api.metrics.0.count\n"
     ]
    },
    {
     "name": "stdout",
     "output_type": "stream",
     "text": [
      "WARNING:tensorflow:Value in checkpoint could not be found in the restored object: (root).keras_api.metrics.1.total\n"
     ]
    },
    {
     "name": "stderr",
     "output_type": "stream",
     "text": [
      "WARNING:tensorflow:Value in checkpoint could not be found in the restored object: (root).keras_api.metrics.1.total\n"
     ]
    },
    {
     "name": "stdout",
     "output_type": "stream",
     "text": [
      "WARNING:tensorflow:Value in checkpoint could not be found in the restored object: (root).keras_api.metrics.1.count\n"
     ]
    },
    {
     "name": "stderr",
     "output_type": "stream",
     "text": [
      "WARNING:tensorflow:Value in checkpoint could not be found in the restored object: (root).keras_api.metrics.1.count\n"
     ]
    },
    {
     "name": "stdout",
     "output_type": "stream",
     "text": [
      "WARNING:tensorflow:Detecting that an object or model or tf.train.Checkpoint is being deleted with unrestored values. See the following logs for the specific values in question. To silence these warnings, use `status.expect_partial()`. See https://www.tensorflow.org/api_docs/python/tf/train/Checkpoint#restorefor details about the status object returned by the restore function.\n"
     ]
    },
    {
     "name": "stderr",
     "output_type": "stream",
     "text": [
      "WARNING:tensorflow:Detecting that an object or model or tf.train.Checkpoint is being deleted with unrestored values. See the following logs for the specific values in question. To silence these warnings, use `status.expect_partial()`. See https://www.tensorflow.org/api_docs/python/tf/train/Checkpoint#restorefor details about the status object returned by the restore function.\n"
     ]
    },
    {
     "name": "stdout",
     "output_type": "stream",
     "text": [
      "WARNING:tensorflow:Value in checkpoint could not be found in the restored object: (root).keras_api.metrics.0.total\n"
     ]
    },
    {
     "name": "stderr",
     "output_type": "stream",
     "text": [
      "WARNING:tensorflow:Value in checkpoint could not be found in the restored object: (root).keras_api.metrics.0.total\n"
     ]
    },
    {
     "name": "stdout",
     "output_type": "stream",
     "text": [
      "WARNING:tensorflow:Value in checkpoint could not be found in the restored object: (root).keras_api.metrics.0.count\n"
     ]
    },
    {
     "name": "stderr",
     "output_type": "stream",
     "text": [
      "WARNING:tensorflow:Value in checkpoint could not be found in the restored object: (root).keras_api.metrics.0.count\n"
     ]
    },
    {
     "name": "stdout",
     "output_type": "stream",
     "text": [
      "WARNING:tensorflow:Value in checkpoint could not be found in the restored object: (root).keras_api.metrics.1.total\n"
     ]
    },
    {
     "name": "stderr",
     "output_type": "stream",
     "text": [
      "WARNING:tensorflow:Value in checkpoint could not be found in the restored object: (root).keras_api.metrics.1.total\n"
     ]
    },
    {
     "name": "stdout",
     "output_type": "stream",
     "text": [
      "WARNING:tensorflow:Value in checkpoint could not be found in the restored object: (root).keras_api.metrics.1.count\n"
     ]
    },
    {
     "name": "stderr",
     "output_type": "stream",
     "text": [
      "WARNING:tensorflow:Value in checkpoint could not be found in the restored object: (root).keras_api.metrics.1.count\n"
     ]
    },
    {
     "name": "stdout",
     "output_type": "stream",
     "text": [
      "INFO:tensorflow:Assets written to: C:\\Users\\RAJESH\\AppData\\Local\\Temp\\tmprt458d8m\\assets\n"
     ]
    },
    {
     "name": "stderr",
     "output_type": "stream",
     "text": [
      "INFO:tensorflow:Assets written to: C:\\Users\\RAJESH\\AppData\\Local\\Temp\\tmprt458d8m\\assets\n"
     ]
    },
    {
     "name": "stdout",
     "output_type": "stream",
     "text": [
      "INFO:tensorflow:Assets written to: C:\\Users\\RAJESH\\AppData\\Local\\Temp\\tmp4ep03rt3\\assets\n"
     ]
    },
    {
     "name": "stderr",
     "output_type": "stream",
     "text": [
      "INFO:tensorflow:Assets written to: C:\\Users\\RAJESH\\AppData\\Local\\Temp\\tmp4ep03rt3\\assets\n"
     ]
    },
    {
     "name": "stdout",
     "output_type": "stream",
     "text": [
      "INFO:tensorflow:Assets written to: C:\\Users\\RAJESH\\AppData\\Local\\Temp\\tmpg4nc2jar\\assets\n"
     ]
    },
    {
     "name": "stderr",
     "output_type": "stream",
     "text": [
      "INFO:tensorflow:Assets written to: C:\\Users\\RAJESH\\AppData\\Local\\Temp\\tmpg4nc2jar\\assets\n"
     ]
    },
    {
     "name": "stdout",
     "output_type": "stream",
     "text": [
      "INFO:tensorflow:Assets written to: C:\\Users\\RAJESH\\AppData\\Local\\Temp\\tmpvdahn7d_\\assets\n"
     ]
    },
    {
     "name": "stderr",
     "output_type": "stream",
     "text": [
      "INFO:tensorflow:Assets written to: C:\\Users\\RAJESH\\AppData\\Local\\Temp\\tmpvdahn7d_\\assets\n"
     ]
    },
    {
     "name": "stdout",
     "output_type": "stream",
     "text": [
      "INFO:tensorflow:Assets written to: C:\\Users\\RAJESH\\AppData\\Local\\Temp\\tmp70untqwc\\assets\n"
     ]
    },
    {
     "name": "stderr",
     "output_type": "stream",
     "text": [
      "INFO:tensorflow:Assets written to: C:\\Users\\RAJESH\\AppData\\Local\\Temp\\tmp70untqwc\\assets\n"
     ]
    },
    {
     "name": "stdout",
     "output_type": "stream",
     "text": [
      "INFO:tensorflow:Assets written to: C:\\Users\\RAJESH\\AppData\\Local\\Temp\\tmp1lcywf7f\\assets\n"
     ]
    },
    {
     "name": "stderr",
     "output_type": "stream",
     "text": [
      "INFO:tensorflow:Assets written to: C:\\Users\\RAJESH\\AppData\\Local\\Temp\\tmp1lcywf7f\\assets\n"
     ]
    },
    {
     "name": "stdout",
     "output_type": "stream",
     "text": [
      "INFO:tensorflow:Assets written to: C:\\Users\\RAJESH\\AppData\\Local\\Temp\\tmpqlxhoqnm\\assets\n"
     ]
    },
    {
     "name": "stderr",
     "output_type": "stream",
     "text": [
      "INFO:tensorflow:Assets written to: C:\\Users\\RAJESH\\AppData\\Local\\Temp\\tmpqlxhoqnm\\assets\n"
     ]
    },
    {
     "name": "stdout",
     "output_type": "stream",
     "text": [
      "INFO:tensorflow:Assets written to: C:\\Users\\RAJESH\\AppData\\Local\\Temp\\tmpw8npffnd\\assets\n"
     ]
    },
    {
     "name": "stderr",
     "output_type": "stream",
     "text": [
      "INFO:tensorflow:Assets written to: C:\\Users\\RAJESH\\AppData\\Local\\Temp\\tmpw8npffnd\\assets\n"
     ]
    },
    {
     "name": "stdout",
     "output_type": "stream",
     "text": [
      "INFO:tensorflow:Assets written to: C:\\Users\\RAJESH\\AppData\\Local\\Temp\\tmpxbybjls9\\assets\n"
     ]
    },
    {
     "name": "stderr",
     "output_type": "stream",
     "text": [
      "INFO:tensorflow:Assets written to: C:\\Users\\RAJESH\\AppData\\Local\\Temp\\tmpxbybjls9\\assets\n"
     ]
    },
    {
     "name": "stdout",
     "output_type": "stream",
     "text": [
      "INFO:tensorflow:Assets written to: C:\\Users\\RAJESH\\AppData\\Local\\Temp\\tmpk2w05rt6\\assets\n"
     ]
    },
    {
     "name": "stderr",
     "output_type": "stream",
     "text": [
      "INFO:tensorflow:Assets written to: C:\\Users\\RAJESH\\AppData\\Local\\Temp\\tmpk2w05rt6\\assets\n"
     ]
    },
    {
     "name": "stdout",
     "output_type": "stream",
     "text": [
      "INFO:tensorflow:Assets written to: C:\\Users\\RAJESH\\AppData\\Local\\Temp\\tmpqgdvq_my\\assets\n"
     ]
    },
    {
     "name": "stderr",
     "output_type": "stream",
     "text": [
      "INFO:tensorflow:Assets written to: C:\\Users\\RAJESH\\AppData\\Local\\Temp\\tmpqgdvq_my\\assets\n"
     ]
    },
    {
     "name": "stdout",
     "output_type": "stream",
     "text": [
      "INFO:tensorflow:Assets written to: C:\\Users\\RAJESH\\AppData\\Local\\Temp\\tmplhb6h93h\\assets\n"
     ]
    },
    {
     "name": "stderr",
     "output_type": "stream",
     "text": [
      "INFO:tensorflow:Assets written to: C:\\Users\\RAJESH\\AppData\\Local\\Temp\\tmplhb6h93h\\assets\n"
     ]
    },
    {
     "name": "stdout",
     "output_type": "stream",
     "text": [
      "INFO:tensorflow:Assets written to: C:\\Users\\RAJESH\\AppData\\Local\\Temp\\tmpc8nszi4t\\assets\n"
     ]
    },
    {
     "name": "stderr",
     "output_type": "stream",
     "text": [
      "INFO:tensorflow:Assets written to: C:\\Users\\RAJESH\\AppData\\Local\\Temp\\tmpc8nszi4t\\assets\n"
     ]
    },
    {
     "name": "stdout",
     "output_type": "stream",
     "text": [
      "cross val score :  [0.75       0.75       1.         0.75       1.         0.75\n",
      " 0.75       1.         0.75       1.         0.75       0.75\n",
      " 1.         0.5        1.         1.         0.75       1.\n",
      " 0.75       0.75       0.5        0.75       0.5        0.75\n",
      " 1.         0.75       1.         0.75       1.         1.\n",
      " 0.5        0.75       1.         1.         1.         0.66666667\n",
      " 1.         0.66666667 0.66666667 1.        ]\n",
      "accuracy :  0.8246753215789795\n",
      "ON TRAIN SET : \n",
      "\n",
      "INFO:tensorflow:Assets written to: C:\\Users\\RAJESH\\AppData\\Local\\Temp\\tmpl66yivkv\\assets\n"
     ]
    },
    {
     "name": "stderr",
     "output_type": "stream",
     "text": [
      "INFO:tensorflow:Assets written to: C:\\Users\\RAJESH\\AppData\\Local\\Temp\\tmpl66yivkv\\assets\n"
     ]
    },
    {
     "name": "stdout",
     "output_type": "stream",
     "text": [
      "INFO:tensorflow:Assets written to: C:\\Users\\RAJESH\\AppData\\Local\\Temp\\tmps_h2zu4z\\assets\n"
     ]
    },
    {
     "name": "stderr",
     "output_type": "stream",
     "text": [
      "INFO:tensorflow:Assets written to: C:\\Users\\RAJESH\\AppData\\Local\\Temp\\tmps_h2zu4z\\assets\n"
     ]
    },
    {
     "name": "stdout",
     "output_type": "stream",
     "text": [
      "INFO:tensorflow:Assets written to: C:\\Users\\RAJESH\\AppData\\Local\\Temp\\tmpvspjkxd9\\assets\n"
     ]
    },
    {
     "name": "stderr",
     "output_type": "stream",
     "text": [
      "INFO:tensorflow:Assets written to: C:\\Users\\RAJESH\\AppData\\Local\\Temp\\tmpvspjkxd9\\assets\n"
     ]
    },
    {
     "name": "stdout",
     "output_type": "stream",
     "text": [
      "INFO:tensorflow:Assets written to: C:\\Users\\RAJESH\\AppData\\Local\\Temp\\tmpwkk09d68\\assets\n"
     ]
    },
    {
     "name": "stderr",
     "output_type": "stream",
     "text": [
      "INFO:tensorflow:Assets written to: C:\\Users\\RAJESH\\AppData\\Local\\Temp\\tmpwkk09d68\\assets\n"
     ]
    },
    {
     "name": "stdout",
     "output_type": "stream",
     "text": [
      "INFO:tensorflow:Assets written to: C:\\Users\\RAJESH\\AppData\\Local\\Temp\\tmpenu3gml7\\assets\n"
     ]
    },
    {
     "name": "stderr",
     "output_type": "stream",
     "text": [
      "INFO:tensorflow:Assets written to: C:\\Users\\RAJESH\\AppData\\Local\\Temp\\tmpenu3gml7\\assets\n"
     ]
    },
    {
     "name": "stdout",
     "output_type": "stream",
     "text": [
      "INFO:tensorflow:Assets written to: C:\\Users\\RAJESH\\AppData\\Local\\Temp\\tmpdzd9x0cg\\assets\n"
     ]
    },
    {
     "name": "stderr",
     "output_type": "stream",
     "text": [
      "INFO:tensorflow:Assets written to: C:\\Users\\RAJESH\\AppData\\Local\\Temp\\tmpdzd9x0cg\\assets\n"
     ]
    },
    {
     "name": "stdout",
     "output_type": "stream",
     "text": [
      "INFO:tensorflow:Assets written to: C:\\Users\\RAJESH\\AppData\\Local\\Temp\\tmpl0pjx5rw\\assets\n"
     ]
    },
    {
     "name": "stderr",
     "output_type": "stream",
     "text": [
      "INFO:tensorflow:Assets written to: C:\\Users\\RAJESH\\AppData\\Local\\Temp\\tmpl0pjx5rw\\assets\n"
     ]
    },
    {
     "name": "stdout",
     "output_type": "stream",
     "text": [
      "WARNING:tensorflow:Detecting that an object or model or tf.train.Checkpoint is being deleted with unrestored values. See the following logs for the specific values in question. To silence these warnings, use `status.expect_partial()`. See https://www.tensorflow.org/api_docs/python/tf/train/Checkpoint#restorefor details about the status object returned by the restore function.\n"
     ]
    },
    {
     "name": "stderr",
     "output_type": "stream",
     "text": [
      "WARNING:tensorflow:Detecting that an object or model or tf.train.Checkpoint is being deleted with unrestored values. See the following logs for the specific values in question. To silence these warnings, use `status.expect_partial()`. See https://www.tensorflow.org/api_docs/python/tf/train/Checkpoint#restorefor details about the status object returned by the restore function.\n"
     ]
    },
    {
     "name": "stdout",
     "output_type": "stream",
     "text": [
      "WARNING:tensorflow:Value in checkpoint could not be found in the restored object: (root).keras_api.metrics.0.total\n"
     ]
    },
    {
     "name": "stderr",
     "output_type": "stream",
     "text": [
      "WARNING:tensorflow:Value in checkpoint could not be found in the restored object: (root).keras_api.metrics.0.total\n"
     ]
    },
    {
     "name": "stdout",
     "output_type": "stream",
     "text": [
      "WARNING:tensorflow:Value in checkpoint could not be found in the restored object: (root).keras_api.metrics.0.count\n"
     ]
    },
    {
     "name": "stderr",
     "output_type": "stream",
     "text": [
      "WARNING:tensorflow:Value in checkpoint could not be found in the restored object: (root).keras_api.metrics.0.count\n"
     ]
    },
    {
     "name": "stdout",
     "output_type": "stream",
     "text": [
      "WARNING:tensorflow:Value in checkpoint could not be found in the restored object: (root).keras_api.metrics.1.total\n"
     ]
    },
    {
     "name": "stderr",
     "output_type": "stream",
     "text": [
      "WARNING:tensorflow:Value in checkpoint could not be found in the restored object: (root).keras_api.metrics.1.total\n"
     ]
    },
    {
     "name": "stdout",
     "output_type": "stream",
     "text": [
      "WARNING:tensorflow:Value in checkpoint could not be found in the restored object: (root).keras_api.metrics.1.count\n"
     ]
    },
    {
     "name": "stderr",
     "output_type": "stream",
     "text": [
      "WARNING:tensorflow:Value in checkpoint could not be found in the restored object: (root).keras_api.metrics.1.count\n"
     ]
    },
    {
     "name": "stdout",
     "output_type": "stream",
     "text": [
      "WARNING:tensorflow:Detecting that an object or model or tf.train.Checkpoint is being deleted with unrestored values. See the following logs for the specific values in question. To silence these warnings, use `status.expect_partial()`. See https://www.tensorflow.org/api_docs/python/tf/train/Checkpoint#restorefor details about the status object returned by the restore function.\n"
     ]
    },
    {
     "name": "stderr",
     "output_type": "stream",
     "text": [
      "WARNING:tensorflow:Detecting that an object or model or tf.train.Checkpoint is being deleted with unrestored values. See the following logs for the specific values in question. To silence these warnings, use `status.expect_partial()`. See https://www.tensorflow.org/api_docs/python/tf/train/Checkpoint#restorefor details about the status object returned by the restore function.\n"
     ]
    },
    {
     "name": "stdout",
     "output_type": "stream",
     "text": [
      "WARNING:tensorflow:Value in checkpoint could not be found in the restored object: (root).keras_api.metrics.0.total\n"
     ]
    },
    {
     "name": "stderr",
     "output_type": "stream",
     "text": [
      "WARNING:tensorflow:Value in checkpoint could not be found in the restored object: (root).keras_api.metrics.0.total\n"
     ]
    },
    {
     "name": "stdout",
     "output_type": "stream",
     "text": [
      "WARNING:tensorflow:Value in checkpoint could not be found in the restored object: (root).keras_api.metrics.0.count\n"
     ]
    },
    {
     "name": "stderr",
     "output_type": "stream",
     "text": [
      "WARNING:tensorflow:Value in checkpoint could not be found in the restored object: (root).keras_api.metrics.0.count\n"
     ]
    },
    {
     "name": "stdout",
     "output_type": "stream",
     "text": [
      "WARNING:tensorflow:Value in checkpoint could not be found in the restored object: (root).keras_api.metrics.1.total\n"
     ]
    },
    {
     "name": "stderr",
     "output_type": "stream",
     "text": [
      "WARNING:tensorflow:Value in checkpoint could not be found in the restored object: (root).keras_api.metrics.1.total\n"
     ]
    },
    {
     "name": "stdout",
     "output_type": "stream",
     "text": [
      "WARNING:tensorflow:Value in checkpoint could not be found in the restored object: (root).keras_api.metrics.1.count\n"
     ]
    },
    {
     "name": "stderr",
     "output_type": "stream",
     "text": [
      "WARNING:tensorflow:Value in checkpoint could not be found in the restored object: (root).keras_api.metrics.1.count\n"
     ]
    },
    {
     "name": "stdout",
     "output_type": "stream",
     "text": [
      "WARNING:tensorflow:Detecting that an object or model or tf.train.Checkpoint is being deleted with unrestored values. See the following logs for the specific values in question. To silence these warnings, use `status.expect_partial()`. See https://www.tensorflow.org/api_docs/python/tf/train/Checkpoint#restorefor details about the status object returned by the restore function.\n"
     ]
    },
    {
     "name": "stderr",
     "output_type": "stream",
     "text": [
      "WARNING:tensorflow:Detecting that an object or model or tf.train.Checkpoint is being deleted with unrestored values. See the following logs for the specific values in question. To silence these warnings, use `status.expect_partial()`. See https://www.tensorflow.org/api_docs/python/tf/train/Checkpoint#restorefor details about the status object returned by the restore function.\n"
     ]
    },
    {
     "name": "stdout",
     "output_type": "stream",
     "text": [
      "WARNING:tensorflow:Value in checkpoint could not be found in the restored object: (root).keras_api.metrics.0.total\n"
     ]
    },
    {
     "name": "stderr",
     "output_type": "stream",
     "text": [
      "WARNING:tensorflow:Value in checkpoint could not be found in the restored object: (root).keras_api.metrics.0.total\n"
     ]
    },
    {
     "name": "stdout",
     "output_type": "stream",
     "text": [
      "WARNING:tensorflow:Value in checkpoint could not be found in the restored object: (root).keras_api.metrics.0.count\n"
     ]
    },
    {
     "name": "stderr",
     "output_type": "stream",
     "text": [
      "WARNING:tensorflow:Value in checkpoint could not be found in the restored object: (root).keras_api.metrics.0.count\n"
     ]
    },
    {
     "name": "stdout",
     "output_type": "stream",
     "text": [
      "WARNING:tensorflow:Value in checkpoint could not be found in the restored object: (root).keras_api.metrics.1.total\n"
     ]
    },
    {
     "name": "stderr",
     "output_type": "stream",
     "text": [
      "WARNING:tensorflow:Value in checkpoint could not be found in the restored object: (root).keras_api.metrics.1.total\n"
     ]
    },
    {
     "name": "stdout",
     "output_type": "stream",
     "text": [
      "WARNING:tensorflow:Value in checkpoint could not be found in the restored object: (root).keras_api.metrics.1.count\n"
     ]
    },
    {
     "name": "stderr",
     "output_type": "stream",
     "text": [
      "WARNING:tensorflow:Value in checkpoint could not be found in the restored object: (root).keras_api.metrics.1.count\n"
     ]
    },
    {
     "name": "stdout",
     "output_type": "stream",
     "text": [
      "WARNING:tensorflow:Detecting that an object or model or tf.train.Checkpoint is being deleted with unrestored values. See the following logs for the specific values in question. To silence these warnings, use `status.expect_partial()`. See https://www.tensorflow.org/api_docs/python/tf/train/Checkpoint#restorefor details about the status object returned by the restore function.\n"
     ]
    },
    {
     "name": "stderr",
     "output_type": "stream",
     "text": [
      "WARNING:tensorflow:Detecting that an object or model or tf.train.Checkpoint is being deleted with unrestored values. See the following logs for the specific values in question. To silence these warnings, use `status.expect_partial()`. See https://www.tensorflow.org/api_docs/python/tf/train/Checkpoint#restorefor details about the status object returned by the restore function.\n"
     ]
    },
    {
     "name": "stdout",
     "output_type": "stream",
     "text": [
      "WARNING:tensorflow:Value in checkpoint could not be found in the restored object: (root).keras_api.metrics.0.total\n"
     ]
    },
    {
     "name": "stderr",
     "output_type": "stream",
     "text": [
      "WARNING:tensorflow:Value in checkpoint could not be found in the restored object: (root).keras_api.metrics.0.total\n"
     ]
    },
    {
     "name": "stdout",
     "output_type": "stream",
     "text": [
      "WARNING:tensorflow:Value in checkpoint could not be found in the restored object: (root).keras_api.metrics.0.count\n"
     ]
    },
    {
     "name": "stderr",
     "output_type": "stream",
     "text": [
      "WARNING:tensorflow:Value in checkpoint could not be found in the restored object: (root).keras_api.metrics.0.count\n"
     ]
    },
    {
     "name": "stdout",
     "output_type": "stream",
     "text": [
      "WARNING:tensorflow:Value in checkpoint could not be found in the restored object: (root).keras_api.metrics.1.total\n"
     ]
    },
    {
     "name": "stderr",
     "output_type": "stream",
     "text": [
      "WARNING:tensorflow:Value in checkpoint could not be found in the restored object: (root).keras_api.metrics.1.total\n"
     ]
    },
    {
     "name": "stdout",
     "output_type": "stream",
     "text": [
      "WARNING:tensorflow:Value in checkpoint could not be found in the restored object: (root).keras_api.metrics.1.count\n"
     ]
    },
    {
     "name": "stderr",
     "output_type": "stream",
     "text": [
      "WARNING:tensorflow:Value in checkpoint could not be found in the restored object: (root).keras_api.metrics.1.count\n"
     ]
    },
    {
     "name": "stdout",
     "output_type": "stream",
     "text": [
      "WARNING:tensorflow:Detecting that an object or model or tf.train.Checkpoint is being deleted with unrestored values. See the following logs for the specific values in question. To silence these warnings, use `status.expect_partial()`. See https://www.tensorflow.org/api_docs/python/tf/train/Checkpoint#restorefor details about the status object returned by the restore function.\n"
     ]
    },
    {
     "name": "stderr",
     "output_type": "stream",
     "text": [
      "WARNING:tensorflow:Detecting that an object or model or tf.train.Checkpoint is being deleted with unrestored values. See the following logs for the specific values in question. To silence these warnings, use `status.expect_partial()`. See https://www.tensorflow.org/api_docs/python/tf/train/Checkpoint#restorefor details about the status object returned by the restore function.\n"
     ]
    },
    {
     "name": "stdout",
     "output_type": "stream",
     "text": [
      "WARNING:tensorflow:Value in checkpoint could not be found in the restored object: (root).keras_api.metrics.0.total\n"
     ]
    },
    {
     "name": "stderr",
     "output_type": "stream",
     "text": [
      "WARNING:tensorflow:Value in checkpoint could not be found in the restored object: (root).keras_api.metrics.0.total\n"
     ]
    },
    {
     "name": "stdout",
     "output_type": "stream",
     "text": [
      "WARNING:tensorflow:Value in checkpoint could not be found in the restored object: (root).keras_api.metrics.0.count\n"
     ]
    },
    {
     "name": "stderr",
     "output_type": "stream",
     "text": [
      "WARNING:tensorflow:Value in checkpoint could not be found in the restored object: (root).keras_api.metrics.0.count\n"
     ]
    },
    {
     "name": "stdout",
     "output_type": "stream",
     "text": [
      "WARNING:tensorflow:Value in checkpoint could not be found in the restored object: (root).keras_api.metrics.1.total\n"
     ]
    },
    {
     "name": "stderr",
     "output_type": "stream",
     "text": [
      "WARNING:tensorflow:Value in checkpoint could not be found in the restored object: (root).keras_api.metrics.1.total\n"
     ]
    },
    {
     "name": "stdout",
     "output_type": "stream",
     "text": [
      "WARNING:tensorflow:Value in checkpoint could not be found in the restored object: (root).keras_api.metrics.1.count\n"
     ]
    },
    {
     "name": "stderr",
     "output_type": "stream",
     "text": [
      "WARNING:tensorflow:Value in checkpoint could not be found in the restored object: (root).keras_api.metrics.1.count\n"
     ]
    },
    {
     "name": "stdout",
     "output_type": "stream",
     "text": [
      "WARNING:tensorflow:Detecting that an object or model or tf.train.Checkpoint is being deleted with unrestored values. See the following logs for the specific values in question. To silence these warnings, use `status.expect_partial()`. See https://www.tensorflow.org/api_docs/python/tf/train/Checkpoint#restorefor details about the status object returned by the restore function.\n"
     ]
    },
    {
     "name": "stderr",
     "output_type": "stream",
     "text": [
      "WARNING:tensorflow:Detecting that an object or model or tf.train.Checkpoint is being deleted with unrestored values. See the following logs for the specific values in question. To silence these warnings, use `status.expect_partial()`. See https://www.tensorflow.org/api_docs/python/tf/train/Checkpoint#restorefor details about the status object returned by the restore function.\n"
     ]
    },
    {
     "name": "stdout",
     "output_type": "stream",
     "text": [
      "WARNING:tensorflow:Value in checkpoint could not be found in the restored object: (root).keras_api.metrics.0.total\n"
     ]
    },
    {
     "name": "stderr",
     "output_type": "stream",
     "text": [
      "WARNING:tensorflow:Value in checkpoint could not be found in the restored object: (root).keras_api.metrics.0.total\n"
     ]
    },
    {
     "name": "stdout",
     "output_type": "stream",
     "text": [
      "WARNING:tensorflow:Value in checkpoint could not be found in the restored object: (root).keras_api.metrics.0.count\n"
     ]
    },
    {
     "name": "stderr",
     "output_type": "stream",
     "text": [
      "WARNING:tensorflow:Value in checkpoint could not be found in the restored object: (root).keras_api.metrics.0.count\n"
     ]
    },
    {
     "name": "stdout",
     "output_type": "stream",
     "text": [
      "WARNING:tensorflow:Value in checkpoint could not be found in the restored object: (root).keras_api.metrics.1.total\n"
     ]
    },
    {
     "name": "stderr",
     "output_type": "stream",
     "text": [
      "WARNING:tensorflow:Value in checkpoint could not be found in the restored object: (root).keras_api.metrics.1.total\n"
     ]
    },
    {
     "name": "stdout",
     "output_type": "stream",
     "text": [
      "WARNING:tensorflow:Value in checkpoint could not be found in the restored object: (root).keras_api.metrics.1.count\n"
     ]
    },
    {
     "name": "stderr",
     "output_type": "stream",
     "text": [
      "WARNING:tensorflow:Value in checkpoint could not be found in the restored object: (root).keras_api.metrics.1.count\n"
     ]
    },
    {
     "name": "stdout",
     "output_type": "stream",
     "text": [
      "WARNING:tensorflow:Detecting that an object or model or tf.train.Checkpoint is being deleted with unrestored values. See the following logs for the specific values in question. To silence these warnings, use `status.expect_partial()`. See https://www.tensorflow.org/api_docs/python/tf/train/Checkpoint#restorefor details about the status object returned by the restore function.\n"
     ]
    },
    {
     "name": "stderr",
     "output_type": "stream",
     "text": [
      "WARNING:tensorflow:Detecting that an object or model or tf.train.Checkpoint is being deleted with unrestored values. See the following logs for the specific values in question. To silence these warnings, use `status.expect_partial()`. See https://www.tensorflow.org/api_docs/python/tf/train/Checkpoint#restorefor details about the status object returned by the restore function.\n"
     ]
    },
    {
     "name": "stdout",
     "output_type": "stream",
     "text": [
      "WARNING:tensorflow:Value in checkpoint could not be found in the restored object: (root).keras_api.metrics.0.total\n"
     ]
    },
    {
     "name": "stderr",
     "output_type": "stream",
     "text": [
      "WARNING:tensorflow:Value in checkpoint could not be found in the restored object: (root).keras_api.metrics.0.total\n"
     ]
    },
    {
     "name": "stdout",
     "output_type": "stream",
     "text": [
      "WARNING:tensorflow:Value in checkpoint could not be found in the restored object: (root).keras_api.metrics.0.count\n"
     ]
    },
    {
     "name": "stderr",
     "output_type": "stream",
     "text": [
      "WARNING:tensorflow:Value in checkpoint could not be found in the restored object: (root).keras_api.metrics.0.count\n"
     ]
    },
    {
     "name": "stdout",
     "output_type": "stream",
     "text": [
      "WARNING:tensorflow:Value in checkpoint could not be found in the restored object: (root).keras_api.metrics.1.total\n"
     ]
    },
    {
     "name": "stderr",
     "output_type": "stream",
     "text": [
      "WARNING:tensorflow:Value in checkpoint could not be found in the restored object: (root).keras_api.metrics.1.total\n"
     ]
    },
    {
     "name": "stdout",
     "output_type": "stream",
     "text": [
      "WARNING:tensorflow:Value in checkpoint could not be found in the restored object: (root).keras_api.metrics.1.count\n"
     ]
    },
    {
     "name": "stderr",
     "output_type": "stream",
     "text": [
      "WARNING:tensorflow:Value in checkpoint could not be found in the restored object: (root).keras_api.metrics.1.count\n"
     ]
    },
    {
     "name": "stdout",
     "output_type": "stream",
     "text": [
      "WARNING:tensorflow:Detecting that an object or model or tf.train.Checkpoint is being deleted with unrestored values. See the following logs for the specific values in question. To silence these warnings, use `status.expect_partial()`. See https://www.tensorflow.org/api_docs/python/tf/train/Checkpoint#restorefor details about the status object returned by the restore function.\n"
     ]
    },
    {
     "name": "stderr",
     "output_type": "stream",
     "text": [
      "WARNING:tensorflow:Detecting that an object or model or tf.train.Checkpoint is being deleted with unrestored values. See the following logs for the specific values in question. To silence these warnings, use `status.expect_partial()`. See https://www.tensorflow.org/api_docs/python/tf/train/Checkpoint#restorefor details about the status object returned by the restore function.\n"
     ]
    },
    {
     "name": "stdout",
     "output_type": "stream",
     "text": [
      "WARNING:tensorflow:Value in checkpoint could not be found in the restored object: (root).keras_api.metrics.0.total\n"
     ]
    },
    {
     "name": "stderr",
     "output_type": "stream",
     "text": [
      "WARNING:tensorflow:Value in checkpoint could not be found in the restored object: (root).keras_api.metrics.0.total\n"
     ]
    },
    {
     "name": "stdout",
     "output_type": "stream",
     "text": [
      "WARNING:tensorflow:Value in checkpoint could not be found in the restored object: (root).keras_api.metrics.0.count\n"
     ]
    },
    {
     "name": "stderr",
     "output_type": "stream",
     "text": [
      "WARNING:tensorflow:Value in checkpoint could not be found in the restored object: (root).keras_api.metrics.0.count\n"
     ]
    },
    {
     "name": "stdout",
     "output_type": "stream",
     "text": [
      "WARNING:tensorflow:Value in checkpoint could not be found in the restored object: (root).keras_api.metrics.1.total\n"
     ]
    },
    {
     "name": "stderr",
     "output_type": "stream",
     "text": [
      "WARNING:tensorflow:Value in checkpoint could not be found in the restored object: (root).keras_api.metrics.1.total\n"
     ]
    },
    {
     "name": "stdout",
     "output_type": "stream",
     "text": [
      "WARNING:tensorflow:Value in checkpoint could not be found in the restored object: (root).keras_api.metrics.1.count\n"
     ]
    },
    {
     "name": "stderr",
     "output_type": "stream",
     "text": [
      "WARNING:tensorflow:Value in checkpoint could not be found in the restored object: (root).keras_api.metrics.1.count\n"
     ]
    },
    {
     "name": "stdout",
     "output_type": "stream",
     "text": [
      "WARNING:tensorflow:Detecting that an object or model or tf.train.Checkpoint is being deleted with unrestored values. See the following logs for the specific values in question. To silence these warnings, use `status.expect_partial()`. See https://www.tensorflow.org/api_docs/python/tf/train/Checkpoint#restorefor details about the status object returned by the restore function.\n"
     ]
    },
    {
     "name": "stderr",
     "output_type": "stream",
     "text": [
      "WARNING:tensorflow:Detecting that an object or model or tf.train.Checkpoint is being deleted with unrestored values. See the following logs for the specific values in question. To silence these warnings, use `status.expect_partial()`. See https://www.tensorflow.org/api_docs/python/tf/train/Checkpoint#restorefor details about the status object returned by the restore function.\n"
     ]
    },
    {
     "name": "stdout",
     "output_type": "stream",
     "text": [
      "WARNING:tensorflow:Value in checkpoint could not be found in the restored object: (root).keras_api.metrics.0.total\n"
     ]
    },
    {
     "name": "stderr",
     "output_type": "stream",
     "text": [
      "WARNING:tensorflow:Value in checkpoint could not be found in the restored object: (root).keras_api.metrics.0.total\n"
     ]
    },
    {
     "name": "stdout",
     "output_type": "stream",
     "text": [
      "WARNING:tensorflow:Value in checkpoint could not be found in the restored object: (root).keras_api.metrics.0.count\n"
     ]
    },
    {
     "name": "stderr",
     "output_type": "stream",
     "text": [
      "WARNING:tensorflow:Value in checkpoint could not be found in the restored object: (root).keras_api.metrics.0.count\n"
     ]
    },
    {
     "name": "stdout",
     "output_type": "stream",
     "text": [
      "WARNING:tensorflow:Value in checkpoint could not be found in the restored object: (root).keras_api.metrics.1.total\n"
     ]
    },
    {
     "name": "stderr",
     "output_type": "stream",
     "text": [
      "WARNING:tensorflow:Value in checkpoint could not be found in the restored object: (root).keras_api.metrics.1.total\n"
     ]
    },
    {
     "name": "stdout",
     "output_type": "stream",
     "text": [
      "WARNING:tensorflow:Value in checkpoint could not be found in the restored object: (root).keras_api.metrics.1.count\n"
     ]
    },
    {
     "name": "stderr",
     "output_type": "stream",
     "text": [
      "WARNING:tensorflow:Value in checkpoint could not be found in the restored object: (root).keras_api.metrics.1.count\n"
     ]
    },
    {
     "name": "stdout",
     "output_type": "stream",
     "text": [
      "WARNING:tensorflow:Detecting that an object or model or tf.train.Checkpoint is being deleted with unrestored values. See the following logs for the specific values in question. To silence these warnings, use `status.expect_partial()`. See https://www.tensorflow.org/api_docs/python/tf/train/Checkpoint#restorefor details about the status object returned by the restore function.\n"
     ]
    },
    {
     "name": "stderr",
     "output_type": "stream",
     "text": [
      "WARNING:tensorflow:Detecting that an object or model or tf.train.Checkpoint is being deleted with unrestored values. See the following logs for the specific values in question. To silence these warnings, use `status.expect_partial()`. See https://www.tensorflow.org/api_docs/python/tf/train/Checkpoint#restorefor details about the status object returned by the restore function.\n"
     ]
    },
    {
     "name": "stdout",
     "output_type": "stream",
     "text": [
      "WARNING:tensorflow:Value in checkpoint could not be found in the restored object: (root).keras_api.metrics.0.total\n"
     ]
    },
    {
     "name": "stderr",
     "output_type": "stream",
     "text": [
      "WARNING:tensorflow:Value in checkpoint could not be found in the restored object: (root).keras_api.metrics.0.total\n"
     ]
    },
    {
     "name": "stdout",
     "output_type": "stream",
     "text": [
      "WARNING:tensorflow:Value in checkpoint could not be found in the restored object: (root).keras_api.metrics.0.count\n"
     ]
    },
    {
     "name": "stderr",
     "output_type": "stream",
     "text": [
      "WARNING:tensorflow:Value in checkpoint could not be found in the restored object: (root).keras_api.metrics.0.count\n"
     ]
    },
    {
     "name": "stdout",
     "output_type": "stream",
     "text": [
      "WARNING:tensorflow:Value in checkpoint could not be found in the restored object: (root).keras_api.metrics.1.total\n"
     ]
    },
    {
     "name": "stderr",
     "output_type": "stream",
     "text": [
      "WARNING:tensorflow:Value in checkpoint could not be found in the restored object: (root).keras_api.metrics.1.total\n"
     ]
    },
    {
     "name": "stdout",
     "output_type": "stream",
     "text": [
      "WARNING:tensorflow:Value in checkpoint could not be found in the restored object: (root).keras_api.metrics.1.count\n"
     ]
    },
    {
     "name": "stderr",
     "output_type": "stream",
     "text": [
      "WARNING:tensorflow:Value in checkpoint could not be found in the restored object: (root).keras_api.metrics.1.count\n"
     ]
    },
    {
     "name": "stdout",
     "output_type": "stream",
     "text": [
      "WARNING:tensorflow:Detecting that an object or model or tf.train.Checkpoint is being deleted with unrestored values. See the following logs for the specific values in question. To silence these warnings, use `status.expect_partial()`. See https://www.tensorflow.org/api_docs/python/tf/train/Checkpoint#restorefor details about the status object returned by the restore function.\n"
     ]
    },
    {
     "name": "stderr",
     "output_type": "stream",
     "text": [
      "WARNING:tensorflow:Detecting that an object or model or tf.train.Checkpoint is being deleted with unrestored values. See the following logs for the specific values in question. To silence these warnings, use `status.expect_partial()`. See https://www.tensorflow.org/api_docs/python/tf/train/Checkpoint#restorefor details about the status object returned by the restore function.\n"
     ]
    },
    {
     "name": "stdout",
     "output_type": "stream",
     "text": [
      "WARNING:tensorflow:Value in checkpoint could not be found in the restored object: (root).keras_api.metrics.0.total\n"
     ]
    },
    {
     "name": "stderr",
     "output_type": "stream",
     "text": [
      "WARNING:tensorflow:Value in checkpoint could not be found in the restored object: (root).keras_api.metrics.0.total\n"
     ]
    },
    {
     "name": "stdout",
     "output_type": "stream",
     "text": [
      "WARNING:tensorflow:Value in checkpoint could not be found in the restored object: (root).keras_api.metrics.0.count\n"
     ]
    },
    {
     "name": "stderr",
     "output_type": "stream",
     "text": [
      "WARNING:tensorflow:Value in checkpoint could not be found in the restored object: (root).keras_api.metrics.0.count\n"
     ]
    },
    {
     "name": "stdout",
     "output_type": "stream",
     "text": [
      "WARNING:tensorflow:Value in checkpoint could not be found in the restored object: (root).keras_api.metrics.1.total\n"
     ]
    },
    {
     "name": "stderr",
     "output_type": "stream",
     "text": [
      "WARNING:tensorflow:Value in checkpoint could not be found in the restored object: (root).keras_api.metrics.1.total\n"
     ]
    },
    {
     "name": "stdout",
     "output_type": "stream",
     "text": [
      "WARNING:tensorflow:Value in checkpoint could not be found in the restored object: (root).keras_api.metrics.1.count\n"
     ]
    },
    {
     "name": "stderr",
     "output_type": "stream",
     "text": [
      "WARNING:tensorflow:Value in checkpoint could not be found in the restored object: (root).keras_api.metrics.1.count\n"
     ]
    },
    {
     "name": "stdout",
     "output_type": "stream",
     "text": [
      "WARNING:tensorflow:Detecting that an object or model or tf.train.Checkpoint is being deleted with unrestored values. See the following logs for the specific values in question. To silence these warnings, use `status.expect_partial()`. See https://www.tensorflow.org/api_docs/python/tf/train/Checkpoint#restorefor details about the status object returned by the restore function.\n"
     ]
    },
    {
     "name": "stderr",
     "output_type": "stream",
     "text": [
      "WARNING:tensorflow:Detecting that an object or model or tf.train.Checkpoint is being deleted with unrestored values. See the following logs for the specific values in question. To silence these warnings, use `status.expect_partial()`. See https://www.tensorflow.org/api_docs/python/tf/train/Checkpoint#restorefor details about the status object returned by the restore function.\n"
     ]
    },
    {
     "name": "stdout",
     "output_type": "stream",
     "text": [
      "WARNING:tensorflow:Value in checkpoint could not be found in the restored object: (root).keras_api.metrics.0.total\n"
     ]
    },
    {
     "name": "stderr",
     "output_type": "stream",
     "text": [
      "WARNING:tensorflow:Value in checkpoint could not be found in the restored object: (root).keras_api.metrics.0.total\n"
     ]
    },
    {
     "name": "stdout",
     "output_type": "stream",
     "text": [
      "WARNING:tensorflow:Value in checkpoint could not be found in the restored object: (root).keras_api.metrics.0.count\n"
     ]
    },
    {
     "name": "stderr",
     "output_type": "stream",
     "text": [
      "WARNING:tensorflow:Value in checkpoint could not be found in the restored object: (root).keras_api.metrics.0.count\n"
     ]
    },
    {
     "name": "stdout",
     "output_type": "stream",
     "text": [
      "WARNING:tensorflow:Value in checkpoint could not be found in the restored object: (root).keras_api.metrics.1.total\n"
     ]
    },
    {
     "name": "stderr",
     "output_type": "stream",
     "text": [
      "WARNING:tensorflow:Value in checkpoint could not be found in the restored object: (root).keras_api.metrics.1.total\n"
     ]
    },
    {
     "name": "stdout",
     "output_type": "stream",
     "text": [
      "WARNING:tensorflow:Value in checkpoint could not be found in the restored object: (root).keras_api.metrics.1.count\n"
     ]
    },
    {
     "name": "stderr",
     "output_type": "stream",
     "text": [
      "WARNING:tensorflow:Value in checkpoint could not be found in the restored object: (root).keras_api.metrics.1.count\n"
     ]
    },
    {
     "name": "stdout",
     "output_type": "stream",
     "text": [
      "WARNING:tensorflow:Detecting that an object or model or tf.train.Checkpoint is being deleted with unrestored values. See the following logs for the specific values in question. To silence these warnings, use `status.expect_partial()`. See https://www.tensorflow.org/api_docs/python/tf/train/Checkpoint#restorefor details about the status object returned by the restore function.\n"
     ]
    },
    {
     "name": "stderr",
     "output_type": "stream",
     "text": [
      "WARNING:tensorflow:Detecting that an object or model or tf.train.Checkpoint is being deleted with unrestored values. See the following logs for the specific values in question. To silence these warnings, use `status.expect_partial()`. See https://www.tensorflow.org/api_docs/python/tf/train/Checkpoint#restorefor details about the status object returned by the restore function.\n"
     ]
    },
    {
     "name": "stdout",
     "output_type": "stream",
     "text": [
      "WARNING:tensorflow:Value in checkpoint could not be found in the restored object: (root).keras_api.metrics.0.total\n"
     ]
    },
    {
     "name": "stderr",
     "output_type": "stream",
     "text": [
      "WARNING:tensorflow:Value in checkpoint could not be found in the restored object: (root).keras_api.metrics.0.total\n"
     ]
    },
    {
     "name": "stdout",
     "output_type": "stream",
     "text": [
      "WARNING:tensorflow:Value in checkpoint could not be found in the restored object: (root).keras_api.metrics.0.count\n"
     ]
    },
    {
     "name": "stderr",
     "output_type": "stream",
     "text": [
      "WARNING:tensorflow:Value in checkpoint could not be found in the restored object: (root).keras_api.metrics.0.count\n"
     ]
    },
    {
     "name": "stdout",
     "output_type": "stream",
     "text": [
      "WARNING:tensorflow:Value in checkpoint could not be found in the restored object: (root).keras_api.metrics.1.total\n"
     ]
    },
    {
     "name": "stderr",
     "output_type": "stream",
     "text": [
      "WARNING:tensorflow:Value in checkpoint could not be found in the restored object: (root).keras_api.metrics.1.total\n"
     ]
    },
    {
     "name": "stdout",
     "output_type": "stream",
     "text": [
      "WARNING:tensorflow:Value in checkpoint could not be found in the restored object: (root).keras_api.metrics.1.count\n"
     ]
    },
    {
     "name": "stderr",
     "output_type": "stream",
     "text": [
      "WARNING:tensorflow:Value in checkpoint could not be found in the restored object: (root).keras_api.metrics.1.count\n"
     ]
    },
    {
     "name": "stdout",
     "output_type": "stream",
     "text": [
      "WARNING:tensorflow:Detecting that an object or model or tf.train.Checkpoint is being deleted with unrestored values. See the following logs for the specific values in question. To silence these warnings, use `status.expect_partial()`. See https://www.tensorflow.org/api_docs/python/tf/train/Checkpoint#restorefor details about the status object returned by the restore function.\n"
     ]
    },
    {
     "name": "stderr",
     "output_type": "stream",
     "text": [
      "WARNING:tensorflow:Detecting that an object or model or tf.train.Checkpoint is being deleted with unrestored values. See the following logs for the specific values in question. To silence these warnings, use `status.expect_partial()`. See https://www.tensorflow.org/api_docs/python/tf/train/Checkpoint#restorefor details about the status object returned by the restore function.\n"
     ]
    },
    {
     "name": "stdout",
     "output_type": "stream",
     "text": [
      "WARNING:tensorflow:Value in checkpoint could not be found in the restored object: (root).keras_api.metrics.0.total\n"
     ]
    },
    {
     "name": "stderr",
     "output_type": "stream",
     "text": [
      "WARNING:tensorflow:Value in checkpoint could not be found in the restored object: (root).keras_api.metrics.0.total\n"
     ]
    },
    {
     "name": "stdout",
     "output_type": "stream",
     "text": [
      "WARNING:tensorflow:Value in checkpoint could not be found in the restored object: (root).keras_api.metrics.0.count\n"
     ]
    },
    {
     "name": "stderr",
     "output_type": "stream",
     "text": [
      "WARNING:tensorflow:Value in checkpoint could not be found in the restored object: (root).keras_api.metrics.0.count\n"
     ]
    },
    {
     "name": "stdout",
     "output_type": "stream",
     "text": [
      "WARNING:tensorflow:Value in checkpoint could not be found in the restored object: (root).keras_api.metrics.1.total\n"
     ]
    },
    {
     "name": "stderr",
     "output_type": "stream",
     "text": [
      "WARNING:tensorflow:Value in checkpoint could not be found in the restored object: (root).keras_api.metrics.1.total\n"
     ]
    },
    {
     "name": "stdout",
     "output_type": "stream",
     "text": [
      "WARNING:tensorflow:Value in checkpoint could not be found in the restored object: (root).keras_api.metrics.1.count\n"
     ]
    },
    {
     "name": "stderr",
     "output_type": "stream",
     "text": [
      "WARNING:tensorflow:Value in checkpoint could not be found in the restored object: (root).keras_api.metrics.1.count\n"
     ]
    },
    {
     "name": "stdout",
     "output_type": "stream",
     "text": [
      "WARNING:tensorflow:Detecting that an object or model or tf.train.Checkpoint is being deleted with unrestored values. See the following logs for the specific values in question. To silence these warnings, use `status.expect_partial()`. See https://www.tensorflow.org/api_docs/python/tf/train/Checkpoint#restorefor details about the status object returned by the restore function.\n"
     ]
    },
    {
     "name": "stderr",
     "output_type": "stream",
     "text": [
      "WARNING:tensorflow:Detecting that an object or model or tf.train.Checkpoint is being deleted with unrestored values. See the following logs for the specific values in question. To silence these warnings, use `status.expect_partial()`. See https://www.tensorflow.org/api_docs/python/tf/train/Checkpoint#restorefor details about the status object returned by the restore function.\n"
     ]
    },
    {
     "name": "stdout",
     "output_type": "stream",
     "text": [
      "WARNING:tensorflow:Value in checkpoint could not be found in the restored object: (root).keras_api.metrics.0.total\n"
     ]
    },
    {
     "name": "stderr",
     "output_type": "stream",
     "text": [
      "WARNING:tensorflow:Value in checkpoint could not be found in the restored object: (root).keras_api.metrics.0.total\n"
     ]
    },
    {
     "name": "stdout",
     "output_type": "stream",
     "text": [
      "WARNING:tensorflow:Value in checkpoint could not be found in the restored object: (root).keras_api.metrics.0.count\n"
     ]
    },
    {
     "name": "stderr",
     "output_type": "stream",
     "text": [
      "WARNING:tensorflow:Value in checkpoint could not be found in the restored object: (root).keras_api.metrics.0.count\n"
     ]
    },
    {
     "name": "stdout",
     "output_type": "stream",
     "text": [
      "WARNING:tensorflow:Value in checkpoint could not be found in the restored object: (root).keras_api.metrics.1.total\n"
     ]
    },
    {
     "name": "stderr",
     "output_type": "stream",
     "text": [
      "WARNING:tensorflow:Value in checkpoint could not be found in the restored object: (root).keras_api.metrics.1.total\n"
     ]
    },
    {
     "name": "stdout",
     "output_type": "stream",
     "text": [
      "WARNING:tensorflow:Value in checkpoint could not be found in the restored object: (root).keras_api.metrics.1.count\n"
     ]
    },
    {
     "name": "stderr",
     "output_type": "stream",
     "text": [
      "WARNING:tensorflow:Value in checkpoint could not be found in the restored object: (root).keras_api.metrics.1.count\n"
     ]
    },
    {
     "name": "stdout",
     "output_type": "stream",
     "text": [
      "WARNING:tensorflow:Detecting that an object or model or tf.train.Checkpoint is being deleted with unrestored values. See the following logs for the specific values in question. To silence these warnings, use `status.expect_partial()`. See https://www.tensorflow.org/api_docs/python/tf/train/Checkpoint#restorefor details about the status object returned by the restore function.\n"
     ]
    },
    {
     "name": "stderr",
     "output_type": "stream",
     "text": [
      "WARNING:tensorflow:Detecting that an object or model or tf.train.Checkpoint is being deleted with unrestored values. See the following logs for the specific values in question. To silence these warnings, use `status.expect_partial()`. See https://www.tensorflow.org/api_docs/python/tf/train/Checkpoint#restorefor details about the status object returned by the restore function.\n"
     ]
    },
    {
     "name": "stdout",
     "output_type": "stream",
     "text": [
      "WARNING:tensorflow:Value in checkpoint could not be found in the restored object: (root).keras_api.metrics.0.total\n"
     ]
    },
    {
     "name": "stderr",
     "output_type": "stream",
     "text": [
      "WARNING:tensorflow:Value in checkpoint could not be found in the restored object: (root).keras_api.metrics.0.total\n"
     ]
    },
    {
     "name": "stdout",
     "output_type": "stream",
     "text": [
      "WARNING:tensorflow:Value in checkpoint could not be found in the restored object: (root).keras_api.metrics.0.count\n"
     ]
    },
    {
     "name": "stderr",
     "output_type": "stream",
     "text": [
      "WARNING:tensorflow:Value in checkpoint could not be found in the restored object: (root).keras_api.metrics.0.count\n"
     ]
    },
    {
     "name": "stdout",
     "output_type": "stream",
     "text": [
      "WARNING:tensorflow:Value in checkpoint could not be found in the restored object: (root).keras_api.metrics.1.total\n"
     ]
    },
    {
     "name": "stderr",
     "output_type": "stream",
     "text": [
      "WARNING:tensorflow:Value in checkpoint could not be found in the restored object: (root).keras_api.metrics.1.total\n"
     ]
    },
    {
     "name": "stdout",
     "output_type": "stream",
     "text": [
      "WARNING:tensorflow:Value in checkpoint could not be found in the restored object: (root).keras_api.metrics.1.count\n"
     ]
    },
    {
     "name": "stderr",
     "output_type": "stream",
     "text": [
      "WARNING:tensorflow:Value in checkpoint could not be found in the restored object: (root).keras_api.metrics.1.count\n"
     ]
    },
    {
     "name": "stdout",
     "output_type": "stream",
     "text": [
      "WARNING:tensorflow:Detecting that an object or model or tf.train.Checkpoint is being deleted with unrestored values. See the following logs for the specific values in question. To silence these warnings, use `status.expect_partial()`. See https://www.tensorflow.org/api_docs/python/tf/train/Checkpoint#restorefor details about the status object returned by the restore function.\n"
     ]
    },
    {
     "name": "stderr",
     "output_type": "stream",
     "text": [
      "WARNING:tensorflow:Detecting that an object or model or tf.train.Checkpoint is being deleted with unrestored values. See the following logs for the specific values in question. To silence these warnings, use `status.expect_partial()`. See https://www.tensorflow.org/api_docs/python/tf/train/Checkpoint#restorefor details about the status object returned by the restore function.\n"
     ]
    },
    {
     "name": "stdout",
     "output_type": "stream",
     "text": [
      "WARNING:tensorflow:Value in checkpoint could not be found in the restored object: (root).keras_api.metrics.0.total\n"
     ]
    },
    {
     "name": "stderr",
     "output_type": "stream",
     "text": [
      "WARNING:tensorflow:Value in checkpoint could not be found in the restored object: (root).keras_api.metrics.0.total\n"
     ]
    },
    {
     "name": "stdout",
     "output_type": "stream",
     "text": [
      "WARNING:tensorflow:Value in checkpoint could not be found in the restored object: (root).keras_api.metrics.0.count\n"
     ]
    },
    {
     "name": "stderr",
     "output_type": "stream",
     "text": [
      "WARNING:tensorflow:Value in checkpoint could not be found in the restored object: (root).keras_api.metrics.0.count\n"
     ]
    },
    {
     "name": "stdout",
     "output_type": "stream",
     "text": [
      "WARNING:tensorflow:Value in checkpoint could not be found in the restored object: (root).keras_api.metrics.1.total\n"
     ]
    },
    {
     "name": "stderr",
     "output_type": "stream",
     "text": [
      "WARNING:tensorflow:Value in checkpoint could not be found in the restored object: (root).keras_api.metrics.1.total\n"
     ]
    },
    {
     "name": "stdout",
     "output_type": "stream",
     "text": [
      "WARNING:tensorflow:Value in checkpoint could not be found in the restored object: (root).keras_api.metrics.1.count\n"
     ]
    },
    {
     "name": "stderr",
     "output_type": "stream",
     "text": [
      "WARNING:tensorflow:Value in checkpoint could not be found in the restored object: (root).keras_api.metrics.1.count\n"
     ]
    },
    {
     "name": "stdout",
     "output_type": "stream",
     "text": [
      "WARNING:tensorflow:Detecting that an object or model or tf.train.Checkpoint is being deleted with unrestored values. See the following logs for the specific values in question. To silence these warnings, use `status.expect_partial()`. See https://www.tensorflow.org/api_docs/python/tf/train/Checkpoint#restorefor details about the status object returned by the restore function.\n"
     ]
    },
    {
     "name": "stderr",
     "output_type": "stream",
     "text": [
      "WARNING:tensorflow:Detecting that an object or model or tf.train.Checkpoint is being deleted with unrestored values. See the following logs for the specific values in question. To silence these warnings, use `status.expect_partial()`. See https://www.tensorflow.org/api_docs/python/tf/train/Checkpoint#restorefor details about the status object returned by the restore function.\n"
     ]
    },
    {
     "name": "stdout",
     "output_type": "stream",
     "text": [
      "WARNING:tensorflow:Value in checkpoint could not be found in the restored object: (root).keras_api.metrics.0.total\n"
     ]
    },
    {
     "name": "stderr",
     "output_type": "stream",
     "text": [
      "WARNING:tensorflow:Value in checkpoint could not be found in the restored object: (root).keras_api.metrics.0.total\n"
     ]
    },
    {
     "name": "stdout",
     "output_type": "stream",
     "text": [
      "WARNING:tensorflow:Value in checkpoint could not be found in the restored object: (root).keras_api.metrics.0.count\n"
     ]
    },
    {
     "name": "stderr",
     "output_type": "stream",
     "text": [
      "WARNING:tensorflow:Value in checkpoint could not be found in the restored object: (root).keras_api.metrics.0.count\n"
     ]
    },
    {
     "name": "stdout",
     "output_type": "stream",
     "text": [
      "WARNING:tensorflow:Value in checkpoint could not be found in the restored object: (root).keras_api.metrics.1.total\n"
     ]
    },
    {
     "name": "stderr",
     "output_type": "stream",
     "text": [
      "WARNING:tensorflow:Value in checkpoint could not be found in the restored object: (root).keras_api.metrics.1.total\n"
     ]
    },
    {
     "name": "stdout",
     "output_type": "stream",
     "text": [
      "WARNING:tensorflow:Value in checkpoint could not be found in the restored object: (root).keras_api.metrics.1.count\n"
     ]
    },
    {
     "name": "stderr",
     "output_type": "stream",
     "text": [
      "WARNING:tensorflow:Value in checkpoint could not be found in the restored object: (root).keras_api.metrics.1.count\n"
     ]
    },
    {
     "name": "stdout",
     "output_type": "stream",
     "text": [
      "WARNING:tensorflow:Detecting that an object or model or tf.train.Checkpoint is being deleted with unrestored values. See the following logs for the specific values in question. To silence these warnings, use `status.expect_partial()`. See https://www.tensorflow.org/api_docs/python/tf/train/Checkpoint#restorefor details about the status object returned by the restore function.\n"
     ]
    },
    {
     "name": "stderr",
     "output_type": "stream",
     "text": [
      "WARNING:tensorflow:Detecting that an object or model or tf.train.Checkpoint is being deleted with unrestored values. See the following logs for the specific values in question. To silence these warnings, use `status.expect_partial()`. See https://www.tensorflow.org/api_docs/python/tf/train/Checkpoint#restorefor details about the status object returned by the restore function.\n"
     ]
    },
    {
     "name": "stdout",
     "output_type": "stream",
     "text": [
      "WARNING:tensorflow:Value in checkpoint could not be found in the restored object: (root).keras_api.metrics.0.total\n"
     ]
    },
    {
     "name": "stderr",
     "output_type": "stream",
     "text": [
      "WARNING:tensorflow:Value in checkpoint could not be found in the restored object: (root).keras_api.metrics.0.total\n"
     ]
    },
    {
     "name": "stdout",
     "output_type": "stream",
     "text": [
      "WARNING:tensorflow:Value in checkpoint could not be found in the restored object: (root).keras_api.metrics.0.count\n"
     ]
    },
    {
     "name": "stderr",
     "output_type": "stream",
     "text": [
      "WARNING:tensorflow:Value in checkpoint could not be found in the restored object: (root).keras_api.metrics.0.count\n"
     ]
    },
    {
     "name": "stdout",
     "output_type": "stream",
     "text": [
      "WARNING:tensorflow:Value in checkpoint could not be found in the restored object: (root).keras_api.metrics.1.total\n"
     ]
    },
    {
     "name": "stderr",
     "output_type": "stream",
     "text": [
      "WARNING:tensorflow:Value in checkpoint could not be found in the restored object: (root).keras_api.metrics.1.total\n"
     ]
    },
    {
     "name": "stdout",
     "output_type": "stream",
     "text": [
      "WARNING:tensorflow:Value in checkpoint could not be found in the restored object: (root).keras_api.metrics.1.count\n"
     ]
    },
    {
     "name": "stderr",
     "output_type": "stream",
     "text": [
      "WARNING:tensorflow:Value in checkpoint could not be found in the restored object: (root).keras_api.metrics.1.count\n"
     ]
    },
    {
     "name": "stdout",
     "output_type": "stream",
     "text": [
      "WARNING:tensorflow:Detecting that an object or model or tf.train.Checkpoint is being deleted with unrestored values. See the following logs for the specific values in question. To silence these warnings, use `status.expect_partial()`. See https://www.tensorflow.org/api_docs/python/tf/train/Checkpoint#restorefor details about the status object returned by the restore function.\n"
     ]
    },
    {
     "name": "stderr",
     "output_type": "stream",
     "text": [
      "WARNING:tensorflow:Detecting that an object or model or tf.train.Checkpoint is being deleted with unrestored values. See the following logs for the specific values in question. To silence these warnings, use `status.expect_partial()`. See https://www.tensorflow.org/api_docs/python/tf/train/Checkpoint#restorefor details about the status object returned by the restore function.\n"
     ]
    },
    {
     "name": "stdout",
     "output_type": "stream",
     "text": [
      "WARNING:tensorflow:Value in checkpoint could not be found in the restored object: (root).keras_api.metrics.0.total\n"
     ]
    },
    {
     "name": "stderr",
     "output_type": "stream",
     "text": [
      "WARNING:tensorflow:Value in checkpoint could not be found in the restored object: (root).keras_api.metrics.0.total\n"
     ]
    },
    {
     "name": "stdout",
     "output_type": "stream",
     "text": [
      "WARNING:tensorflow:Value in checkpoint could not be found in the restored object: (root).keras_api.metrics.0.count\n"
     ]
    },
    {
     "name": "stderr",
     "output_type": "stream",
     "text": [
      "WARNING:tensorflow:Value in checkpoint could not be found in the restored object: (root).keras_api.metrics.0.count\n"
     ]
    },
    {
     "name": "stdout",
     "output_type": "stream",
     "text": [
      "WARNING:tensorflow:Value in checkpoint could not be found in the restored object: (root).keras_api.metrics.1.total\n"
     ]
    },
    {
     "name": "stderr",
     "output_type": "stream",
     "text": [
      "WARNING:tensorflow:Value in checkpoint could not be found in the restored object: (root).keras_api.metrics.1.total\n"
     ]
    },
    {
     "name": "stdout",
     "output_type": "stream",
     "text": [
      "WARNING:tensorflow:Value in checkpoint could not be found in the restored object: (root).keras_api.metrics.1.count\n"
     ]
    },
    {
     "name": "stderr",
     "output_type": "stream",
     "text": [
      "WARNING:tensorflow:Value in checkpoint could not be found in the restored object: (root).keras_api.metrics.1.count\n"
     ]
    },
    {
     "name": "stdout",
     "output_type": "stream",
     "text": [
      "INFO:tensorflow:Assets written to: C:\\Users\\RAJESH\\AppData\\Local\\Temp\\tmp56yeh1d9\\assets\n"
     ]
    },
    {
     "name": "stderr",
     "output_type": "stream",
     "text": [
      "INFO:tensorflow:Assets written to: C:\\Users\\RAJESH\\AppData\\Local\\Temp\\tmp56yeh1d9\\assets\n"
     ]
    },
    {
     "name": "stdout",
     "output_type": "stream",
     "text": [
      "INFO:tensorflow:Assets written to: C:\\Users\\RAJESH\\AppData\\Local\\Temp\\tmpe1j_o_hb\\assets\n"
     ]
    },
    {
     "name": "stderr",
     "output_type": "stream",
     "text": [
      "INFO:tensorflow:Assets written to: C:\\Users\\RAJESH\\AppData\\Local\\Temp\\tmpe1j_o_hb\\assets\n"
     ]
    },
    {
     "name": "stdout",
     "output_type": "stream",
     "text": [
      "INFO:tensorflow:Assets written to: C:\\Users\\RAJESH\\AppData\\Local\\Temp\\tmp0xks6jad\\assets\n"
     ]
    },
    {
     "name": "stderr",
     "output_type": "stream",
     "text": [
      "INFO:tensorflow:Assets written to: C:\\Users\\RAJESH\\AppData\\Local\\Temp\\tmp0xks6jad\\assets\n"
     ]
    },
    {
     "name": "stdout",
     "output_type": "stream",
     "text": [
      "INFO:tensorflow:Assets written to: C:\\Users\\RAJESH\\AppData\\Local\\Temp\\tmpcbixmzfb\\assets\n"
     ]
    },
    {
     "name": "stderr",
     "output_type": "stream",
     "text": [
      "INFO:tensorflow:Assets written to: C:\\Users\\RAJESH\\AppData\\Local\\Temp\\tmpcbixmzfb\\assets\n"
     ]
    },
    {
     "name": "stdout",
     "output_type": "stream",
     "text": [
      "INFO:tensorflow:Assets written to: C:\\Users\\RAJESH\\AppData\\Local\\Temp\\tmpqvo81hhz\\assets\n"
     ]
    },
    {
     "name": "stderr",
     "output_type": "stream",
     "text": [
      "INFO:tensorflow:Assets written to: C:\\Users\\RAJESH\\AppData\\Local\\Temp\\tmpqvo81hhz\\assets\n"
     ]
    },
    {
     "name": "stdout",
     "output_type": "stream",
     "text": [
      "INFO:tensorflow:Assets written to: C:\\Users\\RAJESH\\AppData\\Local\\Temp\\tmp7c_80jnh\\assets\n"
     ]
    },
    {
     "name": "stderr",
     "output_type": "stream",
     "text": [
      "INFO:tensorflow:Assets written to: C:\\Users\\RAJESH\\AppData\\Local\\Temp\\tmp7c_80jnh\\assets\n"
     ]
    },
    {
     "name": "stdout",
     "output_type": "stream",
     "text": [
      "INFO:tensorflow:Assets written to: C:\\Users\\RAJESH\\AppData\\Local\\Temp\\tmp2g3kiunz\\assets\n"
     ]
    },
    {
     "name": "stderr",
     "output_type": "stream",
     "text": [
      "INFO:tensorflow:Assets written to: C:\\Users\\RAJESH\\AppData\\Local\\Temp\\tmp2g3kiunz\\assets\n"
     ]
    },
    {
     "name": "stdout",
     "output_type": "stream",
     "text": [
      "INFO:tensorflow:Assets written to: C:\\Users\\RAJESH\\AppData\\Local\\Temp\\tmpvl2jeld1\\assets\n"
     ]
    },
    {
     "name": "stderr",
     "output_type": "stream",
     "text": [
      "INFO:tensorflow:Assets written to: C:\\Users\\RAJESH\\AppData\\Local\\Temp\\tmpvl2jeld1\\assets\n"
     ]
    },
    {
     "name": "stdout",
     "output_type": "stream",
     "text": [
      "INFO:tensorflow:Assets written to: C:\\Users\\RAJESH\\AppData\\Local\\Temp\\tmp3ilhy58b\\assets\n"
     ]
    },
    {
     "name": "stderr",
     "output_type": "stream",
     "text": [
      "INFO:tensorflow:Assets written to: C:\\Users\\RAJESH\\AppData\\Local\\Temp\\tmp3ilhy58b\\assets\n"
     ]
    },
    {
     "name": "stdout",
     "output_type": "stream",
     "text": [
      "INFO:tensorflow:Assets written to: C:\\Users\\RAJESH\\AppData\\Local\\Temp\\tmphhsp_3s4\\assets\n"
     ]
    },
    {
     "name": "stderr",
     "output_type": "stream",
     "text": [
      "INFO:tensorflow:Assets written to: C:\\Users\\RAJESH\\AppData\\Local\\Temp\\tmphhsp_3s4\\assets\n"
     ]
    },
    {
     "name": "stdout",
     "output_type": "stream",
     "text": [
      "INFO:tensorflow:Assets written to: C:\\Users\\RAJESH\\AppData\\Local\\Temp\\tmp1vy_955p\\assets\n"
     ]
    },
    {
     "name": "stderr",
     "output_type": "stream",
     "text": [
      "INFO:tensorflow:Assets written to: C:\\Users\\RAJESH\\AppData\\Local\\Temp\\tmp1vy_955p\\assets\n"
     ]
    },
    {
     "name": "stdout",
     "output_type": "stream",
     "text": [
      "INFO:tensorflow:Assets written to: C:\\Users\\RAJESH\\AppData\\Local\\Temp\\tmp9fhswxgk\\assets\n"
     ]
    },
    {
     "name": "stderr",
     "output_type": "stream",
     "text": [
      "INFO:tensorflow:Assets written to: C:\\Users\\RAJESH\\AppData\\Local\\Temp\\tmp9fhswxgk\\assets\n"
     ]
    },
    {
     "name": "stdout",
     "output_type": "stream",
     "text": [
      "INFO:tensorflow:Assets written to: C:\\Users\\RAJESH\\AppData\\Local\\Temp\\tmpcqxylvdd\\assets\n"
     ]
    },
    {
     "name": "stderr",
     "output_type": "stream",
     "text": [
      "INFO:tensorflow:Assets written to: C:\\Users\\RAJESH\\AppData\\Local\\Temp\\tmpcqxylvdd\\assets\n"
     ]
    },
    {
     "name": "stdout",
     "output_type": "stream",
     "text": [
      "INFO:tensorflow:Assets written to: C:\\Users\\RAJESH\\AppData\\Local\\Temp\\tmphqtv_wvp\\assets\n"
     ]
    },
    {
     "name": "stderr",
     "output_type": "stream",
     "text": [
      "INFO:tensorflow:Assets written to: C:\\Users\\RAJESH\\AppData\\Local\\Temp\\tmphqtv_wvp\\assets\n"
     ]
    },
    {
     "name": "stdout",
     "output_type": "stream",
     "text": [
      "INFO:tensorflow:Assets written to: C:\\Users\\RAJESH\\AppData\\Local\\Temp\\tmp71ukjt0a\\assets\n"
     ]
    },
    {
     "name": "stderr",
     "output_type": "stream",
     "text": [
      "INFO:tensorflow:Assets written to: C:\\Users\\RAJESH\\AppData\\Local\\Temp\\tmp71ukjt0a\\assets\n"
     ]
    },
    {
     "name": "stdout",
     "output_type": "stream",
     "text": [
      "INFO:tensorflow:Assets written to: C:\\Users\\RAJESH\\AppData\\Local\\Temp\\tmp2fls2ine\\assets\n"
     ]
    },
    {
     "name": "stderr",
     "output_type": "stream",
     "text": [
      "INFO:tensorflow:Assets written to: C:\\Users\\RAJESH\\AppData\\Local\\Temp\\tmp2fls2ine\\assets\n"
     ]
    },
    {
     "name": "stdout",
     "output_type": "stream",
     "text": [
      "INFO:tensorflow:Assets written to: C:\\Users\\RAJESH\\AppData\\Local\\Temp\\tmp3dkiirtd\\assets\n"
     ]
    },
    {
     "name": "stderr",
     "output_type": "stream",
     "text": [
      "INFO:tensorflow:Assets written to: C:\\Users\\RAJESH\\AppData\\Local\\Temp\\tmp3dkiirtd\\assets\n"
     ]
    },
    {
     "name": "stdout",
     "output_type": "stream",
     "text": [
      "INFO:tensorflow:Assets written to: C:\\Users\\RAJESH\\AppData\\Local\\Temp\\tmp1cvi9qv8\\assets\n"
     ]
    },
    {
     "name": "stderr",
     "output_type": "stream",
     "text": [
      "INFO:tensorflow:Assets written to: C:\\Users\\RAJESH\\AppData\\Local\\Temp\\tmp1cvi9qv8\\assets\n"
     ]
    },
    {
     "name": "stdout",
     "output_type": "stream",
     "text": [
      "INFO:tensorflow:Assets written to: C:\\Users\\RAJESH\\AppData\\Local\\Temp\\tmpqwtsf525\\assets\n"
     ]
    },
    {
     "name": "stderr",
     "output_type": "stream",
     "text": [
      "INFO:tensorflow:Assets written to: C:\\Users\\RAJESH\\AppData\\Local\\Temp\\tmpqwtsf525\\assets\n"
     ]
    },
    {
     "name": "stdout",
     "output_type": "stream",
     "text": [
      "INFO:tensorflow:Assets written to: C:\\Users\\RAJESH\\AppData\\Local\\Temp\\tmp57lc0ydg\\assets\n"
     ]
    },
    {
     "name": "stderr",
     "output_type": "stream",
     "text": [
      "INFO:tensorflow:Assets written to: C:\\Users\\RAJESH\\AppData\\Local\\Temp\\tmp57lc0ydg\\assets\n"
     ]
    },
    {
     "name": "stdout",
     "output_type": "stream",
     "text": [
      "INFO:tensorflow:Assets written to: C:\\Users\\RAJESH\\AppData\\Local\\Temp\\tmp9n758fh_\\assets\n"
     ]
    },
    {
     "name": "stderr",
     "output_type": "stream",
     "text": [
      "INFO:tensorflow:Assets written to: C:\\Users\\RAJESH\\AppData\\Local\\Temp\\tmp9n758fh_\\assets\n"
     ]
    },
    {
     "name": "stdout",
     "output_type": "stream",
     "text": [
      "INFO:tensorflow:Assets written to: C:\\Users\\RAJESH\\AppData\\Local\\Temp\\tmp_fhxyexb\\assets\n"
     ]
    },
    {
     "name": "stderr",
     "output_type": "stream",
     "text": [
      "INFO:tensorflow:Assets written to: C:\\Users\\RAJESH\\AppData\\Local\\Temp\\tmp_fhxyexb\\assets\n"
     ]
    },
    {
     "name": "stdout",
     "output_type": "stream",
     "text": [
      "WARNING:tensorflow:Detecting that an object or model or tf.train.Checkpoint is being deleted with unrestored values. See the following logs for the specific values in question. To silence these warnings, use `status.expect_partial()`. See https://www.tensorflow.org/api_docs/python/tf/train/Checkpoint#restorefor details about the status object returned by the restore function.\n"
     ]
    },
    {
     "name": "stderr",
     "output_type": "stream",
     "text": [
      "WARNING:tensorflow:Detecting that an object or model or tf.train.Checkpoint is being deleted with unrestored values. See the following logs for the specific values in question. To silence these warnings, use `status.expect_partial()`. See https://www.tensorflow.org/api_docs/python/tf/train/Checkpoint#restorefor details about the status object returned by the restore function.\n"
     ]
    },
    {
     "name": "stdout",
     "output_type": "stream",
     "text": [
      "WARNING:tensorflow:Value in checkpoint could not be found in the restored object: (root).keras_api.metrics.0.total\n"
     ]
    },
    {
     "name": "stderr",
     "output_type": "stream",
     "text": [
      "WARNING:tensorflow:Value in checkpoint could not be found in the restored object: (root).keras_api.metrics.0.total\n"
     ]
    },
    {
     "name": "stdout",
     "output_type": "stream",
     "text": [
      "WARNING:tensorflow:Value in checkpoint could not be found in the restored object: (root).keras_api.metrics.0.count\n"
     ]
    },
    {
     "name": "stderr",
     "output_type": "stream",
     "text": [
      "WARNING:tensorflow:Value in checkpoint could not be found in the restored object: (root).keras_api.metrics.0.count\n"
     ]
    },
    {
     "name": "stdout",
     "output_type": "stream",
     "text": [
      "WARNING:tensorflow:Value in checkpoint could not be found in the restored object: (root).keras_api.metrics.1.total\n"
     ]
    },
    {
     "name": "stderr",
     "output_type": "stream",
     "text": [
      "WARNING:tensorflow:Value in checkpoint could not be found in the restored object: (root).keras_api.metrics.1.total\n"
     ]
    },
    {
     "name": "stdout",
     "output_type": "stream",
     "text": [
      "WARNING:tensorflow:Value in checkpoint could not be found in the restored object: (root).keras_api.metrics.1.count\n"
     ]
    },
    {
     "name": "stderr",
     "output_type": "stream",
     "text": [
      "WARNING:tensorflow:Value in checkpoint could not be found in the restored object: (root).keras_api.metrics.1.count\n"
     ]
    },
    {
     "name": "stdout",
     "output_type": "stream",
     "text": [
      "WARNING:tensorflow:Detecting that an object or model or tf.train.Checkpoint is being deleted with unrestored values. See the following logs for the specific values in question. To silence these warnings, use `status.expect_partial()`. See https://www.tensorflow.org/api_docs/python/tf/train/Checkpoint#restorefor details about the status object returned by the restore function.\n"
     ]
    },
    {
     "name": "stderr",
     "output_type": "stream",
     "text": [
      "WARNING:tensorflow:Detecting that an object or model or tf.train.Checkpoint is being deleted with unrestored values. See the following logs for the specific values in question. To silence these warnings, use `status.expect_partial()`. See https://www.tensorflow.org/api_docs/python/tf/train/Checkpoint#restorefor details about the status object returned by the restore function.\n"
     ]
    },
    {
     "name": "stdout",
     "output_type": "stream",
     "text": [
      "WARNING:tensorflow:Value in checkpoint could not be found in the restored object: (root).keras_api.metrics.0.total\n"
     ]
    },
    {
     "name": "stderr",
     "output_type": "stream",
     "text": [
      "WARNING:tensorflow:Value in checkpoint could not be found in the restored object: (root).keras_api.metrics.0.total\n"
     ]
    },
    {
     "name": "stdout",
     "output_type": "stream",
     "text": [
      "WARNING:tensorflow:Value in checkpoint could not be found in the restored object: (root).keras_api.metrics.0.count\n"
     ]
    },
    {
     "name": "stderr",
     "output_type": "stream",
     "text": [
      "WARNING:tensorflow:Value in checkpoint could not be found in the restored object: (root).keras_api.metrics.0.count\n"
     ]
    },
    {
     "name": "stdout",
     "output_type": "stream",
     "text": [
      "WARNING:tensorflow:Value in checkpoint could not be found in the restored object: (root).keras_api.metrics.1.total\n"
     ]
    },
    {
     "name": "stderr",
     "output_type": "stream",
     "text": [
      "WARNING:tensorflow:Value in checkpoint could not be found in the restored object: (root).keras_api.metrics.1.total\n"
     ]
    },
    {
     "name": "stdout",
     "output_type": "stream",
     "text": [
      "WARNING:tensorflow:Value in checkpoint could not be found in the restored object: (root).keras_api.metrics.1.count\n"
     ]
    },
    {
     "name": "stderr",
     "output_type": "stream",
     "text": [
      "WARNING:tensorflow:Value in checkpoint could not be found in the restored object: (root).keras_api.metrics.1.count\n"
     ]
    },
    {
     "name": "stdout",
     "output_type": "stream",
     "text": [
      "WARNING:tensorflow:Detecting that an object or model or tf.train.Checkpoint is being deleted with unrestored values. See the following logs for the specific values in question. To silence these warnings, use `status.expect_partial()`. See https://www.tensorflow.org/api_docs/python/tf/train/Checkpoint#restorefor details about the status object returned by the restore function.\n"
     ]
    },
    {
     "name": "stderr",
     "output_type": "stream",
     "text": [
      "WARNING:tensorflow:Detecting that an object or model or tf.train.Checkpoint is being deleted with unrestored values. See the following logs for the specific values in question. To silence these warnings, use `status.expect_partial()`. See https://www.tensorflow.org/api_docs/python/tf/train/Checkpoint#restorefor details about the status object returned by the restore function.\n"
     ]
    },
    {
     "name": "stdout",
     "output_type": "stream",
     "text": [
      "WARNING:tensorflow:Value in checkpoint could not be found in the restored object: (root).keras_api.metrics.0.total\n"
     ]
    },
    {
     "name": "stderr",
     "output_type": "stream",
     "text": [
      "WARNING:tensorflow:Value in checkpoint could not be found in the restored object: (root).keras_api.metrics.0.total\n"
     ]
    },
    {
     "name": "stdout",
     "output_type": "stream",
     "text": [
      "WARNING:tensorflow:Value in checkpoint could not be found in the restored object: (root).keras_api.metrics.0.count\n"
     ]
    },
    {
     "name": "stderr",
     "output_type": "stream",
     "text": [
      "WARNING:tensorflow:Value in checkpoint could not be found in the restored object: (root).keras_api.metrics.0.count\n"
     ]
    },
    {
     "name": "stdout",
     "output_type": "stream",
     "text": [
      "WARNING:tensorflow:Value in checkpoint could not be found in the restored object: (root).keras_api.metrics.1.total\n"
     ]
    },
    {
     "name": "stderr",
     "output_type": "stream",
     "text": [
      "WARNING:tensorflow:Value in checkpoint could not be found in the restored object: (root).keras_api.metrics.1.total\n"
     ]
    },
    {
     "name": "stdout",
     "output_type": "stream",
     "text": [
      "WARNING:tensorflow:Value in checkpoint could not be found in the restored object: (root).keras_api.metrics.1.count\n"
     ]
    },
    {
     "name": "stderr",
     "output_type": "stream",
     "text": [
      "WARNING:tensorflow:Value in checkpoint could not be found in the restored object: (root).keras_api.metrics.1.count\n"
     ]
    },
    {
     "name": "stdout",
     "output_type": "stream",
     "text": [
      "WARNING:tensorflow:Detecting that an object or model or tf.train.Checkpoint is being deleted with unrestored values. See the following logs for the specific values in question. To silence these warnings, use `status.expect_partial()`. See https://www.tensorflow.org/api_docs/python/tf/train/Checkpoint#restorefor details about the status object returned by the restore function.\n"
     ]
    },
    {
     "name": "stderr",
     "output_type": "stream",
     "text": [
      "WARNING:tensorflow:Detecting that an object or model or tf.train.Checkpoint is being deleted with unrestored values. See the following logs for the specific values in question. To silence these warnings, use `status.expect_partial()`. See https://www.tensorflow.org/api_docs/python/tf/train/Checkpoint#restorefor details about the status object returned by the restore function.\n"
     ]
    },
    {
     "name": "stdout",
     "output_type": "stream",
     "text": [
      "WARNING:tensorflow:Value in checkpoint could not be found in the restored object: (root).keras_api.metrics.0.total\n"
     ]
    },
    {
     "name": "stderr",
     "output_type": "stream",
     "text": [
      "WARNING:tensorflow:Value in checkpoint could not be found in the restored object: (root).keras_api.metrics.0.total\n"
     ]
    },
    {
     "name": "stdout",
     "output_type": "stream",
     "text": [
      "WARNING:tensorflow:Value in checkpoint could not be found in the restored object: (root).keras_api.metrics.0.count\n"
     ]
    },
    {
     "name": "stderr",
     "output_type": "stream",
     "text": [
      "WARNING:tensorflow:Value in checkpoint could not be found in the restored object: (root).keras_api.metrics.0.count\n"
     ]
    },
    {
     "name": "stdout",
     "output_type": "stream",
     "text": [
      "WARNING:tensorflow:Value in checkpoint could not be found in the restored object: (root).keras_api.metrics.1.total\n"
     ]
    },
    {
     "name": "stderr",
     "output_type": "stream",
     "text": [
      "WARNING:tensorflow:Value in checkpoint could not be found in the restored object: (root).keras_api.metrics.1.total\n"
     ]
    },
    {
     "name": "stdout",
     "output_type": "stream",
     "text": [
      "WARNING:tensorflow:Value in checkpoint could not be found in the restored object: (root).keras_api.metrics.1.count\n"
     ]
    },
    {
     "name": "stderr",
     "output_type": "stream",
     "text": [
      "WARNING:tensorflow:Value in checkpoint could not be found in the restored object: (root).keras_api.metrics.1.count\n"
     ]
    },
    {
     "name": "stdout",
     "output_type": "stream",
     "text": [
      "WARNING:tensorflow:Detecting that an object or model or tf.train.Checkpoint is being deleted with unrestored values. See the following logs for the specific values in question. To silence these warnings, use `status.expect_partial()`. See https://www.tensorflow.org/api_docs/python/tf/train/Checkpoint#restorefor details about the status object returned by the restore function.\n"
     ]
    },
    {
     "name": "stderr",
     "output_type": "stream",
     "text": [
      "WARNING:tensorflow:Detecting that an object or model or tf.train.Checkpoint is being deleted with unrestored values. See the following logs for the specific values in question. To silence these warnings, use `status.expect_partial()`. See https://www.tensorflow.org/api_docs/python/tf/train/Checkpoint#restorefor details about the status object returned by the restore function.\n"
     ]
    },
    {
     "name": "stdout",
     "output_type": "stream",
     "text": [
      "WARNING:tensorflow:Value in checkpoint could not be found in the restored object: (root).keras_api.metrics.0.total\n"
     ]
    },
    {
     "name": "stderr",
     "output_type": "stream",
     "text": [
      "WARNING:tensorflow:Value in checkpoint could not be found in the restored object: (root).keras_api.metrics.0.total\n"
     ]
    },
    {
     "name": "stdout",
     "output_type": "stream",
     "text": [
      "WARNING:tensorflow:Value in checkpoint could not be found in the restored object: (root).keras_api.metrics.0.count\n"
     ]
    },
    {
     "name": "stderr",
     "output_type": "stream",
     "text": [
      "WARNING:tensorflow:Value in checkpoint could not be found in the restored object: (root).keras_api.metrics.0.count\n"
     ]
    },
    {
     "name": "stdout",
     "output_type": "stream",
     "text": [
      "WARNING:tensorflow:Value in checkpoint could not be found in the restored object: (root).keras_api.metrics.1.total\n"
     ]
    },
    {
     "name": "stderr",
     "output_type": "stream",
     "text": [
      "WARNING:tensorflow:Value in checkpoint could not be found in the restored object: (root).keras_api.metrics.1.total\n"
     ]
    },
    {
     "name": "stdout",
     "output_type": "stream",
     "text": [
      "WARNING:tensorflow:Value in checkpoint could not be found in the restored object: (root).keras_api.metrics.1.count\n"
     ]
    },
    {
     "name": "stderr",
     "output_type": "stream",
     "text": [
      "WARNING:tensorflow:Value in checkpoint could not be found in the restored object: (root).keras_api.metrics.1.count\n"
     ]
    },
    {
     "name": "stdout",
     "output_type": "stream",
     "text": [
      "WARNING:tensorflow:Detecting that an object or model or tf.train.Checkpoint is being deleted with unrestored values. See the following logs for the specific values in question. To silence these warnings, use `status.expect_partial()`. See https://www.tensorflow.org/api_docs/python/tf/train/Checkpoint#restorefor details about the status object returned by the restore function.\n"
     ]
    },
    {
     "name": "stderr",
     "output_type": "stream",
     "text": [
      "WARNING:tensorflow:Detecting that an object or model or tf.train.Checkpoint is being deleted with unrestored values. See the following logs for the specific values in question. To silence these warnings, use `status.expect_partial()`. See https://www.tensorflow.org/api_docs/python/tf/train/Checkpoint#restorefor details about the status object returned by the restore function.\n"
     ]
    },
    {
     "name": "stdout",
     "output_type": "stream",
     "text": [
      "WARNING:tensorflow:Value in checkpoint could not be found in the restored object: (root).keras_api.metrics.0.total\n"
     ]
    },
    {
     "name": "stderr",
     "output_type": "stream",
     "text": [
      "WARNING:tensorflow:Value in checkpoint could not be found in the restored object: (root).keras_api.metrics.0.total\n"
     ]
    },
    {
     "name": "stdout",
     "output_type": "stream",
     "text": [
      "WARNING:tensorflow:Value in checkpoint could not be found in the restored object: (root).keras_api.metrics.0.count\n"
     ]
    },
    {
     "name": "stderr",
     "output_type": "stream",
     "text": [
      "WARNING:tensorflow:Value in checkpoint could not be found in the restored object: (root).keras_api.metrics.0.count\n"
     ]
    },
    {
     "name": "stdout",
     "output_type": "stream",
     "text": [
      "WARNING:tensorflow:Value in checkpoint could not be found in the restored object: (root).keras_api.metrics.1.total\n"
     ]
    },
    {
     "name": "stderr",
     "output_type": "stream",
     "text": [
      "WARNING:tensorflow:Value in checkpoint could not be found in the restored object: (root).keras_api.metrics.1.total\n"
     ]
    },
    {
     "name": "stdout",
     "output_type": "stream",
     "text": [
      "WARNING:tensorflow:Value in checkpoint could not be found in the restored object: (root).keras_api.metrics.1.count\n"
     ]
    },
    {
     "name": "stderr",
     "output_type": "stream",
     "text": [
      "WARNING:tensorflow:Value in checkpoint could not be found in the restored object: (root).keras_api.metrics.1.count\n"
     ]
    },
    {
     "name": "stdout",
     "output_type": "stream",
     "text": [
      "WARNING:tensorflow:Detecting that an object or model or tf.train.Checkpoint is being deleted with unrestored values. See the following logs for the specific values in question. To silence these warnings, use `status.expect_partial()`. See https://www.tensorflow.org/api_docs/python/tf/train/Checkpoint#restorefor details about the status object returned by the restore function.\n"
     ]
    },
    {
     "name": "stderr",
     "output_type": "stream",
     "text": [
      "WARNING:tensorflow:Detecting that an object or model or tf.train.Checkpoint is being deleted with unrestored values. See the following logs for the specific values in question. To silence these warnings, use `status.expect_partial()`. See https://www.tensorflow.org/api_docs/python/tf/train/Checkpoint#restorefor details about the status object returned by the restore function.\n"
     ]
    },
    {
     "name": "stdout",
     "output_type": "stream",
     "text": [
      "WARNING:tensorflow:Value in checkpoint could not be found in the restored object: (root).keras_api.metrics.0.total\n"
     ]
    },
    {
     "name": "stderr",
     "output_type": "stream",
     "text": [
      "WARNING:tensorflow:Value in checkpoint could not be found in the restored object: (root).keras_api.metrics.0.total\n"
     ]
    },
    {
     "name": "stdout",
     "output_type": "stream",
     "text": [
      "WARNING:tensorflow:Value in checkpoint could not be found in the restored object: (root).keras_api.metrics.0.count\n"
     ]
    },
    {
     "name": "stderr",
     "output_type": "stream",
     "text": [
      "WARNING:tensorflow:Value in checkpoint could not be found in the restored object: (root).keras_api.metrics.0.count\n"
     ]
    },
    {
     "name": "stdout",
     "output_type": "stream",
     "text": [
      "WARNING:tensorflow:Value in checkpoint could not be found in the restored object: (root).keras_api.metrics.1.total\n"
     ]
    },
    {
     "name": "stderr",
     "output_type": "stream",
     "text": [
      "WARNING:tensorflow:Value in checkpoint could not be found in the restored object: (root).keras_api.metrics.1.total\n"
     ]
    },
    {
     "name": "stdout",
     "output_type": "stream",
     "text": [
      "WARNING:tensorflow:Value in checkpoint could not be found in the restored object: (root).keras_api.metrics.1.count\n"
     ]
    },
    {
     "name": "stderr",
     "output_type": "stream",
     "text": [
      "WARNING:tensorflow:Value in checkpoint could not be found in the restored object: (root).keras_api.metrics.1.count\n"
     ]
    },
    {
     "name": "stdout",
     "output_type": "stream",
     "text": [
      "WARNING:tensorflow:Detecting that an object or model or tf.train.Checkpoint is being deleted with unrestored values. See the following logs for the specific values in question. To silence these warnings, use `status.expect_partial()`. See https://www.tensorflow.org/api_docs/python/tf/train/Checkpoint#restorefor details about the status object returned by the restore function.\n"
     ]
    },
    {
     "name": "stderr",
     "output_type": "stream",
     "text": [
      "WARNING:tensorflow:Detecting that an object or model or tf.train.Checkpoint is being deleted with unrestored values. See the following logs for the specific values in question. To silence these warnings, use `status.expect_partial()`. See https://www.tensorflow.org/api_docs/python/tf/train/Checkpoint#restorefor details about the status object returned by the restore function.\n"
     ]
    },
    {
     "name": "stdout",
     "output_type": "stream",
     "text": [
      "WARNING:tensorflow:Value in checkpoint could not be found in the restored object: (root).keras_api.metrics.0.total\n"
     ]
    },
    {
     "name": "stderr",
     "output_type": "stream",
     "text": [
      "WARNING:tensorflow:Value in checkpoint could not be found in the restored object: (root).keras_api.metrics.0.total\n"
     ]
    },
    {
     "name": "stdout",
     "output_type": "stream",
     "text": [
      "WARNING:tensorflow:Value in checkpoint could not be found in the restored object: (root).keras_api.metrics.0.count\n"
     ]
    },
    {
     "name": "stderr",
     "output_type": "stream",
     "text": [
      "WARNING:tensorflow:Value in checkpoint could not be found in the restored object: (root).keras_api.metrics.0.count\n"
     ]
    },
    {
     "name": "stdout",
     "output_type": "stream",
     "text": [
      "WARNING:tensorflow:Value in checkpoint could not be found in the restored object: (root).keras_api.metrics.1.total\n"
     ]
    },
    {
     "name": "stderr",
     "output_type": "stream",
     "text": [
      "WARNING:tensorflow:Value in checkpoint could not be found in the restored object: (root).keras_api.metrics.1.total\n"
     ]
    },
    {
     "name": "stdout",
     "output_type": "stream",
     "text": [
      "WARNING:tensorflow:Value in checkpoint could not be found in the restored object: (root).keras_api.metrics.1.count\n"
     ]
    },
    {
     "name": "stderr",
     "output_type": "stream",
     "text": [
      "WARNING:tensorflow:Value in checkpoint could not be found in the restored object: (root).keras_api.metrics.1.count\n"
     ]
    },
    {
     "name": "stdout",
     "output_type": "stream",
     "text": [
      "WARNING:tensorflow:Detecting that an object or model or tf.train.Checkpoint is being deleted with unrestored values. See the following logs for the specific values in question. To silence these warnings, use `status.expect_partial()`. See https://www.tensorflow.org/api_docs/python/tf/train/Checkpoint#restorefor details about the status object returned by the restore function.\n"
     ]
    },
    {
     "name": "stderr",
     "output_type": "stream",
     "text": [
      "WARNING:tensorflow:Detecting that an object or model or tf.train.Checkpoint is being deleted with unrestored values. See the following logs for the specific values in question. To silence these warnings, use `status.expect_partial()`. See https://www.tensorflow.org/api_docs/python/tf/train/Checkpoint#restorefor details about the status object returned by the restore function.\n"
     ]
    },
    {
     "name": "stdout",
     "output_type": "stream",
     "text": [
      "WARNING:tensorflow:Value in checkpoint could not be found in the restored object: (root).keras_api.metrics.0.total\n"
     ]
    },
    {
     "name": "stderr",
     "output_type": "stream",
     "text": [
      "WARNING:tensorflow:Value in checkpoint could not be found in the restored object: (root).keras_api.metrics.0.total\n"
     ]
    },
    {
     "name": "stdout",
     "output_type": "stream",
     "text": [
      "WARNING:tensorflow:Value in checkpoint could not be found in the restored object: (root).keras_api.metrics.0.count\n"
     ]
    },
    {
     "name": "stderr",
     "output_type": "stream",
     "text": [
      "WARNING:tensorflow:Value in checkpoint could not be found in the restored object: (root).keras_api.metrics.0.count\n"
     ]
    },
    {
     "name": "stdout",
     "output_type": "stream",
     "text": [
      "WARNING:tensorflow:Value in checkpoint could not be found in the restored object: (root).keras_api.metrics.1.total\n"
     ]
    },
    {
     "name": "stderr",
     "output_type": "stream",
     "text": [
      "WARNING:tensorflow:Value in checkpoint could not be found in the restored object: (root).keras_api.metrics.1.total\n"
     ]
    },
    {
     "name": "stdout",
     "output_type": "stream",
     "text": [
      "WARNING:tensorflow:Value in checkpoint could not be found in the restored object: (root).keras_api.metrics.1.count\n"
     ]
    },
    {
     "name": "stderr",
     "output_type": "stream",
     "text": [
      "WARNING:tensorflow:Value in checkpoint could not be found in the restored object: (root).keras_api.metrics.1.count\n"
     ]
    },
    {
     "name": "stdout",
     "output_type": "stream",
     "text": [
      "WARNING:tensorflow:Detecting that an object or model or tf.train.Checkpoint is being deleted with unrestored values. See the following logs for the specific values in question. To silence these warnings, use `status.expect_partial()`. See https://www.tensorflow.org/api_docs/python/tf/train/Checkpoint#restorefor details about the status object returned by the restore function.\n"
     ]
    },
    {
     "name": "stderr",
     "output_type": "stream",
     "text": [
      "WARNING:tensorflow:Detecting that an object or model or tf.train.Checkpoint is being deleted with unrestored values. See the following logs for the specific values in question. To silence these warnings, use `status.expect_partial()`. See https://www.tensorflow.org/api_docs/python/tf/train/Checkpoint#restorefor details about the status object returned by the restore function.\n"
     ]
    },
    {
     "name": "stdout",
     "output_type": "stream",
     "text": [
      "WARNING:tensorflow:Value in checkpoint could not be found in the restored object: (root).keras_api.metrics.0.total\n"
     ]
    },
    {
     "name": "stderr",
     "output_type": "stream",
     "text": [
      "WARNING:tensorflow:Value in checkpoint could not be found in the restored object: (root).keras_api.metrics.0.total\n"
     ]
    },
    {
     "name": "stdout",
     "output_type": "stream",
     "text": [
      "WARNING:tensorflow:Value in checkpoint could not be found in the restored object: (root).keras_api.metrics.0.count\n"
     ]
    },
    {
     "name": "stderr",
     "output_type": "stream",
     "text": [
      "WARNING:tensorflow:Value in checkpoint could not be found in the restored object: (root).keras_api.metrics.0.count\n"
     ]
    },
    {
     "name": "stdout",
     "output_type": "stream",
     "text": [
      "WARNING:tensorflow:Value in checkpoint could not be found in the restored object: (root).keras_api.metrics.1.total\n"
     ]
    },
    {
     "name": "stderr",
     "output_type": "stream",
     "text": [
      "WARNING:tensorflow:Value in checkpoint could not be found in the restored object: (root).keras_api.metrics.1.total\n"
     ]
    },
    {
     "name": "stdout",
     "output_type": "stream",
     "text": [
      "WARNING:tensorflow:Value in checkpoint could not be found in the restored object: (root).keras_api.metrics.1.count\n"
     ]
    },
    {
     "name": "stderr",
     "output_type": "stream",
     "text": [
      "WARNING:tensorflow:Value in checkpoint could not be found in the restored object: (root).keras_api.metrics.1.count\n"
     ]
    },
    {
     "name": "stdout",
     "output_type": "stream",
     "text": [
      "WARNING:tensorflow:Detecting that an object or model or tf.train.Checkpoint is being deleted with unrestored values. See the following logs for the specific values in question. To silence these warnings, use `status.expect_partial()`. See https://www.tensorflow.org/api_docs/python/tf/train/Checkpoint#restorefor details about the status object returned by the restore function.\n"
     ]
    },
    {
     "name": "stderr",
     "output_type": "stream",
     "text": [
      "WARNING:tensorflow:Detecting that an object or model or tf.train.Checkpoint is being deleted with unrestored values. See the following logs for the specific values in question. To silence these warnings, use `status.expect_partial()`. See https://www.tensorflow.org/api_docs/python/tf/train/Checkpoint#restorefor details about the status object returned by the restore function.\n"
     ]
    },
    {
     "name": "stdout",
     "output_type": "stream",
     "text": [
      "WARNING:tensorflow:Value in checkpoint could not be found in the restored object: (root).keras_api.metrics.0.total\n"
     ]
    },
    {
     "name": "stderr",
     "output_type": "stream",
     "text": [
      "WARNING:tensorflow:Value in checkpoint could not be found in the restored object: (root).keras_api.metrics.0.total\n"
     ]
    },
    {
     "name": "stdout",
     "output_type": "stream",
     "text": [
      "WARNING:tensorflow:Value in checkpoint could not be found in the restored object: (root).keras_api.metrics.0.count\n"
     ]
    },
    {
     "name": "stderr",
     "output_type": "stream",
     "text": [
      "WARNING:tensorflow:Value in checkpoint could not be found in the restored object: (root).keras_api.metrics.0.count\n"
     ]
    },
    {
     "name": "stdout",
     "output_type": "stream",
     "text": [
      "WARNING:tensorflow:Value in checkpoint could not be found in the restored object: (root).keras_api.metrics.1.total\n"
     ]
    },
    {
     "name": "stderr",
     "output_type": "stream",
     "text": [
      "WARNING:tensorflow:Value in checkpoint could not be found in the restored object: (root).keras_api.metrics.1.total\n"
     ]
    },
    {
     "name": "stdout",
     "output_type": "stream",
     "text": [
      "WARNING:tensorflow:Value in checkpoint could not be found in the restored object: (root).keras_api.metrics.1.count\n"
     ]
    },
    {
     "name": "stderr",
     "output_type": "stream",
     "text": [
      "WARNING:tensorflow:Value in checkpoint could not be found in the restored object: (root).keras_api.metrics.1.count\n"
     ]
    },
    {
     "name": "stdout",
     "output_type": "stream",
     "text": [
      "WARNING:tensorflow:Detecting that an object or model or tf.train.Checkpoint is being deleted with unrestored values. See the following logs for the specific values in question. To silence these warnings, use `status.expect_partial()`. See https://www.tensorflow.org/api_docs/python/tf/train/Checkpoint#restorefor details about the status object returned by the restore function.\n"
     ]
    },
    {
     "name": "stderr",
     "output_type": "stream",
     "text": [
      "WARNING:tensorflow:Detecting that an object or model or tf.train.Checkpoint is being deleted with unrestored values. See the following logs for the specific values in question. To silence these warnings, use `status.expect_partial()`. See https://www.tensorflow.org/api_docs/python/tf/train/Checkpoint#restorefor details about the status object returned by the restore function.\n"
     ]
    },
    {
     "name": "stdout",
     "output_type": "stream",
     "text": [
      "WARNING:tensorflow:Value in checkpoint could not be found in the restored object: (root).keras_api.metrics.0.total\n"
     ]
    },
    {
     "name": "stderr",
     "output_type": "stream",
     "text": [
      "WARNING:tensorflow:Value in checkpoint could not be found in the restored object: (root).keras_api.metrics.0.total\n"
     ]
    },
    {
     "name": "stdout",
     "output_type": "stream",
     "text": [
      "WARNING:tensorflow:Value in checkpoint could not be found in the restored object: (root).keras_api.metrics.0.count\n"
     ]
    },
    {
     "name": "stderr",
     "output_type": "stream",
     "text": [
      "WARNING:tensorflow:Value in checkpoint could not be found in the restored object: (root).keras_api.metrics.0.count\n"
     ]
    },
    {
     "name": "stdout",
     "output_type": "stream",
     "text": [
      "WARNING:tensorflow:Value in checkpoint could not be found in the restored object: (root).keras_api.metrics.1.total\n"
     ]
    },
    {
     "name": "stderr",
     "output_type": "stream",
     "text": [
      "WARNING:tensorflow:Value in checkpoint could not be found in the restored object: (root).keras_api.metrics.1.total\n"
     ]
    },
    {
     "name": "stdout",
     "output_type": "stream",
     "text": [
      "WARNING:tensorflow:Value in checkpoint could not be found in the restored object: (root).keras_api.metrics.1.count\n"
     ]
    },
    {
     "name": "stderr",
     "output_type": "stream",
     "text": [
      "WARNING:tensorflow:Value in checkpoint could not be found in the restored object: (root).keras_api.metrics.1.count\n"
     ]
    },
    {
     "name": "stdout",
     "output_type": "stream",
     "text": [
      "WARNING:tensorflow:Detecting that an object or model or tf.train.Checkpoint is being deleted with unrestored values. See the following logs for the specific values in question. To silence these warnings, use `status.expect_partial()`. See https://www.tensorflow.org/api_docs/python/tf/train/Checkpoint#restorefor details about the status object returned by the restore function.\n"
     ]
    },
    {
     "name": "stderr",
     "output_type": "stream",
     "text": [
      "WARNING:tensorflow:Detecting that an object or model or tf.train.Checkpoint is being deleted with unrestored values. See the following logs for the specific values in question. To silence these warnings, use `status.expect_partial()`. See https://www.tensorflow.org/api_docs/python/tf/train/Checkpoint#restorefor details about the status object returned by the restore function.\n"
     ]
    },
    {
     "name": "stdout",
     "output_type": "stream",
     "text": [
      "WARNING:tensorflow:Value in checkpoint could not be found in the restored object: (root).keras_api.metrics.0.total\n"
     ]
    },
    {
     "name": "stderr",
     "output_type": "stream",
     "text": [
      "WARNING:tensorflow:Value in checkpoint could not be found in the restored object: (root).keras_api.metrics.0.total\n"
     ]
    },
    {
     "name": "stdout",
     "output_type": "stream",
     "text": [
      "WARNING:tensorflow:Value in checkpoint could not be found in the restored object: (root).keras_api.metrics.0.count\n"
     ]
    },
    {
     "name": "stderr",
     "output_type": "stream",
     "text": [
      "WARNING:tensorflow:Value in checkpoint could not be found in the restored object: (root).keras_api.metrics.0.count\n"
     ]
    },
    {
     "name": "stdout",
     "output_type": "stream",
     "text": [
      "WARNING:tensorflow:Value in checkpoint could not be found in the restored object: (root).keras_api.metrics.1.total\n"
     ]
    },
    {
     "name": "stderr",
     "output_type": "stream",
     "text": [
      "WARNING:tensorflow:Value in checkpoint could not be found in the restored object: (root).keras_api.metrics.1.total\n"
     ]
    },
    {
     "name": "stdout",
     "output_type": "stream",
     "text": [
      "WARNING:tensorflow:Value in checkpoint could not be found in the restored object: (root).keras_api.metrics.1.count\n"
     ]
    },
    {
     "name": "stderr",
     "output_type": "stream",
     "text": [
      "WARNING:tensorflow:Value in checkpoint could not be found in the restored object: (root).keras_api.metrics.1.count\n"
     ]
    },
    {
     "name": "stdout",
     "output_type": "stream",
     "text": [
      "WARNING:tensorflow:Detecting that an object or model or tf.train.Checkpoint is being deleted with unrestored values. See the following logs for the specific values in question. To silence these warnings, use `status.expect_partial()`. See https://www.tensorflow.org/api_docs/python/tf/train/Checkpoint#restorefor details about the status object returned by the restore function.\n"
     ]
    },
    {
     "name": "stderr",
     "output_type": "stream",
     "text": [
      "WARNING:tensorflow:Detecting that an object or model or tf.train.Checkpoint is being deleted with unrestored values. See the following logs for the specific values in question. To silence these warnings, use `status.expect_partial()`. See https://www.tensorflow.org/api_docs/python/tf/train/Checkpoint#restorefor details about the status object returned by the restore function.\n"
     ]
    },
    {
     "name": "stdout",
     "output_type": "stream",
     "text": [
      "WARNING:tensorflow:Value in checkpoint could not be found in the restored object: (root).keras_api.metrics.0.total\n"
     ]
    },
    {
     "name": "stderr",
     "output_type": "stream",
     "text": [
      "WARNING:tensorflow:Value in checkpoint could not be found in the restored object: (root).keras_api.metrics.0.total\n"
     ]
    },
    {
     "name": "stdout",
     "output_type": "stream",
     "text": [
      "WARNING:tensorflow:Value in checkpoint could not be found in the restored object: (root).keras_api.metrics.0.count\n"
     ]
    },
    {
     "name": "stderr",
     "output_type": "stream",
     "text": [
      "WARNING:tensorflow:Value in checkpoint could not be found in the restored object: (root).keras_api.metrics.0.count\n"
     ]
    },
    {
     "name": "stdout",
     "output_type": "stream",
     "text": [
      "WARNING:tensorflow:Value in checkpoint could not be found in the restored object: (root).keras_api.metrics.1.total\n"
     ]
    },
    {
     "name": "stderr",
     "output_type": "stream",
     "text": [
      "WARNING:tensorflow:Value in checkpoint could not be found in the restored object: (root).keras_api.metrics.1.total\n"
     ]
    },
    {
     "name": "stdout",
     "output_type": "stream",
     "text": [
      "WARNING:tensorflow:Value in checkpoint could not be found in the restored object: (root).keras_api.metrics.1.count\n"
     ]
    },
    {
     "name": "stderr",
     "output_type": "stream",
     "text": [
      "WARNING:tensorflow:Value in checkpoint could not be found in the restored object: (root).keras_api.metrics.1.count\n"
     ]
    },
    {
     "name": "stdout",
     "output_type": "stream",
     "text": [
      "WARNING:tensorflow:Detecting that an object or model or tf.train.Checkpoint is being deleted with unrestored values. See the following logs for the specific values in question. To silence these warnings, use `status.expect_partial()`. See https://www.tensorflow.org/api_docs/python/tf/train/Checkpoint#restorefor details about the status object returned by the restore function.\n"
     ]
    },
    {
     "name": "stderr",
     "output_type": "stream",
     "text": [
      "WARNING:tensorflow:Detecting that an object or model or tf.train.Checkpoint is being deleted with unrestored values. See the following logs for the specific values in question. To silence these warnings, use `status.expect_partial()`. See https://www.tensorflow.org/api_docs/python/tf/train/Checkpoint#restorefor details about the status object returned by the restore function.\n"
     ]
    },
    {
     "name": "stdout",
     "output_type": "stream",
     "text": [
      "WARNING:tensorflow:Value in checkpoint could not be found in the restored object: (root).keras_api.metrics.0.total\n"
     ]
    },
    {
     "name": "stderr",
     "output_type": "stream",
     "text": [
      "WARNING:tensorflow:Value in checkpoint could not be found in the restored object: (root).keras_api.metrics.0.total\n"
     ]
    },
    {
     "name": "stdout",
     "output_type": "stream",
     "text": [
      "WARNING:tensorflow:Value in checkpoint could not be found in the restored object: (root).keras_api.metrics.0.count\n"
     ]
    },
    {
     "name": "stderr",
     "output_type": "stream",
     "text": [
      "WARNING:tensorflow:Value in checkpoint could not be found in the restored object: (root).keras_api.metrics.0.count\n"
     ]
    },
    {
     "name": "stdout",
     "output_type": "stream",
     "text": [
      "WARNING:tensorflow:Value in checkpoint could not be found in the restored object: (root).keras_api.metrics.1.total\n"
     ]
    },
    {
     "name": "stderr",
     "output_type": "stream",
     "text": [
      "WARNING:tensorflow:Value in checkpoint could not be found in the restored object: (root).keras_api.metrics.1.total\n"
     ]
    },
    {
     "name": "stdout",
     "output_type": "stream",
     "text": [
      "WARNING:tensorflow:Value in checkpoint could not be found in the restored object: (root).keras_api.metrics.1.count\n"
     ]
    },
    {
     "name": "stderr",
     "output_type": "stream",
     "text": [
      "WARNING:tensorflow:Value in checkpoint could not be found in the restored object: (root).keras_api.metrics.1.count\n"
     ]
    },
    {
     "name": "stdout",
     "output_type": "stream",
     "text": [
      "WARNING:tensorflow:Detecting that an object or model or tf.train.Checkpoint is being deleted with unrestored values. See the following logs for the specific values in question. To silence these warnings, use `status.expect_partial()`. See https://www.tensorflow.org/api_docs/python/tf/train/Checkpoint#restorefor details about the status object returned by the restore function.\n"
     ]
    },
    {
     "name": "stderr",
     "output_type": "stream",
     "text": [
      "WARNING:tensorflow:Detecting that an object or model or tf.train.Checkpoint is being deleted with unrestored values. See the following logs for the specific values in question. To silence these warnings, use `status.expect_partial()`. See https://www.tensorflow.org/api_docs/python/tf/train/Checkpoint#restorefor details about the status object returned by the restore function.\n"
     ]
    },
    {
     "name": "stdout",
     "output_type": "stream",
     "text": [
      "WARNING:tensorflow:Value in checkpoint could not be found in the restored object: (root).keras_api.metrics.0.total\n"
     ]
    },
    {
     "name": "stderr",
     "output_type": "stream",
     "text": [
      "WARNING:tensorflow:Value in checkpoint could not be found in the restored object: (root).keras_api.metrics.0.total\n"
     ]
    },
    {
     "name": "stdout",
     "output_type": "stream",
     "text": [
      "WARNING:tensorflow:Value in checkpoint could not be found in the restored object: (root).keras_api.metrics.0.count\n"
     ]
    },
    {
     "name": "stderr",
     "output_type": "stream",
     "text": [
      "WARNING:tensorflow:Value in checkpoint could not be found in the restored object: (root).keras_api.metrics.0.count\n"
     ]
    },
    {
     "name": "stdout",
     "output_type": "stream",
     "text": [
      "WARNING:tensorflow:Value in checkpoint could not be found in the restored object: (root).keras_api.metrics.1.total\n"
     ]
    },
    {
     "name": "stderr",
     "output_type": "stream",
     "text": [
      "WARNING:tensorflow:Value in checkpoint could not be found in the restored object: (root).keras_api.metrics.1.total\n"
     ]
    },
    {
     "name": "stdout",
     "output_type": "stream",
     "text": [
      "WARNING:tensorflow:Value in checkpoint could not be found in the restored object: (root).keras_api.metrics.1.count\n"
     ]
    },
    {
     "name": "stderr",
     "output_type": "stream",
     "text": [
      "WARNING:tensorflow:Value in checkpoint could not be found in the restored object: (root).keras_api.metrics.1.count\n"
     ]
    },
    {
     "name": "stdout",
     "output_type": "stream",
     "text": [
      "WARNING:tensorflow:Detecting that an object or model or tf.train.Checkpoint is being deleted with unrestored values. See the following logs for the specific values in question. To silence these warnings, use `status.expect_partial()`. See https://www.tensorflow.org/api_docs/python/tf/train/Checkpoint#restorefor details about the status object returned by the restore function.\n"
     ]
    },
    {
     "name": "stderr",
     "output_type": "stream",
     "text": [
      "WARNING:tensorflow:Detecting that an object or model or tf.train.Checkpoint is being deleted with unrestored values. See the following logs for the specific values in question. To silence these warnings, use `status.expect_partial()`. See https://www.tensorflow.org/api_docs/python/tf/train/Checkpoint#restorefor details about the status object returned by the restore function.\n"
     ]
    },
    {
     "name": "stdout",
     "output_type": "stream",
     "text": [
      "WARNING:tensorflow:Value in checkpoint could not be found in the restored object: (root).keras_api.metrics.0.total\n"
     ]
    },
    {
     "name": "stderr",
     "output_type": "stream",
     "text": [
      "WARNING:tensorflow:Value in checkpoint could not be found in the restored object: (root).keras_api.metrics.0.total\n"
     ]
    },
    {
     "name": "stdout",
     "output_type": "stream",
     "text": [
      "WARNING:tensorflow:Value in checkpoint could not be found in the restored object: (root).keras_api.metrics.0.count\n"
     ]
    },
    {
     "name": "stderr",
     "output_type": "stream",
     "text": [
      "WARNING:tensorflow:Value in checkpoint could not be found in the restored object: (root).keras_api.metrics.0.count\n"
     ]
    },
    {
     "name": "stdout",
     "output_type": "stream",
     "text": [
      "WARNING:tensorflow:Value in checkpoint could not be found in the restored object: (root).keras_api.metrics.1.total\n"
     ]
    },
    {
     "name": "stderr",
     "output_type": "stream",
     "text": [
      "WARNING:tensorflow:Value in checkpoint could not be found in the restored object: (root).keras_api.metrics.1.total\n"
     ]
    },
    {
     "name": "stdout",
     "output_type": "stream",
     "text": [
      "WARNING:tensorflow:Value in checkpoint could not be found in the restored object: (root).keras_api.metrics.1.count\n"
     ]
    },
    {
     "name": "stderr",
     "output_type": "stream",
     "text": [
      "WARNING:tensorflow:Value in checkpoint could not be found in the restored object: (root).keras_api.metrics.1.count\n"
     ]
    },
    {
     "name": "stdout",
     "output_type": "stream",
     "text": [
      "WARNING:tensorflow:Detecting that an object or model or tf.train.Checkpoint is being deleted with unrestored values. See the following logs for the specific values in question. To silence these warnings, use `status.expect_partial()`. See https://www.tensorflow.org/api_docs/python/tf/train/Checkpoint#restorefor details about the status object returned by the restore function.\n"
     ]
    },
    {
     "name": "stderr",
     "output_type": "stream",
     "text": [
      "WARNING:tensorflow:Detecting that an object or model or tf.train.Checkpoint is being deleted with unrestored values. See the following logs for the specific values in question. To silence these warnings, use `status.expect_partial()`. See https://www.tensorflow.org/api_docs/python/tf/train/Checkpoint#restorefor details about the status object returned by the restore function.\n"
     ]
    },
    {
     "name": "stdout",
     "output_type": "stream",
     "text": [
      "WARNING:tensorflow:Value in checkpoint could not be found in the restored object: (root).keras_api.metrics.0.total\n"
     ]
    },
    {
     "name": "stderr",
     "output_type": "stream",
     "text": [
      "WARNING:tensorflow:Value in checkpoint could not be found in the restored object: (root).keras_api.metrics.0.total\n"
     ]
    },
    {
     "name": "stdout",
     "output_type": "stream",
     "text": [
      "WARNING:tensorflow:Value in checkpoint could not be found in the restored object: (root).keras_api.metrics.0.count\n"
     ]
    },
    {
     "name": "stderr",
     "output_type": "stream",
     "text": [
      "WARNING:tensorflow:Value in checkpoint could not be found in the restored object: (root).keras_api.metrics.0.count\n"
     ]
    },
    {
     "name": "stdout",
     "output_type": "stream",
     "text": [
      "WARNING:tensorflow:Value in checkpoint could not be found in the restored object: (root).keras_api.metrics.1.total\n"
     ]
    },
    {
     "name": "stderr",
     "output_type": "stream",
     "text": [
      "WARNING:tensorflow:Value in checkpoint could not be found in the restored object: (root).keras_api.metrics.1.total\n"
     ]
    },
    {
     "name": "stdout",
     "output_type": "stream",
     "text": [
      "WARNING:tensorflow:Value in checkpoint could not be found in the restored object: (root).keras_api.metrics.1.count\n"
     ]
    },
    {
     "name": "stderr",
     "output_type": "stream",
     "text": [
      "WARNING:tensorflow:Value in checkpoint could not be found in the restored object: (root).keras_api.metrics.1.count\n"
     ]
    },
    {
     "name": "stdout",
     "output_type": "stream",
     "text": [
      "WARNING:tensorflow:Detecting that an object or model or tf.train.Checkpoint is being deleted with unrestored values. See the following logs for the specific values in question. To silence these warnings, use `status.expect_partial()`. See https://www.tensorflow.org/api_docs/python/tf/train/Checkpoint#restorefor details about the status object returned by the restore function.\n"
     ]
    },
    {
     "name": "stderr",
     "output_type": "stream",
     "text": [
      "WARNING:tensorflow:Detecting that an object or model or tf.train.Checkpoint is being deleted with unrestored values. See the following logs for the specific values in question. To silence these warnings, use `status.expect_partial()`. See https://www.tensorflow.org/api_docs/python/tf/train/Checkpoint#restorefor details about the status object returned by the restore function.\n"
     ]
    },
    {
     "name": "stdout",
     "output_type": "stream",
     "text": [
      "WARNING:tensorflow:Value in checkpoint could not be found in the restored object: (root).keras_api.metrics.0.total\n"
     ]
    },
    {
     "name": "stderr",
     "output_type": "stream",
     "text": [
      "WARNING:tensorflow:Value in checkpoint could not be found in the restored object: (root).keras_api.metrics.0.total\n"
     ]
    },
    {
     "name": "stdout",
     "output_type": "stream",
     "text": [
      "WARNING:tensorflow:Value in checkpoint could not be found in the restored object: (root).keras_api.metrics.0.count\n"
     ]
    },
    {
     "name": "stderr",
     "output_type": "stream",
     "text": [
      "WARNING:tensorflow:Value in checkpoint could not be found in the restored object: (root).keras_api.metrics.0.count\n"
     ]
    },
    {
     "name": "stdout",
     "output_type": "stream",
     "text": [
      "WARNING:tensorflow:Value in checkpoint could not be found in the restored object: (root).keras_api.metrics.1.total\n"
     ]
    },
    {
     "name": "stderr",
     "output_type": "stream",
     "text": [
      "WARNING:tensorflow:Value in checkpoint could not be found in the restored object: (root).keras_api.metrics.1.total\n"
     ]
    },
    {
     "name": "stdout",
     "output_type": "stream",
     "text": [
      "WARNING:tensorflow:Value in checkpoint could not be found in the restored object: (root).keras_api.metrics.1.count\n"
     ]
    },
    {
     "name": "stderr",
     "output_type": "stream",
     "text": [
      "WARNING:tensorflow:Value in checkpoint could not be found in the restored object: (root).keras_api.metrics.1.count\n"
     ]
    },
    {
     "name": "stdout",
     "output_type": "stream",
     "text": [
      "WARNING:tensorflow:Detecting that an object or model or tf.train.Checkpoint is being deleted with unrestored values. See the following logs for the specific values in question. To silence these warnings, use `status.expect_partial()`. See https://www.tensorflow.org/api_docs/python/tf/train/Checkpoint#restorefor details about the status object returned by the restore function.\n"
     ]
    },
    {
     "name": "stderr",
     "output_type": "stream",
     "text": [
      "WARNING:tensorflow:Detecting that an object or model or tf.train.Checkpoint is being deleted with unrestored values. See the following logs for the specific values in question. To silence these warnings, use `status.expect_partial()`. See https://www.tensorflow.org/api_docs/python/tf/train/Checkpoint#restorefor details about the status object returned by the restore function.\n"
     ]
    },
    {
     "name": "stdout",
     "output_type": "stream",
     "text": [
      "WARNING:tensorflow:Value in checkpoint could not be found in the restored object: (root).keras_api.metrics.0.total\n"
     ]
    },
    {
     "name": "stderr",
     "output_type": "stream",
     "text": [
      "WARNING:tensorflow:Value in checkpoint could not be found in the restored object: (root).keras_api.metrics.0.total\n"
     ]
    },
    {
     "name": "stdout",
     "output_type": "stream",
     "text": [
      "WARNING:tensorflow:Value in checkpoint could not be found in the restored object: (root).keras_api.metrics.0.count\n"
     ]
    },
    {
     "name": "stderr",
     "output_type": "stream",
     "text": [
      "WARNING:tensorflow:Value in checkpoint could not be found in the restored object: (root).keras_api.metrics.0.count\n"
     ]
    },
    {
     "name": "stdout",
     "output_type": "stream",
     "text": [
      "WARNING:tensorflow:Value in checkpoint could not be found in the restored object: (root).keras_api.metrics.1.total\n"
     ]
    },
    {
     "name": "stderr",
     "output_type": "stream",
     "text": [
      "WARNING:tensorflow:Value in checkpoint could not be found in the restored object: (root).keras_api.metrics.1.total\n"
     ]
    },
    {
     "name": "stdout",
     "output_type": "stream",
     "text": [
      "WARNING:tensorflow:Value in checkpoint could not be found in the restored object: (root).keras_api.metrics.1.count\n"
     ]
    },
    {
     "name": "stderr",
     "output_type": "stream",
     "text": [
      "WARNING:tensorflow:Value in checkpoint could not be found in the restored object: (root).keras_api.metrics.1.count\n"
     ]
    },
    {
     "name": "stdout",
     "output_type": "stream",
     "text": [
      "WARNING:tensorflow:Detecting that an object or model or tf.train.Checkpoint is being deleted with unrestored values. See the following logs for the specific values in question. To silence these warnings, use `status.expect_partial()`. See https://www.tensorflow.org/api_docs/python/tf/train/Checkpoint#restorefor details about the status object returned by the restore function.\n"
     ]
    },
    {
     "name": "stderr",
     "output_type": "stream",
     "text": [
      "WARNING:tensorflow:Detecting that an object or model or tf.train.Checkpoint is being deleted with unrestored values. See the following logs for the specific values in question. To silence these warnings, use `status.expect_partial()`. See https://www.tensorflow.org/api_docs/python/tf/train/Checkpoint#restorefor details about the status object returned by the restore function.\n"
     ]
    },
    {
     "name": "stdout",
     "output_type": "stream",
     "text": [
      "WARNING:tensorflow:Value in checkpoint could not be found in the restored object: (root).keras_api.metrics.0.total\n"
     ]
    },
    {
     "name": "stderr",
     "output_type": "stream",
     "text": [
      "WARNING:tensorflow:Value in checkpoint could not be found in the restored object: (root).keras_api.metrics.0.total\n"
     ]
    },
    {
     "name": "stdout",
     "output_type": "stream",
     "text": [
      "WARNING:tensorflow:Value in checkpoint could not be found in the restored object: (root).keras_api.metrics.0.count\n"
     ]
    },
    {
     "name": "stderr",
     "output_type": "stream",
     "text": [
      "WARNING:tensorflow:Value in checkpoint could not be found in the restored object: (root).keras_api.metrics.0.count\n"
     ]
    },
    {
     "name": "stdout",
     "output_type": "stream",
     "text": [
      "WARNING:tensorflow:Value in checkpoint could not be found in the restored object: (root).keras_api.metrics.1.total\n"
     ]
    },
    {
     "name": "stderr",
     "output_type": "stream",
     "text": [
      "WARNING:tensorflow:Value in checkpoint could not be found in the restored object: (root).keras_api.metrics.1.total\n"
     ]
    },
    {
     "name": "stdout",
     "output_type": "stream",
     "text": [
      "WARNING:tensorflow:Value in checkpoint could not be found in the restored object: (root).keras_api.metrics.1.count\n"
     ]
    },
    {
     "name": "stderr",
     "output_type": "stream",
     "text": [
      "WARNING:tensorflow:Value in checkpoint could not be found in the restored object: (root).keras_api.metrics.1.count\n"
     ]
    },
    {
     "name": "stdout",
     "output_type": "stream",
     "text": [
      "WARNING:tensorflow:Detecting that an object or model or tf.train.Checkpoint is being deleted with unrestored values. See the following logs for the specific values in question. To silence these warnings, use `status.expect_partial()`. See https://www.tensorflow.org/api_docs/python/tf/train/Checkpoint#restorefor details about the status object returned by the restore function.\n"
     ]
    },
    {
     "name": "stderr",
     "output_type": "stream",
     "text": [
      "WARNING:tensorflow:Detecting that an object or model or tf.train.Checkpoint is being deleted with unrestored values. See the following logs for the specific values in question. To silence these warnings, use `status.expect_partial()`. See https://www.tensorflow.org/api_docs/python/tf/train/Checkpoint#restorefor details about the status object returned by the restore function.\n"
     ]
    },
    {
     "name": "stdout",
     "output_type": "stream",
     "text": [
      "WARNING:tensorflow:Value in checkpoint could not be found in the restored object: (root).keras_api.metrics.0.total\n"
     ]
    },
    {
     "name": "stderr",
     "output_type": "stream",
     "text": [
      "WARNING:tensorflow:Value in checkpoint could not be found in the restored object: (root).keras_api.metrics.0.total\n"
     ]
    },
    {
     "name": "stdout",
     "output_type": "stream",
     "text": [
      "WARNING:tensorflow:Value in checkpoint could not be found in the restored object: (root).keras_api.metrics.0.count\n"
     ]
    },
    {
     "name": "stderr",
     "output_type": "stream",
     "text": [
      "WARNING:tensorflow:Value in checkpoint could not be found in the restored object: (root).keras_api.metrics.0.count\n"
     ]
    },
    {
     "name": "stdout",
     "output_type": "stream",
     "text": [
      "WARNING:tensorflow:Value in checkpoint could not be found in the restored object: (root).keras_api.metrics.1.total\n"
     ]
    },
    {
     "name": "stderr",
     "output_type": "stream",
     "text": [
      "WARNING:tensorflow:Value in checkpoint could not be found in the restored object: (root).keras_api.metrics.1.total\n"
     ]
    },
    {
     "name": "stdout",
     "output_type": "stream",
     "text": [
      "WARNING:tensorflow:Value in checkpoint could not be found in the restored object: (root).keras_api.metrics.1.count\n"
     ]
    },
    {
     "name": "stderr",
     "output_type": "stream",
     "text": [
      "WARNING:tensorflow:Value in checkpoint could not be found in the restored object: (root).keras_api.metrics.1.count\n"
     ]
    },
    {
     "name": "stdout",
     "output_type": "stream",
     "text": [
      "INFO:tensorflow:Assets written to: C:\\Users\\RAJESH\\AppData\\Local\\Temp\\tmpph0283j_\\assets\n"
     ]
    },
    {
     "name": "stderr",
     "output_type": "stream",
     "text": [
      "INFO:tensorflow:Assets written to: C:\\Users\\RAJESH\\AppData\\Local\\Temp\\tmpph0283j_\\assets\n"
     ]
    },
    {
     "name": "stdout",
     "output_type": "stream",
     "text": [
      "INFO:tensorflow:Assets written to: C:\\Users\\RAJESH\\AppData\\Local\\Temp\\tmpn7r8iri5\\assets\n"
     ]
    },
    {
     "name": "stderr",
     "output_type": "stream",
     "text": [
      "INFO:tensorflow:Assets written to: C:\\Users\\RAJESH\\AppData\\Local\\Temp\\tmpn7r8iri5\\assets\n"
     ]
    },
    {
     "name": "stdout",
     "output_type": "stream",
     "text": [
      "INFO:tensorflow:Assets written to: C:\\Users\\RAJESH\\AppData\\Local\\Temp\\tmpo_3uls8j\\assets\n"
     ]
    },
    {
     "name": "stderr",
     "output_type": "stream",
     "text": [
      "INFO:tensorflow:Assets written to: C:\\Users\\RAJESH\\AppData\\Local\\Temp\\tmpo_3uls8j\\assets\n"
     ]
    },
    {
     "name": "stdout",
     "output_type": "stream",
     "text": [
      "INFO:tensorflow:Assets written to: C:\\Users\\RAJESH\\AppData\\Local\\Temp\\tmp4t4box0d\\assets\n"
     ]
    },
    {
     "name": "stderr",
     "output_type": "stream",
     "text": [
      "INFO:tensorflow:Assets written to: C:\\Users\\RAJESH\\AppData\\Local\\Temp\\tmp4t4box0d\\assets\n"
     ]
    },
    {
     "name": "stdout",
     "output_type": "stream",
     "text": [
      "INFO:tensorflow:Assets written to: C:\\Users\\RAJESH\\AppData\\Local\\Temp\\tmpi9kibq1l\\assets\n"
     ]
    },
    {
     "name": "stderr",
     "output_type": "stream",
     "text": [
      "INFO:tensorflow:Assets written to: C:\\Users\\RAJESH\\AppData\\Local\\Temp\\tmpi9kibq1l\\assets\n"
     ]
    },
    {
     "name": "stdout",
     "output_type": "stream",
     "text": [
      "INFO:tensorflow:Assets written to: C:\\Users\\RAJESH\\AppData\\Local\\Temp\\tmp7lr6x094\\assets\n"
     ]
    },
    {
     "name": "stderr",
     "output_type": "stream",
     "text": [
      "INFO:tensorflow:Assets written to: C:\\Users\\RAJESH\\AppData\\Local\\Temp\\tmp7lr6x094\\assets\n"
     ]
    },
    {
     "name": "stdout",
     "output_type": "stream",
     "text": [
      "INFO:tensorflow:Assets written to: C:\\Users\\RAJESH\\AppData\\Local\\Temp\\tmpx85fbcb4\\assets\n"
     ]
    },
    {
     "name": "stderr",
     "output_type": "stream",
     "text": [
      "INFO:tensorflow:Assets written to: C:\\Users\\RAJESH\\AppData\\Local\\Temp\\tmpx85fbcb4\\assets\n"
     ]
    },
    {
     "name": "stdout",
     "output_type": "stream",
     "text": [
      "INFO:tensorflow:Assets written to: C:\\Users\\RAJESH\\AppData\\Local\\Temp\\tmp06wy821x\\assets\n"
     ]
    },
    {
     "name": "stderr",
     "output_type": "stream",
     "text": [
      "INFO:tensorflow:Assets written to: C:\\Users\\RAJESH\\AppData\\Local\\Temp\\tmp06wy821x\\assets\n"
     ]
    },
    {
     "name": "stdout",
     "output_type": "stream",
     "text": [
      "INFO:tensorflow:Assets written to: C:\\Users\\RAJESH\\AppData\\Local\\Temp\\tmp7fl2osc8\\assets\n"
     ]
    },
    {
     "name": "stderr",
     "output_type": "stream",
     "text": [
      "INFO:tensorflow:Assets written to: C:\\Users\\RAJESH\\AppData\\Local\\Temp\\tmp7fl2osc8\\assets\n"
     ]
    },
    {
     "name": "stdout",
     "output_type": "stream",
     "text": [
      "INFO:tensorflow:Assets written to: C:\\Users\\RAJESH\\AppData\\Local\\Temp\\tmpsumqg5hi\\assets\n"
     ]
    },
    {
     "name": "stderr",
     "output_type": "stream",
     "text": [
      "INFO:tensorflow:Assets written to: C:\\Users\\RAJESH\\AppData\\Local\\Temp\\tmpsumqg5hi\\assets\n"
     ]
    },
    {
     "name": "stdout",
     "output_type": "stream",
     "text": [
      "INFO:tensorflow:Assets written to: C:\\Users\\RAJESH\\AppData\\Local\\Temp\\tmpm7qq42et\\assets\n"
     ]
    },
    {
     "name": "stderr",
     "output_type": "stream",
     "text": [
      "INFO:tensorflow:Assets written to: C:\\Users\\RAJESH\\AppData\\Local\\Temp\\tmpm7qq42et\\assets\n"
     ]
    },
    {
     "name": "stdout",
     "output_type": "stream",
     "text": [
      "cross val score :  [0.9375     0.75       0.6875     0.625      0.75       0.75\n",
      " 0.8125     0.6875     0.5625     0.75       0.75       0.75\n",
      " 0.8125     0.6875     0.8        0.73333333 0.93333333 0.66666667\n",
      " 0.8        0.66666667 0.73333333 0.73333333 0.86666667 0.8\n",
      " 0.86666667 0.8        0.8        0.93333333 0.8        0.8\n",
      " 1.         0.93333333 0.8        0.86666667 0.86666667 0.8\n",
      " 0.66666667 0.8        0.73333333 0.53333333]\n",
      "accuracy :  0.7785016298294067\n"
     ]
    }
   ],
   "source": [
    "# cross validation on test set : \n",
    "print(\"ON TEST SET : \\n\")\n",
    "kfolds = StratifiedKFold(n_splits=40, shuffle=True, random_state=1)\n",
    "score_test = cross_val_score(model_skill, xtest, ytest, cv = kfolds, scoring = 'accuracy')\n",
    "_, accuracy_test = loaded_model.evaluate(xtest, ytest)\n",
    "print(\"cross val score : \", score_test.mean())\n",
    "print(\"accuracy : \", accuracy_test)\n",
    "      \n",
    "# cros validation on train set :\n",
    "print(\"ON TRAIN SET : \\n\")\n",
    "kfolds = StratifiedKFold(n_splits=40, shuffle=True, random_state=1)\n",
    "score_train = cross_val_score(model_skill, xtrain, ytrain, cv = kfolds, scoring = 'accuracy')\n",
    "_, accuracy_train = loaded_model.evaluate(xtrain, ytrain)\n",
    "print(\"cross val score : \", score_train.mean())\n",
    "print(\"accuracy : \", accuracy_train)\n",
    "      \n",
    "# NOTE : use test set to cross validate. i have shown cross validation on train set just for example"
   ]
  },
  {
   "cell_type": "code",
   "execution_count": 34,
   "metadata": {},
   "outputs": [
    {
     "name": "stdout",
     "output_type": "stream",
     "text": [
      "ON TEST SET : \n",
      "\n",
      "cross val score :  0.825\n",
      "accuracy :  0.8246753215789795\n",
      "\n",
      "ON TRAIN SET : \n",
      "\n",
      "cross val score :  0.7761458333333333\n",
      "accuracy :  0.7785016298294067\n"
     ]
    }
   ],
   "source": [
    "print(\"ON TEST SET : \\n\")\n",
    "print(\"cross val score : \", score_test.mean())\n",
    "print(\"accuracy : \", accuracy_test)\n",
    "\n",
    "print(\"\\nON TRAIN SET : \\n\")\n",
    "print(\"cross val score : \", score_train.mean())\n",
    "print(\"accuracy : \", accuracy_train)"
   ]
  },
  {
   "cell_type": "markdown",
   "metadata": {},
   "source": [
    "## learning curves to evaluate model performance : "
   ]
  },
  {
   "cell_type": "markdown",
   "metadata": {},
   "source": [
    "underfit learning curves "
   ]
  },
  {
   "cell_type": "code",
   "execution_count": 18,
   "metadata": {},
   "outputs": [
    {
     "name": "stdout",
     "output_type": "stream",
     "text": [
      "INFO:tensorflow:Assets written to: C:\\Users\\RAJESH\\AppData\\Local\\Temp\\tmps0zkv_ak\\assets\n"
     ]
    },
    {
     "name": "stderr",
     "output_type": "stream",
     "text": [
      "INFO:tensorflow:Assets written to: C:\\Users\\RAJESH\\AppData\\Local\\Temp\\tmps0zkv_ak\\assets\n"
     ]
    }
   ],
   "source": [
    "# underfit model\n",
    "# model = Sequential()\n",
    "# model.add(Dense(8, input_shape = (8,),activation='relu'))\n",
    "# model.add(Dense(1, activation='sigmoid'))\n",
    "# model.compile(optimizer='adam', loss = 'hinge', metrics = 'accuracy')\n",
    "# hist = model.fit(xtrain, ytrain, epochs=100, batch_size = 50, validation_data = (xtest, ytest))\n",
    "# model.save('./learning_curves/underfit/underfit_model.keras') #saving the model\n",
    "# with open('./learning_curves/overfit/model_history', 'wb') as f:\n",
    "#     pickle.dump(hist, f)"
   ]
  },
  {
   "cell_type": "code",
   "execution_count": 19,
   "metadata": {},
   "outputs": [],
   "source": [
    "# loading the model\n",
    "underfit_model = load_model('./learning_curves/underfit/underfit_model.keras')\n",
    "# loading training history\n",
    "with open('./learning_curves/underfit/model_history', 'rb') as f:\n",
    "    underfit_hist = pickle.load(f) "
   ]
  },
  {
   "cell_type": "code",
   "execution_count": 22,
   "metadata": {},
   "outputs": [
    {
     "data": {
      "text/plain": [
       "dict_keys(['loss', 'accuracy', 'val_loss', 'val_accuracy'])"
      ]
     },
     "execution_count": 22,
     "metadata": {},
     "output_type": "execute_result"
    }
   ],
   "source": [
    "underfit_hist.history.keys()"
   ]
  },
  {
   "cell_type": "code",
   "execution_count": 25,
   "metadata": {},
   "outputs": [
    {
     "data": {
      "image/png": "[encoded data removed]",
      "text/plain": [
       "<Figure size 1600x700 with 2 Axes>"
      ]
     },
     "metadata": {},
     "output_type": "display_data"
    }
   ],
   "source": [
    "fig, ax = plt.subplots(nrows = 1, ncols = 2, figsize = (16, 7))\n",
    "ax[0].plot(underfit_hist.history['loss'], label = 'training loss')\n",
    "ax[0].plot(underfit_hist.history['val_loss'], label = 'validation loss')\n",
    "ax[1].plot(underfit_hist.history['accuracy'], label = 'training accuracy')\n",
    "ax[1].plot(underfit_hist.history['val_accuracy'], label = 'validation accuracy')\n",
    "ax[0].legend()\n",
    "ax[1].legend()\n",
    "plt.show()"
   ]
  },
  {
   "attachments": {
    "Example-of-Training-Learning-Curve-Showing-An-Underfit-Model-That-Does-Not-Have-Sufficient-Capacity.webp": {
     "image/webp": "[encoded data removed]"
    }
   },
   "cell_type": "markdown",
   "metadata": {},
   "source": [
    "finding underfit curves : \n",
    " \n",
    "* when the traning loss curve keeps decreasing till the end of the graph, then it means that there is still room for improvement(for refrence : see above graph)\n",
    "* when the training loss remains flat regardless of training.(for refrence : see below graph)\n",
    "![Example-of-Training-Learning-Curve-Showing-An-Underfit-Model-That-Does-Not-Have-Sufficient-Capacity.webp](attachment:Example-of-Training-Learning-Curve-Showing-An-Underfit-Model-That-Does-Not-Have-Sufficient-Capacity.webp)\n"
   ]
  },
  {
   "cell_type": "markdown",
   "metadata": {},
   "source": [
    "overfit learning curves"
   ]
  },
  {
   "cell_type": "code",
   "execution_count": 37,
   "metadata": {},
   "outputs": [
    {
     "name": "stdout",
     "output_type": "stream",
     "text": [
      "INFO:tensorflow:Assets written to: C:\\Users\\RAJESH\\AppData\\Local\\Temp\\tmp9mnw6x_6\\assets\n"
     ]
    },
    {
     "name": "stderr",
     "output_type": "stream",
     "text": [
      "INFO:tensorflow:Assets written to: C:\\Users\\RAJESH\\AppData\\Local\\Temp\\tmp9mnw6x_6\\assets\n"
     ]
    }
   ],
   "source": [
    "# overfitting model\n",
    "# model = Sequential()\n",
    "# model.add(Dense(8, input_shape = (8,), activation='relu'))\n",
    "# model.add(Dense(16, activation='relu'))\n",
    "# model.add(Dense(32, activation='relu'))\n",
    "# model.add(Dense(64, activation='relu'))\n",
    "# model.add(Dense(32, activation='relu'))\n",
    "# model.add(Dense(16, activation='relu'))\n",
    "# model.add(Dense(1, activation='sigmoid'))\n",
    "# model.compile(optimizer = 'SGD', loss = 'binary_crossentropy', metrics ='accuracy')\n",
    "# history = model.fit(xtrain, ytrain, epochs = 450, batch_size = 150, validation_data = (xtest, ytest))\n",
    "\n",
    "# model.save('./learning_curves/overfit/overfit_model.keras')\n",
    "# with open('./learning_curves/overfit/model_history', 'wb') as f:\n",
    "#     pickle.dump(history, f)"
   ]
  },
  {
   "cell_type": "code",
   "execution_count": 38,
   "metadata": {},
   "outputs": [],
   "source": [
    "# loading the model\n",
    "overfit_model = load_model('./learning_curves/overfit/overfit_model.keras')\n",
    "# loading history\n",
    "with open('./learning_curves/overfit/model_history', 'rb') as f:\n",
    "    overfit_hist = pickle.load(f)"
   ]
  },
  {
   "cell_type": "code",
   "execution_count": 32,
   "metadata": {},
   "outputs": [
    {
     "data": {
      "text/plain": [
       "dict_keys(['loss', 'accuracy', 'val_loss', 'val_accuracy'])"
      ]
     },
     "execution_count": 32,
     "metadata": {},
     "output_type": "execute_result"
    }
   ],
   "source": [
    "overfit_hist.history.keys()"
   ]
  },
  {
   "cell_type": "code",
   "execution_count": 39,
   "metadata": {},
   "outputs": [
    {
     "data": {
      "image/png": "[encoded data removed]",
      "text/plain": [
       "<Figure size 1600x700 with 2 Axes>"
      ]
     },
     "metadata": {},
     "output_type": "display_data"
    }
   ],
   "source": [
    "fig, ax = plt.subplots(nrows = 1, ncols = 2, figsize = (16, 7))\n",
    "ax[0].plot(overfit_hist.history['loss'], label = 'training loss')\n",
    "ax[0].plot(overfit_hist.history['val_loss'], label = 'validation loss')\n",
    "ax[1].plot(overfit_hist.history['accuracy'], label = 'training accuracy')\n",
    "ax[1].plot(overfit_hist.history['val_accuracy'], label = 'validation accuracy')\n",
    "ax[0].legend()\n",
    "ax[1].legend()\n",
    "plt.show()"
   ]
  },
  {
   "cell_type": "markdown",
   "metadata": {},
   "source": [
    "finding overfit curves : \n",
    "* training loss continues to decrease where as the validation loss starts to increase again(for refrence : see above graph)"
   ]
  },
  {
   "attachments": {
    "Example-of-Train-and-Validation-Learning-Curves-Showing-A-Good-Fit.webp": {
     "image/webp": "[encoded data removed]"
    }
   },
   "cell_type": "markdown",
   "metadata": {},
   "source": [
    "good fit learning curves \n",
    "\n",
    "\n",
    "finding good fit curves : \n",
    "* training loss decreases to a point of stability\n",
    "* validation loss decreases to a point of stability and the gap between training and validation loss is very small(for refrence : see below graph)\n",
    "\n",
    "![Example-of-Train-and-Validation-Learning-Curves-Showing-A-Good-Fit.webp](attachment:Example-of-Train-and-Validation-Learning-Curves-Showing-A-Good-Fit.webp)"
   ]
  },
  {
   "attachments": {
    "Example-of-Train-and-Validation-Learning-Curves-Showing-a-Training-Dataset-the-May-be-too-Small-Relative-to-the-Validation-Dataset.webp": {
     "image/webp": "[encoded data removed]"
    },
    "Example-of-Train-and-Validation-Learning-Curves-Showing-a-Validation-Dataset-that-is-Easier-to-Predict-than-the-Training-Dataset.png": {
     "image/png": "[encoded data removed]"
    },
    "Example-of-Train-and-Validation-Learning-Curves-Showing-a-Validation-Dataset-the-May-be-too-Small-Relative-to-the-Training-Dataset.png": {
     "image/png": "[encoded data removed]"
    }
   },
   "cell_type": "markdown",
   "metadata": {},
   "source": [
    "diagnosing unrepresentative datasets : \n",
    "\n",
    "`unrepresentative train dataset : `\n",
    "    happens when the train set is not able to provide sufficient information about the problem relative to the validation data used[when train set has too few examples in compared to validation set]\n",
    "\n",
    "* both train loss and validation loss improves but there is a large gap between both the curves(for refrence : see below graph)\n",
    "\n",
    "![Example-of-Train-and-Validation-Learning-Curves-Showing-a-Training-Dataset-the-May-be-too-Small-Relative-to-the-Validation-Dataset.webp](attachment:Example-of-Train-and-Validation-Learning-Curves-Showing-a-Training-Dataset-the-May-be-too-Small-Relative-to-the-Validation-Dataset.webp)\n",
    "\n",
    "\n",
    "`unrepresentative train dataset : `\n",
    "    happens when the validation set is not able to provide sufficient information to evaluate the model's ability to generalise\n",
    "\n",
    "* the train loss curve looks fine, but the validation loss shows noisy movements around the train loss curve(for refrence : see below graph)\n",
    "\n",
    "![Example-of-Train-and-Validation-Learning-Curves-Showing-a-Validation-Dataset-the-May-be-too-Small-Relative-to-the-Training-Dataset.png](attachment:Example-of-Train-and-Validation-Learning-Curves-Showing-a-Validation-Dataset-the-May-be-too-Small-Relative-to-the-Training-Dataset.png)\n",
    "\n",
    "* it might also be the case where the validation loss is lower than the training loss, which means that its easier for the model to predict the validation set as compared to train set\n",
    "\n",
    "![Example-of-Train-and-Validation-Learning-Curves-Showing-a-Validation-Dataset-that-is-Easier-to-Predict-than-the-Training-Dataset.png](attachment:Example-of-Train-and-Validation-Learning-Curves-Showing-a-Validation-Dataset-that-is-Easier-to-Predict-than-the-Training-Dataset.png)"
   ]
  },
  {
   "cell_type": "markdown",
   "metadata": {},
   "source": [
    "#### adverserial machine learning : way to training more robust models.\n",
    "\n",
    "when models are tested with different data that it has not trained with, the model performes poorly. in adverserial attacks, the model is tested with data with noise to break the model. for example, for image classification, we can test the model with image that is barely noticeable with human eye, in which case the model does not able to correctly categorize the image. in speech recognition, a noise is added to the sound track. in reinforcement learning, user may try to produce fake rewards. in malicious code detection, the attacker may try to change the structure of the code to try and trick the anti-virus detection softwares, etc. \n",
    "\n",
    "#### how to protect against adverserial attacks?\n",
    "\n",
    "try to include adverserial data like you can rotate the same image, or reduce the quality of the image as new examples, etc. you can purposly include noice in the speech data, etc\n",
    "\n",
    "#### Generating Adversarial Examples\n",
    "\n",
    "It can be generated using many methods, including gradient-based methods, genetic algorithms, and reinforcement learning. Gradient-based methods are the most commonly used. They involve computing the gradient of the loss function concerning the input and then modifying the information in the direction that increases the loss.\n",
    "\n",
    "#### Types of Adversarial Attacks\n",
    "There are several types of adversarial attacks that can be launched against machine learning models. Here are some common types:\n",
    "\n",
    "Evasion Attacks: These attacks aim to manipulate input data in a way that causes misclassification or alters the model’s output. Examples include the Fast Gradient Sign Method (FGSM) and Iterative FGSM (I-FGSM).\n",
    "\n",
    "Poisoning Attacks: In poisoning attacks, an attacker introduces malicious data into the training set to manipulate the model’s behavior. This can be done by injecting specially crafted samples or by modifying existing training data.\n",
    "\n",
    "Model Inversion Attacks: Model inversion attacks attempt to reconstruct sensitive information about the training data or inputs by exploiting the model’s output. These attacks can be used to extract private information or reveal confidential data.\n",
    "\n",
    "Membership Inference Attacks: Membership inference attacks determine whether a specific sample was part of the training data used by a model. By exploiting the model’s output probabilities, an attacker can infer the membership status of a given sample.\n",
    "\n",
    "Model Extraction Attacks: In model extraction attacks, an adversary attempts to obtain a copy or approximation of the target model by querying it and generating a substitute model. This can be used to steal proprietary models or proprietary information embedded within the model."
   ]
  }
 ],
 "metadata": {
  "kernelspec": {
   "display_name": "Python 3",
   "language": "python",
   "name": "python3"
  },
  "language_info": {
   "codemirror_mode": {
    "name": "ipython",
    "version": 3
   },
   "file_extension": ".py",
   "mimetype": "text/x-python",
   "name": "python",
   "nbconvert_exporter": "python",
   "pygments_lexer": "ipython3",
   "version": "3.11.4"
  }
 },
 "nbformat": 4,
 "nbformat_minor": 2
}
